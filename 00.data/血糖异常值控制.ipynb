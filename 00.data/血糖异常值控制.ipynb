{
 "cells": [
  {
   "cell_type": "code",
   "execution_count": 1,
   "id": "54591cbb",
   "metadata": {
    "ExecuteTime": {
     "end_time": "2022-07-21T06:59:35.665558Z",
     "start_time": "2022-07-21T06:59:35.657321Z"
    }
   },
   "outputs": [],
   "source": [
    "import pandas as pd\n",
    "pd.set_option(\"display.max_rows\", 200)\n",
    "import os\n",
    "import math\n",
    "import numpy as np\n",
    "import seaborn as sns\n",
    "import matplotlib.pyplot as plt\n",
    "import missingno as msno\n",
    "import datetime"
   ]
  },
  {
   "cell_type": "code",
   "execution_count": 2,
   "id": "e2b69c2e",
   "metadata": {
    "ExecuteTime": {
     "end_time": "2022-07-21T07:00:07.910237Z",
     "start_time": "2022-07-21T06:59:37.436228Z"
    },
    "run_control": {
     "marked": true
    },
    "scrolled": true
   },
   "outputs": [
    {
     "name": "stdout",
     "output_type": "stream",
     "text": [
      "(2328804, 92)\n"
     ]
    },
    {
     "data": {
      "text/html": [
       "<div>\n",
       "<style scoped>\n",
       "    .dataframe tbody tr th:only-of-type {\n",
       "        vertical-align: middle;\n",
       "    }\n",
       "\n",
       "    .dataframe tbody tr th {\n",
       "        vertical-align: top;\n",
       "    }\n",
       "\n",
       "    .dataframe thead th {\n",
       "        text-align: right;\n",
       "    }\n",
       "</style>\n",
       "<table border=\"1\" class=\"dataframe\">\n",
       "  <thead>\n",
       "    <tr style=\"text-align: right;\">\n",
       "      <th></th>\n",
       "      <th>subject_id</th>\n",
       "      <th>hadm_id</th>\n",
       "      <th>stay_id</th>\n",
       "      <th>charttime</th>\n",
       "      <th>heart_rate</th>\n",
       "      <th>sbp</th>\n",
       "      <th>dbp</th>\n",
       "      <th>mbp</th>\n",
       "      <th>sbp_ni</th>\n",
       "      <th>dbp_ni</th>\n",
       "      <th>...</th>\n",
       "      <th>alp</th>\n",
       "      <th>ast</th>\n",
       "      <th>amylase</th>\n",
       "      <th>bilirubin_total</th>\n",
       "      <th>bilirubin_direct</th>\n",
       "      <th>bilirubin_indirect</th>\n",
       "      <th>ck_cpk</th>\n",
       "      <th>ggt</th>\n",
       "      <th>ld_ldh</th>\n",
       "      <th>crp</th>\n",
       "    </tr>\n",
       "  </thead>\n",
       "  <tbody>\n",
       "    <tr>\n",
       "      <th>0</th>\n",
       "      <td>10002013</td>\n",
       "      <td>23581541.0</td>\n",
       "      <td>39060235</td>\n",
       "      <td>2160-05-18 10:26:00</td>\n",
       "      <td>NaN</td>\n",
       "      <td>NaN</td>\n",
       "      <td>NaN</td>\n",
       "      <td>NaN</td>\n",
       "      <td>NaN</td>\n",
       "      <td>NaN</td>\n",
       "      <td>...</td>\n",
       "      <td>NaN</td>\n",
       "      <td>NaN</td>\n",
       "      <td>NaN</td>\n",
       "      <td>NaN</td>\n",
       "      <td>NaN</td>\n",
       "      <td>NaN</td>\n",
       "      <td>NaN</td>\n",
       "      <td>NaN</td>\n",
       "      <td>NaN</td>\n",
       "      <td>NaN</td>\n",
       "    </tr>\n",
       "  </tbody>\n",
       "</table>\n",
       "<p>1 rows × 92 columns</p>\n",
       "</div>"
      ],
      "text/plain": [
       "   subject_id     hadm_id   stay_id           charttime  heart_rate  sbp  dbp  \\\n",
       "0    10002013  23581541.0  39060235 2160-05-18 10:26:00         NaN  NaN  NaN   \n",
       "\n",
       "   mbp  sbp_ni  dbp_ni  ...  alp  ast  amylase  bilirubin_total  \\\n",
       "0  NaN     NaN     NaN  ...  NaN  NaN      NaN              NaN   \n",
       "\n",
       "   bilirubin_direct  bilirubin_indirect  ck_cpk  ggt  ld_ldh  crp  \n",
       "0               NaN                 NaN     NaN  NaN     NaN  NaN  \n",
       "\n",
       "[1 rows x 92 columns]"
      ]
     },
     "execution_count": 2,
     "metadata": {},
     "output_type": "execute_result"
    }
   ],
   "source": [
    "filedir = \"/public/hanl/jupyter_dir/ir_recommend_v2/00.data/raw/\"\n",
    "infile = filedir + '/ir_icu_allfeature.csv'\n",
    "\n",
    "df_fea = pd.read_csv(infile)\n",
    "df_fea[\"charttime\"] = pd.to_datetime(df_fea[\"charttime\"], format='%d/%m/%Y %H:%M:%S')\n",
    "df_fea = df_fea.drop_duplicates()\n",
    "print(df_fea.shape)\n",
    "df_fea.head(1)"
   ]
  },
  {
   "cell_type": "markdown",
   "id": "a54e20a5",
   "metadata": {},
   "source": [
    "# 异常值探索"
   ]
  },
  {
   "cell_type": "code",
   "execution_count": 3,
   "id": "aa219033",
   "metadata": {},
   "outputs": [
    {
     "name": "stdout",
     "output_type": "stream",
     "text": [
      "['neutrophils_abs' 'ck_cpk' 'fibrinogen' 'pao2fio2ratio' 'ld_ldh'\n",
      " 'urineoutput' 'ast' 'alt' 'glucose' 'alp' 'amylase' 'd_dimer' 'ggt'\n",
      " 'platelet' 'lymphocytes_abs' 'sodium' 'monocytes_abs']\n"
     ]
    },
    {
     "name": "stderr",
     "output_type": "stream",
     "text": [
      "/home/hanl/miniconda3/envs/AUMCdb/lib/python3.8/site-packages/seaborn/distributions.py:2619: FutureWarning: `distplot` is a deprecated function and will be removed in a future version. Please adapt your code to use either `displot` (a figure-level function with similar flexibility) or `histplot` (an axes-level function for histograms).\n",
      "  warnings.warn(msg, FutureWarning)\n"
     ]
    },
    {
     "data": {
      "image/png": "[encoded data removed]",
      "text/plain": [
       "<Figure size 432x288 with 1 Axes>"
      ]
     },
     "metadata": {
      "needs_background": "light"
     },
     "output_type": "display_data"
    }
   ],
   "source": [
    "tmp_df = df_fea.loc[:,['heart_rate', 'sbp',\n",
    "       'dbp', 'mbp', 'sbp_ni', 'dbp_ni', 'mbp_ni', 'resp_rate', 'temperature',\n",
    "       'spo2', 'glucose', 'gcs_motor', 'gcs_verbal', 'gcs_eyes', 'gcs',\n",
    "       'gcs_unable', 'urineoutput', 'so2', 'po2', 'pco2', 'fio2_chartevents',\n",
    "       'fio2', 'aado2', 'aado2_calc', 'pao2fio2ratio', 'ph', 'baseexcess',\n",
    "       'bicarbonate', 'chloride', 'ck_mb', 'hematocrit', 'hemoglobin',\n",
    "       'potassium', 'sodium', 'wbc', 'free_calcium', 'calcium', 'totalco2',\n",
    "       'carboxyhemoglobin', 'methemoglobin', 'lactate', 'basophils_abs',\n",
    "       'eosinophils_abs', 'lymphocytes_abs', 'monocytes_abs',\n",
    "       'neutrophils_abs', 'basophils', 'eosinophils', 'lymphocytes',\n",
    "       'monocytes', 'neutrophils', 'atypical_lymphocytes', 'bands',\n",
    "       'immature_granulocytes', 'metamyelocytes', 'nrbc', 'troponin_i',\n",
    "       'troponin_t', 'albumin', 'globulin', 'total_protein', 'aniongap', 'bun',\n",
    "       'creatinine', 'd_dimer', 'fibrinogen', 'thrombin', 'inr', 'pt', 'ptt',\n",
    "       'mch', 'mchc', 'mcv', 'platelet', 'rbc', 'rdw', 'rdwsd', 'alt', 'alp',\n",
    "       'ast', 'amylase', 'bilirubin_total', 'bilirubin_direct',\n",
    "       'bilirubin_indirect', 'ck_cpk', 'ggt', 'ld_ldh', 'crp']]\n",
    "\n",
    "print(tmp_df[tmp_df>1000].stack().reset_index().level_1.unique())\n",
    "outlier_fea = tmp_df[tmp_df>1000].stack().reset_index().level_1.unique()\n",
    "\n",
    "fea = \"neutrophils_abs\"\n",
    "lst = tmp_df[~tmp_df[fea].isnull()][fea]\n",
    "sns.distplot([i for i in lst if (i<1000)])\n",
    "\n",
    "for i in outlier_fea:\n",
    "    df_fea.loc[df_fea[i]>=1000,i] = np.nan\n",
    "df_fea.loc[df_fea[\"glucose\"]<=10,\"glucose\"] = np.nan"
   ]
  },
  {
   "cell_type": "code",
   "execution_count": 4,
   "id": "3fbaed7f",
   "metadata": {
    "ExecuteTime": {
     "end_time": "2022-07-06T08:56:19.495766Z",
     "start_time": "2022-07-06T08:55:18.244352Z"
    }
   },
   "outputs": [],
   "source": [
    "df_fea.to_csv(\"ir_icu_allfeature_Foutlier.csv\",index=False)"
   ]
  },
  {
   "cell_type": "markdown",
   "id": "daa91ad4",
   "metadata": {},
   "source": [
    "# 葡糖单表形成"
   ]
  },
  {
   "cell_type": "code",
   "execution_count": 5,
   "id": "3ad4240a",
   "metadata": {
    "ExecuteTime": {
     "end_time": "2022-07-14T03:11:37.102825Z",
     "start_time": "2022-07-14T03:11:36.978150Z"
    }
   },
   "outputs": [
    {
     "name": "stdout",
     "output_type": "stream",
     "text": [
      "(519255, 3)\n"
     ]
    },
    {
     "data": {
      "text/html": [
       "<div>\n",
       "<style scoped>\n",
       "    .dataframe tbody tr th:only-of-type {\n",
       "        vertical-align: middle;\n",
       "    }\n",
       "\n",
       "    .dataframe tbody tr th {\n",
       "        vertical-align: top;\n",
       "    }\n",
       "\n",
       "    .dataframe thead th {\n",
       "        text-align: right;\n",
       "    }\n",
       "</style>\n",
       "<table border=\"1\" class=\"dataframe\">\n",
       "  <thead>\n",
       "    <tr style=\"text-align: right;\">\n",
       "      <th></th>\n",
       "      <th>stay_id</th>\n",
       "      <th>charttime</th>\n",
       "      <th>glucose</th>\n",
       "    </tr>\n",
       "  </thead>\n",
       "  <tbody>\n",
       "    <tr>\n",
       "      <th>0</th>\n",
       "      <td>39060235</td>\n",
       "      <td>2160-05-18 10:26:00</td>\n",
       "      <td>216.0</td>\n",
       "    </tr>\n",
       "    <tr>\n",
       "      <th>1</th>\n",
       "      <td>39060235</td>\n",
       "      <td>2160-05-18 11:23:00</td>\n",
       "      <td>177.0</td>\n",
       "    </tr>\n",
       "  </tbody>\n",
       "</table>\n",
       "</div>"
      ],
      "text/plain": [
       "    stay_id           charttime  glucose\n",
       "0  39060235 2160-05-18 10:26:00    216.0\n",
       "1  39060235 2160-05-18 11:23:00    177.0"
      ]
     },
     "execution_count": 5,
     "metadata": {},
     "output_type": "execute_result"
    }
   ],
   "source": [
    "df_glu = df_fea.loc[:,['stay_id', 'charttime', 'glucose']]\n",
    "df_glu = df_glu.dropna(how='all', subset=['glucose'])\n",
    "df_glu = df_glu.drop_duplicates()\n",
    "print(df_glu.shape)\n",
    "df_glu.head(2)"
   ]
  },
  {
   "cell_type": "code",
   "execution_count": 6,
   "id": "d3485e41",
   "metadata": {
    "ExecuteTime": {
     "end_time": "2022-07-14T03:12:32.447122Z",
     "start_time": "2022-07-14T03:11:40.172972Z"
    }
   },
   "outputs": [
    {
     "data": {
      "text/html": [
       "<div>\n",
       "<style scoped>\n",
       "    .dataframe tbody tr th:only-of-type {\n",
       "        vertical-align: middle;\n",
       "    }\n",
       "\n",
       "    .dataframe tbody tr th {\n",
       "        vertical-align: top;\n",
       "    }\n",
       "\n",
       "    .dataframe thead th {\n",
       "        text-align: right;\n",
       "    }\n",
       "</style>\n",
       "<table border=\"1\" class=\"dataframe\">\n",
       "  <thead>\n",
       "    <tr style=\"text-align: right;\">\n",
       "      <th></th>\n",
       "      <th>stay_id</th>\n",
       "      <th>charttime</th>\n",
       "      <th>glucose</th>\n",
       "      <th>next_charttime</th>\n",
       "      <th>next_glucose</th>\n",
       "      <th>interval</th>\n",
       "    </tr>\n",
       "  </thead>\n",
       "  <tbody>\n",
       "    <tr>\n",
       "      <th>723602</th>\n",
       "      <td>30000213</td>\n",
       "      <td>2162-06-21 06:00:00</td>\n",
       "      <td>125.0</td>\n",
       "      <td>2162-06-21 07:00:00</td>\n",
       "      <td>108.0</td>\n",
       "      <td>60.0</td>\n",
       "    </tr>\n",
       "    <tr>\n",
       "      <th>723605</th>\n",
       "      <td>30000213</td>\n",
       "      <td>2162-06-21 07:00:00</td>\n",
       "      <td>108.0</td>\n",
       "      <td>2162-06-21 07:45:00</td>\n",
       "      <td>97.0</td>\n",
       "      <td>45.0</td>\n",
       "    </tr>\n",
       "    <tr>\n",
       "      <th>723607</th>\n",
       "      <td>30000213</td>\n",
       "      <td>2162-06-21 07:45:00</td>\n",
       "      <td>97.0</td>\n",
       "      <td>2162-06-21 08:15:00</td>\n",
       "      <td>156.0</td>\n",
       "      <td>30.0</td>\n",
       "    </tr>\n",
       "  </tbody>\n",
       "</table>\n",
       "</div>"
      ],
      "text/plain": [
       "         stay_id           charttime  glucose      next_charttime  \\\n",
       "723602  30000213 2162-06-21 06:00:00    125.0 2162-06-21 07:00:00   \n",
       "723605  30000213 2162-06-21 07:00:00    108.0 2162-06-21 07:45:00   \n",
       "723607  30000213 2162-06-21 07:45:00     97.0 2162-06-21 08:15:00   \n",
       "\n",
       "        next_glucose  interval  \n",
       "723602         108.0      60.0  \n",
       "723605          97.0      45.0  \n",
       "723607         156.0      30.0  "
      ]
     },
     "execution_count": 6,
     "metadata": {},
     "output_type": "execute_result"
    }
   ],
   "source": [
    "# 检查有多少葡糖记录相隔不到两分钟\n",
    "tmp_df = pd.DataFrame()\n",
    "for i,j in df_glu.groupby(by=[\"stay_id\"]):\n",
    "    j = j.sort_values(by=[\"stay_id\", \"charttime\"])\n",
    "    j[\"next_charttime\"] = j[\"charttime\"].shift(-1)\n",
    "    j[\"next_glucose\"] = j[\"glucose\"].shift(-1)\n",
    "    tmp_df = pd.concat([tmp_df, j], axis=0)\n",
    "\n",
    "tmp_df[\"interval\"] = (tmp_df[\"next_charttime\"] - tmp_df[\"charttime\"]).map(lambda x:x/np.timedelta64(1, 'm')).tolist()\n",
    "tmp_df.head(3)"
   ]
  },
  {
   "cell_type": "code",
   "execution_count": 7,
   "id": "081df43c",
   "metadata": {
    "ExecuteTime": {
     "end_time": "2022-07-14T03:19:15.436509Z",
     "start_time": "2022-07-14T03:19:15.429604Z"
    }
   },
   "outputs": [
    {
     "name": "stdout",
     "output_type": "stream",
     "text": [
      "(18011, 6)\n"
     ]
    }
   ],
   "source": [
    "print(tmp_df[tmp_df[\"interval\"]<=10].shape)\n",
    "del_ = tmp_df[tmp_df[\"interval\"]<=10].loc[:,[\"stay_id\", \"charttime\", \"glucose\"]]"
   ]
  },
  {
   "cell_type": "code",
   "execution_count": 8,
   "id": "c55036b6",
   "metadata": {
    "ExecuteTime": {
     "end_time": "2022-07-14T03:19:26.040063Z",
     "start_time": "2022-07-14T03:19:25.969328Z"
    },
    "run_control": {
     "marked": true
    }
   },
   "outputs": [
    {
     "data": {
      "text/plain": [
       "(501244, 3)"
      ]
     },
     "execution_count": 8,
     "metadata": {},
     "output_type": "execute_result"
    }
   ],
   "source": [
    "df_glu_filt = pd.concat([df_glu, del_, del_]).drop_duplicates(keep=False, subset=[\"stay_id\", \"charttime\", \"glucose\"]) \n",
    "df_glu_filt.shape"
   ]
  },
  {
   "cell_type": "code",
   "execution_count": 9,
   "id": "dbc67116",
   "metadata": {
    "ExecuteTime": {
     "end_time": "2022-07-14T03:19:57.008834Z",
     "start_time": "2022-07-14T03:19:55.661826Z"
    }
   },
   "outputs": [],
   "source": [
    "df_glu_filt.to_csv(\"ir_icu_glucose.csv\", index = False)"
   ]
  }
 ],
 "metadata": {
  "kernelspec": {
   "display_name": "Python [conda env:AUMCdb]",
   "language": "python",
   "name": "conda-env-AUMCdb-py"
  },
  "language_info": {
   "codemirror_mode": {
    "name": "ipython",
    "version": 3
   },
   "file_extension": ".py",
   "mimetype": "text/x-python",
   "name": "python",
   "nbconvert_exporter": "python",
   "pygments_lexer": "ipython3",
   "version": "3.8.13"
  },
  "toc": {
   "base_numbering": 1,
   "nav_menu": {},
   "number_sections": true,
   "sideBar": true,
   "skip_h1_title": false,
   "title_cell": "Table of Contents",
   "title_sidebar": "Contents",
   "toc_cell": false,
   "toc_position": {},
   "toc_section_display": true,
   "toc_window_display": false
  },
  "varInspector": {
   "cols": {
    "lenName": 16,
    "lenType": 16,
    "lenVar": 40
   },
   "kernels_config": {
    "python": {
     "delete_cmd_postfix": "",
     "delete_cmd_prefix": "del ",
     "library": "var_list.py",
     "varRefreshCmd": "print(var_dic_list())"
    },
    "r": {
     "delete_cmd_postfix": ") ",
     "delete_cmd_prefix": "rm(",
     "library": "var_list.r",
     "varRefreshCmd": "cat(var_dic_list()) "
    }
   },
   "types_to_exclude": [
    "module",
    "function",
    "builtin_function_or_method",
    "instance",
    "_Feature"
   ],
   "window_display": false
  }
 },
 "nbformat": 4,
 "nbformat_minor": 5
}
