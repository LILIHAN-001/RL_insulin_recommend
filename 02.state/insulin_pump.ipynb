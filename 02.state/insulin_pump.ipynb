{
 "cells": [
  {
   "cell_type": "code",
   "execution_count": 1,
   "id": "0278d511",
   "metadata": {},
   "outputs": [],
   "source": [
    "# 该版本用的最新版的action recrod\n",
    "#2022-08-26"
   ]
  },
  {
   "cell_type": "code",
   "execution_count": 2,
   "id": "07494685",
   "metadata": {
    "ExecuteTime": {
     "end_time": "2022-08-26T12:07:12.026793Z",
     "start_time": "2022-08-26T12:07:10.984405Z"
    }
   },
   "outputs": [],
   "source": [
    "import pandas as pd\n",
    "pd.set_option(\"display.max_rows\", 200)\n",
    "pd.set_option(\"display.max_columns\", 200)\n",
    "\n",
    "import os\n",
    "import numpy as np\n",
    "import seaborn as sns\n",
    "import matplotlib.pyplot as plt\n",
    "import missingno as msno\n",
    "import datetime\n",
    "\n",
    "import warnings\n",
    "from pandas.core.common import SettingWithCopyWarning\n",
    "warnings.simplefilter(action=\"ignore\", category=SettingWithCopyWarning)"
   ]
  },
  {
   "cell_type": "markdown",
   "id": "6cd3ffe6",
   "metadata": {},
   "source": [
    "## 筛选出符合条件的其他胰岛素用药记录"
   ]
  },
  {
   "cell_type": "code",
   "execution_count": 3,
   "id": "9b97316e",
   "metadata": {},
   "outputs": [
    {
     "name": "stdout",
     "output_type": "stream",
     "text": [
      "(266131, 8)\n"
     ]
    },
    {
     "data": {
      "text/html": [
       "<div>\n",
       "<style scoped>\n",
       "    .dataframe tbody tr th:only-of-type {\n",
       "        vertical-align: middle;\n",
       "    }\n",
       "\n",
       "    .dataframe tbody tr th {\n",
       "        vertical-align: top;\n",
       "    }\n",
       "\n",
       "    .dataframe thead th {\n",
       "        text-align: right;\n",
       "    }\n",
       "</style>\n",
       "<table border=\"1\" class=\"dataframe\">\n",
       "  <thead>\n",
       "    <tr style=\"text-align: right;\">\n",
       "      <th></th>\n",
       "      <th>stay_id</th>\n",
       "      <th>starttime</th>\n",
       "      <th>endtime</th>\n",
       "      <th>amount</th>\n",
       "      <th>rate</th>\n",
       "      <th>interval</th>\n",
       "      <th>traj_id</th>\n",
       "      <th>starttime_bf</th>\n",
       "    </tr>\n",
       "  </thead>\n",
       "  <tbody>\n",
       "    <tr>\n",
       "      <th>0</th>\n",
       "      <td>30001148</td>\n",
       "      <td>2156-08-30 19:15:00</td>\n",
       "      <td>2156-08-30 20:15:00</td>\n",
       "      <td>2.0</td>\n",
       "      <td>2.0</td>\n",
       "      <td>60.0</td>\n",
       "      <td>1</td>\n",
       "      <td>2156-08-29 19:15:00</td>\n",
       "    </tr>\n",
       "    <tr>\n",
       "      <th>1</th>\n",
       "      <td>30001148</td>\n",
       "      <td>2156-08-30 20:15:00</td>\n",
       "      <td>2156-08-30 21:15:00</td>\n",
       "      <td>2.0</td>\n",
       "      <td>2.0</td>\n",
       "      <td>60.0</td>\n",
       "      <td>1</td>\n",
       "      <td>2156-08-29 20:15:00</td>\n",
       "    </tr>\n",
       "  </tbody>\n",
       "</table>\n",
       "</div>"
      ],
      "text/plain": [
       "    stay_id           starttime             endtime  amount  rate  interval  \\\n",
       "0  30001148 2156-08-30 19:15:00 2156-08-30 20:15:00     2.0   2.0      60.0   \n",
       "1  30001148 2156-08-30 20:15:00 2156-08-30 21:15:00     2.0   2.0      60.0   \n",
       "\n",
       "   traj_id        starttime_bf  \n",
       "0        1 2156-08-29 19:15:00  \n",
       "1        1 2156-08-29 20:15:00  "
      ]
     },
     "execution_count": 3,
     "metadata": {},
     "output_type": "execute_result"
    }
   ],
   "source": [
    "filedir = \"/public/hanl/jupyter_dir/ir_recommend_v2/01.action/\"\n",
    "infile = filedir + '/A_IR_win60.csv'\n",
    "\n",
    "df_ac_win = pd.read_csv(infile)\n",
    "df_ac_win[\"starttime\"] = pd.to_datetime(df_ac_win[\"starttime\"])\n",
    "df_ac_win[\"endtime\"] = pd.to_datetime(df_ac_win[\"endtime\"])\n",
    "df_ac_win[\"starttime_bf\"] =  df_ac_win[\"starttime\"] + datetime.timedelta(hours=-24)\n",
    "print(df_ac_win.shape)\n",
    "df_ac_win.head(2)"
   ]
  },
  {
   "cell_type": "code",
   "execution_count": 4,
   "id": "d9b0e73e",
   "metadata": {},
   "outputs": [],
   "source": [
    "filedir = \"/public/hanl/jupyter_dir/ir_recommend_v2/00.data/\"\n",
    "infile = filedir + '/ir_icu_allinsulin.csv'\n",
    "df_insu = pd.read_csv(infile)\n",
    "df_insu[\"starttime\"] = pd.to_datetime(df_insu[\"starttime\"], format='%d/%m/%Y %H:%M:%S')\n",
    "df_insu[\"endtime\"] = pd.to_datetime(df_insu[\"endtime\"], format='%d/%m/%Y %H:%M:%S')\n",
    "df_insu = df_insu[df_insu[\"ordercategoryname\"] != \"01-Drips\"] #这步已将静脉输液注射的regular删除掉了\n",
    "\n",
    "mapping_dict = {\n",
    "    223258 : \"IR_pump\", # pump\n",
    "    223262 : \"OS\",\n",
    "    223260 : \"L\",\n",
    "    223259 : \"M\",\n",
    "    229299 : \"OS\", \n",
    "    223257 : \"M\",\n",
    "    223261 : \"M\",\n",
    "    229619 : \"L\" \n",
    "               }\n",
    "\n",
    "df_insu[\"type\"] = df_insu[\"itemid\"].map(mapping_dict)\n",
    "df_insu = df_insu.loc[:, [\"stay_id\", \"starttime\", \"type\", \"amount\"]] # \"endtime\",\n",
    "df_insu = df_insu.drop_duplicates()"
   ]
  },
  {
   "cell_type": "code",
   "execution_count": 5,
   "id": "8e9d4717",
   "metadata": {},
   "outputs": [],
   "source": [
    "tmp_df2 = pd.DataFrame(columns=[\"stay_id\", \"insu_starttime\", \"insu_type\", \"insu_amount\"]) \n",
    "df_out = pd.DataFrame()\n",
    "for row in df_insu.itertuples():\n",
    "    tmp_df2.loc[len(tmp_df2)] = [row.stay_id, row.starttime, row.type, row.amount]\n",
    "    \n",
    "    id_ = row.stay_id\n",
    "    tmp_df = df_ac_win[(df_ac_win[\"starttime_bf\"] <= row.starttime) & (df_ac_win[\"endtime\"] >= row.starttime) & (df_ac_win[\"stay_id\"] >= id_)]\n",
    "    if tmp_df.shape[0] > 0:\n",
    "        out = pd.merge(tmp_df, tmp_df2, how=\"left\",left_on=\"stay_id\", right_on=\"stay_id\")\n",
    "        df_out = pd.concat([df_out, out])\n",
    "df_out= df_out.drop([\"starttime_bf\"],axis=1)\n",
    "df_out.to_csv(\"S_IF_insu_pump.csv\", index=False)\n",
    "# 9h\n",
    "# Intermediate file 中间文件"
   ]
  },
  {
   "cell_type": "markdown",
   "id": "e72940d4",
   "metadata": {},
   "source": [
    "## 按照用药前多少小时的用药形式记录用药"
   ]
  },
  {
   "cell_type": "code",
   "execution_count": 6,
   "id": "3024fa1b",
   "metadata": {
    "ExecuteTime": {
     "end_time": "2022-08-26T12:08:35.450954Z",
     "start_time": "2022-08-26T12:07:42.374848Z"
    }
   },
   "outputs": [
    {
     "data": {
      "text/html": [
       "<div>\n",
       "<style scoped>\n",
       "    .dataframe tbody tr th:only-of-type {\n",
       "        vertical-align: middle;\n",
       "    }\n",
       "\n",
       "    .dataframe tbody tr th {\n",
       "        vertical-align: top;\n",
       "    }\n",
       "\n",
       "    .dataframe thead th {\n",
       "        text-align: right;\n",
       "    }\n",
       "</style>\n",
       "<table border=\"1\" class=\"dataframe\">\n",
       "  <thead>\n",
       "    <tr style=\"text-align: right;\">\n",
       "      <th></th>\n",
       "      <th>stay_id</th>\n",
       "      <th>starttime</th>\n",
       "      <th>endtime</th>\n",
       "      <th>amount</th>\n",
       "      <th>rate</th>\n",
       "      <th>interval</th>\n",
       "      <th>traj_id</th>\n",
       "      <th>insu_starttime</th>\n",
       "      <th>insu_type</th>\n",
       "      <th>insu_amount</th>\n",
       "      <th>offset_time_h</th>\n",
       "    </tr>\n",
       "  </thead>\n",
       "  <tbody>\n",
       "    <tr>\n",
       "      <th>0</th>\n",
       "      <td>30001148</td>\n",
       "      <td>2156-08-30 19:15:00</td>\n",
       "      <td>2156-08-30 20:15:00</td>\n",
       "      <td>2.0</td>\n",
       "      <td>2.0</td>\n",
       "      <td>60.0</td>\n",
       "      <td>1</td>\n",
       "      <td>2156-08-30 19:15:00</td>\n",
       "      <td>IR_pump</td>\n",
       "      <td>2.0</td>\n",
       "      <td>0.0</td>\n",
       "    </tr>\n",
       "    <tr>\n",
       "      <th>1</th>\n",
       "      <td>30001148</td>\n",
       "      <td>2156-08-30 20:15:00</td>\n",
       "      <td>2156-08-30 21:15:00</td>\n",
       "      <td>2.0</td>\n",
       "      <td>2.0</td>\n",
       "      <td>60.0</td>\n",
       "      <td>1</td>\n",
       "      <td>2156-08-30 19:15:00</td>\n",
       "      <td>IR_pump</td>\n",
       "      <td>2.0</td>\n",
       "      <td>1.0</td>\n",
       "    </tr>\n",
       "  </tbody>\n",
       "</table>\n",
       "</div>"
      ],
      "text/plain": [
       "    stay_id           starttime              endtime  amount  rate  interval  \\\n",
       "0  30001148 2156-08-30 19:15:00  2156-08-30 20:15:00     2.0   2.0      60.0   \n",
       "1  30001148 2156-08-30 20:15:00  2156-08-30 21:15:00     2.0   2.0      60.0   \n",
       "\n",
       "   traj_id      insu_starttime insu_type  insu_amount  offset_time_h  \n",
       "0        1 2156-08-30 19:15:00   IR_pump          2.0            0.0  \n",
       "1        1 2156-08-30 19:15:00   IR_pump          2.0            1.0  "
      ]
     },
     "execution_count": 6,
     "metadata": {},
     "output_type": "execute_result"
    }
   ],
   "source": [
    "df_out = pd.read_csv(\"S_IF_insu_pump.csv\")\n",
    "\n",
    "df_out[\"insu_starttime\"] = pd.to_datetime(df_out[\"insu_starttime\"])\n",
    "df_out[\"starttime\"] = pd.to_datetime(df_out[\"starttime\"])\n",
    "#df_out = df_out.drop([\"starttime_bf\"],axis=1)\n",
    "\n",
    "# df_out筛选：L：用药前24h； M：用药前12h； S：用药前8h\n",
    "df_out[\"offset_time_h\"] = (df_out[\"starttime\"] - df_out[\"insu_starttime\"]).map(lambda x:x/np.timedelta64(1, 'h')).tolist()\n",
    "df_out.head(2)"
   ]
  },
  {
   "cell_type": "code",
   "execution_count": 7,
   "id": "b429bbfd",
   "metadata": {
    "ExecuteTime": {
     "end_time": "2022-08-26T12:18:59.644690Z",
     "start_time": "2022-08-26T12:18:57.955678Z"
    }
   },
   "outputs": [
    {
     "name": "stdout",
     "output_type": "stream",
     "text": [
      "(2648302, 11)\n",
      "(386463, 12)\n"
     ]
    }
   ],
   "source": [
    "df_p1 = df_out[df_out[\"insu_type\"].isin([\"IR_pump\",\"OS\"])]\n",
    "print(df_p1.shape)\n",
    "df_p1 = df_p1[df_p1[\"offset_time_h\"]<=8]\n",
    "df_p1[\"offset_time\"] = df_p1[\"offset_time_h\"]*60\n",
    "df_p1[\"offset_time_h\"] = round(df_p1[\"offset_time_h\"])\n",
    "print(df_p1.shape)\n",
    "df_p1['index'] = range(len(df_p1))\n",
    "\n",
    "tmp_df = df_p1.loc[:,[\"index\",\"offset_time_h\",\"offset_time\"]]\n",
    "tmp_df = tmp_df.set_index([\"index\", \"offset_time_h\"])[\"offset_time\"]\n",
    "tmp_df = tmp_df.unstack()\n",
    "tmp_df.rename_axis(columns=None)\n",
    "tmp_df = tmp_df.reset_index()\n",
    "tmp_df.columns = ['index', \"OS_bt1\", \"OS_t0\", \"OS_t1\", \"OS_t2\", \"OS_t3\", \"OS_t4\", \"OS_t5\", \"OS_t6\", \"OS_t7\", \"OS_t8\"]\n",
    "df_p11t = tmp_df\n",
    "\n",
    "tmp_df = df_p1.loc[:,[\"index\",\"offset_time_h\",\"insu_amount\"]]\n",
    "tmp_df = tmp_df.set_index([\"index\", \"offset_time_h\"])[\"insu_amount\"]\n",
    "tmp_df = tmp_df.unstack()\n",
    "tmp_df.rename_axis(columns=None)\n",
    "tmp_df = tmp_df.reset_index()\n",
    "tmp_df.columns = ['index', \"OS_bv1\", \"OS_v0\", \"OS_v1\", \"OS_v2\", \"OS_v3\", \"OS_v4\", \"OS_v5\", \"OS_v6\", \"OS_v7\", \"OS_v8\"]\n",
    "df_p11v = tmp_df\n",
    "\n",
    "df_p11 = df_p1.loc[:,['stay_id', 'starttime', 'endtime', 'amount', 'rate',\"index\"]]\n",
    "\n",
    "tmp_df = pd.merge(df_p11t, df_p11v, how=\"inner\", on = \"index\")\n",
    "tmp_df = pd.merge(tmp_df, df_p11, how=\"inner\", on = \"index\")\n",
    "tmp_df = tmp_df.drop(\"index\", axis=1)\n",
    "\n",
    "df_p1 = tmp_df"
   ]
  },
  {
   "cell_type": "code",
   "execution_count": 8,
   "id": "986599dd",
   "metadata": {
    "ExecuteTime": {
     "end_time": "2022-08-26T12:26:59.046392Z",
     "start_time": "2022-08-26T12:26:58.808095Z"
    }
   },
   "outputs": [
    {
     "name": "stdout",
     "output_type": "stream",
     "text": [
      "(37137, 11)\n",
      "(3011, 11)\n"
     ]
    }
   ],
   "source": [
    "df_p2 = df_out[df_out[\"insu_type\"]==\"M\"]\n",
    "print(df_p2.shape)\n",
    "df_p2 = df_p2[df_p2[\"offset_time_h\"]<=12]\n",
    "print(df_p2.shape)\n",
    "\n",
    "df_p2[\"offset_time\"] = df_p2[\"offset_time_h\"]*60\n",
    "\n",
    "df_p2[\"offset_time_h\"] = round(df_p2[\"offset_time_h\"])\n",
    "df_p2['index'] = range(len(df_p2))\n",
    "\n",
    "tmp_df = df_p2.loc[:,[\"index\",\"offset_time_h\",\"offset_time\"]]\n",
    "tmp_df = tmp_df.set_index([\"index\", \"offset_time_h\"])[\"offset_time\"]\n",
    "tmp_df = tmp_df.unstack()\n",
    "tmp_df.rename_axis(columns=None)\n",
    "tmp_df = tmp_df.reset_index()\n",
    "\n",
    "tmp_df.columns = ['index', \"M_bt1\", \"M_t0\", \"M_t1\", \"M_t2\", \"M_t3\", \"M_t4\", \"M_t5\", \"M_t6\", \"M_t7\", \"M_t8\", \"M_t9\", \"M_t10\", \"M_t11\", \"M_t12\"]\n",
    "df_p11t = tmp_df\n",
    "\n",
    "tmp_df = df_p2.loc[:,[\"index\",\"offset_time_h\",\"insu_amount\"]]\n",
    "tmp_df = tmp_df.set_index([\"index\", \"offset_time_h\"])[\"insu_amount\"]\n",
    "tmp_df = tmp_df.unstack()\n",
    "tmp_df.rename_axis(columns=None)\n",
    "tmp_df = tmp_df.reset_index()\n",
    "tmp_df.columns = ['index', \"M_bv1\", \"M_v0\", \"M_v1\", \"M_v2\", \"M_v3\", \"M_v4\", \"M_v5\", \"M_v6\", \"M_v7\", \"M_v8\", \"M_v9\", \"M_v10\", \"M_v11\", \"M_v12\"]\n",
    "df_p11v = tmp_df\n",
    "\n",
    "df_p11 = df_p2.loc[:,['stay_id', 'starttime', 'endtime', 'amount', 'rate',\"index\"]]\n",
    "\n",
    "tmp_df = pd.merge(df_p11t, df_p11v, how=\"inner\", on = \"index\")\n",
    "tmp_df = pd.merge(tmp_df, df_p11, how=\"inner\", on = \"index\")\n",
    "tmp_df = tmp_df.drop(\"index\", axis=1)\n",
    "\n",
    "df_p2 = tmp_df"
   ]
  },
  {
   "cell_type": "code",
   "execution_count": 9,
   "id": "855b0c54",
   "metadata": {
    "ExecuteTime": {
     "end_time": "2022-08-26T12:27:09.836067Z",
     "start_time": "2022-08-26T12:27:09.044955Z"
    },
    "run_control": {
     "marked": true
    }
   },
   "outputs": [
    {
     "name": "stdout",
     "output_type": "stream",
     "text": [
      "(266905, 11)\n",
      "(66655, 11)\n"
     ]
    }
   ],
   "source": [
    "df_p3 = df_out[df_out[\"insu_type\"]==\"L\"]\n",
    "print(df_p3.shape)\n",
    "df_p3 = df_p3[df_p3[\"offset_time_h\"]<=24]\n",
    "print(df_p3.shape)\n",
    "\n",
    "df_p3[\"offset_time\"] = df_p3[\"offset_time_h\"]*60\n",
    "df_p3[\"offset_time_h\"] = round(df_p3[\"offset_time_h\"])\n",
    "df_p3['index'] = range(len(df_p3))\n",
    "\n",
    "tmp_df = df_p3.loc[:,[\"index\",\"offset_time_h\",\"offset_time\"]]\n",
    "tmp_df = tmp_df.set_index([\"index\", \"offset_time_h\"])[\"offset_time\"]\n",
    "tmp_df = tmp_df.unstack()\n",
    "tmp_df.rename_axis(columns=None)\n",
    "tmp_df = tmp_df.reset_index()\n",
    "tmp_df.columns = ['index', 'L_bt1', 'L_t0', 'L_t1', 'L_t2', 'L_t3', 'L_t4', 'L_t5', 'L_t6', 'L_t7', 'L_t8', 'L_t9', 'L_t10', 'L_t11', 'L_t12', 'L_t13', 'L_t14', 'L_t15', 'L_t16', 'L_t17', 'L_t18', 'L_t19', 'L_t20', 'L_t21', 'L_t22', 'L_t23', 'L_t24']\n",
    "df_p11t = tmp_df\n",
    "\n",
    "tmp_df = df_p3.loc[:,[\"index\",\"offset_time_h\",\"insu_amount\"]]\n",
    "tmp_df = tmp_df.set_index([\"index\", \"offset_time_h\"])[\"insu_amount\"]\n",
    "tmp_df = tmp_df.unstack()\n",
    "tmp_df.rename_axis(columns=None)\n",
    "tmp_df = tmp_df.reset_index()\n",
    "tmp_df.columns = ['index', 'L_bv1', 'L_v0', 'L_v1', 'L_v2', 'L_v3', 'L_v4', 'L_v5', 'L_v6', 'L_v7', 'L_v8', 'L_v9', 'L_v10', 'L_v11', 'L_v12', 'L_v13', 'L_v14', 'L_v15', 'L_v16', 'L_v17', 'L_v18', 'L_v19', 'L_v20', 'L_v21', 'L_v22', 'L_v23', 'L_v24']\n",
    "df_p11v = tmp_df\n",
    "\n",
    "df_p11 = df_p3.loc[:,['stay_id', 'starttime', 'endtime', 'amount', 'rate',\"index\"]]\n",
    "\n",
    "tmp_df = pd.merge(df_p11t, df_p11v, how=\"inner\", on = \"index\")\n",
    "tmp_df = pd.merge(tmp_df, df_p11, how=\"inner\", on = \"index\")\n",
    "tmp_df = tmp_df.drop(\"index\", axis=1)\n",
    "df_p3 = tmp_df\n",
    "\n",
    "df_p4 = df_out[~df_out[\"insu_type\"].isin([\"IR_pump\",\"OS\",\"M\",\"L\"])]"
   ]
  },
  {
   "cell_type": "code",
   "execution_count": 10,
   "id": "3d36baa0",
   "metadata": {
    "ExecuteTime": {
     "end_time": "2022-08-26T12:27:17.327274Z",
     "start_time": "2022-08-26T12:27:16.979965Z"
    }
   },
   "outputs": [
    {
     "name": "stdout",
     "output_type": "stream",
     "text": [
      "(386463, 25) (3011, 33) (66655, 57) (525935, 11)\n",
      "(227079, 25) (2078, 33) (29289, 57) (118585, 11)\n"
     ]
    }
   ],
   "source": [
    "print(df_p1.shape, df_p2.shape, df_p3.shape, df_p4.shape)\n",
    "df_p1= df_p1.drop_duplicates()\n",
    "df_p2= df_p2.drop_duplicates()\n",
    "df_p3= df_p3.drop_duplicates()\n",
    "df_p4= df_p4.drop_duplicates()\n",
    "print(df_p1.shape, df_p2.shape, df_p3.shape, df_p4.shape)\n"
   ]
  },
  {
   "cell_type": "markdown",
   "id": "39aa2e4b",
   "metadata": {},
   "source": [
    "## M: 每个小时只有一次M用药\n",
    "outfile: df_p2a"
   ]
  },
  {
   "cell_type": "code",
   "execution_count": 11,
   "id": "09835db4",
   "metadata": {
    "ExecuteTime": {
     "end_time": "2022-08-26T12:27:26.091614Z",
     "start_time": "2022-08-26T12:27:22.596887Z"
    }
   },
   "outputs": [
    {
     "name": "stdout",
     "output_type": "stream",
     "text": [
      "(2078, 33) (2078, 33)\n"
     ]
    }
   ],
   "source": [
    "# 每个小时只有一次M用药\n",
    "aa = df_p2\n",
    "col_lst = ['M_bt1', 'M_t0', 'M_t1', 'M_t2', 'M_t3', 'M_t4', 'M_t5', 'M_t6', 'M_t7', 'M_t8', 'M_t9', 'M_t10', 'M_t11', 'M_t12', 'M_bv1', 'M_v0', 'M_v1','M_v2', 'M_v3', 'M_v4', 'M_v5', 'M_v6', 'M_v7', 'M_v8', 'M_v9', 'M_v10','M_v11', 'M_v12']\n",
    "tmp_df = aa.loc[:,['stay_id', 'starttime','endtime', 'amount', 'rate']]\n",
    "for col in col_lst:\n",
    "    bb = aa.groupby(['stay_id', 'starttime','endtime', 'amount', 'rate'])[col].apply(list).to_frame()\n",
    "    bb = bb.reset_index()\n",
    "    tmp_df = pd.merge(tmp_df, bb, how=\"inner\", on=['stay_id', 'starttime','endtime', 'amount', 'rate'])\n",
    "df_p2a = tmp_df\n",
    "print(df_p2.shape, df_p2a.shape)\n",
    "df_p2.index = pd.RangeIndex(len(df_p2.index))\n",
    "\n",
    "fea_names = ['M_bt1', 'M_t0',\n",
    "       'M_t1', 'M_t2', 'M_t3', 'M_t4', 'M_t5', 'M_t6', 'M_t7', 'M_t8', 'M_t9',\n",
    "       'M_t10', 'M_t11', 'M_t12', 'M_bv1', 'M_v0', 'M_v1', 'M_v2', 'M_v3',\n",
    "       'M_v4', 'M_v5', 'M_v6', 'M_v7', 'M_v8', 'M_v9', 'M_v10', 'M_v11',\n",
    "       'M_v12']\n",
    "#tmp_df = df_p2a.loc[:,fea_names].applymap(lambda x: list(set(np.array(x)[~ np.isnan(np.array(x))])))  #[float(str(i).replace(\"nan\",\"\")) for i in x ])\n",
    "#tmp_df.loc[:,fea_names].applymap(lambda x: len(list(set(x)))) 发现M用药每小时最多一次用药\n",
    "\n",
    "tmp_df = df_p2a.loc[:,fea_names].applymap(lambda x: max(list(set(x))))\n",
    "\n",
    "tmp_df2 = df_p2.loc[:,['stay_id', 'starttime', 'endtime', 'amount', 'rate']]\n",
    "df_p2a = pd.merge(tmp_df, tmp_df2, left_index=True, right_index=True)"
   ]
  },
  {
   "cell_type": "code",
   "execution_count": 12,
   "id": "7c6dd59e",
   "metadata": {},
   "outputs": [
    {
     "data": {
      "text/plain": [
       "'[]'"
      ]
     },
     "execution_count": 12,
     "metadata": {},
     "output_type": "execute_result"
    }
   ],
   "source": [
    "## stat\n",
    "# 用于查看每小时用药最多有几次\n",
    "#aa = tmp_df.loc[:,fea_names].applymap(lambda x: len(list(set(np.array(x)[~ np.isnan(np.array(x))]))))\n",
    "fea_names = ['M_bt1', 'M_t0',\n",
    "       'M_t1', 'M_t2', 'M_t3', 'M_t4', 'M_t5', 'M_t6', 'M_t7', 'M_t8', 'M_t9',\n",
    "       'M_t10', 'M_t11', 'M_t12', 'M_bv1', 'M_v0', 'M_v1', 'M_v2', 'M_v3',\n",
    "       'M_v4', 'M_v5', 'M_v6', 'M_v7', 'M_v8', 'M_v9', 'M_v10', 'M_v11',\n",
    "       'M_v12']\n",
    "tmp_df = df_p2a.loc[:,fea_names].applymap(lambda x: np.unique(np.array(x)).tolist())\n",
    "\n",
    "tmp_df2 = tmp_df.loc[:,fea_names].applymap(lambda x: len(np.array(x)[~ np.isnan(np.array(x))]))\n",
    "tmp_df22 = tmp_df.loc[:,fea_names].applymap(lambda x: np.array(x)[~ np.isnan(np.array(x))])\n",
    "\n",
    "out_lst = []\n",
    "for i in fea_names:\n",
    "    df_outf = pd.DataFrame()\n",
    "    lst = tmp_df2[tmp_df2[i]> 1].index\n",
    "    if len(lst) > 0:\n",
    "        out_lst.append(i)\n",
    "     #   print(i, lst)\n",
    "str(out_lst)\n",
    "# 此步确认只有每小时最多只有一次用药"
   ]
  },
  {
   "cell_type": "markdown",
   "id": "5e06decc",
   "metadata": {
    "ExecuteTime": {
     "end_time": "2022-08-25T07:30:22.155600Z",
     "start_time": "2022-08-25T07:30:22.153440Z"
    }
   },
   "source": [
    "## OS 每小时最多3次用药\n",
    "outfile: df_p1af"
   ]
  },
  {
   "cell_type": "code",
   "execution_count": 13,
   "id": "5be48c73",
   "metadata": {
    "ExecuteTime": {
     "end_time": "2022-08-26T12:38:29.089513Z",
     "start_time": "2022-08-26T12:34:00.221329Z"
    },
    "scrolled": true
   },
   "outputs": [
    {
     "name": "stdout",
     "output_type": "stream",
     "text": [
      "(227079, 25) (227079, 25)\n"
     ]
    }
   ],
   "source": [
    "aa = df_p1\n",
    "col_lst = ['OS_bt1', 'OS_t0', 'OS_t1', 'OS_t2', 'OS_t3', 'OS_t4', 'OS_t5',\n",
    "       'OS_t6', 'OS_t7', 'OS_t8', 'OS_bv1', 'OS_v0', 'OS_v1', 'OS_v2', 'OS_v3',\n",
    "       'OS_v4', 'OS_v5', 'OS_v6', 'OS_v7', 'OS_v8']\n",
    "tmp_df = aa.loc[:,['stay_id', 'starttime','endtime', 'amount', 'rate']]\n",
    "for col in col_lst:\n",
    "    bb = aa.groupby(['stay_id', 'starttime','endtime', 'amount', 'rate'])[col].apply(list).to_frame()\n",
    "    bb = bb.reset_index()\n",
    "    tmp_df = pd.merge(tmp_df, bb, how=\"inner\", on=['stay_id', 'starttime','endtime', 'amount', 'rate'])\n",
    "df_p1a = tmp_df\n",
    "print(df_p1.shape, df_p1a.shape)\n",
    "\n",
    "fea_names = ['OS_bt1', 'OS_t0', 'OS_t1', 'OS_t2', 'OS_t3', 'OS_t4', 'OS_t5',\n",
    "       'OS_t6', 'OS_t7', 'OS_t8', 'OS_bv1', 'OS_v0', 'OS_v1', 'OS_v2', 'OS_v3',\n",
    "       'OS_v4', 'OS_v5', 'OS_v6', 'OS_v7', 'OS_v8']\n",
    "tmp_df = df_p1a.loc[:,fea_names].applymap(lambda x: np.unique(np.array(x)).tolist())\n",
    "\n",
    "tmp_df2 = tmp_df.loc[:,fea_names].applymap(lambda x: len(np.array(x)[~ np.isnan(np.array(x))]))\n",
    "tmp_df22 = tmp_df.loc[:,fea_names].applymap(lambda x: np.array(x)[~ np.isnan(np.array(x))])\n",
    "\n",
    "#lst22 = []\n",
    "df_outf2 = pd.DataFrame()\n",
    "for i in fea_names:\n",
    "    df_outf = pd.DataFrame()\n",
    "    #lst = tmp_df2[tmp_df2[i]>1].index\n",
    "   # if len(lst) > 0:\n",
    "       # print(i, len(lst))\n",
    "    #    lst22.extend(lst.tolist())\n",
    "    new_names = [i + \"_\" + str(x) for x in range(3)]\n",
    "    df_outf[new_names[0]], df_outf[new_names[1]], df_outf[new_names[2]] = tmp_df22[i].str[0], tmp_df22[i].str[1], tmp_df22[i].str[-1] \n",
    "    df_outf2 = pd.concat([df_outf2, df_outf],axis=1) \n",
    "df_outf2.shape\n",
    "\n",
    "tmp_df = df_p1a.loc[:,['stay_id', 'starttime', 'endtime', 'amount', 'rate']]\n",
    "df_p1af = pd.merge(tmp_df, df_outf2, left_index=True, right_index=True)\n",
    "# df_p1af is the output"
   ]
  },
  {
   "cell_type": "code",
   "execution_count": 14,
   "id": "a150b797",
   "metadata": {
    "ExecuteTime": {
     "end_time": "2022-08-26T12:40:19.744685Z",
     "start_time": "2022-08-26T12:40:19.741598Z"
    }
   },
   "outputs": [
    {
     "data": {
      "text/plain": [
       "((227079, 25), (227079, 65))"
      ]
     },
     "execution_count": 14,
     "metadata": {},
     "output_type": "execute_result"
    }
   ],
   "source": [
    "df_p1a.shape, df_p1af.shape"
   ]
  },
  {
   "cell_type": "code",
   "execution_count": 15,
   "id": "8747c044",
   "metadata": {
    "ExecuteTime": {
     "end_time": "2022-08-26T12:44:27.459134Z",
     "start_time": "2022-08-26T12:44:27.439203Z"
    }
   },
   "outputs": [
    {
     "data": {
      "text/plain": [
       "'[]'"
      ]
     },
     "execution_count": 15,
     "metadata": {},
     "output_type": "execute_result"
    }
   ],
   "source": [
    "# stat\n",
    "fea_names = ['OS_bt1', 'OS_t0', 'OS_t1', 'OS_t2', 'OS_t3', 'OS_t4', 'OS_t5',\n",
    "       'OS_t6', 'OS_t7', 'OS_t8', 'OS_bv1', 'OS_v0', 'OS_v1', 'OS_v2', 'OS_v3',\n",
    "       'OS_v4', 'OS_v5', 'OS_v6', 'OS_v7', 'OS_v8']\n",
    "tmp_df = df_p1a.loc[:,fea_names].applymap(lambda x: np.unique(np.array(x)).tolist())\n",
    "\n",
    "tmp_df2 = tmp_df.loc[:,fea_names].applymap(lambda x: len(np.array(x)[~ np.isnan(np.array(x))]))\n",
    "tmp_df22 = tmp_df.loc[:,fea_names].applymap(lambda x: np.array(x)[~ np.isnan(np.array(x))])\n",
    "\n",
    "out_lst = []\n",
    "for i in fea_names:\n",
    "    df_outf = pd.DataFrame()\n",
    "    lst = tmp_df2[tmp_df2[i]> 4].index\n",
    "    if len(lst) > 0:\n",
    "        out_lst.append(i)\n",
    "     #   print(i, lst)\n",
    "str(out_lst)"
   ]
  },
  {
   "cell_type": "markdown",
   "id": "ddebac05",
   "metadata": {},
   "source": [
    "## L： 每小时最多2次L用药\n",
    "outfile：df_p3af"
   ]
  },
  {
   "cell_type": "code",
   "execution_count": 16,
   "id": "1002828e",
   "metadata": {
    "ExecuteTime": {
     "end_time": "2022-08-26T12:47:02.765042Z",
     "start_time": "2022-08-26T12:44:36.424747Z"
    }
   },
   "outputs": [
    {
     "name": "stdout",
     "output_type": "stream",
     "text": [
      "(29289, 57) (29289, 57)\n"
     ]
    }
   ],
   "source": [
    "aa = df_p3\n",
    "col_lst = ['L_bt1', 'L_t0', 'L_t1', 'L_t2', 'L_t3', 'L_t4', 'L_t5', 'L_t6', 'L_t7',\n",
    "       'L_t8', 'L_t9', 'L_t10', 'L_t11', 'L_t12', 'L_t13', 'L_t14', 'L_t15',\n",
    "       'L_t16', 'L_t17', 'L_t18', 'L_t19', 'L_t20', 'L_t21', 'L_t22', 'L_t23',\n",
    "       'L_t24', 'L_bv1', 'L_v0', 'L_v1', 'L_v2', 'L_v3', 'L_v4', 'L_v5',\n",
    "       'L_v6', 'L_v7', 'L_v8', 'L_v9', 'L_v10', 'L_v11', 'L_v12', 'L_v13',\n",
    "       'L_v14', 'L_v15', 'L_v16', 'L_v17', 'L_v18', 'L_v19', 'L_v20', 'L_v21',\n",
    "       'L_v22', 'L_v23', 'L_v24']\n",
    "tmp_df = aa.loc[:,['stay_id', 'starttime','endtime', 'amount', 'rate']]\n",
    "for col in col_lst:\n",
    "    bb = aa.groupby(['stay_id', 'starttime','endtime', 'amount', 'rate'])[col].apply(list).to_frame()\n",
    "    bb = bb.reset_index()\n",
    "    tmp_df = pd.merge(tmp_df, bb, how=\"inner\", on=['stay_id', 'starttime','endtime', 'amount', 'rate'])\n",
    "df_p3a = tmp_df\n",
    "print(df_p3.shape, df_p3a.shape)\n",
    "\n",
    "fea_names = ['L_bt1', 'L_t0', 'L_t1', 'L_t2', 'L_t3', 'L_t4', 'L_t5', 'L_t6', 'L_t7',\n",
    "       'L_t8', 'L_t9', 'L_t10', 'L_t11', 'L_t12', 'L_t13', 'L_t14', 'L_t15',\n",
    "       'L_t16', 'L_t17', 'L_t18', 'L_t19', 'L_t20', 'L_t21', 'L_t22', 'L_t23',\n",
    "       'L_t24', 'L_bv1', 'L_v0', 'L_v1', 'L_v2', 'L_v3', 'L_v4', 'L_v5',\n",
    "       'L_v6', 'L_v7', 'L_v8', 'L_v9', 'L_v10', 'L_v11', 'L_v12', 'L_v13',\n",
    "       'L_v14', 'L_v15', 'L_v16', 'L_v17', 'L_v18', 'L_v19', 'L_v20', 'L_v21',\n",
    "       'L_v22', 'L_v23', 'L_v24']\n",
    "#tmp_df = df_p3a.loc[:,fea_names].applymap(lambda x: np.array(x)[~ np.isnan(np.array(x))])#[float(str(i).replace(\"nan\",\"\")) for i in x ])\n",
    "tmp_df = df_p3a.loc[:,fea_names].applymap(lambda x: np.unique(np.array(x)).tolist())\n",
    "\n",
    "tmp_df2 = tmp_df.loc[:,fea_names].applymap(lambda x: len(np.array(x)[~ np.isnan(np.array(x))]))\n",
    "tmp_df22 = tmp_df.loc[:,fea_names].applymap(lambda x: np.array(x)[~ np.isnan(np.array(x))])\n",
    "\n",
    "#lst22 = []\n",
    "df_outf2 = pd.DataFrame()\n",
    "for i in fea_names:\n",
    "    df_outf = pd.DataFrame()\n",
    "    #lst = tmp_df2[tmp_df2[i]>1].index\n",
    "   # if len(lst) > 0:\n",
    "       # print(i, len(lst))\n",
    "    #    lst22.extend(lst.tolist())\n",
    "    new_names = [i + \"_\" + str(x) for x in range(2)]\n",
    "    df_outf[new_names[0]], df_outf[new_names[1]] = tmp_df22[i].str[0], tmp_df22[i].str[-1]\n",
    "    df_outf2 = pd.concat([df_outf2, df_outf],axis=1) \n",
    "df_outf2.shape\n",
    "\n",
    "tmp_df = df_p3a.loc[:,['stay_id', 'starttime', 'endtime', 'amount', 'rate']]\n",
    "df_p3af = pd.merge(tmp_df, df_outf2, left_index=True, right_index=True)\n",
    "# df_p3af is the output"
   ]
  },
  {
   "cell_type": "code",
   "execution_count": 17,
   "id": "88613e50",
   "metadata": {
    "ExecuteTime": {
     "end_time": "2022-08-26T12:47:58.696463Z",
     "start_time": "2022-08-26T12:47:58.663732Z"
    }
   },
   "outputs": [
    {
     "data": {
      "text/plain": [
       "\"['L_bt1', 'L_t0', 'L_t1', 'L_t3', 'L_t4', 'L_t5', 'L_t6', 'L_t7', 'L_t8', 'L_t9', 'L_t10', 'L_t11', 'L_t12', 'L_t13', 'L_t14', 'L_t15', 'L_t16', 'L_t22', 'L_bv1', 'L_v0', 'L_v1', 'L_v16', 'L_v22']\""
      ]
     },
     "execution_count": 17,
     "metadata": {},
     "output_type": "execute_result"
    }
   ],
   "source": [
    "# stat\n",
    "'''fea_names = ['L_bt1', 'L_t0', 'L_t1', 'L_t2', 'L_t3', 'L_t4', 'L_t5', 'L_t6', 'L_t7',\n",
    "       'L_t8', 'L_t9', 'L_t10', 'L_t11', 'L_t12', 'L_t13', 'L_t14', 'L_t15',\n",
    "       'L_t16', 'L_t17', 'L_t18', 'L_t19', 'L_t20', 'L_t21', 'L_t22', 'L_t23',\n",
    "       'L_t24', 'L_bv1', 'L_v0', 'L_v1', 'L_v2', 'L_v3', 'L_v4', 'L_v5',\n",
    "       'L_v6', 'L_v7', 'L_v8', 'L_v9', 'L_v10', 'L_v11', 'L_v12', 'L_v13',\n",
    "       'L_v14', 'L_v15', 'L_v16', 'L_v17', 'L_v18', 'L_v19', 'L_v20', 'L_v21',\n",
    "       'L_v22', 'L_v23', 'L_v24']\n",
    "#tmp_df = df_p3a.loc[:,fea_names].applymap(lambda x: np.array(x)[~ np.isnan(np.array(x))])#[float(str(i).replace(\"nan\",\"\")) for i in x ])\n",
    "tmp_df = df_p3a.loc[:,fea_names].applymap(lambda x: np.unique(np.array(x)).tolist())\n",
    "\n",
    "tmp_df2 = tmp_df.loc[:,fea_names].applymap(lambda x: len(np.array(x)[~ np.isnan(np.array(x))]))\n",
    "tmp_df22 = tmp_df.loc[:,fea_names].applymap(lambda x: np.array(x)[~ np.isnan(np.array(x))])\n",
    "'''\n",
    "out_lst = []\n",
    "for i in fea_names:\n",
    "    df_outf = pd.DataFrame()\n",
    "    lst = tmp_df2[tmp_df2[i]> 1].index\n",
    "    if len(lst) > 0:\n",
    "        out_lst.append(i)\n",
    "     #   print(i, lst)\n",
    "str(out_lst)"
   ]
  },
  {
   "cell_type": "markdown",
   "id": "90f9ebe6",
   "metadata": {
    "ExecuteTime": {
     "end_time": "2022-08-25T08:53:25.324240Z",
     "start_time": "2022-08-25T08:53:19.362427Z"
    }
   },
   "source": [
    "## merge\n",
    "IV insulin regular: 342245"
   ]
  },
  {
   "cell_type": "code",
   "execution_count": 18,
   "id": "72a16e03",
   "metadata": {
    "ExecuteTime": {
     "end_time": "2022-08-26T12:48:05.838195Z",
     "start_time": "2022-08-26T12:48:05.835021Z"
    }
   },
   "outputs": [
    {
     "data": {
      "text/plain": [
       "((29289, 109), (227079, 65), (2078, 33), (118585, 11))"
      ]
     },
     "execution_count": 18,
     "metadata": {},
     "output_type": "execute_result"
    }
   ],
   "source": [
    "df_p3af.shape, df_p1af.shape, df_p2a.shape, df_p4.shape"
   ]
  },
  {
   "cell_type": "code",
   "execution_count": 19,
   "id": "f421d364",
   "metadata": {
    "ExecuteTime": {
     "end_time": "2022-08-26T12:48:19.817166Z",
     "start_time": "2022-08-26T12:48:09.337127Z"
    },
    "run_control": {
     "marked": true
    }
   },
   "outputs": [
    {
     "data": {
      "text/plain": [
       "(197023, 197)"
      ]
     },
     "execution_count": 19,
     "metadata": {},
     "output_type": "execute_result"
    }
   ],
   "source": [
    "df_p4 = df_p4.loc[:,['stay_id', 'starttime', 'endtime', 'amount', 'rate']]\n",
    "\n",
    "tmp_df = pd.merge(df_p1af, df_p4,how=\"outer\",on= ['stay_id', 'starttime', 'endtime', 'amount', 'rate']).drop_duplicates()\n",
    "tmp_df = pd.merge(tmp_df, df_p3af,how=\"outer\",on= ['stay_id', 'starttime', 'endtime', 'amount', 'rate']).drop_duplicates()\n",
    "tmp_df = pd.merge(tmp_df, df_p2a,how=\"outer\",on= ['stay_id', 'starttime', 'endtime', 'amount', 'rate']).drop_duplicates()\n",
    "df_insu_pump = tmp_df.fillna(0)\n",
    "\n",
    "tmp_df.shape"
   ]
  },
  {
   "cell_type": "code",
   "execution_count": 20,
   "id": "94b5cba9",
   "metadata": {
    "ExecuteTime": {
     "end_time": "2022-08-26T12:48:48.324962Z",
     "start_time": "2022-08-26T12:48:27.615678Z"
    }
   },
   "outputs": [],
   "source": [
    "df_insu_pump.to_csv(\"S_insu_pump.csv\", index=False)"
   ]
  },
  {
   "cell_type": "markdown",
   "id": "810a55e5",
   "metadata": {},
   "source": [
    "## def"
   ]
  },
  {
   "cell_type": "code",
   "execution_count": 21,
   "id": "aec209f8",
   "metadata": {
    "ExecuteTime": {
     "end_time": "2022-08-26T12:32:35.414861Z",
     "start_time": "2022-08-26T12:32:33.845007Z"
    }
   },
   "outputs": [
    {
     "data": {
      "text/plain": [
       "'[]'"
      ]
     },
     "execution_count": 21,
     "metadata": {},
     "output_type": "execute_result"
    }
   ],
   "source": [
    "# 用于查看每小时用药最多有几次\n",
    "#aa = tmp_df.loc[:,fea_names].applymap(lambda x: len(list(set(np.array(x)[~ np.isnan(np.array(x))]))))\n",
    "fea_names = ['M_bt1', 'M_t0',\n",
    "       'M_t1', 'M_t2', 'M_t3', 'M_t4', 'M_t5', 'M_t6', 'M_t7', 'M_t8', 'M_t9',\n",
    "       'M_t10', 'M_t11', 'M_t12', 'M_bv1', 'M_v0', 'M_v1', 'M_v2', 'M_v3',\n",
    "       'M_v4', 'M_v5', 'M_v6', 'M_v7', 'M_v8', 'M_v9', 'M_v10', 'M_v11',\n",
    "       'M_v12']\n",
    "tmp_df = df_p2a.loc[:,fea_names].applymap(lambda x: np.unique(np.array(x)).tolist())\n",
    "\n",
    "tmp_df2 = tmp_df.loc[:,fea_names].applymap(lambda x: len(np.array(x)[~ np.isnan(np.array(x))]))\n",
    "tmp_df22 = tmp_df.loc[:,fea_names].applymap(lambda x: np.array(x)[~ np.isnan(np.array(x))])\n",
    "\n",
    "out_lst = []\n",
    "for i in fea_names:\n",
    "    df_outf = pd.DataFrame()\n",
    "    lst = tmp_df2[tmp_df2[i]> 1].index\n",
    "    if len(lst) > 0:\n",
    "        out_lst.append(i)\n",
    "     #   print(i, lst)\n",
    "str(out_lst)\n",
    "# 此步确认只有每小时最多只有一次用药"
   ]
  },
  {
   "cell_type": "code",
   "execution_count": 22,
   "id": "09369b71",
   "metadata": {
    "ExecuteTime": {
     "end_time": "2022-08-26T12:32:37.909961Z",
     "start_time": "2022-08-26T12:32:37.892719Z"
    },
    "scrolled": true
   },
   "outputs": [
    {
     "data": {
      "text/plain": [
       "'[]'"
      ]
     },
     "execution_count": 22,
     "metadata": {},
     "output_type": "execute_result"
    }
   ],
   "source": [
    "out_lst = []\n",
    "for i in fea_names:\n",
    "    df_outf = pd.DataFrame()\n",
    "    lst = tmp_df2[tmp_df2[i]> 1].index\n",
    "    if len(lst) > 0:\n",
    "        out_lst.append(i)\n",
    "     #   print(i, lst)\n",
    "str(out_lst)"
   ]
  },
  {
   "cell_type": "code",
   "execution_count": 23,
   "id": "a8fe6392",
   "metadata": {},
   "outputs": [
    {
     "data": {
      "text/html": [
       "<div>\n",
       "<style scoped>\n",
       "    .dataframe tbody tr th:only-of-type {\n",
       "        vertical-align: middle;\n",
       "    }\n",
       "\n",
       "    .dataframe tbody tr th {\n",
       "        vertical-align: top;\n",
       "    }\n",
       "\n",
       "    .dataframe thead th {\n",
       "        text-align: right;\n",
       "    }\n",
       "</style>\n",
       "<table border=\"1\" class=\"dataframe\">\n",
       "  <thead>\n",
       "    <tr style=\"text-align: right;\">\n",
       "      <th></th>\n",
       "      <th>M_bt1</th>\n",
       "      <th>M_t0</th>\n",
       "      <th>M_t1</th>\n",
       "      <th>M_t2</th>\n",
       "      <th>M_t3</th>\n",
       "      <th>M_t4</th>\n",
       "      <th>M_t5</th>\n",
       "      <th>M_t6</th>\n",
       "      <th>M_t7</th>\n",
       "      <th>M_t8</th>\n",
       "      <th>M_t9</th>\n",
       "      <th>M_t10</th>\n",
       "      <th>M_t11</th>\n",
       "      <th>M_t12</th>\n",
       "      <th>M_bv1</th>\n",
       "      <th>M_v0</th>\n",
       "      <th>M_v1</th>\n",
       "      <th>M_v2</th>\n",
       "      <th>M_v3</th>\n",
       "      <th>M_v4</th>\n",
       "      <th>M_v5</th>\n",
       "      <th>M_v6</th>\n",
       "      <th>M_v7</th>\n",
       "      <th>M_v8</th>\n",
       "      <th>M_v9</th>\n",
       "      <th>M_v10</th>\n",
       "      <th>M_v11</th>\n",
       "      <th>M_v12</th>\n",
       "    </tr>\n",
       "  </thead>\n",
       "  <tbody>\n",
       "  </tbody>\n",
       "</table>\n",
       "</div>"
      ],
      "text/plain": [
       "Empty DataFrame\n",
       "Columns: [M_bt1, M_t0, M_t1, M_t2, M_t3, M_t4, M_t5, M_t6, M_t7, M_t8, M_t9, M_t10, M_t11, M_t12, M_bv1, M_v0, M_v1, M_v2, M_v3, M_v4, M_v5, M_v6, M_v7, M_v8, M_v9, M_v10, M_v11, M_v12]\n",
       "Index: []"
      ]
     },
     "execution_count": 23,
     "metadata": {},
     "output_type": "execute_result"
    }
   ],
   "source": [
    "# 查看前后划分情况\n",
    "tmp_df22.loc[out_lst]"
   ]
  },
  {
   "cell_type": "code",
   "execution_count": 24,
   "id": "f2265e43",
   "metadata": {},
   "outputs": [
    {
     "data": {
      "text/html": [
       "<div>\n",
       "<style scoped>\n",
       "    .dataframe tbody tr th:only-of-type {\n",
       "        vertical-align: middle;\n",
       "    }\n",
       "\n",
       "    .dataframe tbody tr th {\n",
       "        vertical-align: top;\n",
       "    }\n",
       "\n",
       "    .dataframe thead th {\n",
       "        text-align: right;\n",
       "    }\n",
       "</style>\n",
       "<table border=\"1\" class=\"dataframe\">\n",
       "  <thead>\n",
       "    <tr style=\"text-align: right;\">\n",
       "      <th></th>\n",
       "      <th>stay_id</th>\n",
       "      <th>starttime</th>\n",
       "      <th>endtime</th>\n",
       "      <th>amount</th>\n",
       "      <th>rate</th>\n",
       "      <th>OS_bt1_0</th>\n",
       "      <th>OS_bt1_1</th>\n",
       "      <th>OS_bt1_2</th>\n",
       "      <th>OS_t0_0</th>\n",
       "      <th>OS_t0_1</th>\n",
       "      <th>OS_t0_2</th>\n",
       "      <th>OS_t1_0</th>\n",
       "      <th>OS_t1_1</th>\n",
       "      <th>OS_t1_2</th>\n",
       "      <th>OS_t2_0</th>\n",
       "      <th>OS_t2_1</th>\n",
       "      <th>OS_t2_2</th>\n",
       "      <th>OS_t3_0</th>\n",
       "      <th>OS_t3_1</th>\n",
       "      <th>OS_t3_2</th>\n",
       "      <th>OS_t4_0</th>\n",
       "      <th>OS_t4_1</th>\n",
       "      <th>OS_t4_2</th>\n",
       "      <th>OS_t5_0</th>\n",
       "      <th>OS_t5_1</th>\n",
       "      <th>OS_t5_2</th>\n",
       "      <th>OS_t6_0</th>\n",
       "      <th>OS_t6_1</th>\n",
       "      <th>OS_t6_2</th>\n",
       "      <th>OS_t7_0</th>\n",
       "      <th>OS_t7_1</th>\n",
       "      <th>OS_t7_2</th>\n",
       "      <th>OS_t8_0</th>\n",
       "      <th>OS_t8_1</th>\n",
       "      <th>OS_t8_2</th>\n",
       "      <th>OS_bv1_0</th>\n",
       "      <th>OS_bv1_1</th>\n",
       "      <th>OS_bv1_2</th>\n",
       "      <th>OS_v0_0</th>\n",
       "      <th>OS_v0_1</th>\n",
       "      <th>OS_v0_2</th>\n",
       "      <th>OS_v1_0</th>\n",
       "      <th>OS_v1_1</th>\n",
       "      <th>OS_v1_2</th>\n",
       "      <th>OS_v2_0</th>\n",
       "      <th>OS_v2_1</th>\n",
       "      <th>OS_v2_2</th>\n",
       "      <th>OS_v3_0</th>\n",
       "      <th>OS_v3_1</th>\n",
       "      <th>OS_v3_2</th>\n",
       "      <th>OS_v4_0</th>\n",
       "      <th>OS_v4_1</th>\n",
       "      <th>OS_v4_2</th>\n",
       "      <th>OS_v5_0</th>\n",
       "      <th>OS_v5_1</th>\n",
       "      <th>OS_v5_2</th>\n",
       "      <th>OS_v6_0</th>\n",
       "      <th>OS_v6_1</th>\n",
       "      <th>OS_v6_2</th>\n",
       "      <th>OS_v7_0</th>\n",
       "      <th>OS_v7_1</th>\n",
       "      <th>OS_v7_2</th>\n",
       "      <th>OS_v8_0</th>\n",
       "      <th>OS_v8_1</th>\n",
       "      <th>OS_v8_2</th>\n",
       "    </tr>\n",
       "  </thead>\n",
       "  <tbody>\n",
       "  </tbody>\n",
       "</table>\n",
       "</div>"
      ],
      "text/plain": [
       "Empty DataFrame\n",
       "Columns: [stay_id, starttime, endtime, amount, rate, OS_bt1_0, OS_bt1_1, OS_bt1_2, OS_t0_0, OS_t0_1, OS_t0_2, OS_t1_0, OS_t1_1, OS_t1_2, OS_t2_0, OS_t2_1, OS_t2_2, OS_t3_0, OS_t3_1, OS_t3_2, OS_t4_0, OS_t4_1, OS_t4_2, OS_t5_0, OS_t5_1, OS_t5_2, OS_t6_0, OS_t6_1, OS_t6_2, OS_t7_0, OS_t7_1, OS_t7_2, OS_t8_0, OS_t8_1, OS_t8_2, OS_bv1_0, OS_bv1_1, OS_bv1_2, OS_v0_0, OS_v0_1, OS_v0_2, OS_v1_0, OS_v1_1, OS_v1_2, OS_v2_0, OS_v2_1, OS_v2_2, OS_v3_0, OS_v3_1, OS_v3_2, OS_v4_0, OS_v4_1, OS_v4_2, OS_v5_0, OS_v5_1, OS_v5_2, OS_v6_0, OS_v6_1, OS_v6_2, OS_v7_0, OS_v7_1, OS_v7_2, OS_v8_0, OS_v8_1, OS_v8_2]\n",
       "Index: []"
      ]
     },
     "execution_count": 24,
     "metadata": {},
     "output_type": "execute_result"
    }
   ],
   "source": [
    "df_p1af.loc[out_lst]"
   ]
  }
 ],
 "metadata": {
  "kernelspec": {
   "display_name": "Python [conda env:mytensor]",
   "language": "python",
   "name": "conda-env-mytensor-py"
  },
  "language_info": {
   "codemirror_mode": {
    "name": "ipython",
    "version": 3
   },
   "file_extension": ".py",
   "mimetype": "text/x-python",
   "name": "python",
   "nbconvert_exporter": "python",
   "pygments_lexer": "ipython3",
   "version": "3.9.12"
  },
  "toc": {
   "base_numbering": 1,
   "nav_menu": {},
   "number_sections": true,
   "sideBar": true,
   "skip_h1_title": false,
   "title_cell": "Table of Contents",
   "title_sidebar": "Contents",
   "toc_cell": false,
   "toc_position": {},
   "toc_section_display": true,
   "toc_window_display": false
  },
  "varInspector": {
   "cols": {
    "lenName": 16,
    "lenType": 16,
    "lenVar": 40
   },
   "kernels_config": {
    "python": {
     "delete_cmd_postfix": "",
     "delete_cmd_prefix": "del ",
     "library": "var_list.py",
     "varRefreshCmd": "print(var_dic_list())"
    },
    "r": {
     "delete_cmd_postfix": ") ",
     "delete_cmd_prefix": "rm(",
     "library": "var_list.r",
     "varRefreshCmd": "cat(var_dic_list()) "
    }
   },
   "types_to_exclude": [
    "module",
    "function",
    "builtin_function_or_method",
    "instance",
    "_Feature"
   ],
   "window_display": false
  }
 },
 "nbformat": 4,
 "nbformat_minor": 5
}
