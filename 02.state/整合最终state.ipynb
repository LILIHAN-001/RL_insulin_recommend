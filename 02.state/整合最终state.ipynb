{
 "cells": [
  {
   "cell_type": "code",
   "execution_count": 6,
   "id": "2cd34254",
   "metadata": {
    "ExecuteTime": {
     "end_time": "2022-11-20T01:58:45.722966Z",
     "start_time": "2022-11-20T01:58:45.720248Z"
    }
   },
   "outputs": [],
   "source": [
    "import pandas as pd\n",
    "pd.set_option(\"display.max_rows\", 400)\n",
    "import os\n",
    "import numpy as np\n",
    "import seaborn as sns\n",
    "import matplotlib.pyplot as plt\n",
    "import missingno as msno\n",
    "import datetime\n",
    "import os\n",
    "import joblib\n",
    "\n",
    "from sklearn.feature_extraction import DictVectorizer\n",
    "\n",
    "\n",
    "import warnings\n",
    "from pandas.core.common import SettingWithCopyWarning\n",
    "warnings.simplefilter(action=\"ignore\", category=SettingWithCopyWarning)"
   ]
  },
  {
   "cell_type": "markdown",
   "id": "cfde9987",
   "metadata": {
    "run_control": {
     "marked": true
    }
   },
   "source": [
    "# data load and merge"
   ]
  },
  {
   "cell_type": "code",
   "execution_count": 10,
   "id": "10680750",
   "metadata": {
    "ExecuteTime": {
     "end_time": "2022-11-20T02:18:15.940210Z",
     "start_time": "2022-11-20T02:18:15.903340Z"
    }
   },
   "outputs": [
    {
     "data": {
      "text/plain": [
       "Index(['stay_id', 'age', 'weight', 'gender', 'height', 'ethnicity',\n",
       "       'type1_diabetes', 'type2_diabetes'],\n",
       "      dtype='object')"
      ]
     },
     "execution_count": 10,
     "metadata": {},
     "output_type": "execute_result"
    }
   ],
   "source": [
    "data_dir = \"/public/hanl/jupyter_dir/ir_recommend_v2/02.state/\"\n",
    "file = data_dir + \"S_basicinfo.csv\"\n",
    "\n",
    "df_demo = pd.read_csv(file)\n",
    "df_demo.columns"
   ]
  },
  {
   "cell_type": "code",
   "execution_count": 13,
   "id": "cd6816d9",
   "metadata": {
    "ExecuteTime": {
     "end_time": "2022-11-20T02:25:42.995527Z",
     "start_time": "2022-11-20T02:25:38.586016Z"
    }
   },
   "outputs": [
    {
     "data": {
      "text/plain": [
       "Index(['stay_id', 'starttime', 'endtime', 'traj_id', 'heart_rate_max',\n",
       "       'heart_rate_min', 'heart_rate_mean', 'sbp_max', 'sbp_min', 'sbp_mean',\n",
       "       ...\n",
       "       'mcv_mean', 'platelet_max', 'platelet_min', 'platelet_mean', 'rbc_max',\n",
       "       'rbc_min', 'rbc_mean', 'rdw_max', 'rdw_min', 'rdw_mean'],\n",
       "      dtype='object', length=148)"
      ]
     },
     "execution_count": 13,
     "metadata": {},
     "output_type": "execute_result"
    }
   ],
   "source": [
    "data_dir = \"/public/hanl/jupyter_dir/ir_recommend_v2/02.state/\"\n",
    "file = data_dir + \"S_fea_win60.csv\"\n",
    "df_fea = pd.read_csv(file)\n",
    "df_fea.columns"
   ]
  },
  {
   "cell_type": "code",
   "execution_count": 27,
   "id": "cf819447",
   "metadata": {
    "ExecuteTime": {
     "end_time": "2022-11-20T03:11:11.345241Z",
     "start_time": "2022-11-20T03:11:10.210991Z"
    },
    "run_control": {
     "marked": true
    }
   },
   "outputs": [
    {
     "name": "stdout",
     "output_type": "stream",
     "text": [
      "(261707, 148) (11624, 8) (261707, 155)\n"
     ]
    }
   ],
   "source": [
    "# merge\n",
    "df_fea_demo = pd.merge(df_fea, df_demo, how=\"left\", left_on=[\"stay_id\"], right_on=[\"stay_id\"])\n",
    "print(df_fea.shape, df_demo.shape, df_fea_demo.shape)\n",
    "df_fea_demo[\"starttime\"] = pd.to_datetime(df_fea_demo[\"starttime\"])\n",
    "df_fea_demo[\"endtime\"] = pd.to_datetime(df_fea_demo[\"endtime\"])\n",
    "df_fea_demo = df_fea_demo.sort_values(by=[\"stay_id\", \"starttime\"])\n",
    "#df_fea_demo['tag'] = range(len(df_fea_demo))"
   ]
  },
  {
   "cell_type": "markdown",
   "id": "55b170e1",
   "metadata": {},
   "source": [
    "# state 生成"
   ]
  },
  {
   "cell_type": "markdown",
   "id": "da066e7f",
   "metadata": {},
   "source": [
    "- 1）仅仅只有血糖信息，每个state血糖的最大最小中值均值以及与上次血糖检测的差值\n",
    "- 血糖信息 + demo信息\n",
    "- 2）血糖信息即1） + 血糖相关信息（demo如病史 + 输液 + 葡糖 + 用药）\n",
    "- 3）2）+ vital 均值 +  vital的其他统计信息\n",
    "- 4）3） + lab的均值\n",
    "- 5）4）+ lab的其他统计信息"
   ]
  },
  {
   "cell_type": "code",
   "execution_count": 15,
   "id": "3e2e3f66",
   "metadata": {
    "ExecuteTime": {
     "end_time": "2022-11-20T02:29:34.809811Z",
     "start_time": "2022-11-20T02:29:34.807891Z"
    }
   },
   "outputs": [],
   "source": [
    "fix_lst = ['stay_id', 'starttime', 'endtime']\n",
    "demo_lst = [\n",
    " 'age',\n",
    " 'weight',\n",
    " 'gender',\n",
    " 'height',\n",
    " 'ethnicity',\n",
    " 'type1_diabetes',\n",
    " 'type2_diabetes']"
   ]
  },
  {
   "cell_type": "markdown",
   "id": "e140f923",
   "metadata": {},
   "source": [
    "# state 1: glucose \n",
    "- S_glu.csv"
   ]
  },
  {
   "cell_type": "code",
   "execution_count": 17,
   "id": "cc39ac24",
   "metadata": {
    "ExecuteTime": {
     "end_time": "2022-11-20T02:33:04.400440Z",
     "start_time": "2022-11-20T02:31:13.683318Z"
    }
   },
   "outputs": [],
   "source": [
    "glu_lst = [\"glucose_mean\", 'glucose_max', 'glucose_min']\n",
    "df_s1 = df_fea_demo[glu_lst+fix_lst]\n",
    "\n",
    "tmp_df = pd.DataFrame()\n",
    "for i,j in df_s1.groupby(\"stay_id\"):\n",
    "    j = j.sort_values(\"starttime\")\n",
    "    j['glucose_mean_last'] = j['glucose_mean'].shift(+1)\n",
    "    j['glucose_mean_last2'] = j['glucose_mean'].shift(+2)\n",
    "    j['glucose_mean_last3'] = j['glucose_mean'].shift(+3)\n",
    "    j[\"d_glucose_mean\"] = j[\"glucose_mean\"] - j[\"glucose_mean_last\"]\n",
    "    j[\"d_glucose_mean2\"] = j[\"glucose_mean\"] - j[\"glucose_mean_last2\"]\n",
    "    j[\"d_glucose_mean3\"] = j[\"glucose_mean\"] - j[\"glucose_mean_last3\"]\n",
    "    j = j.fillna(0)\n",
    "    j = j.drop([\"glucose_mean_last\", \"glucose_mean_last2\", \"glucose_mean_last3\"], axis=1)\n",
    "    tmp_df = pd.concat([tmp_df, j])\n",
    "df_s1 = tmp_df\n",
    "df_s1 = df_s1.fillna(0)\n",
    "df_s1.to_csv(\"S_glucose.csv\", index=False)"
   ]
  },
  {
   "cell_type": "code",
   "execution_count": 18,
   "id": "4281cc03",
   "metadata": {
    "ExecuteTime": {
     "end_time": "2022-11-20T02:49:40.377279Z",
     "start_time": "2022-11-20T02:49:40.367206Z"
    },
    "run_control": {
     "marked": true
    }
   },
   "outputs": [
    {
     "data": {
      "text/plain": [
       "glucose_mean       0\n",
       "glucose_max        0\n",
       "glucose_min        0\n",
       "stay_id            0\n",
       "starttime          0\n",
       "endtime            0\n",
       "d_glucose_mean     0\n",
       "d_glucose_mean2    0\n",
       "d_glucose_mean3    0\n",
       "dtype: int64"
      ]
     },
     "execution_count": 18,
     "metadata": {},
     "output_type": "execute_result"
    }
   ],
   "source": [
    "df_s1.columns\n",
    "df_s1.isna().sum()"
   ]
  },
  {
   "cell_type": "markdown",
   "id": "53c7dc84",
   "metadata": {},
   "source": [
    "# state 2: glucose 相关\n",
    "- S_glu_relate.csv"
   ]
  },
  {
   "cell_type": "code",
   "execution_count": 28,
   "id": "35848055",
   "metadata": {
    "ExecuteTime": {
     "end_time": "2022-11-20T03:11:19.657264Z",
     "start_time": "2022-11-20T03:11:18.780834Z"
    }
   },
   "outputs": [
    {
     "data": {
      "text/plain": [
       "(261707, 158)"
      ]
     },
     "execution_count": 28,
     "metadata": {},
     "output_type": "execute_result"
    }
   ],
   "source": [
    "# 添加血糖记录差到总表中\n",
    "df_s1 = pd.read_csv(\"S_glucose.csv\")\n",
    "df_s1[\"starttime\"] = pd.to_datetime(df_s1[\"starttime\"])\n",
    "df_s1[\"endtime\"] = pd.to_datetime(df_s1[\"endtime\"])\n",
    "\n",
    "df_fea_demo = pd.merge(df_fea_demo, df_s1, how=\"left\", left_on = ['glucose_mean', 'glucose_max', 'glucose_min',\n",
    "       'stay_id', 'starttime', 'endtime'], right_on = ['glucose_mean', 'glucose_max', 'glucose_min',\n",
    "       'stay_id', 'starttime', 'endtime'])\n",
    "df_fea_demo.shape"
   ]
  },
  {
   "cell_type": "code",
   "execution_count": 24,
   "id": "2b81fced",
   "metadata": {
    "ExecuteTime": {
     "end_time": "2022-11-20T03:10:07.468877Z",
     "start_time": "2022-11-20T03:10:04.820493Z"
    },
    "run_control": {
     "marked": true
    }
   },
   "outputs": [],
   "source": [
    "\"\"\"## 额外输出glucose + demo 信息\n",
    "glu_lst = [\"glucose_mean\", 'glucose_max', 'glucose_min', \"d_glucose_mean\",\"d_glucose_mean2\",\"d_glucose_mean3\"]\n",
    "\n",
    "fea_lst = fix_lst + demo_lst + glu_lst\n",
    "df_s2p = df_fea_demo[fea_lst]\n",
    "\n",
    "df_s2p.to_csv(\"S_glucose_demo.csv\", index=False)\"\"\""
   ]
  },
  {
   "cell_type": "code",
   "execution_count": 29,
   "id": "9045c1b8",
   "metadata": {
    "ExecuteTime": {
     "end_time": "2022-11-20T03:11:25.512027Z",
     "start_time": "2022-11-20T03:11:22.223116Z"
    }
   },
   "outputs": [],
   "source": [
    "# 添加其他胰岛素用药\n",
    "df_insu_pump = pd.read_csv(\"S_insu_pump.csv\")\n",
    "df_insu_pump[\"starttime\"] = pd.to_datetime(df_insu_pump[\"starttime\"], format='%Y/%m/%d %H:%M:%S')\n",
    "df_insu_pump[\"endtime\"] = pd.to_datetime(df_insu_pump[\"endtime\"], format='%Y/%m/%d %H:%M:%S')\n",
    "df_fea_demo_med = pd.merge(df_fea_demo, df_insu_pump, how= \"left\", on = [\"stay_id\", \"starttime\", \"endtime\"])"
   ]
  },
  {
   "cell_type": "code",
   "execution_count": 32,
   "id": "0d2d602a",
   "metadata": {
    "ExecuteTime": {
     "end_time": "2022-11-20T03:19:55.163343Z",
     "start_time": "2022-11-20T03:19:52.827795Z"
    }
   },
   "outputs": [],
   "source": [
    "# 添加输液\n",
    "df_infusion = pd.read_csv(\"S_bolus_dextrose.csv\")\n",
    "df_infusion[\"starttime\"] = pd.to_datetime(df_infusion[\"starttime\"], format='%Y/%m/%d %H:%M:%S')\n",
    "df_infusion[\"endtime\"] = pd.to_datetime(df_infusion[\"endtime\"], format='%Y/%m/%d %H:%M:%S')\n",
    "\n",
    "df_infusion = df_infusion.loc[:,[\"stay_id\", \"starttime\", \"endtime\", \"traj_id\", 'colloid_bolus_win', 'dex_win']]\n",
    "\n",
    "df_fea_demo_med_infu = pd.merge(df_fea_demo_med, df_infusion, how= \"left\", on = [\"stay_id\", \"starttime\", \"endtime\"])\n",
    "df_fea_demo_med_infu = df_fea_demo_med_infu.fillna(0)"
   ]
  },
  {
   "cell_type": "code",
   "execution_count": 33,
   "id": "a2984394",
   "metadata": {
    "ExecuteTime": {
     "end_time": "2022-11-20T03:20:28.908833Z",
     "start_time": "2022-11-20T03:20:08.009993Z"
    }
   },
   "outputs": [],
   "source": [
    "glu_lst = [\"glucose_mean\",  'glucose_max', 'glucose_min', \"d_glucose_mean\",\"d_glucose_mean2\",\"d_glucose_mean3\"]\n",
    "med_lst = [ 'colloid_bolus_win', 'dex_win', 'OS_bt1_0', 'OS_bt1_1', 'OS_bt1_2', 'OS_t0_0', 'OS_t0_1', 'OS_t0_2', 'OS_t1_0', 'OS_t1_1', 'OS_t1_2', 'OS_t2_0', 'OS_t2_1', 'OS_t2_2', 'OS_t3_0', 'OS_t3_1', 'OS_t3_2', 'OS_t4_0', 'OS_t4_1', 'OS_t4_2', 'OS_t5_0', 'OS_t5_1', 'OS_t5_2', 'OS_t6_0', 'OS_t6_1', 'OS_t6_2', 'OS_t7_0', 'OS_t7_1', 'OS_t7_2', 'OS_t8_0', 'OS_t8_1', 'OS_t8_2', 'OS_bv1_0', 'OS_bv1_1', 'OS_bv1_2', 'OS_v0_0', 'OS_v0_1', 'OS_v0_2', 'OS_v1_0', 'OS_v1_1', 'OS_v1_2', 'OS_v2_0', 'OS_v2_1', 'OS_v2_2', 'OS_v3_0', 'OS_v3_1', 'OS_v3_2', 'OS_v4_0', 'OS_v4_1', 'OS_v4_2', 'OS_v5_0', 'OS_v5_1', 'OS_v5_2', 'OS_v6_0', 'OS_v6_1', 'OS_v6_2', 'OS_v7_0', 'OS_v7_1', 'OS_v7_2', 'OS_v8_0', 'OS_v8_1', 'OS_v8_2', 'L_bt1_0', 'L_bt1_1', 'L_t0_0', 'L_t0_1', 'L_t1_0', 'L_t1_1', 'L_t2_0', 'L_t2_1', 'L_t3_0', 'L_t3_1', 'L_t4_0', 'L_t4_1', 'L_t5_0', 'L_t5_1', 'L_t6_0', 'L_t6_1', 'L_t7_0', 'L_t7_1', 'L_t8_0', 'L_t8_1', 'L_t9_0', 'L_t9_1', 'L_t10_0', 'L_t10_1', 'L_t11_0', 'L_t11_1', 'L_t12_0', 'L_t12_1', 'L_t13_0', 'L_t13_1', 'L_t14_0', 'L_t14_1', 'L_t15_0', 'L_t15_1', 'L_t16_0', 'L_t16_1', 'L_t17_0', 'L_t17_1', 'L_t18_0', 'L_t18_1', 'L_t19_0', 'L_t19_1', 'L_t20_0', 'L_t20_1', 'L_t21_0', 'L_t21_1', 'L_t22_0', 'L_t22_1', 'L_t23_0', 'L_t23_1', 'L_t24_0', 'L_t24_1', 'L_bv1_0', 'L_bv1_1', 'L_v0_0', 'L_v0_1', 'L_v1_0', 'L_v1_1', 'L_v2_0', 'L_v2_1', 'L_v3_0', 'L_v3_1', 'L_v4_0', 'L_v4_1', 'L_v5_0', 'L_v5_1', 'L_v6_0', 'L_v6_1', 'L_v7_0', 'L_v7_1', 'L_v8_0', 'L_v8_1', 'L_v9_0', 'L_v9_1', 'L_v10_0', 'L_v10_1', 'L_v11_0', 'L_v11_1', 'L_v12_0', 'L_v12_1', 'L_v13_0', 'L_v13_1', 'L_v14_0', 'L_v14_1', 'L_v15_0', 'L_v15_1', 'L_v16_0', 'L_v16_1', 'L_v17_0', 'L_v17_1', 'L_v18_0', 'L_v18_1', 'L_v19_0', 'L_v19_1', 'L_v20_0', 'L_v20_1', 'L_v21_0', 'L_v21_1', 'L_v22_0', 'L_v22_1', 'L_v23_0', 'L_v23_1', 'L_v24_0', 'L_v24_1', 'M_bt1', 'M_t0', 'M_t1', 'M_t2', 'M_t3', 'M_t4', 'M_t5', 'M_t6', 'M_t7', 'M_t8', 'M_t9', 'M_t10', 'M_t11', 'M_t12', 'M_bv1', 'M_v0', 'M_v1', 'M_v2', 'M_v3', 'M_v4', 'M_v5', 'M_v6', 'M_v7', 'M_v8', 'M_v9', 'M_v10', 'M_v11', 'M_v12']\n",
    "\n",
    "fea_lst = fix_lst + demo_lst + glu_lst + med_lst\n",
    "df_s2 = df_fea_demo_med_infu[fea_lst]\n",
    "#df_s2 = df_s2.drop(\"tag\", axis=1)\n",
    "\n",
    "## 这里还需添加输液，用药等相关信息\n",
    "df_s2.to_csv(\"S_glucose_relate.csv\", index=False)"
   ]
  },
  {
   "cell_type": "markdown",
   "id": "eff0ad53",
   "metadata": {
    "ExecuteTime": {
     "end_time": "2022-08-19T07:19:07.415320Z",
     "start_time": "2022-08-19T07:19:03.724312Z"
    },
    "run_control": {
     "marked": true
    }
   },
   "source": [
    "# state 3 \n",
    "- state 2 + viatl 统计值\n",
    "- S_icufea_addHighFreq.csv"
   ]
  },
  {
   "cell_type": "code",
   "execution_count": 51,
   "id": "1eedb189",
   "metadata": {
    "ExecuteTime": {
     "end_time": "2022-11-20T06:26:03.553768Z",
     "start_time": "2022-11-20T06:26:03.550764Z"
    },
    "run_control": {
     "marked": false
    }
   },
   "outputs": [],
   "source": [
    "vitalname_lst = ['heart_rate', 'sbp', 'dbp', 'mbp','resp_rate', 'temperature', 'spo2']\n",
    "add_lst = [\"_mean\", \"_min\", \"_max\"]\n",
    "vital_lst = []\n",
    "for i in vitalname_lst:\n",
    "    for j in add_lst:\n",
    "        vital_lst.append(i+j)\n",
    "        \n",
    "labname_lst = ['urineoutput_mean', 'po2_mean', 'bun_mean', 'aniongap_mean', 'so2_mean', 'aado2_calc_mean', 'ph_mean', 'lactate_mean', 'mchc_mean', 'creatinine_mean', 'chloride_mean', 'ptt_mean', 'mcv_mean', 'baseexcess_mean', 'platelet_mean', 'totalco2_mean', 'inr_mean', 'pao2fio2ratio_mean', 'free_calcium_mean', 'pco2_mean', 'pt_mean', 'hematocrit_mean', 'mch_mean', 'wbc_mean', 'hemoglobin_mean', 'bicarbonate_mean', 'rbc_mean', 'rdw_mean', 'heart_rate_mean', 'resp_rate_mean', 'fio2_chartevents_mean', 'sodium_mean', 'potassium_mean']"
   ]
  },
  {
   "cell_type": "code",
   "execution_count": 52,
   "id": "b45db59a",
   "metadata": {
    "ExecuteTime": {
     "end_time": "2022-11-20T06:26:37.509914Z",
     "start_time": "2022-11-20T06:26:05.235111Z"
    },
    "run_control": {
     "marked": false
    }
   },
   "outputs": [],
   "source": [
    "vital_lst = list(set(vital_lst).intersection(set(df_fea_demo_med_infu.columns.tolist())))\n",
    "glu_lst = [\"glucose_mean\",  'glucose_max', 'glucose_min', \"d_glucose_mean\",\"d_glucose_mean2\",\"d_glucose_mean3\"]\n",
    "fea_lst = fix_lst + demo_lst + glu_lst + vital_lst + med_lst + labname_lst\n",
    "\n",
    "df_s3 = df_fea_demo_med_infu[fea_lst]\n",
    "df_s3.to_csv(\"S_merge.csv\", index=False)"
   ]
  },
  {
   "cell_type": "code",
   "execution_count": 53,
   "id": "14b65015",
   "metadata": {
    "ExecuteTime": {
     "end_time": "2022-11-20T06:27:27.032530Z",
     "start_time": "2022-11-20T06:27:27.029283Z"
    },
    "collapsed": true,
    "run_control": {
     "marked": true
    }
   },
   "outputs": [
    {
     "data": {
      "text/plain": [
       "\"['stay_id', 'starttime', 'endtime', 'age', 'weight', 'gender', 'height', 'ethnicity', 'type1_diabetes', 'type2_diabetes', 'glucose_mean', 'glucose_max', 'glucose_min', 'd_glucose_mean', 'd_glucose_mean2', 'd_glucose_mean3', 'sbp_max', 'temperature_max', 'spo2_max', 'mbp_max', 'heart_rate_min', 'resp_rate_max', 'resp_rate_min', 'dbp_max', 'sbp_min', 'temperature_mean', 'mbp_mean', 'temperature_min', 'spo2_min', 'dbp_min', 'dbp_mean', 'sbp_mean', 'spo2_mean', 'mbp_min', 'heart_rate_mean', 'resp_rate_mean', 'heart_rate_max', 'colloid_bolus_win', 'dex_win', 'OS_bt1_0', 'OS_bt1_1', 'OS_bt1_2', 'OS_t0_0', 'OS_t0_1', 'OS_t0_2', 'OS_t1_0', 'OS_t1_1', 'OS_t1_2', 'OS_t2_0', 'OS_t2_1', 'OS_t2_2', 'OS_t3_0', 'OS_t3_1', 'OS_t3_2', 'OS_t4_0', 'OS_t4_1', 'OS_t4_2', 'OS_t5_0', 'OS_t5_1', 'OS_t5_2', 'OS_t6_0', 'OS_t6_1', 'OS_t6_2', 'OS_t7_0', 'OS_t7_1', 'OS_t7_2', 'OS_t8_0', 'OS_t8_1', 'OS_t8_2', 'OS_bv1_0', 'OS_bv1_1', 'OS_bv1_2', 'OS_v0_0', 'OS_v0_1', 'OS_v0_2', 'OS_v1_0', 'OS_v1_1', 'OS_v1_2', 'OS_v2_0', 'OS_v2_1', 'OS_v2_2', 'OS_v3_0', 'OS_v3_1', 'OS_v3_2', 'OS_v4_0', 'OS_v4_1', 'OS_v4_2', 'OS_v5_0', 'OS_v5_1', 'OS_v5_2', 'OS_v6_0', 'OS_v6_1', 'OS_v6_2', 'OS_v7_0', 'OS_v7_1', 'OS_v7_2', 'OS_v8_0', 'OS_v8_1', 'OS_v8_2', 'L_bt1_0', 'L_bt1_1', 'L_t0_0', 'L_t0_1', 'L_t1_0', 'L_t1_1', 'L_t2_0', 'L_t2_1', 'L_t3_0', 'L_t3_1', 'L_t4_0', 'L_t4_1', 'L_t5_0', 'L_t5_1', 'L_t6_0', 'L_t6_1', 'L_t7_0', 'L_t7_1', 'L_t8_0', 'L_t8_1', 'L_t9_0', 'L_t9_1', 'L_t10_0', 'L_t10_1', 'L_t11_0', 'L_t11_1', 'L_t12_0', 'L_t12_1', 'L_t13_0', 'L_t13_1', 'L_t14_0', 'L_t14_1', 'L_t15_0', 'L_t15_1', 'L_t16_0', 'L_t16_1', 'L_t17_0', 'L_t17_1', 'L_t18_0', 'L_t18_1', 'L_t19_0', 'L_t19_1', 'L_t20_0', 'L_t20_1', 'L_t21_0', 'L_t21_1', 'L_t22_0', 'L_t22_1', 'L_t23_0', 'L_t23_1', 'L_t24_0', 'L_t24_1', 'L_bv1_0', 'L_bv1_1', 'L_v0_0', 'L_v0_1', 'L_v1_0', 'L_v1_1', 'L_v2_0', 'L_v2_1', 'L_v3_0', 'L_v3_1', 'L_v4_0', 'L_v4_1', 'L_v5_0', 'L_v5_1', 'L_v6_0', 'L_v6_1', 'L_v7_0', 'L_v7_1', 'L_v8_0', 'L_v8_1', 'L_v9_0', 'L_v9_1', 'L_v10_0', 'L_v10_1', 'L_v11_0', 'L_v11_1', 'L_v12_0', 'L_v12_1', 'L_v13_0', 'L_v13_1', 'L_v14_0', 'L_v14_1', 'L_v15_0', 'L_v15_1', 'L_v16_0', 'L_v16_1', 'L_v17_0', 'L_v17_1', 'L_v18_0', 'L_v18_1', 'L_v19_0', 'L_v19_1', 'L_v20_0', 'L_v20_1', 'L_v21_0', 'L_v21_1', 'L_v22_0', 'L_v22_1', 'L_v23_0', 'L_v23_1', 'L_v24_0', 'L_v24_1', 'M_bt1', 'M_t0', 'M_t1', 'M_t2', 'M_t3', 'M_t4', 'M_t5', 'M_t6', 'M_t7', 'M_t8', 'M_t9', 'M_t10', 'M_t11', 'M_t12', 'M_bv1', 'M_v0', 'M_v1', 'M_v2', 'M_v3', 'M_v4', 'M_v5', 'M_v6', 'M_v7', 'M_v8', 'M_v9', 'M_v10', 'M_v11', 'M_v12', 'urineoutput_mean', 'po2_mean', 'bun_mean', 'aniongap_mean', 'so2_mean', 'aado2_calc_mean', 'ph_mean', 'lactate_mean', 'mchc_mean', 'creatinine_mean', 'chloride_mean', 'ptt_mean', 'mcv_mean', 'baseexcess_mean', 'platelet_mean', 'totalco2_mean', 'inr_mean', 'pao2fio2ratio_mean', 'free_calcium_mean', 'pco2_mean', 'pt_mean', 'hematocrit_mean', 'mch_mean', 'wbc_mean', 'hemoglobin_mean', 'bicarbonate_mean', 'rbc_mean', 'rdw_mean', 'heart_rate_mean', 'resp_rate_mean', 'fio2_chartevents_mean', 'sodium_mean', 'potassium_mean']\""
      ]
     },
     "execution_count": 53,
     "metadata": {},
     "output_type": "execute_result"
    }
   ],
   "source": [
    "str(df_s3.columns.tolist())"
   ]
  },
  {
   "cell_type": "code",
   "execution_count": null,
   "id": "2c2f7e4c",
   "metadata": {},
   "outputs": [],
   "source": []
  },
  {
   "cell_type": "code",
   "execution_count": null,
   "id": "43821b6c",
   "metadata": {},
   "outputs": [],
   "source": []
  }
 ],
 "metadata": {
  "kernelspec": {
   "display_name": "Python [conda env:mytensor]",
   "language": "python",
   "name": "conda-env-mytensor-py"
  },
  "language_info": {
   "codemirror_mode": {
    "name": "ipython",
    "version": 3
   },
   "file_extension": ".py",
   "mimetype": "text/x-python",
   "name": "python",
   "nbconvert_exporter": "python",
   "pygments_lexer": "ipython3",
   "version": "3.9.12"
  },
  "toc": {
   "base_numbering": 1,
   "nav_menu": {},
   "number_sections": true,
   "sideBar": true,
   "skip_h1_title": false,
   "title_cell": "Table of Contents",
   "title_sidebar": "Contents",
   "toc_cell": false,
   "toc_position": {},
   "toc_section_display": true,
   "toc_window_display": true
  },
  "varInspector": {
   "cols": {
    "lenName": 16,
    "lenType": 16,
    "lenVar": 40
   },
   "kernels_config": {
    "python": {
     "delete_cmd_postfix": "",
     "delete_cmd_prefix": "del ",
     "library": "var_list.py",
     "varRefreshCmd": "print(var_dic_list())"
    },
    "r": {
     "delete_cmd_postfix": ") ",
     "delete_cmd_prefix": "rm(",
     "library": "var_list.r",
     "varRefreshCmd": "cat(var_dic_list()) "
    }
   },
   "types_to_exclude": [
    "module",
    "function",
    "builtin_function_or_method",
    "instance",
    "_Feature"
   ],
   "window_display": false
  }
 },
 "nbformat": 4,
 "nbformat_minor": 5
}
