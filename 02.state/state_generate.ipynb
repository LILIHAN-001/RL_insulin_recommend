{
 "cells": [
  {
   "cell_type": "code",
   "execution_count": 2,
   "id": "6599afac",
   "metadata": {
    "ExecuteTime": {
     "end_time": "2022-11-20T02:02:45.339416Z",
     "start_time": "2022-11-20T02:02:44.243223Z"
    },
    "run_control": {
     "marked": true
    }
   },
   "outputs": [],
   "source": [
    "import pandas as pd\n",
    "pd.set_option(\"display.max_rows\", 300)\n",
    "pd.set_option(\"display.max_columns\", 200)\n",
    "\n",
    "import os\n",
    "import numpy as np\n",
    "import seaborn as sns\n",
    "import matplotlib.pyplot as plt\n",
    "import missingno as msno\n",
    "import datetime\n",
    "\n",
    "import warnings\n",
    "from pandas.core.common import SettingWithCopyWarning\n",
    "warnings.simplefilter(action=\"ignore\", category=SettingWithCopyWarning)"
   ]
  },
  {
   "cell_type": "markdown",
   "id": "75f5ecfa",
   "metadata": {},
   "source": [
    "# demo "
   ]
  },
  {
   "cell_type": "code",
   "execution_count": null,
   "id": "ea9d3457",
   "metadata": {
    "ExecuteTime": {
     "end_time": "2022-08-19T02:51:11.878631Z",
     "start_time": "2022-08-19T02:51:11.850836Z"
    },
    "run_control": {
     "marked": true
    }
   },
   "outputs": [],
   "source": [
    "filedir = \"/public/hanl/jupyter_dir/ir_recommend_v2/00.data/\"\n",
    "infile = filedir + '/ir_icu_basicinfo.csv'\n",
    "\n",
    "df_demo = pd.read_csv(infile)\n",
    "df_demo = df_demo.loc[:, ['stay_id', 'age', 'weight', 'gender', 'height', 'ethnicity', 'type1_diabetes',\n",
    "       'type2_diabetes']]\n",
    "\n",
    "eth_map = {\"UNABLE TO OBTAIN\":\"UNKNOWN\", 'HISPANIC/LATINO':'HISPANIC', 'WHITE':'WHITE', 'BLACK/AFRICAN AMERICAN':'BLACK',\n",
    " 'UNKNOWN': 'UNKNOWN', 'ASIAN':'ASIAN', 'OTHER':'OTHER', 'AMERICAN INDIAN/ALASKA NATIVE':'AMERICAN_INDIAN'}\n",
    "\n",
    "df_demo[\"ethnicity\"] = df_demo[\"ethnicity\"].map(eth_map)\n",
    "df_demo[\"gender\"] = pd.Categorical(df_demo[\"gender\"]).codes\n",
    "df_demo[\"ethnicity\"] = pd.Categorical(df_demo[\"ethnicity\"]).codes\n",
    "\n",
    "print(df_demo.gender.unique())\n",
    "print(df_demo.ethnicity.unique())\n",
    "print(df_demo.head(2))\n",
    "\n",
    "from sklearn.experimental import enable_iterative_imputer\n",
    "from sklearn.impute import IterativeImputer\n",
    "\n",
    "iterimp = IterativeImputer(random_state = 123)\n",
    "df_demo_arr = iterimp.fit_transform(df_demo)\n",
    "df_demo2 = pd.DataFrame(df_demo_arr)\n",
    "df_demo2.index = df_demo.index\n",
    "df_demo2.columns = df_demo.columns\n",
    "df_demo = df_demo2\n",
    "df_demo.isna().sum()\n",
    "\n",
    "df_demo.to_csv(\"S_basicinfo.csv\", index=False)"
   ]
  },
  {
   "cell_type": "markdown",
   "id": "fe007ae3",
   "metadata": {
    "run_control": {
     "marked": true
    }
   },
   "source": [
    "## vital_lab"
   ]
  },
  {
   "cell_type": "markdown",
   "id": "d7b0c20c",
   "metadata": {},
   "source": [
    "### 导入数据"
   ]
  },
  {
   "cell_type": "code",
   "execution_count": 2,
   "id": "fe12d0c5",
   "metadata": {
    "ExecuteTime": {
     "end_time": "2022-07-21T07:06:35.002238Z",
     "start_time": "2022-07-21T07:06:13.280221Z"
    }
   },
   "outputs": [
    {
     "name": "stdout",
     "output_type": "stream",
     "text": [
      "(2328549, 88)\n"
     ]
    },
    {
     "data": {
      "text/html": [
       "<div>\n",
       "<style scoped>\n",
       "    .dataframe tbody tr th:only-of-type {\n",
       "        vertical-align: middle;\n",
       "    }\n",
       "\n",
       "    .dataframe tbody tr th {\n",
       "        vertical-align: top;\n",
       "    }\n",
       "\n",
       "    .dataframe thead th {\n",
       "        text-align: right;\n",
       "    }\n",
       "</style>\n",
       "<table border=\"1\" class=\"dataframe\">\n",
       "  <thead>\n",
       "    <tr style=\"text-align: right;\">\n",
       "      <th></th>\n",
       "      <th>stay_id</th>\n",
       "      <th>charttime</th>\n",
       "      <th>heart_rate</th>\n",
       "      <th>sbp</th>\n",
       "      <th>dbp</th>\n",
       "      <th>mbp</th>\n",
       "      <th>sbp_ni</th>\n",
       "      <th>dbp_ni</th>\n",
       "      <th>mbp_ni</th>\n",
       "      <th>resp_rate</th>\n",
       "      <th>temperature</th>\n",
       "      <th>spo2</th>\n",
       "      <th>glucose</th>\n",
       "      <th>gcs_motor</th>\n",
       "      <th>gcs_verbal</th>\n",
       "      <th>gcs_eyes</th>\n",
       "      <th>gcs</th>\n",
       "      <th>gcs_unable</th>\n",
       "      <th>urineoutput</th>\n",
       "      <th>so2</th>\n",
       "      <th>po2</th>\n",
       "      <th>pco2</th>\n",
       "      <th>fio2_chartevents</th>\n",
       "      <th>fio2</th>\n",
       "      <th>aado2</th>\n",
       "      <th>aado2_calc</th>\n",
       "      <th>pao2fio2ratio</th>\n",
       "      <th>ph</th>\n",
       "      <th>baseexcess</th>\n",
       "      <th>bicarbonate</th>\n",
       "      <th>chloride</th>\n",
       "      <th>ck_mb</th>\n",
       "      <th>hematocrit</th>\n",
       "      <th>hemoglobin</th>\n",
       "      <th>potassium</th>\n",
       "      <th>sodium</th>\n",
       "      <th>wbc</th>\n",
       "      <th>free_calcium</th>\n",
       "      <th>calcium</th>\n",
       "      <th>totalco2</th>\n",
       "      <th>carboxyhemoglobin</th>\n",
       "      <th>methemoglobin</th>\n",
       "      <th>lactate</th>\n",
       "      <th>basophils_abs</th>\n",
       "      <th>eosinophils_abs</th>\n",
       "      <th>lymphocytes_abs</th>\n",
       "      <th>monocytes_abs</th>\n",
       "      <th>neutrophils_abs</th>\n",
       "      <th>basophils</th>\n",
       "      <th>eosinophils</th>\n",
       "      <th>lymphocytes</th>\n",
       "      <th>monocytes</th>\n",
       "      <th>neutrophils</th>\n",
       "      <th>atypical_lymphocytes</th>\n",
       "      <th>bands</th>\n",
       "      <th>immature_granulocytes</th>\n",
       "      <th>metamyelocytes</th>\n",
       "      <th>nrbc</th>\n",
       "      <th>troponin_t</th>\n",
       "      <th>albumin</th>\n",
       "      <th>globulin</th>\n",
       "      <th>total_protein</th>\n",
       "      <th>aniongap</th>\n",
       "      <th>bun</th>\n",
       "      <th>creatinine</th>\n",
       "      <th>d_dimer</th>\n",
       "      <th>fibrinogen</th>\n",
       "      <th>thrombin</th>\n",
       "      <th>inr</th>\n",
       "      <th>pt</th>\n",
       "      <th>ptt</th>\n",
       "      <th>mch</th>\n",
       "      <th>mchc</th>\n",
       "      <th>mcv</th>\n",
       "      <th>platelet</th>\n",
       "      <th>rbc</th>\n",
       "      <th>rdw</th>\n",
       "      <th>alt</th>\n",
       "      <th>alp</th>\n",
       "      <th>ast</th>\n",
       "      <th>amylase</th>\n",
       "      <th>bilirubin_total</th>\n",
       "      <th>bilirubin_direct</th>\n",
       "      <th>bilirubin_indirect</th>\n",
       "      <th>ck_cpk</th>\n",
       "      <th>ggt</th>\n",
       "      <th>ld_ldh</th>\n",
       "      <th>crp</th>\n",
       "    </tr>\n",
       "  </thead>\n",
       "  <tbody>\n",
       "    <tr>\n",
       "      <th>0</th>\n",
       "      <td>39060235</td>\n",
       "      <td>2160-05-18 10:26:00</td>\n",
       "      <td>NaN</td>\n",
       "      <td>NaN</td>\n",
       "      <td>NaN</td>\n",
       "      <td>NaN</td>\n",
       "      <td>NaN</td>\n",
       "      <td>NaN</td>\n",
       "      <td>NaN</td>\n",
       "      <td>NaN</td>\n",
       "      <td>NaN</td>\n",
       "      <td>NaN</td>\n",
       "      <td>216.0</td>\n",
       "      <td>NaN</td>\n",
       "      <td>NaN</td>\n",
       "      <td>NaN</td>\n",
       "      <td>NaN</td>\n",
       "      <td>NaN</td>\n",
       "      <td>NaN</td>\n",
       "      <td>NaN</td>\n",
       "      <td>421.0</td>\n",
       "      <td>45.0</td>\n",
       "      <td>NaN</td>\n",
       "      <td>NaN</td>\n",
       "      <td>NaN</td>\n",
       "      <td>NaN</td>\n",
       "      <td>NaN</td>\n",
       "      <td>7.35</td>\n",
       "      <td>0.0</td>\n",
       "      <td>NaN</td>\n",
       "      <td>104.0</td>\n",
       "      <td>NaN</td>\n",
       "      <td>36.0</td>\n",
       "      <td>11.9</td>\n",
       "      <td>3.4</td>\n",
       "      <td>137.0</td>\n",
       "      <td>NaN</td>\n",
       "      <td>1.17</td>\n",
       "      <td>NaN</td>\n",
       "      <td>26.0</td>\n",
       "      <td>NaN</td>\n",
       "      <td>NaN</td>\n",
       "      <td>3.3</td>\n",
       "      <td>NaN</td>\n",
       "      <td>NaN</td>\n",
       "      <td>NaN</td>\n",
       "      <td>NaN</td>\n",
       "      <td>NaN</td>\n",
       "      <td>NaN</td>\n",
       "      <td>NaN</td>\n",
       "      <td>NaN</td>\n",
       "      <td>NaN</td>\n",
       "      <td>NaN</td>\n",
       "      <td>NaN</td>\n",
       "      <td>NaN</td>\n",
       "      <td>NaN</td>\n",
       "      <td>NaN</td>\n",
       "      <td>NaN</td>\n",
       "      <td>NaN</td>\n",
       "      <td>NaN</td>\n",
       "      <td>NaN</td>\n",
       "      <td>NaN</td>\n",
       "      <td>NaN</td>\n",
       "      <td>NaN</td>\n",
       "      <td>NaN</td>\n",
       "      <td>NaN</td>\n",
       "      <td>NaN</td>\n",
       "      <td>NaN</td>\n",
       "      <td>NaN</td>\n",
       "      <td>NaN</td>\n",
       "      <td>NaN</td>\n",
       "      <td>NaN</td>\n",
       "      <td>NaN</td>\n",
       "      <td>NaN</td>\n",
       "      <td>NaN</td>\n",
       "      <td>NaN</td>\n",
       "      <td>NaN</td>\n",
       "      <td>NaN</td>\n",
       "      <td>NaN</td>\n",
       "      <td>NaN</td>\n",
       "      <td>NaN</td>\n",
       "      <td>NaN</td>\n",
       "      <td>NaN</td>\n",
       "      <td>NaN</td>\n",
       "      <td>NaN</td>\n",
       "      <td>NaN</td>\n",
       "      <td>NaN</td>\n",
       "      <td>NaN</td>\n",
       "    </tr>\n",
       "    <tr>\n",
       "      <th>1</th>\n",
       "      <td>39060235</td>\n",
       "      <td>2160-05-18 11:23:00</td>\n",
       "      <td>NaN</td>\n",
       "      <td>NaN</td>\n",
       "      <td>NaN</td>\n",
       "      <td>NaN</td>\n",
       "      <td>NaN</td>\n",
       "      <td>NaN</td>\n",
       "      <td>NaN</td>\n",
       "      <td>NaN</td>\n",
       "      <td>NaN</td>\n",
       "      <td>NaN</td>\n",
       "      <td>177.0</td>\n",
       "      <td>NaN</td>\n",
       "      <td>NaN</td>\n",
       "      <td>NaN</td>\n",
       "      <td>NaN</td>\n",
       "      <td>NaN</td>\n",
       "      <td>NaN</td>\n",
       "      <td>NaN</td>\n",
       "      <td>462.0</td>\n",
       "      <td>41.0</td>\n",
       "      <td>NaN</td>\n",
       "      <td>NaN</td>\n",
       "      <td>NaN</td>\n",
       "      <td>NaN</td>\n",
       "      <td>NaN</td>\n",
       "      <td>7.40</td>\n",
       "      <td>0.0</td>\n",
       "      <td>NaN</td>\n",
       "      <td>103.0</td>\n",
       "      <td>NaN</td>\n",
       "      <td>36.0</td>\n",
       "      <td>12.0</td>\n",
       "      <td>3.7</td>\n",
       "      <td>138.0</td>\n",
       "      <td>NaN</td>\n",
       "      <td>1.18</td>\n",
       "      <td>NaN</td>\n",
       "      <td>26.0</td>\n",
       "      <td>NaN</td>\n",
       "      <td>NaN</td>\n",
       "      <td>2.8</td>\n",
       "      <td>NaN</td>\n",
       "      <td>NaN</td>\n",
       "      <td>NaN</td>\n",
       "      <td>NaN</td>\n",
       "      <td>NaN</td>\n",
       "      <td>NaN</td>\n",
       "      <td>NaN</td>\n",
       "      <td>NaN</td>\n",
       "      <td>NaN</td>\n",
       "      <td>NaN</td>\n",
       "      <td>NaN</td>\n",
       "      <td>NaN</td>\n",
       "      <td>NaN</td>\n",
       "      <td>NaN</td>\n",
       "      <td>NaN</td>\n",
       "      <td>NaN</td>\n",
       "      <td>NaN</td>\n",
       "      <td>NaN</td>\n",
       "      <td>NaN</td>\n",
       "      <td>NaN</td>\n",
       "      <td>NaN</td>\n",
       "      <td>NaN</td>\n",
       "      <td>NaN</td>\n",
       "      <td>NaN</td>\n",
       "      <td>NaN</td>\n",
       "      <td>NaN</td>\n",
       "      <td>NaN</td>\n",
       "      <td>NaN</td>\n",
       "      <td>NaN</td>\n",
       "      <td>NaN</td>\n",
       "      <td>NaN</td>\n",
       "      <td>NaN</td>\n",
       "      <td>NaN</td>\n",
       "      <td>NaN</td>\n",
       "      <td>NaN</td>\n",
       "      <td>NaN</td>\n",
       "      <td>NaN</td>\n",
       "      <td>NaN</td>\n",
       "      <td>NaN</td>\n",
       "      <td>NaN</td>\n",
       "      <td>NaN</td>\n",
       "      <td>NaN</td>\n",
       "      <td>NaN</td>\n",
       "      <td>NaN</td>\n",
       "      <td>NaN</td>\n",
       "    </tr>\n",
       "  </tbody>\n",
       "</table>\n",
       "</div>"
      ],
      "text/plain": [
       "    stay_id           charttime  heart_rate  sbp  dbp  mbp  sbp_ni  dbp_ni  \\\n",
       "0  39060235 2160-05-18 10:26:00         NaN  NaN  NaN  NaN     NaN     NaN   \n",
       "1  39060235 2160-05-18 11:23:00         NaN  NaN  NaN  NaN     NaN     NaN   \n",
       "\n",
       "   mbp_ni  resp_rate  temperature  spo2  glucose  gcs_motor  gcs_verbal  \\\n",
       "0     NaN        NaN          NaN   NaN    216.0        NaN         NaN   \n",
       "1     NaN        NaN          NaN   NaN    177.0        NaN         NaN   \n",
       "\n",
       "   gcs_eyes  gcs  gcs_unable  urineoutput  so2    po2  pco2  fio2_chartevents  \\\n",
       "0       NaN  NaN         NaN          NaN  NaN  421.0  45.0               NaN   \n",
       "1       NaN  NaN         NaN          NaN  NaN  462.0  41.0               NaN   \n",
       "\n",
       "   fio2  aado2  aado2_calc  pao2fio2ratio    ph  baseexcess  bicarbonate  \\\n",
       "0   NaN    NaN         NaN            NaN  7.35         0.0          NaN   \n",
       "1   NaN    NaN         NaN            NaN  7.40         0.0          NaN   \n",
       "\n",
       "   chloride  ck_mb  hematocrit  hemoglobin  potassium  sodium  wbc  \\\n",
       "0     104.0    NaN        36.0        11.9        3.4   137.0  NaN   \n",
       "1     103.0    NaN        36.0        12.0        3.7   138.0  NaN   \n",
       "\n",
       "   free_calcium  calcium  totalco2  carboxyhemoglobin  methemoglobin  lactate  \\\n",
       "0          1.17      NaN      26.0                NaN            NaN      3.3   \n",
       "1          1.18      NaN      26.0                NaN            NaN      2.8   \n",
       "\n",
       "   basophils_abs  eosinophils_abs  lymphocytes_abs  monocytes_abs  \\\n",
       "0            NaN              NaN              NaN            NaN   \n",
       "1            NaN              NaN              NaN            NaN   \n",
       "\n",
       "   neutrophils_abs  basophils  eosinophils  lymphocytes  monocytes  \\\n",
       "0              NaN        NaN          NaN          NaN        NaN   \n",
       "1              NaN        NaN          NaN          NaN        NaN   \n",
       "\n",
       "   neutrophils  atypical_lymphocytes  bands  immature_granulocytes  \\\n",
       "0          NaN                   NaN    NaN                    NaN   \n",
       "1          NaN                   NaN    NaN                    NaN   \n",
       "\n",
       "   metamyelocytes  nrbc  troponin_t  albumin  globulin  total_protein  \\\n",
       "0             NaN   NaN         NaN      NaN       NaN            NaN   \n",
       "1             NaN   NaN         NaN      NaN       NaN            NaN   \n",
       "\n",
       "   aniongap  bun  creatinine  d_dimer  fibrinogen  thrombin  inr  pt  ptt  \\\n",
       "0       NaN  NaN         NaN      NaN         NaN       NaN  NaN NaN  NaN   \n",
       "1       NaN  NaN         NaN      NaN         NaN       NaN  NaN NaN  NaN   \n",
       "\n",
       "   mch  mchc  mcv  platelet  rbc  rdw  alt  alp  ast  amylase  \\\n",
       "0  NaN   NaN  NaN       NaN  NaN  NaN  NaN  NaN  NaN      NaN   \n",
       "1  NaN   NaN  NaN       NaN  NaN  NaN  NaN  NaN  NaN      NaN   \n",
       "\n",
       "   bilirubin_total  bilirubin_direct  bilirubin_indirect  ck_cpk  ggt  ld_ldh  \\\n",
       "0              NaN               NaN                 NaN     NaN  NaN     NaN   \n",
       "1              NaN               NaN                 NaN     NaN  NaN     NaN   \n",
       "\n",
       "   crp  \n",
       "0  NaN  \n",
       "1  NaN  "
      ]
     },
     "execution_count": 2,
     "metadata": {},
     "output_type": "execute_result"
    }
   ],
   "source": [
    "filedir = \"/public/hanl/jupyter_dir/ir_recommend_v2/00.data/\"\n",
    "infile = filedir + '/ir_icu_allfeature_Foutlier.csv'\n",
    "\n",
    "df_fea = pd.read_csv(infile)\n",
    "df_fea[\"charttime\"] = pd.to_datetime(df_fea[\"charttime\"])#, format='%d/%m/%Y %H:%M:%S')\n",
    "df_fea = df_fea.drop_duplicates()\n",
    "df_fea = df_fea.drop([\"subject_id\",\"hadm_id\", \"troponin_i\",\"rdwsd\"], axis=1)\n",
    "print(df_fea.shape)\n",
    "df_fea.head(2)"
   ]
  },
  {
   "cell_type": "markdown",
   "id": "576f8e41",
   "metadata": {},
   "source": [
    "### 去除没有一个值的变量"
   ]
  },
  {
   "cell_type": "code",
   "execution_count": 3,
   "id": "e1c36893",
   "metadata": {
    "ExecuteTime": {
     "end_time": "2022-07-21T07:06:38.412533Z",
     "start_time": "2022-07-21T07:06:36.879136Z"
    }
   },
   "outputs": [
    {
     "name": "stdout",
     "output_type": "stream",
     "text": [
      "         index   na_num    %\n",
      "60  troponin_i  2328549  1.0\n",
      "80       rdwsd  2328549  1.0\n",
      "na %=1 troponin_i rdwsd\n",
      "(2328549, 90)\n"
     ]
    }
   ],
   "source": [
    "'''df_fea_stat = df_fea.isnull().sum().reset_index()\n",
    "df_fea_stat.columns = [\"index\", \"na_num\"]\n",
    "df_fea_stat[\"%\"] = df_fea_stat[\"na_num\"]/df_fea.shape[0]\n",
    "print(df_fea_stat.sort_values(by=\"%\",ascending=False).head(2))\n",
    "\n",
    "print(\"na %=1\",\"troponin_i\",\"rdwsd\")\n",
    "df_fea = df_fea.drop([\"troponin_i\",\"rdwsd\"], axis=1)\n",
    "print(df_fea.shape)\n",
    "'''"
   ]
  },
  {
   "cell_type": "markdown",
   "id": "9e1e9334",
   "metadata": {
    "ExecuteTime": {
     "end_time": "2022-07-21T07:06:08.690572Z",
     "start_time": "2022-07-21T07:06:08.602246Z"
    }
   },
   "source": [
    "### 获取处理成窗口形式的特征数据 = 将点数据mapping到60 min窗口中"
   ]
  },
  {
   "cell_type": "code",
   "execution_count": 18,
   "id": "c6e440de",
   "metadata": {
    "ExecuteTime": {
     "end_time": "2022-07-21T07:13:16.107524Z",
     "start_time": "2022-07-21T07:12:56.655282Z"
    }
   },
   "outputs": [],
   "source": [
    "filedir = \"/public/hanl/jupyter_dir/ir_recommend_v2/01.action/\"\n",
    "infile = filedir + 'A_IR_win60.csv'\n",
    "\n",
    "df_ac = pd.read_csv(infile)\n",
    "df_ac[\"starttime\"] = pd.to_datetime(df_ac[\"starttime\"])\n",
    "df_ac[\"endtime\"] = pd.to_datetime(df_ac[\"endtime\"])\n",
    "df_ac = df_ac.sort_values(by=[\"stay_id\", \"starttime\"])\n",
    "df_ac = df_ac.loc[:,['stay_id', 'starttime', 'endtime',\"traj_id\"]]\n",
    "\n",
    "df_fea = df_fea[df_fea[\"stay_id\"].isin(df_ac.stay_id.unique().tolist())] \n",
    "\n",
    "df_fea_add = pd.merge( df_fea, df_ac, how=\"inner\", on = \"stay_id\")\n",
    "df_fea_add = df_fea_add[(df_fea_add[\"starttime\"] <= df_fea_add[\"charttime\"]) & (df_fea_add[\"charttime\"] <= df_fea_add[\"endtime\"])]\n",
    "#df_fea_add.to_csv(\"df_fea.csv\",index=False)"
   ]
  },
  {
   "cell_type": "markdown",
   "id": "fa7a0214",
   "metadata": {},
   "source": [
    "### 插补\n",
    "- 前向\n",
    "- MI"
   ]
  },
  {
   "cell_type": "code",
   "execution_count": 20,
   "id": "e1d9270b",
   "metadata": {},
   "outputs": [],
   "source": [
    "df_fea_add = pd.read_csv(\"df_fea.csv\")\n",
    "df_fea_add[\"starttime\"] = pd.to_datetime(df_fea_add[\"starttime\"])\n",
    "df_fea_add[\"endtime\"] = pd.to_datetime(df_fea_add[\"endtime\"])\n",
    "df_fea_add[\"charttime\"] = pd.to_datetime(df_fea_add[\"charttime\"])\n",
    "\n",
    "df_im = pd.DataFrame()\n",
    "for i,j in df_fea_add.groupby(by=[\"traj_id\"]):\n",
    "    j = j.sort_values(\"charttime\")\n",
    "    j = j.fillna(method='ffill', limit=12) \n",
    "    df_im = pd.concat([df_im, j], axis = 0)\n",
    "df_im.to_csv(\"S_fea_win60_im.csv\",index=False)"
   ]
  },
  {
   "cell_type": "markdown",
   "id": "db4f2d8b",
   "metadata": {},
   "source": [
    "### 删除缺失值大于80%的变量"
   ]
  },
  {
   "cell_type": "code",
   "execution_count": 13,
   "id": "8b9e6ab4",
   "metadata": {
    "ExecuteTime": {
     "end_time": "2022-11-20T02:08:31.783182Z",
     "start_time": "2022-11-20T02:08:18.172090Z"
    }
   },
   "outputs": [],
   "source": [
    "df_im = pd.read_csv(\"S_fea_win60_im.csv\")\n",
    "\n",
    "#缺失统计\n",
    "df_fea_stat = df_im.isnull().sum().reset_index()\n",
    "df_fea_stat.columns = [\"index\", \"na_num\"]\n",
    "df_fea_stat[\"%\"] = df_fea_stat[\"na_num\"]/df_im.shape[0]\n",
    "tmp_lst = df_fea_stat[df_fea_stat[\"%\"] <= 0.80][\"index\"].tolist()\n",
    "\n",
    "df_fea_stat.sort_values(by=\"%\",ascending=False).head(100)\n",
    "\n",
    "df_im = df_im[tmp_lst]\n",
    "df_im =df_im.drop([\"charttime\"],axis=1)\n",
    "df_im.to_csv(\"tmp_S_fea_win60_im2.csv\",index=False)"
   ]
  },
  {
   "cell_type": "markdown",
   "id": "ffe4bad9",
   "metadata": {},
   "source": [
    "### MI"
   ]
  },
  {
   "cell_type": "code",
   "execution_count": 16,
   "id": "cb679b17",
   "metadata": {
    "ExecuteTime": {
     "end_time": "2022-11-20T02:19:22.956481Z",
     "start_time": "2022-11-20T02:11:51.167537Z"
    },
    "run_control": {
     "marked": true
    }
   },
   "outputs": [
    {
     "name": "stderr",
     "output_type": "stream",
     "text": [
      "/home/hanl/miniconda3/envs/mytensor/lib/python3.9/site-packages/sklearn/impute/_iterative.py:699: ConvergenceWarning: [IterativeImputer] Early stopping criterion not reached.\n",
      "  warnings.warn(\n"
     ]
    }
   ],
   "source": [
    "df_im = pd.read_csv(\"tmp_S_fea_win60_im2.csv\")\n",
    "df_im.replace([np.inf, -np.inf], np.nan, inplace=True)\n",
    "df_bind = df_im.loc[:,[\"stay_id\", \"starttime\",\"endtime\",\"traj_id\"]]\n",
    "df_im = df_im.drop([\"stay_id\", \"starttime\",\"endtime\",\"traj_id\"],axis=1)\n",
    "\n",
    "from sklearn.experimental import enable_iterative_imputer\n",
    "from sklearn.impute import IterativeImputer\n",
    "\n",
    "iterimp = IterativeImputer(random_state = 123)\n",
    "df_im_arr = iterimp.fit_transform(df_im)\n",
    "df_im1 = pd.DataFrame(df_im_arr)\n",
    "df_im1.index = df_im.index\n",
    "df_im1.columns = df_im.columns\n",
    "#df_im1.to_csv(\"S_fea_win60_im2.csv\",index=False)"
   ]
  },
  {
   "cell_type": "markdown",
   "id": "8d49d7af",
   "metadata": {},
   "source": [
    "### 输出仅有每小时的最大，最小，中值\n"
   ]
  },
  {
   "cell_type": "code",
   "execution_count": 30,
   "id": "60b28190",
   "metadata": {
    "ExecuteTime": {
     "end_time": "2022-11-20T02:23:40.824352Z",
     "start_time": "2022-11-20T02:23:26.661487Z"
    }
   },
   "outputs": [],
   "source": [
    "df_fea_sar = pd.read_csv(\"S_fea_win60_im2.csv\")\n",
    "df_fea_sar = pd.concat([df_fea_sar,df_bind ],axis=1)\n",
    "\n",
    "# 输出仅有每小时的最大，最小，均值\n",
    "df_grouped = df_fea_sar.groupby([\"stay_id\", 'starttime', 'endtime' ,\"traj_id\"]).agg(['max', 'min', 'mean'])\n",
    "df_grouped.columns = ['_'.join(col) for col in df_grouped.columns]\n",
    "df_grouped = df_grouped.reset_index()\n",
    "#df_grouped.to_csv(\"S_fea_win60.csv\", index=False)"
   ]
  },
  {
   "cell_type": "code",
   "execution_count": null,
   "id": "f54e8d67",
   "metadata": {},
   "outputs": [],
   "source": []
  },
  {
   "cell_type": "markdown",
   "id": "c4004e34",
   "metadata": {
    "run_control": {
     "marked": true
    }
   },
   "source": [
    "# get win-size fluid, dex"
   ]
  },
  {
   "cell_type": "markdown",
   "id": "9e126b61",
   "metadata": {},
   "source": [
    "## fluid, dex data load"
   ]
  },
  {
   "cell_type": "code",
   "execution_count": 33,
   "id": "f8d97d69",
   "metadata": {
    "ExecuteTime": {
     "end_time": "2022-11-20T03:14:44.363568Z",
     "start_time": "2022-11-20T03:14:38.709988Z"
    }
   },
   "outputs": [
    {
     "data": {
      "text/html": [
       "<div>\n",
       "<style scoped>\n",
       "    .dataframe tbody tr th:only-of-type {\n",
       "        vertical-align: middle;\n",
       "    }\n",
       "\n",
       "    .dataframe tbody tr th {\n",
       "        vertical-align: top;\n",
       "    }\n",
       "\n",
       "    .dataframe thead th {\n",
       "        text-align: right;\n",
       "    }\n",
       "</style>\n",
       "<table border=\"1\" class=\"dataframe\">\n",
       "  <thead>\n",
       "    <tr style=\"text-align: right;\">\n",
       "      <th></th>\n",
       "      <th>stay_id</th>\n",
       "      <th>fluid_starttime</th>\n",
       "      <th>fluid_endtime</th>\n",
       "      <th>colloid_bolus</th>\n",
       "    </tr>\n",
       "  </thead>\n",
       "  <tbody>\n",
       "    <tr>\n",
       "      <th>0</th>\n",
       "      <td>30000213</td>\n",
       "      <td>2162-06-21 05:40:00</td>\n",
       "      <td>2162-06-21 06:06:00</td>\n",
       "      <td>3</td>\n",
       "    </tr>\n",
       "    <tr>\n",
       "      <th>1</th>\n",
       "      <td>30000213</td>\n",
       "      <td>2162-06-21 05:40:00</td>\n",
       "      <td>2162-06-21 12:07:00</td>\n",
       "      <td>6</td>\n",
       "    </tr>\n",
       "  </tbody>\n",
       "</table>\n",
       "</div>"
      ],
      "text/plain": [
       "    stay_id     fluid_starttime       fluid_endtime  colloid_bolus\n",
       "0  30000213 2162-06-21 05:40:00 2162-06-21 06:06:00              3\n",
       "1  30000213 2162-06-21 05:40:00 2162-06-21 12:07:00              6"
      ]
     },
     "execution_count": 33,
     "metadata": {},
     "output_type": "execute_result"
    }
   ],
   "source": [
    "filedir = \"/public/hanl/jupyter_dir/ir_recommend_v2/00.data/\"\n",
    "\n",
    "infile = filedir + '/ir_icu_fluid_colloid_and_crystalloid.csv'\n",
    "df_fluid = pd.read_csv(infile)\n",
    "df_fluid[\"starttime\"] = pd.to_datetime(df_fluid[\"starttime\"], format='%d/%m/%Y %H:%M:%S')\n",
    "df_fluid[\"endtime\"] = pd.to_datetime(df_fluid[\"endtime\"], format='%d/%m/%Y %H:%M:%S')\n",
    "df_fluid = df_fluid.loc[(df_fluid.loc[:, 'endtime'] - df_fluid.loc[:, 'starttime']) > datetime.timedelta(minutes=1),:]\n",
    "\n",
    "df_fluid = df_fluid.drop([\"patientweight\"],axis=1)\n",
    "df_fluid.columns = ['stay_id', 'fluid_starttime', 'fluid_endtime', 'colloid_bolus']\n",
    "df_fluid.head(2)\n"
   ]
  },
  {
   "cell_type": "code",
   "execution_count": 34,
   "id": "8c2bb217",
   "metadata": {
    "ExecuteTime": {
     "end_time": "2022-11-20T03:14:53.130412Z",
     "start_time": "2022-11-20T03:14:51.094022Z"
    }
   },
   "outputs": [
    {
     "data": {
      "text/html": [
       "<div>\n",
       "<style scoped>\n",
       "    .dataframe tbody tr th:only-of-type {\n",
       "        vertical-align: middle;\n",
       "    }\n",
       "\n",
       "    .dataframe tbody tr th {\n",
       "        vertical-align: top;\n",
       "    }\n",
       "\n",
       "    .dataframe thead th {\n",
       "        text-align: right;\n",
       "    }\n",
       "</style>\n",
       "<table border=\"1\" class=\"dataframe\">\n",
       "  <thead>\n",
       "    <tr style=\"text-align: right;\">\n",
       "      <th></th>\n",
       "      <th>stay_id</th>\n",
       "      <th>dex_starttime</th>\n",
       "      <th>dex_endtime</th>\n",
       "      <th>dex_dose</th>\n",
       "    </tr>\n",
       "  </thead>\n",
       "  <tbody>\n",
       "    <tr>\n",
       "      <th>0</th>\n",
       "      <td>31851222</td>\n",
       "      <td>2171-03-02 21:14:00</td>\n",
       "      <td>2171-03-02 21:15:00</td>\n",
       "      <td>2.5</td>\n",
       "    </tr>\n",
       "    <tr>\n",
       "      <th>1</th>\n",
       "      <td>31851222</td>\n",
       "      <td>2171-03-03 09:00:00</td>\n",
       "      <td>2171-03-03 09:01:00</td>\n",
       "      <td>10.0</td>\n",
       "    </tr>\n",
       "  </tbody>\n",
       "</table>\n",
       "</div>"
      ],
      "text/plain": [
       "    stay_id       dex_starttime         dex_endtime  dex_dose\n",
       "0  31851222 2171-03-02 21:14:00 2171-03-02 21:15:00       2.5\n",
       "1  31851222 2171-03-03 09:00:00 2171-03-03 09:01:00      10.0"
      ]
     },
     "execution_count": 34,
     "metadata": {},
     "output_type": "execute_result"
    }
   ],
   "source": [
    "filedir = \"/public/hanl/jupyter_dir/ir_recommend_v2/00.data/\"\n",
    "\n",
    "infile = filedir + '/ir_icu_glucose_infusion.csv'\n",
    "df_dex = pd.read_csv(infile)\n",
    "df_dex[\"starttime\"] = pd.to_datetime(df_dex[\"starttime\"], format='%d/%m/%Y %H:%M:%S')\n",
    "df_dex[\"endtime\"] = pd.to_datetime(df_dex[\"endtime\"], format='%d/%m/%Y %H:%M:%S')\n",
    "df_dex = df_dex.loc[:,['stay_id', 'starttime', 'endtime','dex_dose']]\n",
    "df_dex.columns = ['stay_id', 'dex_starttime', 'dex_endtime', 'dex_dose']\n",
    "df_dex.head(2)"
   ]
  },
  {
   "cell_type": "code",
   "execution_count": 36,
   "id": "e648af13",
   "metadata": {
    "ExecuteTime": {
     "end_time": "2022-11-20T03:15:48.125911Z",
     "start_time": "2022-11-20T03:15:47.657426Z"
    },
    "run_control": {
     "marked": true
    }
   },
   "outputs": [
    {
     "name": "stdout",
     "output_type": "stream",
     "text": [
      "    stay_id            starttime              endtime  amount  rate  interval  \\\n",
      "0  30001148  2156-08-30 19:15:00  2156-08-30 20:15:00     2.0   2.0      60.0   \n",
      "\n",
      "   traj_id  \n",
      "0        1  \n"
     ]
    },
    {
     "data": {
      "text/html": [
       "<div>\n",
       "<style scoped>\n",
       "    .dataframe tbody tr th:only-of-type {\n",
       "        vertical-align: middle;\n",
       "    }\n",
       "\n",
       "    .dataframe tbody tr th {\n",
       "        vertical-align: top;\n",
       "    }\n",
       "\n",
       "    .dataframe thead th {\n",
       "        text-align: right;\n",
       "    }\n",
       "</style>\n",
       "<table border=\"1\" class=\"dataframe\">\n",
       "  <thead>\n",
       "    <tr style=\"text-align: right;\">\n",
       "      <th></th>\n",
       "      <th>stay_id</th>\n",
       "      <th>starttime</th>\n",
       "      <th>endtime</th>\n",
       "      <th>amount</th>\n",
       "      <th>rate</th>\n",
       "      <th>interval</th>\n",
       "      <th>traj_id</th>\n",
       "    </tr>\n",
       "  </thead>\n",
       "  <tbody>\n",
       "    <tr>\n",
       "      <th>0</th>\n",
       "      <td>30001148</td>\n",
       "      <td>2156-08-30 19:15:00</td>\n",
       "      <td>2156-08-30 20:15:00</td>\n",
       "      <td>2.0</td>\n",
       "      <td>2.0</td>\n",
       "      <td>60.0</td>\n",
       "      <td>1</td>\n",
       "    </tr>\n",
       "    <tr>\n",
       "      <th>1</th>\n",
       "      <td>30001148</td>\n",
       "      <td>2156-08-30 20:15:00</td>\n",
       "      <td>2156-08-30 21:15:00</td>\n",
       "      <td>2.0</td>\n",
       "      <td>2.0</td>\n",
       "      <td>60.0</td>\n",
       "      <td>1</td>\n",
       "    </tr>\n",
       "  </tbody>\n",
       "</table>\n",
       "</div>"
      ],
      "text/plain": [
       "    stay_id           starttime             endtime  amount  rate  interval  \\\n",
       "0  30001148 2156-08-30 19:15:00 2156-08-30 20:15:00     2.0   2.0      60.0   \n",
       "1  30001148 2156-08-30 20:15:00 2156-08-30 21:15:00     2.0   2.0      60.0   \n",
       "\n",
       "   traj_id  \n",
       "0        1  \n",
       "1        1  "
      ]
     },
     "execution_count": 36,
     "metadata": {},
     "output_type": "execute_result"
    }
   ],
   "source": [
    "filedir = \"/public/hanl/jupyter_dir/ir_recommend_v2/01.action/\"\n",
    "infile = filedir + '/A_IR_win60.csv'\n",
    "\n",
    "df_ac_win = pd.read_csv(infile)\n",
    "print(df_ac_win.head(1))\n",
    "df_ac_win[\"starttime\"] = pd.to_datetime(df_ac_win[\"starttime\"])\n",
    "df_ac_win[\"endtime\"] = pd.to_datetime(df_ac_win[\"endtime\"])\n",
    "df_ac_win.head(2)"
   ]
  },
  {
   "cell_type": "markdown",
   "id": "6de8a41f",
   "metadata": {},
   "source": [
    "## win-size fluid"
   ]
  },
  {
   "cell_type": "code",
   "execution_count": 37,
   "id": "916e62f2",
   "metadata": {
    "ExecuteTime": {
     "end_time": "2022-11-20T03:16:14.726573Z",
     "start_time": "2022-11-20T03:15:51.406245Z"
    }
   },
   "outputs": [],
   "source": [
    "df_ac_fluid = pd.merge(df_ac_win, df_fluid, on=['stay_id'], how='inner')\n",
    "df_merge = df_ac_fluid\n",
    "\n",
    "tem = df_merge.loc[:, ['endtime', 'fluid_endtime']].min(axis=1) - df_merge.loc[:, ['starttime', 'fluid_starttime']].max(axis=1)\n",
    "tem= tem / (df_merge.loc[:, 'endtime'] - df_merge.loc[:, 'starttime'])\n",
    "\n",
    "colloid_bolus_win = tem.clip(0, tem) * df_merge.loc[:, 'colloid_bolus']\n",
    "df_merge.loc[:,'colloid_bolus_win'] = colloid_bolus_win\n",
    "\n",
    "df_merge = df_merge.drop(['fluid_starttime','fluid_endtime', 'colloid_bolus',], axis =1)\n",
    "df_ac_win_addfluid = df_merge.groupby(['stay_id', 'starttime', 'endtime', 'amount', 'rate'], as_index=False).agg(sum)"
   ]
  },
  {
   "cell_type": "markdown",
   "id": "0fb9416d",
   "metadata": {},
   "source": [
    "## win-size dex"
   ]
  },
  {
   "cell_type": "code",
   "execution_count": 39,
   "id": "d58140fd",
   "metadata": {
    "ExecuteTime": {
     "end_time": "2022-11-20T03:16:52.189104Z",
     "start_time": "2022-11-20T03:16:42.574308Z"
    }
   },
   "outputs": [],
   "source": [
    "df_ac_dex = pd.merge(df_ac_win, df_dex, on=['stay_id'], how='inner')\n",
    "df_merge = df_ac_dex\n",
    "\n",
    "tem = df_merge.loc[:, ['endtime', 'dex_endtime']].min(axis=1) - df_merge.loc[:, ['starttime', 'dex_starttime']].max(axis=1)\n",
    "tem= tem / (df_merge.loc[:, 'endtime'] - df_merge.loc[:, 'starttime'])\n",
    "\n",
    "\n",
    "dex_win = tem.clip(0, tem) * df_merge.loc[:, 'dex_dose']\n",
    "df_merge.loc[:,'dex_win'] = dex_win\n",
    "\n",
    "df_merge = df_merge.drop(['dex_starttime','dex_endtime', 'dex_dose',], axis =1)\n",
    "df_ac_win_adddex = df_merge.groupby(['stay_id', 'starttime', 'endtime', 'amount', 'rate'], as_index=False).agg(sum)\n"
   ]
  },
  {
   "cell_type": "code",
   "execution_count": null,
   "id": "3a39dca5",
   "metadata": {
    "ExecuteTime": {
     "end_time": "2022-08-26T12:20:33.993243Z",
     "start_time": "2022-08-26T12:20:33.990254Z"
    }
   },
   "outputs": [],
   "source": [
    "print(df_ac_win.shape)\n",
    "print(df_ac_win_addfluid.shape)\n",
    "print(df_ac_win_adddex.shape) # 出现行数不等的原因是，df_dex中有143个病人完全没有dex输入的记录，病人id见下面的lst：\n",
    "#lst = pd.concat([df_ac_win, df_ac_win_adddex,df_ac_win_adddex]).drop_duplicates(keep=False,subset=['stay_id', 'starttime', 'endtime', 'amount', 'rate']).stay_id.unique()"
   ]
  },
  {
   "cell_type": "code",
   "execution_count": 40,
   "id": "f4a38a8e",
   "metadata": {
    "ExecuteTime": {
     "end_time": "2022-11-20T03:17:01.349925Z",
     "start_time": "2022-11-20T03:16:56.844939Z"
    }
   },
   "outputs": [],
   "source": [
    "df_ac_win60_add = pd.merge(df_ac_win_addfluid,df_ac_win_adddex,how=\"left\", left_on=['stay_id', 'starttime', 'endtime', 'amount', 'rate',\"traj_id\"],right_on=['stay_id', 'starttime', 'endtime', 'amount', 'rate',\"traj_id\"])\n",
    "df_ac_win60_add[[\"dex_win\"]] = df_ac_win60_add[[\"dex_win\"]].fillna(value=0)\n"
   ]
  },
  {
   "cell_type": "code",
   "execution_count": 44,
   "id": "19e4da16",
   "metadata": {
    "ExecuteTime": {
     "end_time": "2022-11-20T03:18:06.867917Z",
     "start_time": "2022-11-20T03:18:06.863522Z"
    }
   },
   "outputs": [],
   "source": [
    "df_ac_win60_add =df_ac_win60_add.drop([\"amount\",\"rate\",\"interval_x\",\"interval_y\"],axis=1)\n",
    "df_ac_win60_add.to_csv(\"S_bolus_dextrose.csv\", index=False)"
   ]
  },
  {
   "cell_type": "code",
   "execution_count": 46,
   "id": "83fb7d2a",
   "metadata": {
    "ExecuteTime": {
     "end_time": "2022-11-20T03:18:35.464280Z",
     "start_time": "2022-11-20T03:18:35.453550Z"
    }
   },
   "outputs": [
    {
     "data": {
      "text/html": [
       "<div>\n",
       "<style scoped>\n",
       "    .dataframe tbody tr th:only-of-type {\n",
       "        vertical-align: middle;\n",
       "    }\n",
       "\n",
       "    .dataframe tbody tr th {\n",
       "        vertical-align: top;\n",
       "    }\n",
       "\n",
       "    .dataframe thead th {\n",
       "        text-align: right;\n",
       "    }\n",
       "</style>\n",
       "<table border=\"1\" class=\"dataframe\">\n",
       "  <thead>\n",
       "    <tr style=\"text-align: right;\">\n",
       "      <th></th>\n",
       "      <th>stay_id</th>\n",
       "      <th>starttime</th>\n",
       "      <th>endtime</th>\n",
       "      <th>traj_id</th>\n",
       "      <th>colloid_bolus_win</th>\n",
       "      <th>dex_win</th>\n",
       "    </tr>\n",
       "  </thead>\n",
       "  <tbody>\n",
       "    <tr>\n",
       "      <th>0</th>\n",
       "      <td>30001148</td>\n",
       "      <td>2156-08-30 19:15:00</td>\n",
       "      <td>2156-08-30 20:15:00</td>\n",
       "      <td>9</td>\n",
       "      <td>6.000000</td>\n",
       "      <td>0.0</td>\n",
       "    </tr>\n",
       "    <tr>\n",
       "      <th>1</th>\n",
       "      <td>30001148</td>\n",
       "      <td>2156-08-30 20:15:00</td>\n",
       "      <td>2156-08-30 21:15:00</td>\n",
       "      <td>9</td>\n",
       "      <td>256.000000</td>\n",
       "      <td>0.0</td>\n",
       "    </tr>\n",
       "    <tr>\n",
       "      <th>2</th>\n",
       "      <td>30001148</td>\n",
       "      <td>2156-08-30 21:00:00</td>\n",
       "      <td>2156-08-30 22:00:00</td>\n",
       "      <td>9</td>\n",
       "      <td>1006.000000</td>\n",
       "      <td>0.0</td>\n",
       "    </tr>\n",
       "    <tr>\n",
       "      <th>3</th>\n",
       "      <td>30002415</td>\n",
       "      <td>2126-12-17 11:59:00</td>\n",
       "      <td>2126-12-17 12:59:00</td>\n",
       "      <td>46</td>\n",
       "      <td>380.716667</td>\n",
       "      <td>0.0</td>\n",
       "    </tr>\n",
       "    <tr>\n",
       "      <th>4</th>\n",
       "      <td>30002415</td>\n",
       "      <td>2126-12-17 12:59:00</td>\n",
       "      <td>2126-12-17 13:59:00</td>\n",
       "      <td>46</td>\n",
       "      <td>332.000000</td>\n",
       "      <td>0.0</td>\n",
       "    </tr>\n",
       "    <tr>\n",
       "      <th>...</th>\n",
       "      <td>...</td>\n",
       "      <td>...</td>\n",
       "      <td>...</td>\n",
       "      <td>...</td>\n",
       "      <td>...</td>\n",
       "      <td>...</td>\n",
       "    </tr>\n",
       "    <tr>\n",
       "      <th>266126</th>\n",
       "      <td>39999552</td>\n",
       "      <td>2186-07-18 03:18:00</td>\n",
       "      <td>2186-07-18 04:18:00</td>\n",
       "      <td>431733</td>\n",
       "      <td>256.000000</td>\n",
       "      <td>0.0</td>\n",
       "    </tr>\n",
       "    <tr>\n",
       "      <th>266127</th>\n",
       "      <td>39999552</td>\n",
       "      <td>2186-07-18 04:18:00</td>\n",
       "      <td>2186-07-18 05:18:00</td>\n",
       "      <td>431733</td>\n",
       "      <td>262.133333</td>\n",
       "      <td>0.0</td>\n",
       "    </tr>\n",
       "    <tr>\n",
       "      <th>266128</th>\n",
       "      <td>39999552</td>\n",
       "      <td>2186-07-18 05:18:00</td>\n",
       "      <td>2186-07-18 06:18:00</td>\n",
       "      <td>431733</td>\n",
       "      <td>263.000000</td>\n",
       "      <td>0.0</td>\n",
       "    </tr>\n",
       "    <tr>\n",
       "      <th>266129</th>\n",
       "      <td>39999552</td>\n",
       "      <td>2186-07-18 06:18:00</td>\n",
       "      <td>2186-07-18 07:18:00</td>\n",
       "      <td>431733</td>\n",
       "      <td>384.116667</td>\n",
       "      <td>0.0</td>\n",
       "    </tr>\n",
       "    <tr>\n",
       "      <th>266130</th>\n",
       "      <td>39999552</td>\n",
       "      <td>2186-07-18 07:00:00</td>\n",
       "      <td>2186-07-18 08:00:00</td>\n",
       "      <td>431733</td>\n",
       "      <td>468.150000</td>\n",
       "      <td>0.0</td>\n",
       "    </tr>\n",
       "  </tbody>\n",
       "</table>\n",
       "<p>266131 rows × 6 columns</p>\n",
       "</div>"
      ],
      "text/plain": [
       "         stay_id           starttime             endtime  traj_id  \\\n",
       "0       30001148 2156-08-30 19:15:00 2156-08-30 20:15:00        9   \n",
       "1       30001148 2156-08-30 20:15:00 2156-08-30 21:15:00        9   \n",
       "2       30001148 2156-08-30 21:00:00 2156-08-30 22:00:00        9   \n",
       "3       30002415 2126-12-17 11:59:00 2126-12-17 12:59:00       46   \n",
       "4       30002415 2126-12-17 12:59:00 2126-12-17 13:59:00       46   \n",
       "...          ...                 ...                 ...      ...   \n",
       "266126  39999552 2186-07-18 03:18:00 2186-07-18 04:18:00   431733   \n",
       "266127  39999552 2186-07-18 04:18:00 2186-07-18 05:18:00   431733   \n",
       "266128  39999552 2186-07-18 05:18:00 2186-07-18 06:18:00   431733   \n",
       "266129  39999552 2186-07-18 06:18:00 2186-07-18 07:18:00   431733   \n",
       "266130  39999552 2186-07-18 07:00:00 2186-07-18 08:00:00   431733   \n",
       "\n",
       "        colloid_bolus_win  dex_win  \n",
       "0                6.000000      0.0  \n",
       "1              256.000000      0.0  \n",
       "2             1006.000000      0.0  \n",
       "3              380.716667      0.0  \n",
       "4              332.000000      0.0  \n",
       "...                   ...      ...  \n",
       "266126         256.000000      0.0  \n",
       "266127         262.133333      0.0  \n",
       "266128         263.000000      0.0  \n",
       "266129         384.116667      0.0  \n",
       "266130         468.150000      0.0  \n",
       "\n",
       "[266131 rows x 6 columns]"
      ]
     },
     "execution_count": 46,
     "metadata": {},
     "output_type": "execute_result"
    }
   ],
   "source": [
    "df_ac_win60_add"
   ]
  }
 ],
 "metadata": {
  "kernelspec": {
   "display_name": "Python [conda env:mytensor]",
   "language": "python",
   "name": "conda-env-mytensor-py"
  },
  "language_info": {
   "codemirror_mode": {
    "name": "ipython",
    "version": 3
   },
   "file_extension": ".py",
   "mimetype": "text/x-python",
   "name": "python",
   "nbconvert_exporter": "python",
   "pygments_lexer": "ipython3",
   "version": "3.9.12"
  },
  "toc": {
   "base_numbering": 1,
   "nav_menu": {},
   "number_sections": true,
   "sideBar": true,
   "skip_h1_title": false,
   "title_cell": "Table of Contents",
   "title_sidebar": "Contents",
   "toc_cell": false,
   "toc_position": {
    "height": "calc(100% - 180px)",
    "left": "10px",
    "top": "150px",
    "width": "226.445px"
   },
   "toc_section_display": true,
   "toc_window_display": true
  },
  "varInspector": {
   "cols": {
    "lenName": 16,
    "lenType": 16,
    "lenVar": 40
   },
   "kernels_config": {
    "python": {
     "delete_cmd_postfix": "",
     "delete_cmd_prefix": "del ",
     "library": "var_list.py",
     "varRefreshCmd": "print(var_dic_list())"
    },
    "r": {
     "delete_cmd_postfix": ") ",
     "delete_cmd_prefix": "rm(",
     "library": "var_list.r",
     "varRefreshCmd": "cat(var_dic_list()) "
    }
   },
   "types_to_exclude": [
    "module",
    "function",
    "builtin_function_or_method",
    "instance",
    "_Feature"
   ],
   "window_display": false
  }
 },
 "nbformat": 4,
 "nbformat_minor": 5
}
