{
 "cells": [
  {
   "cell_type": "code",
   "execution_count": 4,
   "id": "94b7f8a1",
   "metadata": {
    "ExecuteTime": {
     "end_time": "2022-11-22T01:56:00.799412Z",
     "start_time": "2022-11-22T01:55:58.950531Z"
    }
   },
   "outputs": [],
   "source": [
    "import pandas as pd\n",
    "pd.set_option(\"display.max_rows\", 200)\n",
    "import os\n",
    "import numpy as np\n",
    "import seaborn as sns\n",
    "import matplotlib.pyplot as plt\n",
    "import missingno as msno\n",
    "import datetime\n",
    "import os\n",
    "\n",
    "import warnings\n",
    "from pandas.core.common import SettingWithCopyWarning\n",
    "warnings.simplefilter(action=\"ignore\", category=SettingWithCopyWarning)"
   ]
  },
  {
   "cell_type": "markdown",
   "id": "1f5bb9ad",
   "metadata": {},
   "source": [
    "# data load and merge"
   ]
  },
  {
   "cell_type": "markdown",
   "id": "0a4fcb84",
   "metadata": {},
   "source": [
    "## filedir set"
   ]
  },
  {
   "cell_type": "code",
   "execution_count": 2,
   "id": "51539516",
   "metadata": {
    "ExecuteTime": {
     "end_time": "2022-11-22T01:55:48.319837Z",
     "start_time": "2022-11-22T01:55:48.317240Z"
    }
   },
   "outputs": [],
   "source": [
    "# 唯一需要更改的地方\n",
    "# dirname 指输出的目录\n",
    "dirname = \"./S_R8/\"\n",
    "st_dir = \"/public/hanl/jupyter_dir/ir_recommend_v2/02.state/S_merge.csv\"\n",
    "ac_dir = \"/public/hanl/jupyter_dir/ir_recommend_v2/01.action/\"\n",
    "r_dir = \"/public/hanl/jupyter_dir/ir_recommend_v2/03.reward/R_v8.csv\""
   ]
  },
  {
   "cell_type": "markdown",
   "id": "c59d5e9b",
   "metadata": {
    "run_control": {
     "marked": false
    }
   },
   "source": [
    "## fea"
   ]
  },
  {
   "cell_type": "code",
   "execution_count": 39,
   "id": "2d4840af",
   "metadata": {
    "ExecuteTime": {
     "end_time": "2022-11-22T04:04:39.060997Z",
     "start_time": "2022-11-22T03:17:19.411622Z"
    },
    "run_control": {
     "marked": false
    }
   },
   "outputs": [
    {
     "name": "stdout",
     "output_type": "stream",
     "text": [
      "(261756, 264)\n",
      "(261747, 264)\n",
      "(261750, 265)\n",
      "(261750, 268)\n"
     ]
    }
   ],
   "source": [
    "df_fea = pd.read_csv(st_dir)\n",
    "df_fea = df_fea.sort_values(by=[\"stay_id\", \"starttime\"])\n",
    "#df_fea[\"starttime\"] = pd.to_datetime(df_fea[\"starttime\"], format='%Y/%m/%d %H:%M:%S')\n",
    "#df_fea[\"endtime\"] = pd.to_datetime(df_fea[\"endtime\"], format='%Y/%m/%d %H:%M:%S')\n",
    "\n",
    "print(df_fea.shape)\n",
    "df_drop = df_fea[df_fea.duplicated([\"stay_id\", \"starttime\", \"endtime\"])]\n",
    "df_fea = pd.concat([df_fea, df_drop, df_drop]).drop_duplicates(keep=\"first\") \n",
    "print(df_fea.shape)\n",
    "\n",
    "df_trajid = pd.read_csv(ac_dir + \"A_IR_win60.csv\")\n",
    "df_trajid = df_trajid.loc[:,[\"stay_id\", \"starttime\", \"endtime\", \"traj_id\"]]\n",
    "df_fea = pd.merge(df_fea, df_trajid, how=\"left\", on=[\"stay_id\", \"starttime\", \"endtime\"])\n",
    "print(df_fea.shape)\n",
    "\n",
    "tmp_df = pd.DataFrame()\n",
    "for i,j in df_fea.groupby(\"traj_id\"):\n",
    "    j = j.sort_values(\"starttime\")\n",
    "    j[\"next_glucose_max\"] = j[\"glucose_max\"].shift(-1)\n",
    "    j[\"next_glucose_min\"] = j[\"glucose_min\"].shift(-1)\n",
    "    j[\"next_glucose_mean\"] = j[\"glucose_mean\"].shift(-1)\n",
    "    j = j.fillna(method=\"ffill\")\n",
    "    tmp_df = pd.concat([tmp_df, j])\n",
    "df_fea = tmp_df\n",
    "print(df_fea.shape)\n",
    "df_fea = df_fea[~df_fea[\"next_glucose_min\"].isna()] # 取出traj_id 只有一个状态的轨迹\n",
    "df_fea.to_csv(\"tmp_df_fea.csv\",index=False)\n"
   ]
  },
  {
   "cell_type": "code",
   "execution_count": 37,
   "id": "c5daa53c",
   "metadata": {
    "ExecuteTime": {
     "end_time": "2022-11-22T03:15:52.590332Z",
     "start_time": "2022-11-22T03:15:52.426171Z"
    },
    "collapsed": true,
    "run_control": {
     "marked": true
    }
   },
   "outputs": [
    {
     "data": {
      "text/html": [
       "<div>\n",
       "<style scoped>\n",
       "    .dataframe tbody tr th:only-of-type {\n",
       "        vertical-align: middle;\n",
       "    }\n",
       "\n",
       "    .dataframe tbody tr th {\n",
       "        vertical-align: top;\n",
       "    }\n",
       "\n",
       "    .dataframe thead th {\n",
       "        text-align: right;\n",
       "    }\n",
       "</style>\n",
       "<table border=\"1\" class=\"dataframe\">\n",
       "  <thead>\n",
       "    <tr style=\"text-align: right;\">\n",
       "      <th></th>\n",
       "      <th>count</th>\n",
       "    </tr>\n",
       "  </thead>\n",
       "  <tbody>\n",
       "    <tr>\n",
       "      <th>stay_id</th>\n",
       "      <td>0</td>\n",
       "    </tr>\n",
       "    <tr>\n",
       "      <th>L_v8_1</th>\n",
       "      <td>0</td>\n",
       "    </tr>\n",
       "    <tr>\n",
       "      <th>L_v9_0</th>\n",
       "      <td>0</td>\n",
       "    </tr>\n",
       "    <tr>\n",
       "      <th>L_v9_1</th>\n",
       "      <td>0</td>\n",
       "    </tr>\n",
       "    <tr>\n",
       "      <th>L_v10_0</th>\n",
       "      <td>0</td>\n",
       "    </tr>\n",
       "    <tr>\n",
       "      <th>...</th>\n",
       "      <td>...</td>\n",
       "    </tr>\n",
       "    <tr>\n",
       "      <th>OS_v7_2</th>\n",
       "      <td>0</td>\n",
       "    </tr>\n",
       "    <tr>\n",
       "      <th>OS_v8_0</th>\n",
       "      <td>0</td>\n",
       "    </tr>\n",
       "    <tr>\n",
       "      <th>OS_v8_1</th>\n",
       "      <td>0</td>\n",
       "    </tr>\n",
       "    <tr>\n",
       "      <th>OS_v3_2</th>\n",
       "      <td>0</td>\n",
       "    </tr>\n",
       "    <tr>\n",
       "      <th>next_glucose_mean</th>\n",
       "      <td>0</td>\n",
       "    </tr>\n",
       "  </tbody>\n",
       "</table>\n",
       "<p>268 rows × 1 columns</p>\n",
       "</div>"
      ],
      "text/plain": [
       "                   count\n",
       "stay_id                0\n",
       "L_v8_1                 0\n",
       "L_v9_0                 0\n",
       "L_v9_1                 0\n",
       "L_v10_0                0\n",
       "...                  ...\n",
       "OS_v7_2                0\n",
       "OS_v8_0                0\n",
       "OS_v8_1                0\n",
       "OS_v3_2                0\n",
       "next_glucose_mean      0\n",
       "\n",
       "[268 rows x 1 columns]"
      ]
     },
     "execution_count": 37,
     "metadata": {},
     "output_type": "execute_result"
    }
   ],
   "source": [
    "# stat\n",
    "tmp_df = pd.DataFrame(df_fea.isna().sum())\n",
    "tmp_df.columns = [\"count\"]\n",
    "tmp_df.sort_values(\"count\")"
   ]
  },
  {
   "cell_type": "markdown",
   "id": "4202d406",
   "metadata": {},
   "source": [
    "## reward"
   ]
  },
  {
   "cell_type": "code",
   "execution_count": null,
   "id": "68a5a327",
   "metadata": {},
   "outputs": [],
   "source": [
    "### add last rate\n",
    "df_trajid = pd.read_csv(ac_dir + \"A_IR_win60.csv\")\n",
    "df_trajid = df_trajid.loc[:,[\"stay_id\", \"starttime\", \"endtime\", \"traj_id\",\"rate\"]]\n",
    "\n",
    "tmp_df = pd.DataFrame()\n",
    "for i,j in df_trajid.groupby(\"traj_id\"):\n",
    "    j = j.sort_values(\"starttime\")\n",
    "    j[\"last_rate\"] = j[\"rate\"].shift(+1)\n",
    "    j = j.fillna(method=\"bfill\")\n",
    "    tmp_df = pd.concat([tmp_df, j])\n",
    "df_trajid = tmp_df\n",
    "#df_trajid.to_csv(\"tmp_A_IR_win60_addlast_rate.csv\",index=False)"
   ]
  },
  {
   "cell_type": "markdown",
   "id": "6ef96dc6",
   "metadata": {},
   "source": [
    "# click here"
   ]
  },
  {
   "cell_type": "code",
   "execution_count": 139,
   "id": "e0daff19",
   "metadata": {
    "ExecuteTime": {
     "end_time": "2022-11-22T08:24:18.544765Z",
     "start_time": "2022-11-22T08:24:17.227279Z"
    }
   },
   "outputs": [
    {
     "data": {
      "text/html": [
       "<div>\n",
       "<style scoped>\n",
       "    .dataframe tbody tr th:only-of-type {\n",
       "        vertical-align: middle;\n",
       "    }\n",
       "\n",
       "    .dataframe tbody tr th {\n",
       "        vertical-align: top;\n",
       "    }\n",
       "\n",
       "    .dataframe thead th {\n",
       "        text-align: right;\n",
       "    }\n",
       "</style>\n",
       "<table border=\"1\" class=\"dataframe\">\n",
       "  <thead>\n",
       "    <tr style=\"text-align: right;\">\n",
       "      <th></th>\n",
       "      <th>reward</th>\n",
       "      <th>stay_id</th>\n",
       "      <th>starttime</th>\n",
       "      <th>endtime</th>\n",
       "      <th>rate</th>\n",
       "      <th>traj_id</th>\n",
       "      <th>last_rate</th>\n",
       "    </tr>\n",
       "  </thead>\n",
       "  <tbody>\n",
       "    <tr>\n",
       "      <th>0</th>\n",
       "      <td>5.3125</td>\n",
       "      <td>30001148</td>\n",
       "      <td>2156-08-30 20:15:00</td>\n",
       "      <td>2156-08-30 21:15:00</td>\n",
       "      <td>2.0</td>\n",
       "      <td>1</td>\n",
       "      <td>2.0</td>\n",
       "    </tr>\n",
       "  </tbody>\n",
       "</table>\n",
       "</div>"
      ],
      "text/plain": [
       "   reward   stay_id            starttime              endtime  rate  traj_id  \\\n",
       "0  5.3125  30001148  2156-08-30 20:15:00  2156-08-30 21:15:00   2.0        1   \n",
       "\n",
       "   last_rate  \n",
       "0        2.0  "
      ]
     },
     "execution_count": 139,
     "metadata": {},
     "output_type": "execute_result"
    }
   ],
   "source": [
    "df_trajid = pd.read_csv(\"tmp_A_IR_win60_addlast_rate.csv\")\n",
    "\n",
    "df_ac = pd.read_csv(r_dir)\n",
    "df_ac = pd.merge(df_ac, df_trajid, how=\"left\", on=[\"stay_id\", \"starttime\", \"endtime\", \"rate\",\"traj_id\"] )\n",
    "df_ac = df_ac.sort_values([\"traj_id\", \"starttime\"])\n",
    "df_ac.head(1)"
   ]
  },
  {
   "cell_type": "markdown",
   "id": "e0810d70",
   "metadata": {},
   "source": [
    "## merge"
   ]
  },
  {
   "cell_type": "code",
   "execution_count": 143,
   "id": "8d5cd08a",
   "metadata": {
    "ExecuteTime": {
     "end_time": "2022-11-22T08:26:13.158332Z",
     "start_time": "2022-11-22T08:26:04.109862Z"
    }
   },
   "outputs": [
    {
     "name": "stdout",
     "output_type": "stream",
     "text": [
      "(261745, 268)\n",
      "(261749, 271)\n"
     ]
    }
   ],
   "source": [
    "df_fea = pd.read_csv(\"tmp_df_fea.csv\")\n",
    "print(df_fea.shape)\n",
    "# merge\n",
    "df_ac_fea = pd.merge( df_fea, df_ac, how=\"left\", on=[\"stay_id\", \"starttime\", \"endtime\", \"traj_id\"])\n",
    "df_ac_fea[\"starttime\"] = pd.to_datetime(df_ac_fea[\"starttime\"], format='%Y/%m/%d %H:%M:%S')\n",
    "df_ac_fea[\"endtime\"] = pd.to_datetime(df_ac_fea[\"endtime\"], format='%Y/%m/%d %H:%M:%S')\n",
    "df_ac_fea = df_ac_fea.drop_duplicates()\n",
    "df_ac_fea = df_ac_fea.sort_values([\"traj_id\", \"starttime\"])\n",
    "print(df_ac_fea.shape)"
   ]
  },
  {
   "cell_type": "markdown",
   "id": "73d71aca",
   "metadata": {},
   "source": [
    "# 将时间转为入ICU后的第几分钟"
   ]
  },
  {
   "cell_type": "code",
   "execution_count": 144,
   "id": "71ffe9f9",
   "metadata": {
    "ExecuteTime": {
     "end_time": "2022-11-22T08:26:17.742633Z",
     "start_time": "2022-11-22T08:26:17.683896Z"
    }
   },
   "outputs": [],
   "source": [
    "datadir = \"/public/hanl/jupyter_dir/ir_recommend_v2/00.data/\"\n",
    "file = datadir + \"icustays_pat_with_r_interval.csv\"\n",
    "df_icu = pd.read_csv(file)\n",
    "df_icu[\"intime\"] = pd.to_datetime(df_icu[\"intime\"], format='%d/%m/%Y %H:%M:%S' )\n",
    "df_icu=df_icu.loc[:,[\"stay_id\", \"intime\"]]"
   ]
  },
  {
   "cell_type": "code",
   "execution_count": 145,
   "id": "9dffce7e",
   "metadata": {
    "ExecuteTime": {
     "end_time": "2022-11-22T08:26:26.522224Z",
     "start_time": "2022-11-22T08:26:19.344667Z"
    }
   },
   "outputs": [],
   "source": [
    "tmp_df = pd.merge(df_ac_fea, df_icu, how=\"left\",on=\"stay_id\")\n",
    "tmp_df[\"starttime_m\"] = (tmp_df[\"starttime\"] - tmp_df[\"intime\"]).map(lambda x:x/np.timedelta64(1, 'm')).tolist()\n",
    "tmp_df[\"endtime_m\"] = (tmp_df[\"endtime\"] - tmp_df[\"intime\"]).map(lambda x:x/np.timedelta64(1, 'm')).tolist()\n",
    "tmp_df = tmp_df.drop([\"starttime\",\"endtime\",\"intime\"], axis=1)\n",
    "tmp_df = tmp_df.rename(columns={'starttime_m': 'starttime', \"endtime_m\":'endtime'})\n",
    "\n",
    "df_ac_fea = tmp_df\n",
    "df_ac_fea[\"starttime\"] = round(df_ac_fea[\"starttime\"],2)\n",
    "df_ac_fea[\"endtime\"] = round(df_ac_fea[\"endtime\"],2)"
   ]
  },
  {
   "cell_type": "code",
   "execution_count": 146,
   "id": "35b48a1b",
   "metadata": {
    "ExecuteTime": {
     "end_time": "2022-11-22T08:26:48.867518Z",
     "start_time": "2022-11-22T08:26:47.939226Z"
    }
   },
   "outputs": [
    {
     "name": "stdout",
     "output_type": "stream",
     "text": [
      "(261749, 272)\n",
      "(207586, 272)\n"
     ]
    }
   ],
   "source": [
    "df_ac_fea[\"idx\"] = range(len(df_ac_fea))\n",
    "df_ac_fea_raw = df_ac_fea\n",
    "print(df_ac_fea_raw.shape)\n",
    "df_ac_fea = df_ac_fea[~df_ac_fea[\"reward\"].isna()]\n",
    "print(df_ac_fea.shape)"
   ]
  },
  {
   "cell_type": "markdown",
   "id": "556b5445",
   "metadata": {},
   "source": [
    "# action bin"
   ]
  },
  {
   "cell_type": "code",
   "execution_count": 147,
   "id": "604ab212",
   "metadata": {
    "ExecuteTime": {
     "end_time": "2022-11-22T08:27:08.989701Z",
     "start_time": "2022-11-22T08:27:08.860224Z"
    }
   },
   "outputs": [
    {
     "name": "stdout",
     "output_type": "stream",
     "text": [
      "{(0, 0.25): 0, (0.25, 1.75): 1, (1.75, 2.75): 2, (2.75, 3.75): 3, (3.75, 4.75): 4, (4.75, 5.75): 5, (5.75, 6.75): 6, (6.75, 7.75): 7, (7.75, 8.75): 8, (8.75, 9.75): 9, (9.75, 10.75): 10, (10.75, 11.75): 11, (11.75, 12.75): 12, (12.75, 13.75): 13, (13.75, 16): 14}\n"
     ]
    }
   ],
   "source": [
    "cut_point = [0, 0.25,1.75, 2.75, 3.75, 4.75, 5.75, 6.75, 7.75, 8.75, 9.75, 10.75, 11.75, 12.75, 13.75, 16]\n",
    "\n",
    "max_rate = max(df_ac_fea[\"rate\"])\n",
    "\n",
    "rate_bin = {}\n",
    "tmp_rate = cut_point[0]\n",
    "cut_point = cut_point[1:]\n",
    "\n",
    "idx = 0\n",
    "while tmp_rate <= max_rate:\n",
    "    last_tmp_rate = tmp_rate\n",
    "    tmp_rate = cut_point[idx]\n",
    "    rate_bin[(last_tmp_rate, tmp_rate)] = idx\n",
    "    idx += 1\n",
    "print(rate_bin)\n",
    "\n",
    "rate_bin2 ={}\n",
    "lst = df_ac_fea[\"rate\"].unique().tolist()\n",
    "for i in lst:\n",
    "    for keys in rate_bin.keys():\n",
    "        if (i >= keys[0]) & (i<keys[1]):\n",
    "            rate_bin2[i] = rate_bin[keys]"
   ]
  },
  {
   "cell_type": "code",
   "execution_count": 148,
   "id": "ebfb81a0",
   "metadata": {
    "ExecuteTime": {
     "end_time": "2022-11-22T08:27:11.202126Z",
     "start_time": "2022-11-22T08:27:11.175193Z"
    }
   },
   "outputs": [],
   "source": [
    "df_ac_fea[\"rate_bin\"] = df_ac_fea.rate.map(rate_bin2)\n",
    "df_ac_fea.index = pd.RangeIndex(len(df_ac_fea.index))"
   ]
  },
  {
   "cell_type": "code",
   "execution_count": 137,
   "id": "9aaa9688",
   "metadata": {
    "ExecuteTime": {
     "end_time": "2022-11-22T08:17:27.992151Z",
     "start_time": "2022-11-22T08:17:27.628992Z"
    }
   },
   "outputs": [
    {
     "data": {
      "text/html": [
       "<div>\n",
       "<style scoped>\n",
       "    .dataframe tbody tr th:only-of-type {\n",
       "        vertical-align: middle;\n",
       "    }\n",
       "\n",
       "    .dataframe tbody tr th {\n",
       "        vertical-align: top;\n",
       "    }\n",
       "\n",
       "    .dataframe thead th {\n",
       "        text-align: right;\n",
       "    }\n",
       "</style>\n",
       "<table border=\"1\" class=\"dataframe\">\n",
       "  <thead>\n",
       "    <tr style=\"text-align: right;\">\n",
       "      <th></th>\n",
       "      <th>rate_bin</th>\n",
       "      <th>insulin_rate_range</th>\n",
       "      <th>count</th>\n",
       "      <th>percent</th>\n",
       "    </tr>\n",
       "  </thead>\n",
       "  <tbody>\n",
       "    <tr>\n",
       "      <th>2</th>\n",
       "      <td>2</td>\n",
       "      <td>(1.75, 2.75)</td>\n",
       "      <td>47252</td>\n",
       "      <td>0.23</td>\n",
       "    </tr>\n",
       "    <tr>\n",
       "      <th>3</th>\n",
       "      <td>3</td>\n",
       "      <td>(2.75, 3.75)</td>\n",
       "      <td>36239</td>\n",
       "      <td>0.17</td>\n",
       "    </tr>\n",
       "    <tr>\n",
       "      <th>1</th>\n",
       "      <td>1</td>\n",
       "      <td>(0.25, 1.75)</td>\n",
       "      <td>34246</td>\n",
       "      <td>0.16</td>\n",
       "    </tr>\n",
       "    <tr>\n",
       "      <th>4</th>\n",
       "      <td>4</td>\n",
       "      <td>(3.75, 4.75)</td>\n",
       "      <td>28064</td>\n",
       "      <td>0.14</td>\n",
       "    </tr>\n",
       "    <tr>\n",
       "      <th>5</th>\n",
       "      <td>5</td>\n",
       "      <td>(4.75, 5.75)</td>\n",
       "      <td>20629</td>\n",
       "      <td>0.10</td>\n",
       "    </tr>\n",
       "    <tr>\n",
       "      <th>6</th>\n",
       "      <td>6</td>\n",
       "      <td>(5.75, 6.75)</td>\n",
       "      <td>13419</td>\n",
       "      <td>0.06</td>\n",
       "    </tr>\n",
       "    <tr>\n",
       "      <th>7</th>\n",
       "      <td>7</td>\n",
       "      <td>(6.75, 7.75)</td>\n",
       "      <td>8184</td>\n",
       "      <td>0.04</td>\n",
       "    </tr>\n",
       "    <tr>\n",
       "      <th>8</th>\n",
       "      <td>8</td>\n",
       "      <td>(7.75, 8.75)</td>\n",
       "      <td>7011</td>\n",
       "      <td>0.03</td>\n",
       "    </tr>\n",
       "    <tr>\n",
       "      <th>10</th>\n",
       "      <td>10</td>\n",
       "      <td>(9.75, 10.75)</td>\n",
       "      <td>4081</td>\n",
       "      <td>0.02</td>\n",
       "    </tr>\n",
       "    <tr>\n",
       "      <th>9</th>\n",
       "      <td>9</td>\n",
       "      <td>(8.75, 9.75)</td>\n",
       "      <td>3468</td>\n",
       "      <td>0.02</td>\n",
       "    </tr>\n",
       "    <tr>\n",
       "      <th>12</th>\n",
       "      <td>12</td>\n",
       "      <td>(11.75, 12.75)</td>\n",
       "      <td>1716</td>\n",
       "      <td>0.01</td>\n",
       "    </tr>\n",
       "    <tr>\n",
       "      <th>11</th>\n",
       "      <td>11</td>\n",
       "      <td>(10.75, 11.75)</td>\n",
       "      <td>1364</td>\n",
       "      <td>0.01</td>\n",
       "    </tr>\n",
       "    <tr>\n",
       "      <th>14</th>\n",
       "      <td>14</td>\n",
       "      <td>(13.75, 16)</td>\n",
       "      <td>1112</td>\n",
       "      <td>0.01</td>\n",
       "    </tr>\n",
       "    <tr>\n",
       "      <th>13</th>\n",
       "      <td>13</td>\n",
       "      <td>(12.75, 13.75)</td>\n",
       "      <td>802</td>\n",
       "      <td>0.00</td>\n",
       "    </tr>\n",
       "    <tr>\n",
       "      <th>0</th>\n",
       "      <td>0</td>\n",
       "      <td>(0, 0.25)</td>\n",
       "      <td>1</td>\n",
       "      <td>0.00</td>\n",
       "    </tr>\n",
       "  </tbody>\n",
       "</table>\n",
       "</div>"
      ],
      "text/plain": [
       "    rate_bin insulin_rate_range  count  percent\n",
       "2          2       (1.75, 2.75)  47252     0.23\n",
       "3          3       (2.75, 3.75)  36239     0.17\n",
       "1          1       (0.25, 1.75)  34246     0.16\n",
       "4          4       (3.75, 4.75)  28064     0.14\n",
       "5          5       (4.75, 5.75)  20629     0.10\n",
       "6          6       (5.75, 6.75)  13419     0.06\n",
       "7          7       (6.75, 7.75)   8184     0.04\n",
       "8          8       (7.75, 8.75)   7011     0.03\n",
       "10        10      (9.75, 10.75)   4081     0.02\n",
       "9          9       (8.75, 9.75)   3468     0.02\n",
       "12        12     (11.75, 12.75)   1716     0.01\n",
       "11        11     (10.75, 11.75)   1364     0.01\n",
       "14        14        (13.75, 16)   1112     0.01\n",
       "13        13     (12.75, 13.75)    802     0.00\n",
       "0          0          (0, 0.25)      1     0.00"
      ]
     },
     "execution_count": 137,
     "metadata": {},
     "output_type": "execute_result"
    }
   ],
   "source": [
    "tmp_df = pd.DataFrame(columns=[\"rate_bin\", \"insulin_rate_range\", \"count\", \"percent\"])\n",
    "rate_bin_reverse = {}\n",
    "for i,j in rate_bin.items():\n",
    "    rate_bin_reverse[j] = i\n",
    "for i,j in df_ac_fea.groupby(\"rate_bin\"):\n",
    "    tmp_df.loc[len(tmp_df)] = [i,rate_bin_reverse[i], j.shape[0], round(j.shape[0]/df_ac_fea.shape[0],2)]\n",
    "tmp_df.sort_values(by=[\"count\"],ascending=False)"
   ]
  },
  {
   "cell_type": "markdown",
   "id": "d16af46b",
   "metadata": {},
   "source": [
    "# 划分数据集"
   ]
  },
  {
   "cell_type": "markdown",
   "id": "034c763a",
   "metadata": {},
   "source": [
    "##  Split data by action"
   ]
  },
  {
   "cell_type": "code",
   "execution_count": 150,
   "id": "6c5d2b8d",
   "metadata": {
    "ExecuteTime": {
     "end_time": "2022-11-22T08:28:08.315194Z",
     "start_time": "2022-11-22T08:28:08.312158Z"
    }
   },
   "outputs": [],
   "source": [
    "config = {'random_SEED': 44,  \n",
    "          'train_sample': 0.8,  # percentage (0 to 1) of patients reserved for training (remainder used for valiation)\n",
    "          'val_sample':0.2,\n",
    "          'test_sample': 0,\n",
    "         }\n",
    "config_df = pd.DataFrame(config, index=[0])"
   ]
  },
  {
   "cell_type": "code",
   "execution_count": 151,
   "id": "d262c3da",
   "metadata": {
    "ExecuteTime": {
     "end_time": "2022-11-22T08:28:10.832414Z",
     "start_time": "2022-11-22T08:28:10.294921Z"
    }
   },
   "outputs": [
    {
     "name": "stdout",
     "output_type": "stream",
     "text": [
      "(165794, 273)\n",
      "(41780, 273)\n",
      "(12, 273)\n"
     ]
    }
   ],
   "source": [
    "df_ac_fea = df_ac_fea.sort_values([\"traj_id\",\"starttime\"])\n",
    "tmp_df = df_ac_fea\n",
    "\n",
    "import random\n",
    "random.seed(config['random_SEED'])\n",
    "\n",
    "####### MIMIC data SPLIT\n",
    "# now split into train/validation/test sets\n",
    "unique_ids = tmp_df['traj_id'].unique()\n",
    "random.shuffle(unique_ids)\n",
    "train_sample = config['train_sample']\n",
    "val_sample = config['val_sample']\n",
    "\n",
    "train_num = int(len(unique_ids) * train_sample)\n",
    "val_num = int(len(unique_ids) * val_sample) + train_num\n",
    "test_num = int(len(unique_ids) * 0.1 ) #test_sample)\n",
    "\n",
    "train_ids = unique_ids[:train_num]\n",
    "val_ids = unique_ids[train_num:val_num]\n",
    "test_ids = unique_ids[val_num:]\n",
    "\n",
    "# Create datasets\n",
    "train_set = tmp_df.loc[tmp_df['traj_id'].isin(train_ids)]\n",
    "val_set = tmp_df.loc[tmp_df['traj_id'].isin(val_ids)]\n",
    "test_set = tmp_df.loc[tmp_df['traj_id'].isin(test_ids)]\n",
    "\n",
    "print(train_set.shape)\n",
    "print(val_set.shape)\n",
    "print(test_set.shape)\n",
    "\n",
    "train_set.index = pd.RangeIndex(len(train_set.index))\n",
    "val_set.index = pd.RangeIndex(len(val_set.index))\n",
    "test_set.index = pd.RangeIndex(len(test_set.index))"
   ]
  },
  {
   "cell_type": "markdown",
   "id": "4c077061",
   "metadata": {
    "run_control": {
     "marked": true
    }
   },
   "source": [
    "## Save to Pickle and csv"
   ]
  },
  {
   "cell_type": "code",
   "execution_count": 152,
   "id": "06d0b0b2",
   "metadata": {
    "ExecuteTime": {
     "end_time": "2022-11-22T08:29:27.789798Z",
     "start_time": "2022-11-22T08:28:30.487204Z"
    }
   },
   "outputs": [],
   "source": [
    "data_dir = \"/public/hanl/jupyter_dir/ir_recommend_v2/04.merge/\"\n",
    "\n",
    "if not os.path.exists(os.path.join(data_dir, dirname)):\n",
    "    os.makedirs(os.path.join(data_dir, dirname))\n",
    "    \n",
    "data_dir2 = data_dir + \"/\" +dirname + \"/\"\n",
    "\n",
    "# Save processed data to csv files\n",
    "df_ac_fea_raw.to_csv(os.path.join(data_dir2, 'all_data.csv'), index=False)\n",
    "\n",
    "train_set.to_csv(os.path.join(data_dir2, 'train_data.csv'), index=False)\n",
    "val_set.to_csv(os.path.join(data_dir2, 'val_data.csv'), index=False)\n",
    "test_set.to_csv(os.path.join(data_dir2, 'test_data.csv'), index=False)\n",
    "\n",
    "# df_ac_fea_raw 中包含了所有的状态，便于后面状态转移，\n",
    "# train_set，val_set，test_set中只包含了有Rreward的状态，有些SAR因为真实glucose的缺乏导致R没有"
   ]
  },
  {
   "cell_type": "code",
   "execution_count": null,
   "id": "c5f51d3d",
   "metadata": {},
   "outputs": [],
   "source": []
  }
 ],
 "metadata": {
  "kernelspec": {
   "display_name": "Python [conda env:AUMCdb]",
   "language": "python",
   "name": "conda-env-AUMCdb-py"
  },
  "language_info": {
   "codemirror_mode": {
    "name": "ipython",
    "version": 3
   },
   "file_extension": ".py",
   "mimetype": "text/x-python",
   "name": "python",
   "nbconvert_exporter": "python",
   "pygments_lexer": "ipython3",
   "version": "3.8.13"
  },
  "toc": {
   "base_numbering": 1,
   "nav_menu": {},
   "number_sections": true,
   "sideBar": true,
   "skip_h1_title": false,
   "title_cell": "Table of Contents",
   "title_sidebar": "Contents",
   "toc_cell": false,
   "toc_position": {
    "height": "calc(100% - 180px)",
    "left": "10px",
    "top": "150px",
    "width": "207.442px"
   },
   "toc_section_display": true,
   "toc_window_display": true
  },
  "varInspector": {
   "cols": {
    "lenName": 16,
    "lenType": 16,
    "lenVar": 40
   },
   "kernels_config": {
    "python": {
     "delete_cmd_postfix": "",
     "delete_cmd_prefix": "del ",
     "library": "var_list.py",
     "varRefreshCmd": "print(var_dic_list())"
    },
    "r": {
     "delete_cmd_postfix": ") ",
     "delete_cmd_prefix": "rm(",
     "library": "var_list.r",
     "varRefreshCmd": "cat(var_dic_list()) "
    }
   },
   "types_to_exclude": [
    "module",
    "function",
    "builtin_function_or_method",
    "instance",
    "_Feature"
   ],
   "window_display": false
  }
 },
 "nbformat": 4,
 "nbformat_minor": 5
}
