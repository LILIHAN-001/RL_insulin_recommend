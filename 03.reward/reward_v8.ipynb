{
 "cells": [
  {
   "cell_type": "code",
   "execution_count": 3,
   "id": "25701b9e",
   "metadata": {
    "ExecuteTime": {
     "end_time": "2022-11-21T02:39:44.104054Z",
     "start_time": "2022-11-21T02:39:43.031907Z"
    }
   },
   "outputs": [],
   "source": [
    "import pandas as pd\n",
    "pd.set_option(\"display.max_rows\", 200)\n",
    "pd.set_option(\"display.max_columns\", 200)\n",
    "\n",
    "import os\n",
    "import numpy as np\n",
    "import seaborn as sns\n",
    "import matplotlib.pyplot as plt\n",
    "import missingno as msno\n",
    "import datetime\n",
    "\n",
    "import warnings\n",
    "from pandas.core.common import SettingWithCopyWarning\n",
    "warnings.simplefilter(action=\"ignore\", category=SettingWithCopyWarning)"
   ]
  },
  {
   "cell_type": "markdown",
   "id": "8cc9f68c",
   "metadata": {},
   "source": [
    "# data load"
   ]
  },
  {
   "cell_type": "code",
   "execution_count": 4,
   "id": "328177df",
   "metadata": {
    "ExecuteTime": {
     "end_time": "2022-11-21T02:39:46.483322Z",
     "start_time": "2022-11-21T02:39:45.652890Z"
    },
    "run_control": {
     "marked": true
    }
   },
   "outputs": [
    {
     "name": "stdout",
     "output_type": "stream",
     "text": [
      "    stay_id           starttime             endtime  amount  rate  interval  \\\n",
      "0  30001148 2156-08-30 19:15:00 2156-08-30 20:15:00     2.0   2.0      60.0   \n",
      "1  30001148 2156-08-30 20:15:00 2156-08-30 21:15:00     2.0   2.0      60.0   \n",
      "\n",
      "   traj_id  \n",
      "0        1  \n",
      "1        1  \n",
      "    stay_id           charttime  glucose\n",
      "0  39060235 2160-05-18 10:26:00    216.0\n",
      "1  39060235 2160-05-18 11:23:00    177.0\n"
     ]
    }
   ],
   "source": [
    "filedir = \"/public/hanl/jupyter_dir/ir_recommend_v2/01.action/\"\n",
    "infile = filedir + '/A_IR_win60.csv'\n",
    "df_ac = pd.read_csv(infile)\n",
    "df_ac[\"starttime\"] = pd.to_datetime(df_ac[\"starttime\"])\n",
    "df_ac[\"endtime\"] = pd.to_datetime(df_ac[\"endtime\"])\n",
    "print(df_ac.head(2))\n",
    "\n",
    "filedir = \"/public/hanl/jupyter_dir/ir_recommend_v2/00.data/\"\n",
    "infile = filedir + '/ir_icu_glucose.csv'\n",
    "df_glu = pd.read_csv(infile)\n",
    "df_glu[\"charttime\"] = pd.to_datetime(df_glu[\"charttime\"])\n",
    "print(df_glu.head(2))"
   ]
  },
  {
   "cell_type": "markdown",
   "id": "81b8f01f",
   "metadata": {},
   "source": [
    "# 保留state时间前20分钟和后1小时的血糖记录"
   ]
  },
  {
   "cell_type": "code",
   "execution_count": 7,
   "id": "ac4f1107",
   "metadata": {
    "ExecuteTime": {
     "end_time": "2022-11-21T02:54:29.347357Z",
     "start_time": "2022-11-21T02:54:27.028574Z"
    }
   },
   "outputs": [],
   "source": [
    "df_ac_addglu = pd.merge(df_glu, df_ac, how=\"inner\",on=\"stay_id\")\n",
    "df_ac_addglu[\"bg_interval\"] = (df_ac_addglu[\"charttime\"] - df_ac_addglu[\"starttime\"]).map(lambda x:x/np.timedelta64(1, 'm')).tolist()\n",
    "df_ac_addglu = df_ac_addglu[df_ac_addglu[\"bg_interval\"] >= -20]\n",
    "df_ac_addglu[\"ed_interval\"] = (df_ac_addglu[\"charttime\"] - df_ac_addglu[\"endtime\"]).map(lambda x:x/np.timedelta64(1, 'h')).tolist()\n",
    "df_ac_addglu = df_ac_addglu[df_ac_addglu[\"ed_interval\"] <= 1]\n",
    "df_ac_addglu =df_ac_addglu.drop([\"bg_interval\",\"ed_interval\",\"interval\"],axis=1)\n",
    "\n",
    "df_ac_addglu = df_ac_addglu.sort_values([\"stay_id\",\"starttime\",\"charttime\"])\n",
    "df_ac_addglu['rank'] = range(len(df_ac_addglu))\n",
    "df_ac_addglu.to_csv(\"df_ac_addglu_b20_a60m.csv\",index=False)"
   ]
  },
  {
   "cell_type": "markdown",
   "id": "0e8ba130",
   "metadata": {},
   "source": [
    "# 字典-每个state相关的血糖 根据reward设计划分成平稳控制，快速控制"
   ]
  },
  {
   "cell_type": "code",
   "execution_count": 31,
   "id": "b6c660f7",
   "metadata": {
    "ExecuteTime": {
     "end_time": "2022-11-21T03:27:16.985667Z",
     "start_time": "2022-11-21T03:27:16.979496Z"
    }
   },
   "outputs": [],
   "source": [
    "def control_interval(id_, glu_lst, t_lst):\n",
    "    hypo_lst =[]\n",
    "    control_dict ={}\n",
    "    control_dict[id_] = {}\n",
    "    control_dict[id_][\"fast_control\"] = []\n",
    "    control_dict[id_][\"fast_control_t\"] = []\n",
    "    control_dict[id_][\"steady_control\"] = []\n",
    "    control_dict[id_][\"steady_control_t\"] = []\n",
    "\n",
    "    last_glu = glu_lst[0]\n",
    "    last_t = t_lst[0]\n",
    "    if last_glu <= 70:\n",
    "        hypo_lst.append(last_glu)\n",
    "    \n",
    "    tmp2_lst = [last_t]\n",
    "    tmp_lst = [last_glu]\n",
    "    idx = 0\n",
    "    for glu in glu_lst[1:]: # 蹦到第一个glu>180,或 第一个<180的记录，更新lst\n",
    "        idx += 1\n",
    "        tmp_lst.append(glu)\n",
    "        tmp2_lst.append(t_lst[idx])\n",
    "        \n",
    "        if glu <= 70:\n",
    "            hypo_lst.append(glu)\n",
    "        \n",
    "        if glu >= 180 and last_glu<180: # print(\"stedy\", last_glu, glu)\n",
    "            control_dict[id_][\"steady_control\"].append(tmp_lst)\n",
    "            control_dict[id_][\"steady_control_t\"].append(tmp2_lst)\n",
    "            last_glu = glu\n",
    "            tmp_lst = [last_glu]\n",
    "            \n",
    "            last_t = t_lst[idx]\n",
    "            tmp2_lst = [last_t]\n",
    "            \n",
    "        if glu < 180 and last_glu >= 180:  # print(\"fast\",last_glu, glu)   \n",
    "            control_dict[id_][\"fast_control\"].append(tmp_lst)\n",
    "            control_dict[id_][\"fast_control_t\"].append(tmp2_lst)\n",
    "            last_glu = glu\n",
    "            tmp_lst = [last_glu]\n",
    "            \n",
    "            last_t = t_lst[idx]\n",
    "            tmp2_lst = [last_t]\n",
    "            \n",
    "    if last_glu >= 180:\n",
    "        control_dict[id_][\"fast_control\"].append(tmp_lst)\n",
    "        control_dict[id_][\"fast_control_t\"].append(tmp2_lst)\n",
    "    if last_glu < 180:\n",
    "        control_dict[id_][\"steady_control\"].append(tmp_lst)\n",
    "        control_dict[id_][\"steady_control_t\"].append(tmp2_lst)\n",
    "        \n",
    "    control_dict[id_][\"hypoglycemia_control\"] = hypo_lst\n",
    "    return control_dict\n",
    "\n",
    "def merge_two_dicts(x, y):\n",
    "    \"\"\"Given two dicts, merge them into a new dict as a shallow copy.\"\"\"\n",
    "    z = x.copy()\n",
    "    z.update(y)\n",
    "    return z"
   ]
  },
  {
   "cell_type": "code",
   "execution_count": 32,
   "id": "1b2ff792",
   "metadata": {
    "ExecuteTime": {
     "end_time": "2022-11-21T03:53:22.145936Z",
     "start_time": "2022-11-21T03:27:19.331828Z"
    },
    "run_control": {
     "marked": false
    }
   },
   "outputs": [],
   "source": [
    "df_ac_addglu_60m = pd.read_csv(\"df_ac_addglu_b20_a60m.csv\")\n",
    "# reward 主要分为两部分： 1）快速控糖，包括多长时间没控制住应罚分+低血糖的罚分； 2）平稳控糖，还包括低血糖的罚分\n",
    "control_dict_merged = {}\n",
    "\n",
    "for i,j in df_ac_addglu_60m.groupby(['stay_id', 'starttime', 'endtime', 'rate', \"traj_id\"]):\n",
    "    glu_lst = j.glucose.values\n",
    "    t_lst = j.charttime.tolist()\n",
    "    id_ = j[\"rank\"].iloc[0]\n",
    "    control_dict = control_interval(id_, glu_lst, t_lst)\n",
    "    control_dict_merged = merge_two_dicts(control_dict_merged, control_dict)\n",
    "\n",
    "import pickle\n",
    "with open(\"glucose_control_dict_60m.pkl\", \"wb\") as tf: # run done\n",
    "    pickle.dump(control_dict_merged, tf)    \n",
    "# 26min"
   ]
  },
  {
   "cell_type": "markdown",
   "id": "483af76b",
   "metadata": {},
   "source": [
    "# CLICK:如果改进 reward function 从此步开始"
   ]
  },
  {
   "cell_type": "markdown",
   "id": "d5e65320",
   "metadata": {},
   "source": [
    "## 根据interval获得打分"
   ]
  },
  {
   "cell_type": "code",
   "execution_count": 33,
   "id": "a79f39bf",
   "metadata": {
    "ExecuteTime": {
     "end_time": "2022-11-21T06:53:40.110604Z",
     "start_time": "2022-11-21T06:53:37.547080Z"
    }
   },
   "outputs": [],
   "source": [
    "import pickle\n",
    "with open(\"glucose_control_dict_60m.pkl\", \"rb\") as tf:\n",
    "    control_dict_merged = pickle.load(tf)"
   ]
  },
  {
   "cell_type": "code",
   "execution_count": 40,
   "id": "0684bd58",
   "metadata": {
    "ExecuteTime": {
     "end_time": "2022-11-21T10:04:50.919119Z",
     "start_time": "2022-11-21T07:04:45.022544Z"
    }
   },
   "outputs": [],
   "source": [
    "tmp_df = pd.DataFrame(columns=[\"id_\",\"fast_control\", \"fast_score\", \"steady_control\",\"steady_score\"])\n",
    "tmp_lst = []\n",
    "\n",
    "for idx in control_dict_merged.keys():    \n",
    "    control_dict = control_dict_merged[idx]\n",
    "    if len(control_dict[\"fast_control\"]) > 0 and len(control_dict[\"fast_control\"][0]) > 1: # 如果满足该条件，看第一个异常值与第一个在正常范围的血糖的时间是否超过 规定值，否则罚分\n",
    "        r_fast_control = func_fast_control(control_dict)\n",
    "    else:\n",
    "        r_fast_control = np.nan\n",
    "        \n",
    "    if len(control_dict[\"steady_control\"]) > 0  and len(control_dict[\"steady_control\"][0]) > 1:\n",
    "        r_steady_control = func_steady_control(control_dict)\n",
    "    else:\n",
    "        r_steady_control = np.nan\n",
    "    \n",
    "    tmp_lst = [idx, control_dict_merged[idx][\"fast_control\"], r_fast_control, control_dict_merged[idx][\"steady_control\"], r_steady_control]\n",
    "    tmp_df.loc[len(tmp_df)] = tmp_lst\n",
    "#tmp_df.to_csv(\"R_decomposition_60m.csv\", index=False)\n",
    "# 3h"
   ]
  },
  {
   "cell_type": "markdown",
   "id": "0d74a929",
   "metadata": {},
   "source": [
    "## final score\n",
    "- 此时，有action数目：335249；原始action数： 342245\n",
    "- 经过check，这些损失的action都是因为在半衰期内无血糖记录，无法构建该state的reward"
   ]
  },
  {
   "cell_type": "code",
   "execution_count": 41,
   "id": "a83dac04",
   "metadata": {
    "ExecuteTime": {
     "end_time": "2022-11-21T11:43:37.829348Z",
     "start_time": "2022-11-21T11:43:37.659617Z"
    },
    "run_control": {
     "marked": true
    }
   },
   "outputs": [
    {
     "name": "stdout",
     "output_type": "stream",
     "text": [
      "(0, 6)\n"
     ]
    }
   ],
   "source": [
    "infile = \"R_decomposition_60m.csv\"\n",
    "\n",
    "df_r_decomposition = pd.read_csv(infile)\n",
    "df_r_decomposition[\"final_score\"] = 0\n",
    "\n",
    "# 这部确定每个state在定义reward时都存在至少一个葡糖记录\n",
    "print(df_r_decomposition[(df_r_decomposition[\"fast_control\"]==\"[]\") & (df_r_decomposition[\"steady_control\"]==\"[]\")].shape)"
   ]
  },
  {
   "cell_type": "code",
   "execution_count": 42,
   "id": "31ea4fe0",
   "metadata": {
    "ExecuteTime": {
     "end_time": "2022-11-21T11:43:41.772882Z",
     "start_time": "2022-11-21T11:43:41.273485Z"
    }
   },
   "outputs": [],
   "source": [
    "# df_p2 指state指代的过程既发生了平稳控糖的过程也发生了快速控糖的过程\n",
    "df_p2 = df_r_decomposition[(df_r_decomposition[\"fast_control\"].str.contains(\",\")) & (df_r_decomposition[\"steady_control\"].str.contains(\",\"))]\n",
    "\n",
    "YN_lst = []\n",
    "tmp_lst = df_p2[\"steady_control\"].tolist()\n",
    "for i in tmp_lst:\n",
    "    i = i.split(\"],\")[0].replace(\"]\",\"\")\n",
    "    i = i.replace(\"[\",\"\").split(\",\")\n",
    "    i = np.array(i)\n",
    "    i = i.astype(np.float32)\n",
    "    \n",
    "    if (i>70).all() and (i <180).all():\n",
    "        s = \"Y\"\n",
    "    if (i>=180).any():\n",
    "        s = \"N\"\n",
    "    if (i<=70).any():\n",
    "        s = \"hypo\"\n",
    "    YN_lst.append(s)\n",
    "df_p2[\"S_judge\"] = np.array(YN_lst)\n",
    "\n",
    "YN_lst = []\n",
    "tmp_lst = df_p2[\"fast_control\"].tolist()\n",
    "for i in tmp_lst:\n",
    "    i = i.split(\"],\")[0].replace(\"]\",\"\")\n",
    "    i = i.replace(\"[\",\"\").split(\",\")\n",
    "    i = np.array(i)\n",
    "    i = i.astype(np.float32)\n",
    "    if i[0] >= 180 and i[-1]<180:\n",
    "        s = \"Y\"\n",
    "    if i[0] >= 180 and i[-1]>=180:\n",
    "        s = \"N\"\n",
    "    if (i<=70).any():\n",
    "        s = \"hypo\"\n",
    "    YN_lst.append(s)\n",
    "df_p2[\"F_judge\"] = np.array(YN_lst)\n",
    "\n",
    "# 两者的判断都为Y或者N，取平均\n",
    "# 两者的判断存在一个N，reward为判断为N\n",
    "# 两者 存在湖泊， reward直接取-40\n",
    "\n",
    "df_p21 = df_p2[(df_p2[\"F_judge\"]== \"Y\") & (df_p2[\"S_judge\"]== \"Y\")]\n",
    "df_p21[\"final_score\"] = (df_p21[\"fast_score\"] + df_p21[\"steady_score\"])/2\n",
    "\n",
    "df_p22 = df_p2[(df_p2[\"F_judge\"]== \"N\") & (df_p2[\"S_judge\"]== \"N\")]\n",
    "df_p22[\"final_score\"] = (df_p22[\"fast_score\"] + df_p22[\"steady_score\"])/2\n",
    "\n",
    "df_p23 = df_p2[(df_p2[\"F_judge\"]== \"hypo\") | (df_p2[\"S_judge\"]== \"hypo\")]\n",
    "df_p23[\"final_score\"] = -40\n",
    "\n",
    "df_p24 = df_p2[(df_p2[\"F_judge\"]== \"N\") & (df_p2[\"S_judge\"]== \"Y\")]\n",
    "df_p24[\"final_score\"] = df_p24[\"fast_score\"]\n",
    "\n",
    "df_p25 = df_p2[(df_p2[\"F_judge\"]== \"Y\") & (df_p2[\"S_judge\"]== \"N\")]\n",
    "df_p25[\"final_score\"] = df_p25[\"steady_score\"]\n",
    "\n",
    "df_p2 = pd.concat([df_p21, df_p22, df_p23, df_p24, df_p25 ])\n",
    "df_p2 = df_p2.drop([\"S_judge\", \"F_judge\"], axis=1)"
   ]
  },
  {
   "cell_type": "code",
   "execution_count": 43,
   "id": "8fe746a7",
   "metadata": {
    "ExecuteTime": {
     "end_time": "2022-11-21T11:43:46.514523Z",
     "start_time": "2022-11-21T11:43:46.179821Z"
    },
    "run_control": {
     "marked": true
    }
   },
   "outputs": [
    {
     "name": "stdout",
     "output_type": "stream",
     "text": [
      "(170828, 6) (34870, 6) (5833, 6) (211531, 6)\n"
     ]
    }
   ],
   "source": [
    "# df_ps 指平稳控糖的过程，此时fast_control为“[]”， final_score  = steady_score\n",
    "df_ps1 = df_r_decomposition[(df_r_decomposition[\"fast_control\"]==\"[]\") & df_r_decomposition[\"steady_control\"].str.contains(\",\")]\n",
    "df_ps2 = df_r_decomposition[~(df_r_decomposition[\"steady_control\"].str.contains(\",\")) & ~(df_r_decomposition[\"steady_control\"] == \"[]\") & (df_r_decomposition[\"fast_control\"] == \"[]\") ]\n",
    "df_ps3 =  df_r_decomposition[~(df_r_decomposition[\"fast_control\"].str.contains(\",\")) & ~(df_r_decomposition[\"fast_control\"] == \"[]\") & (df_r_decomposition[\"steady_control\"].str.contains(\",\")) ]\n",
    "\n",
    "df_ps = pd.concat([df_ps1, df_ps2, df_ps3])\n",
    "df_ps[\"final_score\"] = df_ps[\"steady_score\"]\n",
    "df_ps.head(2)\n",
    "print(df_ps1.shape, df_ps2.shape,df_ps3.shape, df_ps.shape)"
   ]
  },
  {
   "cell_type": "code",
   "execution_count": 44,
   "id": "351bd417",
   "metadata": {
    "ExecuteTime": {
     "end_time": "2022-11-21T11:43:48.988911Z",
     "start_time": "2022-11-21T11:43:48.679776Z"
    }
   },
   "outputs": [
    {
     "name": "stdout",
     "output_type": "stream",
     "text": [
      "(24181, 6) (6050, 6) (9520, 6) (39751, 6)\n"
     ]
    }
   ],
   "source": [
    "# df_ps 指快速控糖的过程，此时fast_control为“[]”， final_score  = fast_score\n",
    "df_pf1 = df_r_decomposition[(df_r_decomposition[\"steady_control\"]==\"[]\") & df_r_decomposition[\"fast_control\"].str.contains(\",\")]\n",
    "df_pf2 = df_r_decomposition[~(df_r_decomposition[\"fast_control\"].str.contains(\",\")) & ~(df_r_decomposition[\"fast_control\"] == \"[]\") & (df_r_decomposition[\"steady_control\"] == \"[]\") ]\n",
    "df_pf3 = df_r_decomposition[~(df_r_decomposition[\"steady_control\"].str.contains(\",\")) & ~(df_r_decomposition[\"steady_control\"] == \"[]\") & (df_r_decomposition[\"fast_control\"].str.contains(\",\")) ]\n",
    "\n",
    "df_pf = pd.concat([df_pf1, df_pf2, df_pf3])\n",
    "df_pf[\"final_score\"] = df_pf[\"fast_score\"]\n",
    "df_pf.head(2)\n",
    "print(df_pf1.shape, df_pf2.shape, df_pf3.shape, df_pf.shape)"
   ]
  },
  {
   "cell_type": "code",
   "execution_count": 45,
   "id": "74bfea60",
   "metadata": {
    "ExecuteTime": {
     "end_time": "2022-11-21T11:43:51.470811Z",
     "start_time": "2022-11-21T11:43:51.468646Z"
    }
   },
   "outputs": [
    {
     "name": "stdout",
     "output_type": "stream",
     "text": [
      "(211531, 6) (39751, 6) (11039, 6)\n"
     ]
    }
   ],
   "source": [
    "print(df_ps.shape, df_pf.shape, df_p2.shape)"
   ]
  },
  {
   "cell_type": "code",
   "execution_count": 66,
   "id": "4105a311",
   "metadata": {
    "ExecuteTime": {
     "end_time": "2022-09-22T01:15:22.394054Z",
     "start_time": "2022-09-22T01:15:22.146569Z"
    }
   },
   "outputs": [
    {
     "name": "stdout",
     "output_type": "stream",
     "text": [
      "332958 332958\n"
     ]
    },
    {
     "data": {
      "text/html": [
       "<div>\n",
       "<style scoped>\n",
       "    .dataframe tbody tr th:only-of-type {\n",
       "        vertical-align: middle;\n",
       "    }\n",
       "\n",
       "    .dataframe tbody tr th {\n",
       "        vertical-align: top;\n",
       "    }\n",
       "\n",
       "    .dataframe thead th {\n",
       "        text-align: right;\n",
       "    }\n",
       "</style>\n",
       "<table border=\"1\" class=\"dataframe\">\n",
       "  <thead>\n",
       "    <tr style=\"text-align: right;\">\n",
       "      <th></th>\n",
       "      <th>id_</th>\n",
       "      <th>fast_control</th>\n",
       "      <th>fast_score</th>\n",
       "      <th>steady_control</th>\n",
       "      <th>steady_score</th>\n",
       "      <th>final_score</th>\n",
       "      <th>control_type</th>\n",
       "    </tr>\n",
       "  </thead>\n",
       "  <tbody>\n",
       "  </tbody>\n",
       "</table>\n",
       "</div>"
      ],
      "text/plain": [
       "Empty DataFrame\n",
       "Columns: [id_, fast_control, fast_score, steady_control, steady_score, final_score, control_type]\n",
       "Index: []"
      ]
     },
     "execution_count": 66,
     "metadata": {},
     "output_type": "execute_result"
    }
   ],
   "source": [
    "'''# 合并校正后的final reward\n",
    "df_ps[\"control_type\"] = \"S\"\n",
    "df_pf[\"control_type\"] = \"F\"\n",
    "df_p2[\"control_type\"] = \"B\"\n",
    "\n",
    "df_r_combined = pd.concat([df_ps, df_pf, df_p2])\n",
    "print(df_r_decomposition.shape[0], df_p2.shape[0] +df_ps.shape[0]+df_pf.shape[0])\n",
    "# check final score 按类修改后数量上是否差异\n",
    "pd.concat([df_r_decomposition, df_r_combined, df_r_combined]).drop_duplicates(keep=False, subset=['id_']) '''"
   ]
  },
  {
   "cell_type": "code",
   "execution_count": 47,
   "id": "3c9d4565",
   "metadata": {
    "ExecuteTime": {
     "end_time": "2022-11-21T11:45:36.806460Z",
     "start_time": "2022-11-21T11:45:36.784465Z"
    }
   },
   "outputs": [
    {
     "name": "stdout",
     "output_type": "stream",
     "text": [
      "262321 251282\n"
     ]
    }
   ],
   "source": [
    "# 只保留单一的快速控糖或者平稳控糖过程\n",
    "df_ps[\"control_type\"] = \"S\"\n",
    "df_pf[\"control_type\"] = \"F\"\n",
    "print(df_r_decomposition.shape[0], df_ps.shape[0]+df_pf.shape[0])\n",
    "\n",
    "df_r_combined = pd.concat([df_ps, df_pf])"
   ]
  },
  {
   "cell_type": "markdown",
   "id": "4983a7ed",
   "metadata": {},
   "source": [
    "## 生成最后的reward 文件"
   ]
  },
  {
   "cell_type": "code",
   "execution_count": 50,
   "id": "d5a01042",
   "metadata": {
    "ExecuteTime": {
     "end_time": "2022-11-21T11:49:52.182861Z",
     "start_time": "2022-11-21T11:49:50.681623Z"
    }
   },
   "outputs": [
    {
     "data": {
      "text/html": [
       "<div>\n",
       "<style scoped>\n",
       "    .dataframe tbody tr th:only-of-type {\n",
       "        vertical-align: middle;\n",
       "    }\n",
       "\n",
       "    .dataframe tbody tr th {\n",
       "        vertical-align: top;\n",
       "    }\n",
       "\n",
       "    .dataframe thead th {\n",
       "        text-align: right;\n",
       "    }\n",
       "</style>\n",
       "<table border=\"1\" class=\"dataframe\">\n",
       "  <thead>\n",
       "    <tr style=\"text-align: right;\">\n",
       "      <th></th>\n",
       "      <th>final_score</th>\n",
       "      <th>stay_id</th>\n",
       "      <th>starttime</th>\n",
       "      <th>endtime</th>\n",
       "      <th>rate</th>\n",
       "      <th>traj_id</th>\n",
       "    </tr>\n",
       "  </thead>\n",
       "  <tbody>\n",
       "  </tbody>\n",
       "</table>\n",
       "</div>"
      ],
      "text/plain": [
       "Empty DataFrame\n",
       "Columns: [final_score, stay_id, starttime, endtime, rate, traj_id]\n",
       "Index: []"
      ]
     },
     "execution_count": 50,
     "metadata": {},
     "output_type": "execute_result"
    }
   ],
   "source": [
    "df_r_combined_cut = df_r_combined.loc[:,[\"id_\", \"final_score\"]]\n",
    "df_r_combined_cut = df_r_combined_cut[~df_r_combined_cut[[\"final_score\"]].isnull().T.any()]\n",
    "\n",
    "df_ac_addglu_60m = pd.read_csv(\"df_ac_addglu_b20_a60m.csv\")\n",
    "tmp_df = df_ac_addglu_60m.loc[:,['stay_id', 'starttime', 'endtime', 'rate',\"rank\",\"traj_id\"]]\n",
    "\n",
    "df_reward = pd.merge(df_r_combined_cut,tmp_df,how=\"left\", left_on = \"id_\", right_on= \"rank\" )\n",
    "df_reward = df_reward.drop([\"id_\", \"rank\"], axis = 1)\n",
    "df_reward[df_reward.isnull().T.any()]"
   ]
  },
  {
   "cell_type": "code",
   "execution_count": 52,
   "id": "9b0a8032",
   "metadata": {
    "ExecuteTime": {
     "end_time": "2022-11-21T11:50:15.467310Z",
     "start_time": "2022-11-21T11:50:14.772008Z"
    },
    "run_control": {
     "marked": false
    }
   },
   "outputs": [],
   "source": [
    "df_reward.columns = ['reward', 'stay_id', 'starttime', 'endtime', 'rate',\"traj_id\"]\n",
    "df_reward.to_csv(\"R_v8.csv\", index= False)"
   ]
  },
  {
   "cell_type": "code",
   "execution_count": 53,
   "id": "4546d52b",
   "metadata": {
    "ExecuteTime": {
     "end_time": "2022-11-21T11:50:17.056338Z",
     "start_time": "2022-11-21T11:50:17.049863Z"
    }
   },
   "outputs": [
    {
     "data": {
      "text/html": [
       "<div>\n",
       "<style scoped>\n",
       "    .dataframe tbody tr th:only-of-type {\n",
       "        vertical-align: middle;\n",
       "    }\n",
       "\n",
       "    .dataframe tbody tr th {\n",
       "        vertical-align: top;\n",
       "    }\n",
       "\n",
       "    .dataframe thead th {\n",
       "        text-align: right;\n",
       "    }\n",
       "</style>\n",
       "<table border=\"1\" class=\"dataframe\">\n",
       "  <thead>\n",
       "    <tr style=\"text-align: right;\">\n",
       "      <th></th>\n",
       "      <th>reward</th>\n",
       "      <th>stay_id</th>\n",
       "      <th>starttime</th>\n",
       "      <th>endtime</th>\n",
       "      <th>rate</th>\n",
       "      <th>traj_id</th>\n",
       "    </tr>\n",
       "  </thead>\n",
       "  <tbody>\n",
       "    <tr>\n",
       "      <th>0</th>\n",
       "      <td>5.3125</td>\n",
       "      <td>30001148</td>\n",
       "      <td>2156-08-30 20:15:00</td>\n",
       "      <td>2156-08-30 21:15:00</td>\n",
       "      <td>2.0</td>\n",
       "      <td>1</td>\n",
       "    </tr>\n",
       "  </tbody>\n",
       "</table>\n",
       "</div>"
      ],
      "text/plain": [
       "   reward   stay_id            starttime              endtime  rate  traj_id\n",
       "0  5.3125  30001148  2156-08-30 20:15:00  2156-08-30 21:15:00   2.0        1"
      ]
     },
     "execution_count": 53,
     "metadata": {},
     "output_type": "execute_result"
    }
   ],
   "source": [
    "df_reward.head(1)"
   ]
  },
  {
   "cell_type": "code",
   "execution_count": 17,
   "id": "8d3bd6b8",
   "metadata": {},
   "outputs": [
    {
     "name": "stdout",
     "output_type": "stream",
     "text": [
      "(261160, 6)\n"
     ]
    },
    {
     "data": {
      "text/html": [
       "<div>\n",
       "<style scoped>\n",
       "    .dataframe tbody tr th:only-of-type {\n",
       "        vertical-align: middle;\n",
       "    }\n",
       "\n",
       "    .dataframe tbody tr th {\n",
       "        vertical-align: top;\n",
       "    }\n",
       "\n",
       "    .dataframe thead th {\n",
       "        text-align: right;\n",
       "    }\n",
       "</style>\n",
       "<table border=\"1\" class=\"dataframe\">\n",
       "  <thead>\n",
       "    <tr style=\"text-align: right;\">\n",
       "      <th></th>\n",
       "      <th>reward</th>\n",
       "      <th>stay_id</th>\n",
       "      <th>starttime</th>\n",
       "      <th>endtime</th>\n",
       "      <th>rate</th>\n",
       "      <th>traj_id</th>\n",
       "    </tr>\n",
       "  </thead>\n",
       "  <tbody>\n",
       "    <tr>\n",
       "      <th>0</th>\n",
       "      <td>14.625</td>\n",
       "      <td>30000213</td>\n",
       "      <td>2162-06-21 05:40:00</td>\n",
       "      <td>2162-06-21 06:06:00</td>\n",
       "      <td>8.0</td>\n",
       "      <td>0</td>\n",
       "    </tr>\n",
       "  </tbody>\n",
       "</table>\n",
       "</div>"
      ],
      "text/plain": [
       "   reward   stay_id            starttime              endtime  rate  traj_id\n",
       "0  14.625  30000213  2162-06-21 05:40:00  2162-06-21 06:06:00   8.0        0"
      ]
     },
     "execution_count": 17,
     "metadata": {},
     "output_type": "execute_result"
    }
   ],
   "source": [
    "##################\n",
    "df_reward = pd.read_csv(\"R_v8.csv\")\n",
    "print(df_reward.shape)\n",
    "df_reward.head(1)"
   ]
  },
  {
   "cell_type": "markdown",
   "id": "cfca83bd",
   "metadata": {},
   "source": [
    "## 生成最后的校正后的reward组成文件"
   ]
  },
  {
   "cell_type": "code",
   "execution_count": 59,
   "id": "5696ea24",
   "metadata": {
    "ExecuteTime": {
     "end_time": "2022-11-21T11:52:35.551924Z",
     "start_time": "2022-11-21T11:52:35.545211Z"
    },
    "run_control": {
     "marked": true
    }
   },
   "outputs": [
    {
     "data": {
      "text/html": [
       "<div>\n",
       "<style scoped>\n",
       "    .dataframe tbody tr th:only-of-type {\n",
       "        vertical-align: middle;\n",
       "    }\n",
       "\n",
       "    .dataframe tbody tr th {\n",
       "        vertical-align: top;\n",
       "    }\n",
       "\n",
       "    .dataframe thead th {\n",
       "        text-align: right;\n",
       "    }\n",
       "</style>\n",
       "<table border=\"1\" class=\"dataframe\">\n",
       "  <thead>\n",
       "    <tr style=\"text-align: right;\">\n",
       "      <th></th>\n",
       "      <th>id_</th>\n",
       "      <th>fast_control</th>\n",
       "      <th>fast_score</th>\n",
       "      <th>steady_control</th>\n",
       "      <th>steady_score</th>\n",
       "      <th>final_score</th>\n",
       "      <th>control_type</th>\n",
       "    </tr>\n",
       "  </thead>\n",
       "  <tbody>\n",
       "    <tr>\n",
       "      <th>1</th>\n",
       "      <td>1</td>\n",
       "      <td>[]</td>\n",
       "      <td>NaN</td>\n",
       "      <td>[[109.0, 86.0]]</td>\n",
       "      <td>5.3125</td>\n",
       "      <td>5.3125</td>\n",
       "      <td>S</td>\n",
       "    </tr>\n",
       "  </tbody>\n",
       "</table>\n",
       "</div>"
      ],
      "text/plain": [
       "   id_ fast_control  fast_score   steady_control  steady_score  final_score  \\\n",
       "1    1           []         NaN  [[109.0, 86.0]]        5.3125       5.3125   \n",
       "\n",
       "  control_type  \n",
       "1            S  "
      ]
     },
     "execution_count": 59,
     "metadata": {},
     "output_type": "execute_result"
    }
   ],
   "source": [
    "df_r_combined.head(1)"
   ]
  },
  {
   "cell_type": "code",
   "execution_count": 60,
   "id": "ee4b6e84",
   "metadata": {
    "ExecuteTime": {
     "end_time": "2022-11-21T11:52:42.961072Z",
     "start_time": "2022-11-21T11:52:42.955032Z"
    }
   },
   "outputs": [
    {
     "data": {
      "text/html": [
       "<div>\n",
       "<style scoped>\n",
       "    .dataframe tbody tr th:only-of-type {\n",
       "        vertical-align: middle;\n",
       "    }\n",
       "\n",
       "    .dataframe tbody tr th {\n",
       "        vertical-align: top;\n",
       "    }\n",
       "\n",
       "    .dataframe thead th {\n",
       "        text-align: right;\n",
       "    }\n",
       "</style>\n",
       "<table border=\"1\" class=\"dataframe\">\n",
       "  <thead>\n",
       "    <tr style=\"text-align: right;\">\n",
       "      <th></th>\n",
       "      <th>id_</th>\n",
       "      <th>fast_control</th>\n",
       "      <th>fast_score</th>\n",
       "      <th>steady_control</th>\n",
       "      <th>steady_score</th>\n",
       "      <th>final_score</th>\n",
       "    </tr>\n",
       "  </thead>\n",
       "  <tbody>\n",
       "    <tr>\n",
       "      <th>1</th>\n",
       "      <td>1</td>\n",
       "      <td>[]</td>\n",
       "      <td>NaN</td>\n",
       "      <td>[[109.0, 86.0]]</td>\n",
       "      <td>5.3125</td>\n",
       "      <td>5.3125</td>\n",
       "    </tr>\n",
       "  </tbody>\n",
       "</table>\n",
       "</div>"
      ],
      "text/plain": [
       "   id_ fast_control  fast_score   steady_control  steady_score  final_score\n",
       "1    1           []         NaN  [[109.0, 86.0]]        5.3125       5.3125"
      ]
     },
     "execution_count": 60,
     "metadata": {},
     "output_type": "execute_result"
    }
   ],
   "source": [
    "tmp_df = df_r_combined.drop([\"control_type\"],axis =1)\n",
    "tmp_df.to_csv(\"R_decomposition_60m_addR.csv\", index=False)\n",
    "tmp_df.head(1)"
   ]
  },
  {
   "cell_type": "markdown",
   "id": "73795090",
   "metadata": {},
   "source": [
    "## 生成包含组成的reward 文件"
   ]
  },
  {
   "cell_type": "code",
   "execution_count": 85,
   "id": "103386d9",
   "metadata": {
    "ExecuteTime": {
     "end_time": "2022-11-22T01:42:59.664010Z",
     "start_time": "2022-11-22T01:42:59.304874Z"
    }
   },
   "outputs": [
    {
     "data": {
      "text/html": [
       "<div>\n",
       "<style scoped>\n",
       "    .dataframe tbody tr th:only-of-type {\n",
       "        vertical-align: middle;\n",
       "    }\n",
       "\n",
       "    .dataframe tbody tr th {\n",
       "        vertical-align: top;\n",
       "    }\n",
       "\n",
       "    .dataframe thead th {\n",
       "        text-align: right;\n",
       "    }\n",
       "</style>\n",
       "<table border=\"1\" class=\"dataframe\">\n",
       "  <thead>\n",
       "    <tr style=\"text-align: right;\">\n",
       "      <th></th>\n",
       "      <th>id_</th>\n",
       "      <th>fast_control</th>\n",
       "      <th>fast_score</th>\n",
       "      <th>steady_control</th>\n",
       "      <th>steady_score</th>\n",
       "      <th>final_score</th>\n",
       "      <th>control_type</th>\n",
       "      <th>steady_type</th>\n",
       "      <th>fast_type</th>\n",
       "    </tr>\n",
       "  </thead>\n",
       "  <tbody>\n",
       "    <tr>\n",
       "      <th>0</th>\n",
       "      <td>1</td>\n",
       "      <td>[]</td>\n",
       "      <td>NaN</td>\n",
       "      <td>[[109.0, 86.0]]</td>\n",
       "      <td>5.3125</td>\n",
       "      <td>5.3125</td>\n",
       "      <td>S</td>\n",
       "      <td>TT</td>\n",
       "      <td>NaN</td>\n",
       "    </tr>\n",
       "    <tr>\n",
       "      <th>1</th>\n",
       "      <td>3</td>\n",
       "      <td>[]</td>\n",
       "      <td>NaN</td>\n",
       "      <td>[[86.0, 104.0]]</td>\n",
       "      <td>4.3750</td>\n",
       "      <td>4.3750</td>\n",
       "      <td>S</td>\n",
       "      <td>TT</td>\n",
       "      <td>NaN</td>\n",
       "    </tr>\n",
       "  </tbody>\n",
       "</table>\n",
       "</div>"
      ],
      "text/plain": [
       "   id_ fast_control  fast_score   steady_control  steady_score  final_score  \\\n",
       "0    1           []         NaN  [[109.0, 86.0]]        5.3125       5.3125   \n",
       "1    3           []         NaN  [[86.0, 104.0]]        4.3750       4.3750   \n",
       "\n",
       "  control_type steady_type fast_type  \n",
       "0            S          TT       NaN  \n",
       "1            S          TT       NaN  "
      ]
     },
     "execution_count": 85,
     "metadata": {},
     "output_type": "execute_result"
    }
   ],
   "source": [
    "df_r_combined_add = pd.merge(df_r_combined, df_sc_stat, how=\"left\", on = ['id_', 'steady_control', 'steady_score'])\n",
    "df_r_combined_add = pd.merge(df_r_combined_add, df_fc_stat, how=\"left\", on = ['id_', 'fast_control', 'fast_score'])\n",
    "df_r_combined_add.loc[(df_r_combined_add[\"control_type\"]==\"S\"), \"fast_type\"] = np.nan\n",
    "df_r_combined_add.loc[(df_r_combined_add[\"control_type\"]==\"F\"), \"steady_type\"] = np.nan\n",
    "df_r_combined_add.head(2)"
   ]
  },
  {
   "cell_type": "code",
   "execution_count": 86,
   "id": "c4ced19d",
   "metadata": {
    "ExecuteTime": {
     "end_time": "2022-11-22T01:43:21.471517Z",
     "start_time": "2022-11-22T01:43:20.710361Z"
    }
   },
   "outputs": [
    {
     "data": {
      "text/html": [
       "<div>\n",
       "<style scoped>\n",
       "    .dataframe tbody tr th:only-of-type {\n",
       "        vertical-align: middle;\n",
       "    }\n",
       "\n",
       "    .dataframe tbody tr th {\n",
       "        vertical-align: top;\n",
       "    }\n",
       "\n",
       "    .dataframe thead th {\n",
       "        text-align: right;\n",
       "    }\n",
       "</style>\n",
       "<table border=\"1\" class=\"dataframe\">\n",
       "  <thead>\n",
       "    <tr style=\"text-align: right;\">\n",
       "      <th></th>\n",
       "      <th>stay_id</th>\n",
       "      <th>starttime</th>\n",
       "      <th>endtime</th>\n",
       "      <th>rate</th>\n",
       "      <th>rank</th>\n",
       "      <th>traj_id</th>\n",
       "    </tr>\n",
       "  </thead>\n",
       "  <tbody>\n",
       "    <tr>\n",
       "      <th>0</th>\n",
       "      <td>30001148</td>\n",
       "      <td>2156-08-30 19:15:00</td>\n",
       "      <td>2156-08-30 20:15:00</td>\n",
       "      <td>2.0</td>\n",
       "      <td>0</td>\n",
       "      <td>1</td>\n",
       "    </tr>\n",
       "    <tr>\n",
       "      <th>1</th>\n",
       "      <td>30001148</td>\n",
       "      <td>2156-08-30 20:15:00</td>\n",
       "      <td>2156-08-30 21:15:00</td>\n",
       "      <td>2.0</td>\n",
       "      <td>1</td>\n",
       "      <td>1</td>\n",
       "    </tr>\n",
       "  </tbody>\n",
       "</table>\n",
       "</div>"
      ],
      "text/plain": [
       "    stay_id            starttime              endtime  rate  rank  traj_id\n",
       "0  30001148  2156-08-30 19:15:00  2156-08-30 20:15:00   2.0     0        1\n",
       "1  30001148  2156-08-30 20:15:00  2156-08-30 21:15:00   2.0     1        1"
      ]
     },
     "execution_count": 86,
     "metadata": {},
     "output_type": "execute_result"
    }
   ],
   "source": [
    "df_ac_addglu_60m = pd.read_csv(\"df_ac_addglu_b20_a60m.csv\")\n",
    "tmp_df = df_ac_addglu_60m.loc[:,['stay_id', 'starttime', 'endtime', 'rate',\"rank\", \"traj_id\"]]\n",
    "tmp_df.head(2)"
   ]
  },
  {
   "cell_type": "code",
   "execution_count": 87,
   "id": "bef40396",
   "metadata": {
    "ExecuteTime": {
     "end_time": "2022-11-22T01:43:27.499108Z",
     "start_time": "2022-11-22T01:43:26.089355Z"
    }
   },
   "outputs": [],
   "source": [
    "df_reward2 = pd.merge(df_r_combined_add, tmp_df,how=\"left\", left_on = \"id_\", right_on= \"rank\" )\n",
    "df_reward2 = df_reward2.loc[:,[ 'stay_id', 'traj_id', 'starttime', 'endtime',  'rate', 'fast_control', 'fast_score', 'steady_control', 'steady_score',\n",
    "       'final_score', 'steady_type', 'fast_type',\"control_type\"]]\n",
    "df_reward2 = df_reward2.rename(columns={'final_score':'reward'})\n",
    "df_reward2.to_csv(\"R_decomposition_60m_add.csv\", index=False)"
   ]
  },
  {
   "cell_type": "code",
   "execution_count": 88,
   "id": "0afcafa7",
   "metadata": {
    "ExecuteTime": {
     "end_time": "2022-11-22T01:43:29.351815Z",
     "start_time": "2022-11-22T01:43:29.349147Z"
    }
   },
   "outputs": [
    {
     "data": {
      "text/plain": [
       "(251282, 13)"
      ]
     },
     "execution_count": 88,
     "metadata": {},
     "output_type": "execute_result"
    }
   ],
   "source": [
    "df_reward2.shape"
   ]
  },
  {
   "cell_type": "markdown",
   "id": "97e93018",
   "metadata": {},
   "source": [
    "# 统计"
   ]
  },
  {
   "cell_type": "markdown",
   "id": "13a8e7cd",
   "metadata": {
    "run_control": {
     "marked": true
    }
   },
   "source": [
    "## steady control 统计"
   ]
  },
  {
   "cell_type": "code",
   "execution_count": 67,
   "id": "1dc63996",
   "metadata": {
    "ExecuteTime": {
     "end_time": "2022-11-21T12:08:55.307408Z",
     "start_time": "2022-11-21T12:08:55.155055Z"
    }
   },
   "outputs": [],
   "source": [
    "df_r_decomposition_30m = pd.read_csv(\"R_decomposition_60m_addR.csv\")\n",
    "df_s = df_r_decomposition_30m.loc[:,[\"id_\", \"steady_control\", \"steady_score\"]]"
   ]
  },
  {
   "cell_type": "code",
   "execution_count": 68,
   "id": "5a3e2368",
   "metadata": {
    "ExecuteTime": {
     "end_time": "2022-11-21T13:28:02.163138Z",
     "start_time": "2022-11-21T12:08:57.297730Z"
    },
    "run_control": {
     "marked": true
    }
   },
   "outputs": [],
   "source": [
    "tmp_df = pd.DataFrame(columns=[\"id_\", \"steady_control\", \"steady_score\", \"steady_type\"])\n",
    "for row in df_s.itertuples():\n",
    "    tmp_str = row.steady_control.replace(\"[\", \"\")\n",
    "    tmp_str = tmp_str.replace(\"]\", \"\")\n",
    "    tmp_str = tmp_str.replace(\" \", \"\")\n",
    "    if len(tmp_str) > 0:\n",
    "        lst = np.array(tmp_str.split(\",\"))\n",
    "        lst  =lst.astype(np.float32)\n",
    "\n",
    "        if (lst > 70).all() and (lst < 180).all(): # 全部在正常范围内\n",
    "            Type = \"TT\"\n",
    "        if (lst >= 110).any() and (lst <= 140).any(): # 部分在理想范围内\n",
    "            Type = \"TD\"\n",
    "        if (lst >= 180).any():\n",
    "            Type = \"TH\"\n",
    "        if (lst <= 70).any():\n",
    "            Type = \"TL\"\n",
    "    out_lst = [row.id_, row.steady_control, row.steady_score, Type]\n",
    "    tmp_df.loc[len(tmp_df)] = out_lst\n",
    "#tmp_df.to_csv(\"steady_control_stat_60m.csv\",index=False)\n",
    "# 1.19h"
   ]
  },
  {
   "cell_type": "code",
   "execution_count": 69,
   "id": "1ca754f3",
   "metadata": {
    "ExecuteTime": {
     "end_time": "2022-11-22T01:38:51.345310Z",
     "start_time": "2022-11-22T01:38:51.184943Z"
    }
   },
   "outputs": [
    {
     "name": "stdout",
     "output_type": "stream",
     "text": [
      "---------------\n",
      "TD   140228\n",
      "---------------\n",
      "TH   5755\n",
      "---------------\n",
      "TL   4570\n",
      "---------------\n",
      "TT   70498\n"
     ]
    }
   ],
   "source": [
    "df_sc_stat = pd.read_csv(\"steady_control_stat_60m.csv\")\n",
    "df_sc_stat = df_sc_stat[df_sc_stat[\"steady_control\"]!=\"[]\"]\n",
    "df_sc_stat.head(2)\n",
    "\n",
    "# 统计\n",
    "df_sc_stat_merged = df_sc_stat.groupby(\"steady_type\")\n",
    "for i, j in df_sc_stat_merged:\n",
    "    print(\"---------------\")\n",
    "    print(i, \" \", j.shape[0])"
   ]
  },
  {
   "cell_type": "code",
   "execution_count": 80,
   "id": "27a66794",
   "metadata": {
    "ExecuteTime": {
     "end_time": "2022-11-22T01:41:10.096441Z",
     "start_time": "2022-11-22T01:41:09.990868Z"
    },
    "collapsed": true
   },
   "outputs": [
    {
     "name": "stdout",
     "output_type": "stream",
     "text": [
      "count    42978.000000\n",
      "mean         5.963543\n",
      "std          4.744025\n",
      "min         -9.250000\n",
      "25%          3.437500\n",
      "50%          5.875000\n",
      "75%          8.375000\n",
      "max         19.250000\n",
      "Name: steady_score, dtype: float64 \n",
      " count    123758.000000\n",
      "mean         15.787516\n",
      "std           3.927087\n",
      "min          -7.500000\n",
      "25%          13.000000\n",
      "50%          16.041667\n",
      "75%          20.000000\n",
      "max          20.000000\n",
      "Name: steady_score, dtype: float64 \n",
      " count    4170.000000\n",
      "mean      -25.321289\n",
      "std        10.128099\n",
      "min       -40.000000\n",
      "25%       -34.125000\n",
      "50%       -25.984375\n",
      "75%       -20.000000\n",
      "max         6.208333\n",
      "Name: steady_score, dtype: float64 \n",
      " count    5755.000000\n",
      "mean       -9.424544\n",
      "std         6.647598\n",
      "min       -35.250000\n",
      "25%       -14.062500\n",
      "50%       -10.796296\n",
      "75%        -4.288194\n",
      "max        11.820988\n",
      "Name: steady_score, dtype: float64\n"
     ]
    }
   ],
   "source": [
    "TT = df_sc_stat[df_sc_stat[\"steady_type\"] == \"TT\"][\"steady_score\"]\n",
    "TD = df_sc_stat[df_sc_stat[\"steady_type\"] == \"TD\"][\"steady_score\"]\n",
    "TL = df_sc_stat[df_sc_stat[\"steady_type\"] == \"TL\"][\"steady_score\"]\n",
    "TH = df_sc_stat[df_sc_stat[\"steady_type\"] == \"TH\"][\"steady_score\"]\n",
    "\n",
    "print(TT.describe(),\"\\n\",TD.describe(),\"\\n\", TL.describe(), \"\\n\",TH.describe())\n",
    "\n",
    "import math\n",
    "TT = [x for x in TT if math.isnan(x) == False]\n",
    "TD = [x for x in TD if math.isnan(x) == False]\n",
    "TL = [x for x in TL if math.isnan(x) == False]\n",
    "TH = [x for x in TH if math.isnan(x) == False]"
   ]
  },
  {
   "cell_type": "code",
   "execution_count": 78,
   "id": "d8b8a1e1",
   "metadata": {
    "ExecuteTime": {
     "end_time": "2022-11-22T01:40:53.769296Z",
     "start_time": "2022-11-22T01:40:53.627198Z"
    }
   },
   "outputs": [
    {
     "data": {
      "image/png": "[encoded data removed]",
      "text/plain": [
       "<Figure size 1000x500 with 1 Axes>"
      ]
     },
     "metadata": {},
     "output_type": "display_data"
    }
   ],
   "source": [
    "import pandas as pd\n",
    "import matplotlib.pyplot as plt\n",
    " \n",
    "box_1, box_2, box_3, box_4  = TT, TD, TL, TH\n",
    " \n",
    "plt.figure(figsize=(10,5)) # 设置画布的尺寸\n",
    "plt.title(\"score distribution\",fontsize=20) # 标题，并设定字号大小\n",
    "labels = \"TT\", \"TD\", \"TL\", \"TH\"#图例\n",
    "plt.boxplot([box_1, box_2, box_3, box_4], labels = labels)# grid=False：代表不显示背景中的网格线\n",
    "plt.show() # 显示图像"
   ]
  },
  {
   "cell_type": "markdown",
   "id": "d5980cc9",
   "metadata": {
    "ExecuteTime": {
     "end_time": "2022-07-29T07:51:40.698755Z",
     "start_time": "2022-07-29T07:51:40.696905Z"
    }
   },
   "source": [
    "## fast control 统计"
   ]
  },
  {
   "cell_type": "code",
   "execution_count": 81,
   "id": "b56e3494",
   "metadata": {
    "ExecuteTime": {
     "end_time": "2022-11-22T01:41:24.723083Z",
     "start_time": "2022-11-22T01:41:24.558746Z"
    },
    "run_control": {
     "marked": true
    }
   },
   "outputs": [
    {
     "data": {
      "text/html": [
       "<div>\n",
       "<style scoped>\n",
       "    .dataframe tbody tr th:only-of-type {\n",
       "        vertical-align: middle;\n",
       "    }\n",
       "\n",
       "    .dataframe tbody tr th {\n",
       "        vertical-align: top;\n",
       "    }\n",
       "\n",
       "    .dataframe thead th {\n",
       "        text-align: right;\n",
       "    }\n",
       "</style>\n",
       "<table border=\"1\" class=\"dataframe\">\n",
       "  <thead>\n",
       "    <tr style=\"text-align: right;\">\n",
       "      <th></th>\n",
       "      <th>id_</th>\n",
       "      <th>fast_control</th>\n",
       "      <th>fast_score</th>\n",
       "    </tr>\n",
       "  </thead>\n",
       "  <tbody>\n",
       "    <tr>\n",
       "      <th>205698</th>\n",
       "      <td>335</td>\n",
       "      <td>[[205.0]]</td>\n",
       "      <td>NaN</td>\n",
       "    </tr>\n",
       "    <tr>\n",
       "      <th>205699</th>\n",
       "      <td>338</td>\n",
       "      <td>[[205.0]]</td>\n",
       "      <td>NaN</td>\n",
       "    </tr>\n",
       "  </tbody>\n",
       "</table>\n",
       "</div>"
      ],
      "text/plain": [
       "        id_ fast_control  fast_score\n",
       "205698  335    [[205.0]]         NaN\n",
       "205699  338    [[205.0]]         NaN"
      ]
     },
     "execution_count": 81,
     "metadata": {},
     "output_type": "execute_result"
    }
   ],
   "source": [
    "df_r_decomposition = pd.read_csv(\"R_decomposition_60m_addR.csv\")\n",
    "df_f = df_r_decomposition.loc[:,[\"id_\", 'fast_control', 'fast_score']]\n",
    "df_f = df_f[df_f[\"fast_control\"]!=\"[]\"]\n",
    "df_f.head(2)"
   ]
  },
  {
   "cell_type": "code",
   "execution_count": 63,
   "id": "bc839f47",
   "metadata": {
    "ExecuteTime": {
     "end_time": "2022-11-21T11:59:22.493235Z",
     "start_time": "2022-11-21T11:56:00.035194Z"
    },
    "run_control": {
     "marked": true
    }
   },
   "outputs": [],
   "source": [
    "tmp_df = pd.DataFrame(columns=[\"id_\", \"fast_control\", \"fast_score\", \"fast_type\"])\n",
    "for row in df_f.itertuples():\n",
    "    tmp_str = row.fast_control.replace(\"[\", \"\")\n",
    "    tmp_str = tmp_str.replace(\"]\", \"\")\n",
    "    tmp_str = tmp_str.replace(\" \", \"\")\n",
    "    if len(tmp_str) > 0:\n",
    "        lst = np.array(tmp_str.split(\",\"))\n",
    "        lst  =lst.astype(np.float32)\n",
    "        G1 = lst[0]\n",
    "        GN = lst[-1]\n",
    "       # print(G1,GN)\n",
    "        if GN < G1 and GN >= 180: # 降了血糖但降糖后 还是大于180\n",
    "            Type = \"HH\"\n",
    "        if GN >= G1: # GN,G1 都大于180\n",
    "            Type = \"HMH\"\n",
    "        if GN < G1 and GN < 180 and GN >= 70: # 降血糖到正常范围\n",
    "            Type = \"HT\"\n",
    "        if GN < G1 and (lst<70).any(): # 降血糖到低血糖范围\n",
    "            Type = \"HL\"\n",
    "            \n",
    "    out_lst = [row.id_, row.fast_control, row.fast_score, Type]\n",
    "    tmp_df.loc[len(tmp_df)] = out_lst\n",
    "#tmp_df.to_csv(\"fast_control_stat_60m.csv\",index=False)"
   ]
  },
  {
   "cell_type": "code",
   "execution_count": 82,
   "id": "df7a55e9",
   "metadata": {
    "ExecuteTime": {
     "end_time": "2022-11-22T01:41:28.227356Z",
     "start_time": "2022-11-22T01:41:28.190031Z"
    },
    "collapsed": true
   },
   "outputs": [
    {
     "name": "stdout",
     "output_type": "stream",
     "text": [
      "   id_ fast_control  fast_score fast_type\n",
      "0  335    [[205.0]]         NaN       HMH\n",
      "1  338    [[205.0]]         NaN       HMH\n",
      "2  382    [[190.0]]         NaN       HMH\n",
      "3  413    [[185.0]]         NaN       HMH\n",
      "---------------\n",
      "HH   8254\n",
      "---------------\n",
      "HL   20\n",
      "---------------\n",
      "HMH   20242\n",
      "---------------\n",
      "HT   5594\n"
     ]
    }
   ],
   "source": [
    "df_fc_stat = pd.read_csv(\"fast_control_stat_60m.csv\")\n",
    "df_fc_stat = df_fc_stat[df_fc_stat[\"fast_score\"]!=0.000000]\n",
    "print(df_fc_stat.head(4))\n",
    "\n",
    "# 统计\n",
    "df_fc_stat_merged = df_fc_stat.groupby(\"fast_type\")\n",
    "for i, j in df_fc_stat_merged:\n",
    "    print(\"---------------\")\n",
    "    print(i, \" \", j.shape[0])\n",
    " #   print(j)"
   ]
  },
  {
   "cell_type": "code",
   "execution_count": 83,
   "id": "6e899b96",
   "metadata": {
    "ExecuteTime": {
     "end_time": "2022-11-22T01:42:06.575737Z",
     "start_time": "2022-11-22T01:42:06.545920Z"
    },
    "collapsed": true
   },
   "outputs": [
    {
     "name": "stdout",
     "output_type": "stream",
     "text": [
      "count    8254.000000\n",
      "mean        1.728637\n",
      "std         6.908335\n",
      "min       -10.000000\n",
      "25%        -6.666667\n",
      "50%         2.111111\n",
      "75%         6.000000\n",
      "max        20.000000\n",
      "Name: fast_score, dtype: float64 \n",
      " count    8359.000000\n",
      "mean      -12.962791\n",
      "std         3.240767\n",
      "min       -40.000000\n",
      "25%       -14.000000\n",
      "50%       -12.000000\n",
      "75%       -10.777778\n",
      "max       -10.000000\n",
      "Name: fast_score, dtype: float64 \n",
      " count    5594.000000\n",
      "mean        3.709994\n",
      "std         5.879411\n",
      "min       -10.000000\n",
      "25%         1.103020\n",
      "50%         3.507472\n",
      "75%         6.888889\n",
      "max        20.000000\n",
      "Name: fast_score, dtype: float64 \n",
      " count    20.000000\n",
      "mean    -22.000000\n",
      "std      15.078741\n",
      "min     -40.000000\n",
      "25%     -40.000000\n",
      "50%     -10.000000\n",
      "75%     -10.000000\n",
      "max     -10.000000\n",
      "Name: fast_score, dtype: float64\n"
     ]
    }
   ],
   "source": [
    "HH = df_fc_stat[df_fc_stat[\"fast_type\"] == \"HH\"][\"fast_score\"]\n",
    "HMH = df_fc_stat[df_fc_stat[\"fast_type\"] == \"HMH\"][\"fast_score\"]\n",
    "HT = df_fc_stat[df_fc_stat[\"fast_type\"] == \"HT\"][\"fast_score\"]\n",
    "HL = df_fc_stat[df_fc_stat[\"fast_type\"] == \"HL\"][\"fast_score\"]\n",
    "\n",
    "print(HH.describe(),\"\\n\",HMH.describe(),\"\\n\", HT.describe(), \"\\n\",HL.describe())\n",
    "\n",
    "import math\n",
    "HH = [x for x in HH if math.isnan(x) == False]\n",
    "HMH = [x for x in HMH if math.isnan(x) == False]\n",
    "HT = [x for x in HT if math.isnan(x) == False]\n",
    "HL = [x for x in HL if math.isnan(x) == False]"
   ]
  },
  {
   "cell_type": "code",
   "execution_count": 84,
   "id": "d5702aa2",
   "metadata": {
    "ExecuteTime": {
     "end_time": "2022-11-22T01:42:09.988181Z",
     "start_time": "2022-11-22T01:42:09.858590Z"
    }
   },
   "outputs": [
    {
     "data": {
      "image/png": "[encoded data removed]",
      "text/plain": [
       "<Figure size 1000x500 with 1 Axes>"
      ]
     },
     "metadata": {},
     "output_type": "display_data"
    }
   ],
   "source": [
    "# HH, HMH, HT, HL\n",
    "import pandas as pd\n",
    "import matplotlib.pyplot as plt\n",
    " \n",
    "box_1, box_2, box_3, box_4  = HH, HMH, HT, HL\n",
    " \n",
    "plt.figure(figsize=(10,5)) # 设置画布的尺寸\n",
    "plt.title(\"score distribution\",fontsize=20) # 标题，并设定字号大小\n",
    "labels = \"HH\", \"HMH\", \"HT\", \"HL\" #图例\n",
    "plt.boxplot([box_1, box_2, box_3, box_4], labels = labels)# grid=False：代表不显示背景中的网格线\n",
    "plt.show() # 显示图像"
   ]
  },
  {
   "cell_type": "markdown",
   "id": "9d9b43d4",
   "metadata": {},
   "source": [
    "# def (需要预先加载)"
   ]
  },
  {
   "cell_type": "code",
   "execution_count": 17,
   "id": "43f36822",
   "metadata": {
    "ExecuteTime": {
     "end_time": "2022-09-21T06:31:23.545074Z",
     "start_time": "2022-09-21T06:31:23.538356Z"
    },
    "run_control": {
     "marked": true
    }
   },
   "outputs": [],
   "source": [
    "def control_interval(id_, glu_lst, t_lst):\n",
    "    hypo_lst =[]\n",
    "    control_dict ={}\n",
    "    control_dict[id_] = {}\n",
    "    control_dict[id_][\"fast_control\"] = []\n",
    "    control_dict[id_][\"fast_control_t\"] = []\n",
    "    control_dict[id_][\"steady_control\"] = []\n",
    "    control_dict[id_][\"steady_control_t\"] = []\n",
    "\n",
    "    last_glu = glu_lst[0]\n",
    "    last_t = t_lst[0]\n",
    "    if last_glu <= 70:\n",
    "        hypo_lst.append(last_glu)\n",
    "    \n",
    "    tmp2_lst = [last_t]\n",
    "    tmp_lst = [last_glu]\n",
    "    idx = 0\n",
    "    for glu in glu_lst[1:]: # 蹦到第一个glu>180,或 第一个<180的记录，更新lst\n",
    "        idx += 1\n",
    "        tmp_lst.append(glu)\n",
    "        tmp2_lst.append(t_lst[idx])\n",
    "        \n",
    "        if glu <= 70:\n",
    "            hypo_lst.append(glu)\n",
    "        \n",
    "        if glu >= 180 and last_glu<180: # print(\"stedy\", last_glu, glu)\n",
    "            control_dict[id_][\"steady_control\"].append(tmp_lst)\n",
    "            control_dict[id_][\"steady_control_t\"].append(tmp2_lst)\n",
    "            last_glu = glu\n",
    "            tmp_lst = [last_glu]\n",
    "            \n",
    "            last_t = t_lst[idx]\n",
    "            tmp2_lst = [last_t]\n",
    "            \n",
    "        if glu < 180 and last_glu >= 180:  # print(\"fast\",last_glu, glu)   \n",
    "            control_dict[id_][\"fast_control\"].append(tmp_lst)\n",
    "            control_dict[id_][\"fast_control_t\"].append(tmp2_lst)\n",
    "            last_glu = glu\n",
    "            tmp_lst = [last_glu]\n",
    "            \n",
    "            last_t = t_lst[idx]\n",
    "            tmp2_lst = [last_t]\n",
    "            \n",
    "    if last_glu >= 180:\n",
    "        control_dict[id_][\"fast_control\"].append(tmp_lst)\n",
    "        control_dict[id_][\"fast_control_t\"].append(tmp2_lst)\n",
    "    if last_glu < 180:\n",
    "        control_dict[id_][\"steady_control\"].append(tmp_lst)\n",
    "        control_dict[id_][\"steady_control_t\"].append(tmp2_lst)\n",
    "        \n",
    "    control_dict[id_][\"hypoglycemia_control\"] = hypo_lst\n",
    "    return control_dict"
   ]
  },
  {
   "cell_type": "code",
   "execution_count": 30,
   "id": "d61eccb5",
   "metadata": {
    "ExecuteTime": {
     "end_time": "2022-11-21T03:27:06.014873Z",
     "start_time": "2022-11-21T03:27:06.012755Z"
    }
   },
   "outputs": [],
   "source": [
    "def merge_two_dicts(x, y):\n",
    "    \"\"\"Given two dicts, merge them into a new dict as a shallow copy.\"\"\"\n",
    "    z = x.copy()\n",
    "    z.update(y)\n",
    "    return z"
   ]
  },
  {
   "cell_type": "code",
   "execution_count": 35,
   "id": "bf60f242",
   "metadata": {
    "ExecuteTime": {
     "end_time": "2022-11-21T07:01:02.570252Z",
     "start_time": "2022-11-21T07:01:02.562804Z"
    }
   },
   "outputs": [],
   "source": [
    "# 血糖平稳控制部分，血糖在70-180之间都不进行罚分， 但越靠近115-133这个理想区间打分越高\n",
    "# 有点要注意： 可能血糖都在70-180之间，但存在越来越高或者越来越低的趋势，而不是 稳定波动，在血糖存在这种趋势时，要给予一定的罚分\n",
    "\n",
    "def func_steady_control(control_dict):\n",
    "    score_lst = []\n",
    "    r_steady_control_lst = []\n",
    "    \n",
    "    one_func = []\n",
    "    for num in range(0,len(control_dict[\"steady_control\"])):\n",
    "        if len(control_dict[\"steady_control\"][num]) > 1: # 过滤掉平稳控糖只有一个血糖记录的点\n",
    "            t_one_func = control_dict[\"steady_control\"][num]\n",
    "            one_func.extend(t_one_func)\n",
    "\n",
    "    for gg in one_func: \n",
    "        if gg >= 1000:\n",
    "            gg = 1000\n",
    "            \n",
    "        # 高血糖\n",
    "        if gg >= 180: # x:(180,450) = y:(-20,-40); \n",
    "            score = -1*(2/27)*gg -180/27\n",
    "            \n",
    "        # 低血糖  \n",
    "        if gg <= 70 or gg >= 450: \n",
    "            score = -40  # 我们的目的是指导用药，一旦出现低血糖，只需要给予很大的惩罚即可，如何救回来不是我们的目标\n",
    "\n",
    "        if gg > 140 and gg < 180: # x:(140-180) = y:(20至-10); \n",
    "            score = -1*(3/4)*gg + 125\n",
    "            \n",
    "        if gg > 70 and gg < 110: # x:(70,110) = y:(-10到20); \n",
    "            score = ((3/4)*gg - (125/2))/2\n",
    "            \n",
    "        if gg >= 110 and gg <= 140: \n",
    "            score = 20\n",
    "        \n",
    "        score_lst.append(score)\n",
    "    if len([i for i in score_lst if i<= 0]) > 0 and len([i for i in score_lst if i> 0]) > 0:\n",
    "        r_steady_control = (sum([i for i in score_lst if i<= 0])/len([i for i in score_lst if i<= 0]) +  sum([i for i in score_lst if i > 0])/len([i for i in score_lst if i> 0]))\n",
    "        r_steady_control_lst.append(r_steady_control)\n",
    "    if len([i for i in score_lst if i<= 0]) > 0 and len([i for i in score_lst if i> 0]) == 0:\n",
    "        r_steady_control = sum([i for i in score_lst if i<= 0])/len([i for i in score_lst if i<= 0])\n",
    "        r_steady_control_lst.append(r_steady_control)\n",
    "    if len([i for i in score_lst if i<= 0]) == 0 and len([i for i in score_lst if i> 0]) > 0:\n",
    "        r_steady_control = sum([i for i in score_lst if i > 0])/len([i for i in score_lst if i> 0])\n",
    "        r_steady_control_lst.append(r_steady_control)\n",
    "            \n",
    "    r_steady_control_ = sum(r_steady_control_lst) / len(r_steady_control_lst)\n",
    "        \n",
    "    return r_steady_control_"
   ]
  },
  {
   "cell_type": "code",
   "execution_count": 37,
   "id": "2e613e50",
   "metadata": {
    "ExecuteTime": {
     "end_time": "2022-11-21T07:01:31.213445Z",
     "start_time": "2022-11-21T07:01:31.195342Z"
    },
    "collapsed": true
   },
   "outputs": [
    {
     "name": "stdout",
     "output_type": "stream",
     "text": [
      "{'fast_control': [], 'fast_control_t': [], 'steady_control': [[109.0]], 'steady_control_t': [['2156-08-30 20:00:00']], 'hypoglycemia_control': []}\n"
     ]
    },
    {
     "ename": "NameError",
     "evalue": "name 'r_steady_control' is not defined",
     "output_type": "error",
     "traceback": [
      "\u001b[0;31m---------------------------------------------------------------------------\u001b[0m",
      "\u001b[0;31mNameError\u001b[0m                                 Traceback (most recent call last)",
      "Input \u001b[0;32mIn [37]\u001b[0m, in \u001b[0;36m<cell line: 5>\u001b[0;34m()\u001b[0m\n\u001b[1;32m      8\u001b[0m     \u001b[38;5;28;01mif\u001b[39;00m \u001b[38;5;28mlen\u001b[39m(control_dict[\u001b[38;5;124m\"\u001b[39m\u001b[38;5;124msteady_control\u001b[39m\u001b[38;5;124m\"\u001b[39m]) \u001b[38;5;241m>\u001b[39m \u001b[38;5;241m0\u001b[39m \u001b[38;5;129;01mand\u001b[39;00m \u001b[38;5;28mlen\u001b[39m(control_dict[\u001b[38;5;124m\"\u001b[39m\u001b[38;5;124msteady_control\u001b[39m\u001b[38;5;124m\"\u001b[39m][\u001b[38;5;241m0\u001b[39m]) \u001b[38;5;241m>\u001b[39m \u001b[38;5;241m1\u001b[39m:\n\u001b[1;32m      9\u001b[0m         r_steady_control \u001b[38;5;241m=\u001b[39m func_steady_control(control_dict)\n\u001b[0;32m---> 10\u001b[0m     kk\u001b[38;5;241m.\u001b[39mappend(\u001b[43mr_steady_control\u001b[49m)\n\u001b[1;32m     11\u001b[0m sns\u001b[38;5;241m.\u001b[39mdisplot(kk)\n\u001b[1;32m     12\u001b[0m plt\u001b[38;5;241m.\u001b[39mxlim((\u001b[38;5;241m-\u001b[39m\u001b[38;5;241m100\u001b[39m,\u001b[38;5;241m30\u001b[39m))\n",
      "\u001b[0;31mNameError\u001b[0m: name 'r_steady_control' is not defined"
     ]
    }
   ],
   "source": [
    "tmp_df = pd.DataFrame(columns=[\"id_\", \"steady_control\", \"steady_score\"])\n",
    "tmp_lst = []\n",
    "\n",
    "kk = []\n",
    "for idx in control_dict_merged.keys():    \n",
    "    control_dict = control_dict_merged[idx]\n",
    "    if len(control_dict[\"steady_control\"]) > 0 and len(control_dict[\"steady_control\"][0]) > 1:\n",
    "        r_steady_control = func_steady_control(control_dict)\n",
    "    kk.append(r_steady_control)\n",
    "sns.displot(kk)\n",
    "plt.xlim((-100,30))\n",
    "plt.ylim((0,10000))"
   ]
  },
  {
   "cell_type": "code",
   "execution_count": 38,
   "id": "45e67ba9",
   "metadata": {
    "ExecuteTime": {
     "end_time": "2022-11-21T07:02:06.499416Z",
     "start_time": "2022-11-21T07:01:48.557910Z"
    },
    "collapsed": true
   },
   "outputs": [
    {
     "ename": "KeyboardInterrupt",
     "evalue": "",
     "output_type": "error",
     "traceback": [
      "\u001b[0;31m---------------------------------------------------------------------------\u001b[0m",
      "\u001b[0;31mKeyboardInterrupt\u001b[0m                         Traceback (most recent call last)",
      "Input \u001b[0;32mIn [38]\u001b[0m, in \u001b[0;36m<cell line: 4>\u001b[0;34m()\u001b[0m\n\u001b[1;32m     10\u001b[0m     r_steady_control \u001b[38;5;241m=\u001b[39m np\u001b[38;5;241m.\u001b[39mnan\n\u001b[1;32m     11\u001b[0m tmp_lst \u001b[38;5;241m=\u001b[39m [idx, control_dict_merged[idx][\u001b[38;5;124m\"\u001b[39m\u001b[38;5;124msteady_control\u001b[39m\u001b[38;5;124m\"\u001b[39m], r_steady_control]\n\u001b[0;32m---> 12\u001b[0m tmp_df\u001b[38;5;241m.\u001b[39mloc[\u001b[38;5;28mlen\u001b[39m(tmp_df)] \u001b[38;5;241m=\u001b[39m tmp_lst\n",
      "File \u001b[0;32m/home/hanl/miniconda3/envs/mytensor/lib/python3.9/site-packages/pandas/core/indexing.py:692\u001b[0m, in \u001b[0;36m_LocationIndexer.__setitem__\u001b[0;34m(self, key, value)\u001b[0m\n\u001b[1;32m    689\u001b[0m \u001b[38;5;28mself\u001b[39m\u001b[38;5;241m.\u001b[39m_has_valid_setitem_indexer(key)\n\u001b[1;32m    691\u001b[0m iloc \u001b[38;5;241m=\u001b[39m \u001b[38;5;28mself\u001b[39m \u001b[38;5;28;01mif\u001b[39;00m \u001b[38;5;28mself\u001b[39m\u001b[38;5;241m.\u001b[39mname \u001b[38;5;241m==\u001b[39m \u001b[38;5;124m\"\u001b[39m\u001b[38;5;124miloc\u001b[39m\u001b[38;5;124m\"\u001b[39m \u001b[38;5;28;01melse\u001b[39;00m \u001b[38;5;28mself\u001b[39m\u001b[38;5;241m.\u001b[39mobj\u001b[38;5;241m.\u001b[39miloc\n\u001b[0;32m--> 692\u001b[0m \u001b[43miloc\u001b[49m\u001b[38;5;241;43m.\u001b[39;49m\u001b[43m_setitem_with_indexer\u001b[49m\u001b[43m(\u001b[49m\u001b[43mindexer\u001b[49m\u001b[43m,\u001b[49m\u001b[43m \u001b[49m\u001b[43mvalue\u001b[49m\u001b[43m,\u001b[49m\u001b[43m \u001b[49m\u001b[38;5;28;43mself\u001b[39;49m\u001b[38;5;241;43m.\u001b[39;49m\u001b[43mname\u001b[49m\u001b[43m)\u001b[49m\n",
      "File \u001b[0;32m/home/hanl/miniconda3/envs/mytensor/lib/python3.9/site-packages/pandas/core/indexing.py:1629\u001b[0m, in \u001b[0;36m_iLocIndexer._setitem_with_indexer\u001b[0;34m(self, indexer, value, name)\u001b[0m\n\u001b[1;32m   1626\u001b[0m     indexer, missing \u001b[38;5;241m=\u001b[39m convert_missing_indexer(indexer)\n\u001b[1;32m   1628\u001b[0m     \u001b[38;5;28;01mif\u001b[39;00m missing:\n\u001b[0;32m-> 1629\u001b[0m         \u001b[38;5;28;43mself\u001b[39;49m\u001b[38;5;241;43m.\u001b[39;49m\u001b[43m_setitem_with_indexer_missing\u001b[49m\u001b[43m(\u001b[49m\u001b[43mindexer\u001b[49m\u001b[43m,\u001b[49m\u001b[43m \u001b[49m\u001b[43mvalue\u001b[49m\u001b[43m)\u001b[49m\n\u001b[1;32m   1630\u001b[0m         \u001b[38;5;28;01mreturn\u001b[39;00m\n\u001b[1;32m   1632\u001b[0m \u001b[38;5;66;03m# align and set the values\u001b[39;00m\n",
      "File \u001b[0;32m/home/hanl/miniconda3/envs/mytensor/lib/python3.9/site-packages/pandas/core/indexing.py:1922\u001b[0m, in \u001b[0;36m_iLocIndexer._setitem_with_indexer_missing\u001b[0;34m(self, indexer, value)\u001b[0m\n\u001b[1;32m   1918\u001b[0m             \u001b[38;5;28;01mraise\u001b[39;00m \u001b[38;5;167;01mValueError\u001b[39;00m(\u001b[38;5;124m\"\u001b[39m\u001b[38;5;124mcannot set a row with mismatched columns\u001b[39m\u001b[38;5;124m\"\u001b[39m)\n\u001b[1;32m   1920\u001b[0m     value \u001b[38;5;241m=\u001b[39m Series(value, index\u001b[38;5;241m=\u001b[39m\u001b[38;5;28mself\u001b[39m\u001b[38;5;241m.\u001b[39mobj\u001b[38;5;241m.\u001b[39mcolumns, name\u001b[38;5;241m=\u001b[39mindexer)\n\u001b[0;32m-> 1922\u001b[0m \u001b[38;5;28mself\u001b[39m\u001b[38;5;241m.\u001b[39mobj\u001b[38;5;241m.\u001b[39m_mgr \u001b[38;5;241m=\u001b[39m \u001b[38;5;28;43mself\u001b[39;49m\u001b[38;5;241;43m.\u001b[39;49m\u001b[43mobj\u001b[49m\u001b[38;5;241;43m.\u001b[39;49m\u001b[43mappend\u001b[49m\u001b[43m(\u001b[49m\u001b[43mvalue\u001b[49m\u001b[43m)\u001b[49m\u001b[38;5;241m.\u001b[39m_mgr\n\u001b[1;32m   1923\u001b[0m \u001b[38;5;28mself\u001b[39m\u001b[38;5;241m.\u001b[39mobj\u001b[38;5;241m.\u001b[39m_maybe_update_cacher(clear\u001b[38;5;241m=\u001b[39m\u001b[38;5;28;01mTrue\u001b[39;00m)\n",
      "File \u001b[0;32m/home/hanl/miniconda3/envs/mytensor/lib/python3.9/site-packages/pandas/core/frame.py:7960\u001b[0m, in \u001b[0;36mDataFrame.append\u001b[0;34m(self, other, ignore_index, verify_integrity, sort)\u001b[0m\n\u001b[1;32m   7957\u001b[0m \u001b[38;5;28;01mexcept\u001b[39;00m \u001b[38;5;167;01mTypeError\u001b[39;00m:\n\u001b[1;32m   7958\u001b[0m     combined_columns \u001b[38;5;241m=\u001b[39m \u001b[38;5;28mself\u001b[39m\u001b[38;5;241m.\u001b[39mcolumns\u001b[38;5;241m.\u001b[39mastype(\u001b[38;5;28mobject\u001b[39m)\u001b[38;5;241m.\u001b[39mappend(idx_diff)\n\u001b[1;32m   7959\u001b[0m other \u001b[38;5;241m=\u001b[39m (\n\u001b[0;32m-> 7960\u001b[0m     \u001b[43mother\u001b[49m\u001b[38;5;241;43m.\u001b[39;49m\u001b[43mreindex\u001b[49m\u001b[43m(\u001b[49m\u001b[43mcombined_columns\u001b[49m\u001b[43m,\u001b[49m\u001b[43m \u001b[49m\u001b[43mcopy\u001b[49m\u001b[38;5;241;43m=\u001b[39;49m\u001b[38;5;28;43;01mFalse\u001b[39;49;00m\u001b[43m)\u001b[49m\n\u001b[1;32m   7961\u001b[0m \u001b[43m    \u001b[49m\u001b[38;5;241;43m.\u001b[39;49m\u001b[43mto_frame\u001b[49m\u001b[43m(\u001b[49m\u001b[43m)\u001b[49m\n\u001b[1;32m   7962\u001b[0m \u001b[43m    \u001b[49m\u001b[38;5;241;43m.\u001b[39;49m\u001b[43mT\u001b[49m\u001b[38;5;241m.\u001b[39minfer_objects()\n\u001b[1;32m   7963\u001b[0m     \u001b[38;5;241m.\u001b[39mrename_axis(index\u001b[38;5;241m.\u001b[39mnames, copy\u001b[38;5;241m=\u001b[39m\u001b[38;5;28;01mFalse\u001b[39;00m)\n\u001b[1;32m   7964\u001b[0m )\n\u001b[1;32m   7965\u001b[0m \u001b[38;5;28;01mif\u001b[39;00m \u001b[38;5;129;01mnot\u001b[39;00m \u001b[38;5;28mself\u001b[39m\u001b[38;5;241m.\u001b[39mcolumns\u001b[38;5;241m.\u001b[39mequals(combined_columns):\n\u001b[1;32m   7966\u001b[0m     \u001b[38;5;28mself\u001b[39m \u001b[38;5;241m=\u001b[39m \u001b[38;5;28mself\u001b[39m\u001b[38;5;241m.\u001b[39mreindex(columns\u001b[38;5;241m=\u001b[39mcombined_columns)\n",
      "File \u001b[0;32m/home/hanl/miniconda3/envs/mytensor/lib/python3.9/site-packages/pandas/core/frame.py:2929\u001b[0m, in \u001b[0;36mDataFrame.T\u001b[0;34m(self)\u001b[0m\n\u001b[1;32m   2927\u001b[0m \u001b[38;5;129m@property\u001b[39m\n\u001b[1;32m   2928\u001b[0m \u001b[38;5;28;01mdef\u001b[39;00m \u001b[38;5;21mT\u001b[39m(\u001b[38;5;28mself\u001b[39m) \u001b[38;5;241m-\u001b[39m\u001b[38;5;241m>\u001b[39m DataFrame:\n\u001b[0;32m-> 2929\u001b[0m     \u001b[38;5;28;01mreturn\u001b[39;00m \u001b[38;5;28;43mself\u001b[39;49m\u001b[38;5;241;43m.\u001b[39;49m\u001b[43mtranspose\u001b[49m\u001b[43m(\u001b[49m\u001b[43m)\u001b[49m\n",
      "File \u001b[0;32m/home/hanl/miniconda3/envs/mytensor/lib/python3.9/site-packages/pandas/core/frame.py:2921\u001b[0m, in \u001b[0;36mDataFrame.transpose\u001b[0;34m(self, copy, *args)\u001b[0m\n\u001b[1;32m   2919\u001b[0m     \u001b[38;5;28;01mif\u001b[39;00m copy:\n\u001b[1;32m   2920\u001b[0m         new_values \u001b[38;5;241m=\u001b[39m new_values\u001b[38;5;241m.\u001b[39mcopy()\n\u001b[0;32m-> 2921\u001b[0m     result \u001b[38;5;241m=\u001b[39m \u001b[38;5;28;43mself\u001b[39;49m\u001b[38;5;241;43m.\u001b[39;49m\u001b[43m_constructor\u001b[49m\u001b[43m(\u001b[49m\n\u001b[1;32m   2922\u001b[0m \u001b[43m        \u001b[49m\u001b[43mnew_values\u001b[49m\u001b[43m,\u001b[49m\u001b[43m \u001b[49m\u001b[43mindex\u001b[49m\u001b[38;5;241;43m=\u001b[39;49m\u001b[38;5;28;43mself\u001b[39;49m\u001b[38;5;241;43m.\u001b[39;49m\u001b[43mcolumns\u001b[49m\u001b[43m,\u001b[49m\u001b[43m \u001b[49m\u001b[43mcolumns\u001b[49m\u001b[38;5;241;43m=\u001b[39;49m\u001b[38;5;28;43mself\u001b[39;49m\u001b[38;5;241;43m.\u001b[39;49m\u001b[43mindex\u001b[49m\n\u001b[1;32m   2923\u001b[0m \u001b[43m    \u001b[49m\u001b[43m)\u001b[49m\n\u001b[1;32m   2925\u001b[0m \u001b[38;5;28;01mreturn\u001b[39;00m result\u001b[38;5;241m.\u001b[39m__finalize__(\u001b[38;5;28mself\u001b[39m, method\u001b[38;5;241m=\u001b[39m\u001b[38;5;124m\"\u001b[39m\u001b[38;5;124mtranspose\u001b[39m\u001b[38;5;124m\"\u001b[39m)\n",
      "File \u001b[0;32m/home/hanl/miniconda3/envs/mytensor/lib/python3.9/site-packages/pandas/core/frame.py:558\u001b[0m, in \u001b[0;36mDataFrame.__init__\u001b[0;34m(self, data, index, columns, dtype, copy)\u001b[0m\n\u001b[1;32m    556\u001b[0m         mgr \u001b[38;5;241m=\u001b[39m init_dict({data\u001b[38;5;241m.\u001b[39mname: data}, index, columns, dtype\u001b[38;5;241m=\u001b[39mdtype)\n\u001b[1;32m    557\u001b[0m     \u001b[38;5;28;01melse\u001b[39;00m:\n\u001b[0;32m--> 558\u001b[0m         mgr \u001b[38;5;241m=\u001b[39m \u001b[43minit_ndarray\u001b[49m\u001b[43m(\u001b[49m\u001b[43mdata\u001b[49m\u001b[43m,\u001b[49m\u001b[43m \u001b[49m\u001b[43mindex\u001b[49m\u001b[43m,\u001b[49m\u001b[43m \u001b[49m\u001b[43mcolumns\u001b[49m\u001b[43m,\u001b[49m\u001b[43m \u001b[49m\u001b[43mdtype\u001b[49m\u001b[38;5;241;43m=\u001b[39;49m\u001b[43mdtype\u001b[49m\u001b[43m,\u001b[49m\u001b[43m \u001b[49m\u001b[43mcopy\u001b[49m\u001b[38;5;241;43m=\u001b[39;49m\u001b[43mcopy\u001b[49m\u001b[43m)\u001b[49m\n\u001b[1;32m    560\u001b[0m \u001b[38;5;66;03m# For data is list-like, or Iterable (will consume into list)\u001b[39;00m\n\u001b[1;32m    561\u001b[0m \u001b[38;5;28;01melif\u001b[39;00m \u001b[38;5;28misinstance\u001b[39m(data, abc\u001b[38;5;241m.\u001b[39mIterable) \u001b[38;5;129;01mand\u001b[39;00m \u001b[38;5;129;01mnot\u001b[39;00m \u001b[38;5;28misinstance\u001b[39m(data, (\u001b[38;5;28mstr\u001b[39m, \u001b[38;5;28mbytes\u001b[39m)):\n",
      "File \u001b[0;32m/home/hanl/miniconda3/envs/mytensor/lib/python3.9/site-packages/pandas/core/internals/construction.py:227\u001b[0m, in \u001b[0;36minit_ndarray\u001b[0;34m(values, index, columns, dtype, copy)\u001b[0m\n\u001b[1;32m    224\u001b[0m     \u001b[38;5;28;01mfrom\u001b[39;00m \u001b[38;5;21;01mpandas\u001b[39;00m\u001b[38;5;21;01m.\u001b[39;00m\u001b[38;5;21;01mcore\u001b[39;00m\u001b[38;5;21;01m.\u001b[39;00m\u001b[38;5;21;01minternals\u001b[39;00m\u001b[38;5;21;01m.\u001b[39;00m\u001b[38;5;21;01mblocks\u001b[39;00m \u001b[38;5;28;01mimport\u001b[39;00m make_block\n\u001b[1;32m    226\u001b[0m     \u001b[38;5;66;03m# TODO: What about re-joining object columns?\u001b[39;00m\n\u001b[0;32m--> 227\u001b[0m     block_values \u001b[38;5;241m=\u001b[39m [\n\u001b[1;32m    228\u001b[0m         make_block(dvals_list[n], placement\u001b[38;5;241m=\u001b[39m[n], ndim\u001b[38;5;241m=\u001b[39m\u001b[38;5;241m2\u001b[39m)\n\u001b[1;32m    229\u001b[0m         \u001b[38;5;28;01mfor\u001b[39;00m n \u001b[38;5;129;01min\u001b[39;00m \u001b[38;5;28mrange\u001b[39m(\u001b[38;5;28mlen\u001b[39m(dvals_list))\n\u001b[1;32m    230\u001b[0m     ]\n\u001b[1;32m    232\u001b[0m \u001b[38;5;28;01melse\u001b[39;00m:\n\u001b[1;32m    233\u001b[0m     datelike_vals \u001b[38;5;241m=\u001b[39m maybe_infer_to_datetimelike(values)\n",
      "File \u001b[0;32m/home/hanl/miniconda3/envs/mytensor/lib/python3.9/site-packages/pandas/core/internals/construction.py:228\u001b[0m, in \u001b[0;36m<listcomp>\u001b[0;34m(.0)\u001b[0m\n\u001b[1;32m    224\u001b[0m     \u001b[38;5;28;01mfrom\u001b[39;00m \u001b[38;5;21;01mpandas\u001b[39;00m\u001b[38;5;21;01m.\u001b[39;00m\u001b[38;5;21;01mcore\u001b[39;00m\u001b[38;5;21;01m.\u001b[39;00m\u001b[38;5;21;01minternals\u001b[39;00m\u001b[38;5;21;01m.\u001b[39;00m\u001b[38;5;21;01mblocks\u001b[39;00m \u001b[38;5;28;01mimport\u001b[39;00m make_block\n\u001b[1;32m    226\u001b[0m     \u001b[38;5;66;03m# TODO: What about re-joining object columns?\u001b[39;00m\n\u001b[1;32m    227\u001b[0m     block_values \u001b[38;5;241m=\u001b[39m [\n\u001b[0;32m--> 228\u001b[0m         \u001b[43mmake_block\u001b[49m\u001b[43m(\u001b[49m\u001b[43mdvals_list\u001b[49m\u001b[43m[\u001b[49m\u001b[43mn\u001b[49m\u001b[43m]\u001b[49m\u001b[43m,\u001b[49m\u001b[43m \u001b[49m\u001b[43mplacement\u001b[49m\u001b[38;5;241;43m=\u001b[39;49m\u001b[43m[\u001b[49m\u001b[43mn\u001b[49m\u001b[43m]\u001b[49m\u001b[43m,\u001b[49m\u001b[43m \u001b[49m\u001b[43mndim\u001b[49m\u001b[38;5;241;43m=\u001b[39;49m\u001b[38;5;241;43m2\u001b[39;49m\u001b[43m)\u001b[49m\n\u001b[1;32m    229\u001b[0m         \u001b[38;5;28;01mfor\u001b[39;00m n \u001b[38;5;129;01min\u001b[39;00m \u001b[38;5;28mrange\u001b[39m(\u001b[38;5;28mlen\u001b[39m(dvals_list))\n\u001b[1;32m    230\u001b[0m     ]\n\u001b[1;32m    232\u001b[0m \u001b[38;5;28;01melse\u001b[39;00m:\n\u001b[1;32m    233\u001b[0m     datelike_vals \u001b[38;5;241m=\u001b[39m maybe_infer_to_datetimelike(values)\n",
      "File \u001b[0;32m/home/hanl/miniconda3/envs/mytensor/lib/python3.9/site-packages/pandas/core/internals/blocks.py:2742\u001b[0m, in \u001b[0;36mmake_block\u001b[0;34m(values, placement, klass, ndim, dtype)\u001b[0m\n\u001b[1;32m   2737\u001b[0m \u001b[38;5;28;01melif\u001b[39;00m klass \u001b[38;5;129;01mis\u001b[39;00m DatetimeTZBlock \u001b[38;5;129;01mand\u001b[39;00m \u001b[38;5;129;01mnot\u001b[39;00m is_datetime64tz_dtype(values\u001b[38;5;241m.\u001b[39mdtype):\n\u001b[1;32m   2738\u001b[0m     \u001b[38;5;66;03m# TODO: This is no longer hit internally; does it need to be retained\u001b[39;00m\n\u001b[1;32m   2739\u001b[0m     \u001b[38;5;66;03m#  for e.g. pyarrow?\u001b[39;00m\n\u001b[1;32m   2740\u001b[0m     values \u001b[38;5;241m=\u001b[39m DatetimeArray\u001b[38;5;241m.\u001b[39m_simple_new(values, dtype\u001b[38;5;241m=\u001b[39mdtype)\n\u001b[0;32m-> 2742\u001b[0m \u001b[38;5;28;01mreturn\u001b[39;00m \u001b[43mklass\u001b[49m\u001b[43m(\u001b[49m\u001b[43mvalues\u001b[49m\u001b[43m,\u001b[49m\u001b[43m \u001b[49m\u001b[43mndim\u001b[49m\u001b[38;5;241;43m=\u001b[39;49m\u001b[43mndim\u001b[49m\u001b[43m,\u001b[49m\u001b[43m \u001b[49m\u001b[43mplacement\u001b[49m\u001b[38;5;241;43m=\u001b[39;49m\u001b[43mplacement\u001b[49m\u001b[43m)\u001b[49m\n",
      "File \u001b[0;32m/home/hanl/miniconda3/envs/mytensor/lib/python3.9/site-packages/pandas/core/internals/blocks.py:138\u001b[0m, in \u001b[0;36mBlock.__init__\u001b[0;34m(self, values, placement, ndim)\u001b[0m\n\u001b[1;32m    136\u001b[0m \u001b[38;5;66;03m# TODO(EA2D): ndim will be unnecessary with 2D EAs\u001b[39;00m\n\u001b[1;32m    137\u001b[0m \u001b[38;5;28mself\u001b[39m\u001b[38;5;241m.\u001b[39mndim \u001b[38;5;241m=\u001b[39m \u001b[38;5;28mself\u001b[39m\u001b[38;5;241m.\u001b[39m_check_ndim(values, ndim)\n\u001b[0;32m--> 138\u001b[0m \u001b[38;5;28mself\u001b[39m\u001b[38;5;241m.\u001b[39mmgr_locs \u001b[38;5;241m=\u001b[39m placement\n\u001b[1;32m    139\u001b[0m \u001b[38;5;28mself\u001b[39m\u001b[38;5;241m.\u001b[39mvalues \u001b[38;5;241m=\u001b[39m \u001b[38;5;28mself\u001b[39m\u001b[38;5;241m.\u001b[39m_maybe_coerce_values(values)\n\u001b[1;32m    141\u001b[0m \u001b[38;5;28;01mif\u001b[39;00m \u001b[38;5;28mself\u001b[39m\u001b[38;5;241m.\u001b[39m_validate_ndim \u001b[38;5;129;01mand\u001b[39;00m \u001b[38;5;28mself\u001b[39m\u001b[38;5;241m.\u001b[39mndim \u001b[38;5;129;01mand\u001b[39;00m \u001b[38;5;28mlen\u001b[39m(\u001b[38;5;28mself\u001b[39m\u001b[38;5;241m.\u001b[39mmgr_locs) \u001b[38;5;241m!=\u001b[39m \u001b[38;5;28mlen\u001b[39m(\u001b[38;5;28mself\u001b[39m\u001b[38;5;241m.\u001b[39mvalues):\n",
      "File \u001b[0;32m/home/hanl/miniconda3/envs/mytensor/lib/python3.9/site-packages/pandas/core/internals/blocks.py:272\u001b[0m, in \u001b[0;36mBlock.mgr_locs\u001b[0;34m(self, new_mgr_locs)\u001b[0m\n\u001b[1;32m    269\u001b[0m \u001b[38;5;129m@mgr_locs\u001b[39m\u001b[38;5;241m.\u001b[39msetter\n\u001b[1;32m    270\u001b[0m \u001b[38;5;28;01mdef\u001b[39;00m \u001b[38;5;21mmgr_locs\u001b[39m(\u001b[38;5;28mself\u001b[39m, new_mgr_locs):\n\u001b[1;32m    271\u001b[0m     \u001b[38;5;28;01mif\u001b[39;00m \u001b[38;5;129;01mnot\u001b[39;00m \u001b[38;5;28misinstance\u001b[39m(new_mgr_locs, libinternals\u001b[38;5;241m.\u001b[39mBlockPlacement):\n\u001b[0;32m--> 272\u001b[0m         new_mgr_locs \u001b[38;5;241m=\u001b[39m \u001b[43mlibinternals\u001b[49m\u001b[38;5;241;43m.\u001b[39;49m\u001b[43mBlockPlacement\u001b[49m\u001b[43m(\u001b[49m\u001b[43mnew_mgr_locs\u001b[49m\u001b[43m)\u001b[49m\n\u001b[1;32m    274\u001b[0m     \u001b[38;5;28mself\u001b[39m\u001b[38;5;241m.\u001b[39m_mgr_locs \u001b[38;5;241m=\u001b[39m new_mgr_locs\n",
      "File \u001b[0;32mpandas/_libs/internals.pyx:55\u001b[0m, in \u001b[0;36mpandas._libs.internals.BlockPlacement.__init__\u001b[0;34m()\u001b[0m\n",
      "File \u001b[0;32m/home/hanl/miniconda3/envs/mytensor/lib/python3.9/site-packages/numpy/core/_asarray.py:316\u001b[0m, in \u001b[0;36mrequire\u001b[0;34m(a, dtype, requirements)\u001b[0m\n\u001b[1;32m    313\u001b[0m     order \u001b[38;5;241m=\u001b[39m \u001b[38;5;124m'\u001b[39m\u001b[38;5;124mC\u001b[39m\u001b[38;5;124m'\u001b[39m\n\u001b[1;32m    314\u001b[0m     requirements\u001b[38;5;241m.\u001b[39mremove(\u001b[38;5;124m'\u001b[39m\u001b[38;5;124mC\u001b[39m\u001b[38;5;124m'\u001b[39m)\n\u001b[0;32m--> 316\u001b[0m arr \u001b[38;5;241m=\u001b[39m \u001b[43marray\u001b[49m\u001b[43m(\u001b[49m\u001b[43ma\u001b[49m\u001b[43m,\u001b[49m\u001b[43m \u001b[49m\u001b[43mdtype\u001b[49m\u001b[38;5;241;43m=\u001b[39;49m\u001b[43mdtype\u001b[49m\u001b[43m,\u001b[49m\u001b[43m \u001b[49m\u001b[43morder\u001b[49m\u001b[38;5;241;43m=\u001b[39;49m\u001b[43morder\u001b[49m\u001b[43m,\u001b[49m\u001b[43m \u001b[49m\u001b[43mcopy\u001b[49m\u001b[38;5;241;43m=\u001b[39;49m\u001b[38;5;28;43;01mFalse\u001b[39;49;00m\u001b[43m,\u001b[49m\u001b[43m \u001b[49m\u001b[43msubok\u001b[49m\u001b[38;5;241;43m=\u001b[39;49m\u001b[43msubok\u001b[49m\u001b[43m)\u001b[49m\n\u001b[1;32m    318\u001b[0m \u001b[38;5;28;01mfor\u001b[39;00m prop \u001b[38;5;129;01min\u001b[39;00m requirements:\n\u001b[1;32m    319\u001b[0m     \u001b[38;5;28;01mif\u001b[39;00m \u001b[38;5;129;01mnot\u001b[39;00m arr\u001b[38;5;241m.\u001b[39mflags[prop]:\n",
      "\u001b[0;31mKeyboardInterrupt\u001b[0m: "
     ]
    }
   ],
   "source": [
    "tmp_df = pd.DataFrame(columns=[\"id_\", \"steady_control\", \"steady_score\"])\n",
    "tmp_lst = []\n",
    "\n",
    "for idx in control_dict_merged.keys():    \n",
    "    control_dict = control_dict_merged[idx]\n",
    "\n",
    "    if len(control_dict[\"steady_control\"]) > 0 and len(control_dict[\"steady_control\"][0]) > 1:\n",
    "        r_steady_control = func_steady_control(control_dict)\n",
    "    else:\n",
    "        r_steady_control = np.nan\n",
    "    tmp_lst = [idx, control_dict_merged[idx][\"steady_control\"], r_steady_control]\n",
    "    tmp_df.loc[len(tmp_df)] = tmp_lst"
   ]
  },
  {
   "cell_type": "code",
   "execution_count": 39,
   "id": "65992728",
   "metadata": {
    "ExecuteTime": {
     "end_time": "2022-11-21T07:04:21.061849Z",
     "start_time": "2022-11-21T07:04:21.055672Z"
    },
    "run_control": {
     "marked": true
    }
   },
   "outputs": [],
   "source": [
    "def func_fast_control(control_dict):\n",
    "    global score1\n",
    "    score_lst1 = []\n",
    " #   print(control_dict[\"fast_control\"])\n",
    "    for num in range(0,len(control_dict[\"fast_control\"])):\n",
    "        if len(control_dict[\"fast_control\"][num]) > 1: # 快速控糖列表中若只有一个血糖记录，这种pass，无法计算。且这种偏离也在平稳控糖过程中得到惩罚\n",
    "            G = np.array(control_dict[\"fast_control\"][num])\n",
    "            G1 = G[0]\n",
    "            GN = G[-1] # 根据之前的interval划分，GN 要么是半衰期内 第一个正常血糖值，或者没控制住直接越过正常血糖到低血糖，或者还是高血糖状态\n",
    "            dG = GN-G1\n",
    "            tt_lst = control_dict[\"fast_control_t\"][num]\n",
    "            dt = (pd.to_datetime(tt_lst[-1]) - pd.to_datetime(tt_lst[0]))/np.timedelta64(1, 'm')\n",
    "            k = dG/dt\n",
    "           # print(G1, GN, dG, dt, k)\n",
    "            \n",
    "            if np.isnan(k):\n",
    "                k=0\n",
    "                \n",
    "            #if k <= -2:\n",
    "            #    k = -2 # 每小时下降120\n",
    "                \n",
    "            if k >= -0.5 and k <= -0.1:\n",
    "                k = -0.5 # 每小时血糖下降30\n",
    "                \n",
    "            if k > -0.1:\n",
    "                k = 0 # 下降一丢丢或者上升\n",
    "            \n",
    "            if dG > 270:\n",
    "                dG = 270 # (450-180)\n",
    "                \n",
    "            # 如果从高血糖到更高血糖 \n",
    "            if GN >= G1 and GN >= 180 and G1 >= 180: # score：-10，-40, dG：0，270\n",
    "                score1 = -1*(1/9)*dG -10\n",
    "                \n",
    "            # 葡糖向下降\n",
    "            if  GN < G1 and G1 >= 180 and GN >= 110: # score= 0,20， k= -2,-0.5\n",
    "                score1 = -1*(40/3)*k - (20/3) \n",
    "               \n",
    "            # 高血糖控制到正常范围，但有激穿的概率\n",
    "            if GN < G1 and G1 >= 180 and GN < 110 and GN >= 70: # 降糖速率k= -2,-0.5，y是打分（-10到0分）\n",
    "                score1 = 20/3 * k + 10/3\n",
    "                \n",
    "            # 如果从高血糖快速降至低血糖 或者存在低血糖\n",
    "            if (G <= 70).any(): \n",
    "                score1 = -40\n",
    "                \n",
    "            if k <-2:\n",
    "                score1 = -10\n",
    "                \n",
    "        score_lst1.append(score1)\n",
    "    r_fast_control = sum(score_lst1) / len(score_lst1)\n",
    "    \n",
    "    return r_fast_control\n"
   ]
  },
  {
   "cell_type": "code",
   "execution_count": null,
   "id": "4009a628",
   "metadata": {
    "ExecuteTime": {
     "end_time": "2022-09-21T08:51:34.858434Z",
     "start_time": "2022-09-21T08:51:24.372560Z"
    }
   },
   "outputs": [],
   "source": [
    "# 查看血糖上升的大小\n",
    "dG_lst =[]\n",
    "for idx in control_dict_merged.keys():    \n",
    "    control_dict = control_dict_merged[idx]\n",
    "    if len(control_dict[\"fast_control\"]) > 0 and len(control_dict[\"fast_control\"][0]) > 1:\n",
    "         dG_lst.append(func_fast_control(control_dict))\n",
    "sns.distplot([i for i in dG_lst if i < 500])"
   ]
  },
  {
   "cell_type": "code",
   "execution_count": null,
   "id": "bbb91614",
   "metadata": {
    "ExecuteTime": {
     "end_time": "2022-09-21T11:43:45.643704Z",
     "start_time": "2022-09-21T11:43:37.062943Z"
    }
   },
   "outputs": [],
   "source": [
    "kk = []\n",
    "for idx in control_dict_merged.keys():    \n",
    "    control_dict = control_dict_merged[idx]\n",
    "\n",
    "    if len(control_dict[\"fast_control\"]) > 0 and len(control_dict[\"fast_control\"][0]) > 1:\n",
    "        r_fast_control = func_fast_control(control_dict)\n",
    "        kk.append(r_fast_control)\n",
    "\n",
    "sns.displot(kk)\n",
    "plt.ylim((0,5000))\n",
    "plt.xlim((-100,30))"
   ]
  },
  {
   "cell_type": "code",
   "execution_count": null,
   "id": "2d37ab1e",
   "metadata": {
    "ExecuteTime": {
     "end_time": "2022-09-21T06:51:16.574607Z",
     "start_time": "2022-09-21T06:50:51.162087Z"
    }
   },
   "outputs": [],
   "source": [
    "tmp_df = pd.DataFrame(columns=[\"id_\",\"fast_control\", \"fast_score\"])\n",
    "tmp_lst = []\n",
    "\n",
    "for idx in control_dict_merged.keys():    \n",
    "    control_dict = control_dict_merged[idx]\n",
    "\n",
    "    if len(control_dict[\"fast_control\"]) > 0 and len(control_dict[\"fast_control\"][0]) > 1:\n",
    "        r_fast_control = func_fast_control(control_dict)\n",
    "        kk.append(r_fast_control)\n",
    "    else:\n",
    "        r_fast_control = np.nan\n",
    "       \n",
    "    tmp_lst = [idx, control_dict_merged[idx][\"fast_control\"], r_fast_control]\n",
    "    tmp_df.loc[len(tmp_df)] = tmp_lst"
   ]
  },
  {
   "cell_type": "markdown",
   "id": "5680f5a3",
   "metadata": {},
   "source": [
    "# stat"
   ]
  },
  {
   "cell_type": "markdown",
   "id": "a205307f",
   "metadata": {},
   "source": [
    "## 快速降糖过程中的时间分布"
   ]
  },
  {
   "cell_type": "code",
   "execution_count": null,
   "id": "b186ef9c",
   "metadata": {
    "ExecuteTime": {
     "end_time": "2022-09-21T08:32:27.551294Z",
     "start_time": "2022-09-21T08:24:39.195351Z"
    }
   },
   "outputs": [],
   "source": [
    "def func_fast_control_tt(control_dict):\n",
    "    global score1\n",
    "    score_lst1 = []\n",
    "    for num in range(0,len(control_dict[\"fast_control\"])):\n",
    "        if len(control_dict[\"fast_control\"][num]) > 0: # 快速控糖列表中若只有一个血糖记录，这种pass，无法计算。且这种偏离也在平稳控糖过程中得到惩罚\n",
    "            G = np.array(control_dict[\"fast_control\"][num])\n",
    "            G1 = G[0]\n",
    "            GN = G[-1] # 根据之前的interval划分，GN 要么是半衰期内 第一个正常血糖值，或者没控制住直接越过正常血糖到低血糖，或者还是高血糖状态\n",
    "            dG = GN-G1\n",
    "            tt_lst = control_dict[\"fast_control_t\"][num]\n",
    "            dt = (pd.to_datetime(tt_lst[-1]) - pd.to_datetime(tt_lst[0]))/np.timedelta64(1, 'm')\n",
    "            k = dG/dt\n",
    "            if np.isnan(k):\n",
    "                k=0\n",
    "    return G1,GN, dG, tt_lst[0],tt_lst[-1], dt, k\n",
    "\n",
    "\n",
    "tmp_df = pd.DataFrame(columns=[\"aa\",\"bb\", \"cc\", \"dd\",\"ee\",\"ff\",\"kk\"])\n",
    "for idx in control_dict_merged.keys():    \n",
    "    control_dict = control_dict_merged[idx]\n",
    "    if len(control_dict[\"fast_control\"]) > 0: # 如果满足该条件，看第一个异常值与第一个在正常范围的血糖的时间是否超过 规定值，否则罚分\n",
    "      #  print(\"yes\",control_dict[\"fast_control\"])\n",
    "        a,b,c,d,e,f,k = func_fast_control_tt(control_dict)\n",
    "     #   print(a,b,c,d,e,f,k)\n",
    "        tmp_df.loc[len(tmp_df)] = [a,b,c,d,e,f,k]\n",
    "tmp_df.head(2)"
   ]
  },
  {
   "cell_type": "code",
   "execution_count": null,
   "id": "7682595c",
   "metadata": {
    "ExecuteTime": {
     "end_time": "2022-09-21T11:44:52.087652Z",
     "start_time": "2022-09-21T11:44:52.068804Z"
    }
   },
   "outputs": [],
   "source": [
    "lst = tmp_df[\"kk\"]\n",
    "lst = [i for i in lst if (i> -10) and (i<10) ]\n",
    "sns.displot(lst)\n",
    "plt.ylim((0,2000))\n",
    "plt.xlim((-2.5,2.5))\n",
    "\n",
    "# 这里决定 将 k >=0 一律最大罚分 ； -5 < k < 0, 按公式； k< -5统一以最大奖励"
   ]
  },
  {
   "cell_type": "code",
   "execution_count": null,
   "id": "2524c1a5",
   "metadata": {
    "ExecuteTime": {
     "end_time": "2022-08-31T08:09:27.379025Z",
     "start_time": "2022-08-31T08:09:27.351062Z"
    }
   },
   "outputs": [],
   "source": [
    "#降到正常血糖 的降糖过程的时间分布: 3-127min\n",
    "print(min(tmp_df[(tmp_df[\"bb\"]<180) & (tmp_df[\"bb\"]>70)][\"kk\"]), max(tmp_df[(tmp_df[\"bb\"]<180) & (tmp_df[\"bb\"]>70)][\"kk\"])) \n",
    "\n",
    "#没降到正常血糖 的降糖过程的时间分布: (3,75)\n",
    "print(min(tmp_df[(tmp_df[\"bb\"]>=180)][\"kk\"]) , max(tmp_df[(tmp_df[\"bb\"]>=180)][\"kk\"]) )"
   ]
  },
  {
   "cell_type": "code",
   "execution_count": null,
   "id": "399a271e",
   "metadata": {
    "ExecuteTime": {
     "end_time": "2022-08-25T01:43:17.565112Z",
     "start_time": "2022-08-25T01:43:16.643654Z"
    }
   },
   "outputs": [],
   "source": [
    "#没降到正常血糖 \n",
    "sns.distplot(tmp_df[(tmp_df[\"bb\"]>=180)][\"interval\"])\n",
    "dt=20\n",
    "-1*(1/7)*dt + (10/7)"
   ]
  },
  {
   "cell_type": "code",
   "execution_count": null,
   "id": "f3f59a6a",
   "metadata": {
    "ExecuteTime": {
     "end_time": "2022-08-25T01:45:53.002062Z",
     "start_time": "2022-08-25T01:45:52.840971Z"
    }
   },
   "outputs": [],
   "source": [
    "sns.distplot(tmp_df[(tmp_df[\"bb\"]<180) & (tmp_df[\"bb\"]>70)][\"interval\"])\n",
    "#降到正常血糖\n",
    "dt=60\n",
    "-1*(1/12)*dt + (65/6)\n"
   ]
  },
  {
   "cell_type": "code",
   "execution_count": null,
   "id": "595bb75a",
   "metadata": {},
   "outputs": [],
   "source": []
  },
  {
   "cell_type": "code",
   "execution_count": null,
   "id": "28942380",
   "metadata": {},
   "outputs": [],
   "source": []
  }
 ],
 "metadata": {
  "kernelspec": {
   "display_name": "Python [conda env:mytensor]",
   "language": "python",
   "name": "conda-env-mytensor-py"
  },
  "language_info": {
   "codemirror_mode": {
    "name": "ipython",
    "version": 3
   },
   "file_extension": ".py",
   "mimetype": "text/x-python",
   "name": "python",
   "nbconvert_exporter": "python",
   "pygments_lexer": "ipython3",
   "version": "3.9.12"
  },
  "toc": {
   "base_numbering": 1,
   "nav_menu": {},
   "number_sections": true,
   "sideBar": true,
   "skip_h1_title": false,
   "title_cell": "Table of Contents",
   "title_sidebar": "Contents",
   "toc_cell": false,
   "toc_position": {
    "height": "calc(100% - 180px)",
    "left": "10px",
    "top": "150px",
    "width": "231.447px"
   },
   "toc_section_display": true,
   "toc_window_display": true
  },
  "varInspector": {
   "cols": {
    "lenName": 16,
    "lenType": 16,
    "lenVar": 40
   },
   "kernels_config": {
    "python": {
     "delete_cmd_postfix": "",
     "delete_cmd_prefix": "del ",
     "library": "var_list.py",
     "varRefreshCmd": "print(var_dic_list())"
    },
    "r": {
     "delete_cmd_postfix": ") ",
     "delete_cmd_prefix": "rm(",
     "library": "var_list.r",
     "varRefreshCmd": "cat(var_dic_list()) "
    }
   },
   "types_to_exclude": [
    "module",
    "function",
    "builtin_function_or_method",
    "instance",
    "_Feature"
   ],
   "window_display": false
  }
 },
 "nbformat": 4,
 "nbformat_minor": 5
}
