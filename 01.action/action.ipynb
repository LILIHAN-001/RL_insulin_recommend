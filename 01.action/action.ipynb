{
 "cells": [
  {
   "cell_type": "code",
   "execution_count": 2,
   "id": "3008803a",
   "metadata": {
    "ExecuteTime": {
     "end_time": "2022-08-23T08:50:48.509227Z",
     "start_time": "2022-08-23T08:50:47.280918Z"
    }
   },
   "outputs": [],
   "source": [
    "import pandas as pd\n",
    "pd.set_option(\"display.max_rows\", 200)\n",
    "\n",
    "import os\n",
    "import numpy as np\n",
    "import seaborn as sns\n",
    "import matplotlib.pyplot as plt\n",
    "import missingno as msno\n",
    "import datetime\n",
    "\n",
    "import warnings\n",
    "from pandas.core.common import SettingWithCopyWarning\n",
    "warnings.simplefilter(action=\"ignore\", category=SettingWithCopyWarning)"
   ]
  },
  {
   "cell_type": "markdown",
   "id": "46a49f43",
   "metadata": {
    "ExecuteTime": {
     "end_time": "2022-07-04T02:32:05.340639Z",
     "start_time": "2022-07-04T02:31:45.855360Z"
    },
    "run_control": {
     "marked": true
    }
   },
   "source": [
    "# 生成A_insulin_regular.csv\n",
    "- 连接相同速率的用药记录 df_ac_cor\n",
    "- 异常长度的用药记录\n",
    "- 异常大小的用药速率"
   ]
  },
  {
   "cell_type": "code",
   "execution_count": 6,
   "id": "9dc195b6",
   "metadata": {
    "ExecuteTime": {
     "end_time": "2022-08-23T08:56:58.477348Z",
     "start_time": "2022-08-23T08:56:57.219680Z"
    },
    "run_control": {
     "marked": true
    }
   },
   "outputs": [
    {
     "data": {
      "text/html": [
       "<div>\n",
       "<style scoped>\n",
       "    .dataframe tbody tr th:only-of-type {\n",
       "        vertical-align: middle;\n",
       "    }\n",
       "\n",
       "    .dataframe tbody tr th {\n",
       "        vertical-align: top;\n",
       "    }\n",
       "\n",
       "    .dataframe thead th {\n",
       "        text-align: right;\n",
       "    }\n",
       "</style>\n",
       "<table border=\"1\" class=\"dataframe\">\n",
       "  <thead>\n",
       "    <tr style=\"text-align: right;\">\n",
       "      <th></th>\n",
       "      <th>stay_id</th>\n",
       "      <th>starttime</th>\n",
       "      <th>endtime</th>\n",
       "      <th>amount</th>\n",
       "      <th>rate</th>\n",
       "    </tr>\n",
       "  </thead>\n",
       "  <tbody>\n",
       "    <tr>\n",
       "      <th>0</th>\n",
       "      <td>30000213</td>\n",
       "      <td>2162-06-21 05:40:00</td>\n",
       "      <td>2162-06-21 06:06:00</td>\n",
       "      <td>3.466667</td>\n",
       "      <td>8.0</td>\n",
       "    </tr>\n",
       "    <tr>\n",
       "      <th>1</th>\n",
       "      <td>30000213</td>\n",
       "      <td>2162-06-21 06:06:00</td>\n",
       "      <td>2162-06-21 07:18:00</td>\n",
       "      <td>2.400000</td>\n",
       "      <td>2.0</td>\n",
       "    </tr>\n",
       "  </tbody>\n",
       "</table>\n",
       "</div>"
      ],
      "text/plain": [
       "    stay_id           starttime             endtime    amount  rate\n",
       "0  30000213 2162-06-21 05:40:00 2162-06-21 06:06:00  3.466667   8.0\n",
       "1  30000213 2162-06-21 06:06:00 2162-06-21 07:18:00  2.400000   2.0"
      ]
     },
     "execution_count": 6,
     "metadata": {},
     "output_type": "execute_result"
    }
   ],
   "source": [
    "infile = \"/public/hanl/jupyter_dir/ir_recommend_v2/00.data/ir_icu_allinsulin.csv\"\n",
    "df_ac = pd.read_csv(infile)\n",
    "df_ac = df_ac[df_ac[\"ordercategoryname\"] ==\"01-Drips\"]\n",
    "df_ac = df_ac.loc[:,['stay_id', 'starttime', 'endtime', 'amount', 'rate']]\n",
    "df_ac[\"starttime\"] = pd.to_datetime(df_ac[\"starttime\"], format='%d/%m/%Y %H:%M:%S')\n",
    "df_ac[\"endtime\"] = pd.to_datetime(df_ac[\"endtime\"], format='%d/%m/%Y %H:%M:%S')\n",
    "df_ac= df_ac.sort_values(by=[\"stay_id\", \"starttime\"])\n",
    "df_ac.head(2)"
   ]
  },
  {
   "cell_type": "markdown",
   "id": "e408c0c2",
   "metadata": {},
   "source": [
    "## 连接相同速率，因换药/护士暂停导致新纪录的用药"
   ]
  },
  {
   "cell_type": "code",
   "execution_count": 7,
   "id": "f319607e",
   "metadata": {
    "ExecuteTime": {
     "end_time": "2022-08-23T09:18:09.381367Z",
     "start_time": "2022-08-23T09:18:09.371220Z"
    }
   },
   "outputs": [
    {
     "name": "stdout",
     "output_type": "stream",
     "text": [
      "(1696, 7)\n",
      "1303\n"
     ]
    }
   ],
   "source": [
    "tmp_df = pd.DataFrame()\n",
    "for i,j in df_ac.groupby(\"stay_id\"):\n",
    "    j[\"next_rate\"] = j[\"rate\"].shift(-1)\n",
    "    j[\"d_rate\"] = j[\"next_rate\"]-j[\"rate\"]\n",
    "    tmp_df = pd.concat([tmp_df, j])\n",
    "df_ac_Add = tmp_df\n",
    "\n",
    "print(df_ac_Add[df_ac_Add[\"d_rate\"] == 0.0].shape)\n",
    "print(len(df_ac_Add[df_ac_Add[\"d_rate\"] == 0.0].stay_id.drop_duplicates().tolist()))"
   ]
  },
  {
   "cell_type": "code",
   "execution_count": 8,
   "id": "7c074891",
   "metadata": {
    "ExecuteTime": {
     "end_time": "2022-08-23T09:19:25.637319Z",
     "start_time": "2022-08-23T09:18:24.852853Z"
    }
   },
   "outputs": [
    {
     "name": "stdout",
     "output_type": "stream",
     "text": [
      "patient num: 1303\n"
     ]
    }
   ],
   "source": [
    "record_needchange_lst = df_ac_Add[df_ac_Add[\"d_rate\"] == 0.0].stay_id.drop_duplicates().tolist()\n",
    "print(\"patient num: \" + str(len(record_needchange_lst)))\n",
    "df_interval_merge = df_ac_Add[df_ac_Add[\"stay_id\"].isin(record_needchange_lst)]\n",
    "\n",
    "# df_interval_merge指需要合并的病人数据\n",
    "df_interval_merged = pd.DataFrame(columns=[\"stay_id\", \"starttime\", \"endtime\", \"amount\", \"rate\"])\n",
    "for i,j in df_interval_merge.groupby(by=\"stay_id\"):   \n",
    "    switch=0\n",
    "    for row in j.itertuples():\n",
    "        if row.rate == row.next_rate and switch == 0:\n",
    "            last_stay_id = row.stay_id\n",
    "            last_starttime = row.starttime\n",
    "            last_endtime = row.endtime\n",
    "            last_amount = row.amount\n",
    "            last_rate = row.rate\n",
    "            switch = 1\n",
    "            continue\n",
    "        if row.rate != row.next_rate:\n",
    "            if switch == 1 and last_endtime == row.starttime:\n",
    "                df_interval_merged.loc[len(df_interval_merged)] = [row.stay_id, last_starttime, row.endtime, last_amount+row.amount, row.rate]\n",
    "                switch = 0\n",
    "            elif switch == 1 and last_endtime != row.starttime:\n",
    "                df_interval_merged.loc[len(df_interval_merged)] = [row.stay_id, last_starttime, last_endtime, last_amount, last_rate]\n",
    "                df_interval_merged.loc[len(df_interval_merged)] = [row.stay_id, row.starttime, row.endtime, row.amount, row.rate]\n",
    "                switch = 0\n",
    "            else:\n",
    "                df_interval_merged.loc[len(df_interval_merged)] = [row.stay_id, row.starttime, row.endtime, row.amount, row.rate]\n",
    "                \n",
    "df_interval_merged = df_interval_merged.sort_values(by=[\"stay_id\",\"starttime\"]) \n",
    "# df_interval_merged 指合并后的数据"
   ]
  },
  {
   "cell_type": "markdown",
   "id": "611e78fd",
   "metadata": {
    "run_control": {
     "marked": true
    }
   },
   "source": [
    "## 删除df_ac原来未合并的数据，并添加新的合并后的数据进去"
   ]
  },
  {
   "cell_type": "code",
   "execution_count": 10,
   "id": "b8e40991",
   "metadata": {
    "ExecuteTime": {
     "end_time": "2022-08-23T09:19:51.660418Z",
     "start_time": "2022-08-23T09:19:51.647964Z"
    },
    "run_control": {
     "marked": true
    }
   },
   "outputs": [
    {
     "name": "stdout",
     "output_type": "stream",
     "text": [
      "(130642, 5)\n",
      "11624\n"
     ]
    }
   ],
   "source": [
    "tmp_df = df_ac[~df_ac[\"stay_id\"].isin(record_needchange_lst)]\n",
    "df_ac_cor = pd.concat([tmp_df, df_interval_merged], axis = 0)\n",
    "print(df_ac_cor.shape)\n",
    "print(len(df_ac_cor.stay_id.unique()))"
   ]
  },
  {
   "cell_type": "markdown",
   "id": "eac27ee0",
   "metadata": {},
   "source": [
    "## 异常长度的interval 过滤\n",
    "- 通过数据我们观察到,以某一速率给入insulin regular的时长都在2day以内，故不对数据进行过滤。\n",
    "- 且rate相同的记录合并并没有在时长上有显著的增加"
   ]
  },
  {
   "cell_type": "code",
   "execution_count": 14,
   "id": "d86e22c0",
   "metadata": {
    "ExecuteTime": {
     "end_time": "2022-08-23T09:22:12.828688Z",
     "start_time": "2022-08-23T09:22:11.540926Z"
    }
   },
   "outputs": [
    {
     "data": {
      "text/html": [
       "<div>\n",
       "<style scoped>\n",
       "    .dataframe tbody tr th:only-of-type {\n",
       "        vertical-align: middle;\n",
       "    }\n",
       "\n",
       "    .dataframe tbody tr th {\n",
       "        vertical-align: top;\n",
       "    }\n",
       "\n",
       "    .dataframe thead th {\n",
       "        text-align: right;\n",
       "    }\n",
       "</style>\n",
       "<table border=\"1\" class=\"dataframe\">\n",
       "  <thead>\n",
       "    <tr style=\"text-align: right;\">\n",
       "      <th></th>\n",
       "      <th>stay_id</th>\n",
       "      <th>starttime</th>\n",
       "      <th>endtime</th>\n",
       "      <th>amount</th>\n",
       "      <th>rate</th>\n",
       "      <th>interval</th>\n",
       "    </tr>\n",
       "  </thead>\n",
       "  <tbody>\n",
       "    <tr>\n",
       "      <th>240790</th>\n",
       "      <td>39806898</td>\n",
       "      <td>2143-05-23 00:02:00</td>\n",
       "      <td>2143-05-25 12:09:00</td>\n",
       "      <td>60.116670</td>\n",
       "      <td>1.000000</td>\n",
       "      <td>60.116667</td>\n",
       "    </tr>\n",
       "    <tr>\n",
       "      <th>18991</th>\n",
       "      <td>30720284</td>\n",
       "      <td>2130-12-21 20:41:00</td>\n",
       "      <td>2130-12-23 22:41:00</td>\n",
       "      <td>100.000005</td>\n",
       "      <td>2.000000</td>\n",
       "      <td>50.000000</td>\n",
       "    </tr>\n",
       "    <tr>\n",
       "      <th>38231</th>\n",
       "      <td>31516673</td>\n",
       "      <td>2130-10-22 14:59:00</td>\n",
       "      <td>2130-10-24 15:36:00</td>\n",
       "      <td>24.276001</td>\n",
       "      <td>0.499335</td>\n",
       "      <td>48.616667</td>\n",
       "    </tr>\n",
       "    <tr>\n",
       "      <th>59712</th>\n",
       "      <td>32336965</td>\n",
       "      <td>2124-08-12 17:50:00</td>\n",
       "      <td>2124-08-14 16:32:00</td>\n",
       "      <td>46.700002</td>\n",
       "      <td>1.000000</td>\n",
       "      <td>46.700000</td>\n",
       "    </tr>\n",
       "    <tr>\n",
       "      <th>43756</th>\n",
       "      <td>31706988</td>\n",
       "      <td>2183-01-12 09:05:00</td>\n",
       "      <td>2183-01-14 06:00:00</td>\n",
       "      <td>89.692612</td>\n",
       "      <td>1.996867</td>\n",
       "      <td>44.916667</td>\n",
       "    </tr>\n",
       "  </tbody>\n",
       "</table>\n",
       "</div>"
      ],
      "text/plain": [
       "         stay_id           starttime             endtime      amount  \\\n",
       "240790  39806898 2143-05-23 00:02:00 2143-05-25 12:09:00   60.116670   \n",
       "18991   30720284 2130-12-21 20:41:00 2130-12-23 22:41:00  100.000005   \n",
       "38231   31516673 2130-10-22 14:59:00 2130-10-24 15:36:00   24.276001   \n",
       "59712   32336965 2124-08-12 17:50:00 2124-08-14 16:32:00   46.700002   \n",
       "43756   31706988 2183-01-12 09:05:00 2183-01-14 06:00:00   89.692612   \n",
       "\n",
       "            rate   interval  \n",
       "240790  1.000000  60.116667  \n",
       "18991   2.000000  50.000000  \n",
       "38231   0.499335  48.616667  \n",
       "59712   1.000000  46.700000  \n",
       "43756   1.996867  44.916667  "
      ]
     },
     "execution_count": 14,
     "metadata": {},
     "output_type": "execute_result"
    }
   ],
   "source": [
    "# 合并前的interval 统计\n",
    "tmp_df = df_ac\n",
    "tmp_df[\"interval\"] = (tmp_df[\"endtime\"] - tmp_df[\"starttime\"]).map(lambda x:x/np.timedelta64(1, 'h')).tolist()\n",
    "tmp_df.sort_values(by = \"interval\", ascending=False).head(5)"
   ]
  },
  {
   "cell_type": "code",
   "execution_count": 12,
   "id": "fb559428",
   "metadata": {
    "ExecuteTime": {
     "end_time": "2022-08-23T09:22:43.671892Z",
     "start_time": "2022-08-23T09:22:42.572762Z"
    }
   },
   "outputs": [
    {
     "data": {
      "text/html": [
       "<div>\n",
       "<style scoped>\n",
       "    .dataframe tbody tr th:only-of-type {\n",
       "        vertical-align: middle;\n",
       "    }\n",
       "\n",
       "    .dataframe tbody tr th {\n",
       "        vertical-align: top;\n",
       "    }\n",
       "\n",
       "    .dataframe thead th {\n",
       "        text-align: right;\n",
       "    }\n",
       "</style>\n",
       "<table border=\"1\" class=\"dataframe\">\n",
       "  <thead>\n",
       "    <tr style=\"text-align: right;\">\n",
       "      <th></th>\n",
       "      <th>stay_id</th>\n",
       "      <th>starttime</th>\n",
       "      <th>endtime</th>\n",
       "      <th>amount</th>\n",
       "      <th>rate</th>\n",
       "      <th>interval</th>\n",
       "    </tr>\n",
       "  </thead>\n",
       "  <tbody>\n",
       "    <tr>\n",
       "      <th>240790</th>\n",
       "      <td>39806898</td>\n",
       "      <td>2143-05-23 00:02:00</td>\n",
       "      <td>2143-05-25 12:09:00</td>\n",
       "      <td>60.116670</td>\n",
       "      <td>1.000000</td>\n",
       "      <td>60.116667</td>\n",
       "    </tr>\n",
       "    <tr>\n",
       "      <th>3092</th>\n",
       "      <td>30720284</td>\n",
       "      <td>2130-12-21 20:41:00</td>\n",
       "      <td>2130-12-23 22:41:00</td>\n",
       "      <td>100.000005</td>\n",
       "      <td>2.000000</td>\n",
       "      <td>50.000000</td>\n",
       "    </tr>\n",
       "    <tr>\n",
       "      <th>38231</th>\n",
       "      <td>31516673</td>\n",
       "      <td>2130-10-22 14:59:00</td>\n",
       "      <td>2130-10-24 15:36:00</td>\n",
       "      <td>24.276001</td>\n",
       "      <td>0.499335</td>\n",
       "      <td>48.616667</td>\n",
       "    </tr>\n",
       "    <tr>\n",
       "      <th>59712</th>\n",
       "      <td>32336965</td>\n",
       "      <td>2124-08-12 17:50:00</td>\n",
       "      <td>2124-08-14 16:32:00</td>\n",
       "      <td>46.700002</td>\n",
       "      <td>1.000000</td>\n",
       "      <td>46.700000</td>\n",
       "    </tr>\n",
       "    <tr>\n",
       "      <th>43756</th>\n",
       "      <td>31706988</td>\n",
       "      <td>2183-01-12 09:05:00</td>\n",
       "      <td>2183-01-14 06:00:00</td>\n",
       "      <td>89.692612</td>\n",
       "      <td>1.996867</td>\n",
       "      <td>44.916667</td>\n",
       "    </tr>\n",
       "  </tbody>\n",
       "</table>\n",
       "</div>"
      ],
      "text/plain": [
       "         stay_id           starttime             endtime      amount  \\\n",
       "240790  39806898 2143-05-23 00:02:00 2143-05-25 12:09:00   60.116670   \n",
       "3092    30720284 2130-12-21 20:41:00 2130-12-23 22:41:00  100.000005   \n",
       "38231   31516673 2130-10-22 14:59:00 2130-10-24 15:36:00   24.276001   \n",
       "59712   32336965 2124-08-12 17:50:00 2124-08-14 16:32:00   46.700002   \n",
       "43756   31706988 2183-01-12 09:05:00 2183-01-14 06:00:00   89.692612   \n",
       "\n",
       "            rate   interval  \n",
       "240790  1.000000  60.116667  \n",
       "3092    2.000000  50.000000  \n",
       "38231   0.499335  48.616667  \n",
       "59712   1.000000  46.700000  \n",
       "43756   1.996867  44.916667  "
      ]
     },
     "execution_count": 12,
     "metadata": {},
     "output_type": "execute_result"
    }
   ],
   "source": [
    "# 合并前的interval 统计\n",
    "tmp_df = df_ac_cor #df_ac_cor是合并相同rate记录dataframe\n",
    "tmp_df[\"interval\"] = (tmp_df[\"endtime\"] - tmp_df[\"starttime\"]).map(lambda x:x/np.timedelta64(1, 'h')).tolist()\n",
    "tmp_df.sort_values(by = \"interval\", ascending=False).head(5)"
   ]
  },
  {
   "cell_type": "markdown",
   "id": "ad33f7f7",
   "metadata": {},
   "source": [
    "## 异常rate 过滤"
   ]
  },
  {
   "cell_type": "markdown",
   "id": "fb8499b9",
   "metadata": {},
   "source": [
    "- article: Algorithm Maxima for Intravenous Insulin Infusion\n",
    "The maximum insulin infusion rate in the highest column under the “Conservative” and “Standard Default” algorithms is 14.6 units/h and under the “Aggressive” algorithm is 29.2 unit/h.\n"
   ]
  },
  {
   "attachments": {
    "image.png": {
     "image/png": "[encoded data removed]"
    }
   },
   "cell_type": "markdown",
   "id": "7dfb4444",
   "metadata": {},
   "source": [
    "![image.png](attachment:image.png)"
   ]
  },
  {
   "cell_type": "markdown",
   "id": "724219bb",
   "metadata": {},
   "source": [
    "### 异常rate数据统计"
   ]
  },
  {
   "cell_type": "code",
   "execution_count": 52,
   "id": "96e95d98",
   "metadata": {
    "ExecuteTime": {
     "end_time": "2022-08-23T09:24:32.019296Z",
     "start_time": "2022-08-23T09:24:30.455783Z"
    },
    "collapsed": true,
    "run_control": {
     "marked": true
    }
   },
   "outputs": [
    {
     "name": "stderr",
     "output_type": "stream",
     "text": [
      "/home/hanl/miniconda3/envs/AUMCdb/lib/python3.8/site-packages/seaborn/distributions.py:2619: FutureWarning: `distplot` is a deprecated function and will be removed in a future version. Please adapt your code to use either `displot` (a figure-level function with similar flexibility) or `histplot` (an axes-level function for histograms).\n",
      "  warnings.warn(msg, FutureWarning)\n"
     ]
    },
    {
     "data": {
      "text/plain": [
       "<AxesSubplot:xlabel='rate', ylabel='Density'>"
      ]
     },
     "execution_count": 52,
     "metadata": {},
     "output_type": "execute_result"
    },
    {
     "data": {
      "image/png": "[encoded data removed]",
      "text/plain": [
       "<Figure size 432x288 with 1 Axes>"
      ]
     },
     "metadata": {
      "needs_background": "light"
     },
     "output_type": "display_data"
    }
   ],
   "source": [
    "# 经过该图，我们根据分布去除带有潜在异常值的记录\n",
    "sns.distplot(df_ac_cor[\"rate\"])"
   ]
  },
  {
   "cell_type": "code",
   "execution_count": 53,
   "id": "9f78ef70",
   "metadata": {
    "ExecuteTime": {
     "end_time": "2022-08-23T09:24:42.201021Z",
     "start_time": "2022-08-23T09:24:41.475655Z"
    }
   },
   "outputs": [
    {
     "name": "stderr",
     "output_type": "stream",
     "text": [
      "/home/hanl/miniconda3/envs/AUMCdb/lib/python3.8/site-packages/seaborn/distributions.py:2619: FutureWarning: `distplot` is a deprecated function and will be removed in a future version. Please adapt your code to use either `displot` (a figure-level function with similar flexibility) or `histplot` (an axes-level function for histograms).\n",
      "  warnings.warn(msg, FutureWarning)\n"
     ]
    },
    {
     "data": {
      "text/plain": [
       "<AxesSubplot:ylabel='Density'>"
      ]
     },
     "execution_count": 53,
     "metadata": {},
     "output_type": "execute_result"
    },
    {
     "data": {
      "image/png": "[encoded data removed]",
      "text/plain": [
       "<Figure size 432x288 with 1 Axes>"
      ]
     },
     "metadata": {
      "needs_background": "light"
     },
     "output_type": "display_data"
    }
   ],
   "source": [
    "sns.distplot([i for i in df_ac_cor[\"rate\"] if i < 30])"
   ]
  },
  {
   "cell_type": "code",
   "execution_count": 17,
   "id": "799247e6",
   "metadata": {
    "ExecuteTime": {
     "end_time": "2022-08-23T11:39:39.760937Z",
     "start_time": "2022-08-23T11:39:39.751739Z"
    }
   },
   "outputs": [
    {
     "name": "stdout",
     "output_type": "stream",
     "text": [
      "记录数：130861\n",
      "病人人数：11624\n",
      "rate > 15 unit/hour 的记录数：4978\n",
      "需要去除的病人人数：1116\n",
      "需要去除的记录数：34791\n"
     ]
    }
   ],
   "source": [
    "print(\"记录数：\" + str(df_ac.shape[0]))\n",
    "print(\"病人人数：\" + str(len(df_ac.stay_id.unique())))\n",
    "\n",
    "# 现去除 rate > 15 unit/hour 记录\n",
    "print(\"rate > 15 unit/hour 的记录数：\" + str(df_ac_cor[df_ac_cor[\"rate\"] > 15].shape[0]))\n",
    "print(\"需要去除的病人人数：\" + str(len(df_ac_cor[df_ac_cor[\"rate\"] > 15].stay_id.unique())))\n",
    "print(\"需要去除的记录数：\" + str(df_ac_cor[df_ac_cor[\"stay_id\"].isin(df_ac_cor[df_ac_cor[\"rate\"] > 15].stay_id.unique())].shape[0]))\n",
    "df_ac_cor.index = pd.RangeIndex(len(df_ac_cor.index))\n",
    "df_ac_cor[\"idx\"] = df_ac_cor.index"
   ]
  },
  {
   "cell_type": "markdown",
   "id": "be6937d1",
   "metadata": {
    "run_control": {
     "marked": true
    }
   },
   "source": [
    "### 异常rate 涉及的记录过多，删掉损失过多数据，故统计第一个异常rate后的数据与整个数据的时长占比\n",
    "- 异常rate值后面的记录数：总记录数\n",
    "- 异常rate前的可用时长：总时长"
   ]
  },
  {
   "cell_type": "code",
   "execution_count": 18,
   "id": "a466841f",
   "metadata": {
    "ExecuteTime": {
     "end_time": "2022-08-23T11:50:09.413524Z",
     "start_time": "2022-08-23T11:49:42.921556Z"
    }
   },
   "outputs": [],
   "source": [
    "rate_line = 15\n",
    "tmp_df = pd.DataFrame(columns=[\"stay_id\",\"first_M30_rowline\", \"max_rowline\",\"avil_interval\",\"tot_interval\"])\n",
    "tmp_df2 = pd.DataFrame()\n",
    "\n",
    "for i,j in df_ac_cor.groupby(by=[\"stay_id\"]):\n",
    "    j['rowline'] = range(len(j))\n",
    "    tmp_df2 = pd.concat([tmp_df2,j])\n",
    "    \n",
    "    max_rowline = max(j[\"rowline\"])\n",
    "    avil_interval = sum(j[j[\"rate\"]<=rate_line][\"interval\"])\n",
    "    tot_interval = sum(j[\"interval\"])\n",
    "    if j[j[\"rate\"]>rate_line].shape[0] != 0:\n",
    "        first_M30_rowline = min(j[j[\"rate\"]>rate_line][\"rowline\"])\n",
    "        tmp_df.loc[len(tmp_df)] = [i, first_M30_rowline,max_rowline,avil_interval, tot_interval ]\n",
    "tmp_df[\"d_interval\"] = tmp_df[\"tot_interval\"] - tmp_df[\"avil_interval\"]\n",
    "df_rate_ab = tmp_df"
   ]
  },
  {
   "cell_type": "code",
   "execution_count": 19,
   "id": "1e525e5a",
   "metadata": {
    "ExecuteTime": {
     "end_time": "2022-08-23T11:52:04.640707Z",
     "start_time": "2022-08-23T11:52:04.198327Z"
    },
    "collapsed": true
   },
   "outputs": [
    {
     "name": "stderr",
     "output_type": "stream",
     "text": [
      "/home/hanl/miniconda3/envs/AUMCdb/lib/python3.8/site-packages/seaborn/distributions.py:2619: FutureWarning: `distplot` is a deprecated function and will be removed in a future version. Please adapt your code to use either `displot` (a figure-level function with similar flexibility) or `histplot` (an axes-level function for histograms).\n",
      "  warnings.warn(msg, FutureWarning)\n"
     ]
    },
    {
     "name": "stdout",
     "output_type": "stream",
     "text": [
      "1 2 18\n",
      "3 4 23\n",
      "5 6 23\n",
      "7 8 29\n",
      "9 10 33\n",
      "11 12 18\n",
      "13 14 30\n",
      "15 16 31\n",
      "17 18 19\n",
      "19 20 17\n",
      "21 22 18\n",
      "23 24 11\n",
      "25 26 14\n",
      "27 28 5\n",
      "29 30 12\n",
      "31 32 13\n",
      "33 34 13\n",
      "35 36 13\n",
      "37 38 9\n",
      "39 40 6\n",
      "41 42 5\n",
      "43 44 5\n",
      "45 46 13\n",
      "47 48 8\n",
      "49 50 4\n"
     ]
    },
    {
     "data": {
      "image/png": "[encoded data removed]",
      "text/plain": [
       "<Figure size 432x288 with 1 Axes>"
      ]
     },
     "metadata": {
      "needs_background": "light"
     },
     "output_type": "display_data"
    }
   ],
   "source": [
    "sns.distplot([i for i in df_rate_ab[\"avil_interval\"] if i< 100])\n",
    "\n",
    "for i in range(1,50,2):\n",
    "    lst = [n for n in df_rate_ab[\"avil_interval\"] if (n <= i+1) & (n >=i)]\n",
    "    print(i, i+1, len(lst))"
   ]
  },
  {
   "cell_type": "code",
   "execution_count": 20,
   "id": "6210759d",
   "metadata": {
    "ExecuteTime": {
     "end_time": "2022-08-23T11:52:09.517831Z",
     "start_time": "2022-08-23T11:52:09.375204Z"
    },
    "collapsed": true,
    "run_control": {
     "marked": true
    }
   },
   "outputs": [
    {
     "name": "stdout",
     "output_type": "stream",
     "text": [
      "1 2 147\n",
      "3 4 128\n",
      "5 6 68\n",
      "7 8 39\n",
      "9 10 32\n",
      "11 12 24\n",
      "13 14 16\n",
      "15 16 10\n",
      "17 18 5\n",
      "19 20 9\n"
     ]
    },
    {
     "name": "stderr",
     "output_type": "stream",
     "text": [
      "/home/hanl/miniconda3/envs/AUMCdb/lib/python3.8/site-packages/seaborn/distributions.py:2619: FutureWarning: `distplot` is a deprecated function and will be removed in a future version. Please adapt your code to use either `displot` (a figure-level function with similar flexibility) or `histplot` (an axes-level function for histograms).\n",
      "  warnings.warn(msg, FutureWarning)\n"
     ]
    },
    {
     "data": {
      "image/png": "[encoded data removed]",
      "text/plain": [
       "<Figure size 432x288 with 1 Axes>"
      ]
     },
     "metadata": {
      "needs_background": "light"
     },
     "output_type": "display_data"
    }
   ],
   "source": [
    "sns.distplot([i for i in df_rate_ab[\"d_interval\"] if i <20])\n",
    "for i in range(1,20,2):\n",
    "    lst = [n for n in df_rate_ab[\"d_interval\"] if (n <= i+1) & (n >=i)]\n",
    "    print(i, i+1, len(lst))"
   ]
  },
  {
   "cell_type": "code",
   "execution_count": 22,
   "id": "e9523159",
   "metadata": {
    "ExecuteTime": {
     "end_time": "2022-08-23T11:52:13.996187Z",
     "start_time": "2022-08-23T11:52:13.993109Z"
    },
    "run_control": {
     "marked": true
    }
   },
   "outputs": [
    {
     "name": "stdout",
     "output_type": "stream",
     "text": [
      "rate前interval总时长， 总时长， rate后的interval总时长（hour）\n",
      "60610.43 67178.7 6568.27\n"
     ]
    }
   ],
   "source": [
    "# 根据统计的结果我们认为异常rate后的数据仅占小部分,因此删除异常rate后的interval记录\n",
    "print(\"rate前interval总时长， 总时长， rate后的interval总时长（hour）\")\n",
    "print(round(sum(df_rate_ab[\"avil_interval\"]),2),round(sum(df_rate_ab[\"tot_interval\"]),2), round(sum(df_rate_ab[\"d_interval\"]),2))"
   ]
  },
  {
   "cell_type": "markdown",
   "id": "563442a7",
   "metadata": {},
   "source": [
    "#### 删除异常rate后的interval记录"
   ]
  },
  {
   "cell_type": "code",
   "execution_count": 23,
   "id": "7e15987c",
   "metadata": {
    "ExecuteTime": {
     "end_time": "2022-08-23T11:57:33.603475Z",
     "start_time": "2022-08-23T11:57:12.806433Z"
    }
   },
   "outputs": [],
   "source": [
    "tmp_df = pd.DataFrame()\n",
    "for i,j in df_ac_cor.groupby(by=[\"stay_id\"]):\n",
    "    j['rowline'] = range(len(j))\n",
    "    \n",
    "    if j[j[\"rate\"]>15].shape[0] != 0:\n",
    "        first_M30_rowline = min(j[j[\"rate\"]>15][\"rowline\"])\n",
    "        j = j[j[\"rowline\"] < first_M30_rowline]\n",
    "        tmp_df = pd.concat([tmp_df, j])\n",
    "    else:\n",
    "        tmp_df = pd.concat([tmp_df, j])\n",
    "df_ac_c2 = tmp_df\n",
    "df_ac_c2 = df_ac_c2.drop([\"rowline\"],axis=1)"
   ]
  },
  {
   "cell_type": "markdown",
   "id": "35c22164",
   "metadata": {},
   "source": [
    "## 输出action"
   ]
  },
  {
   "cell_type": "code",
   "execution_count": 36,
   "id": "2607bc96",
   "metadata": {
    "ExecuteTime": {
     "end_time": "2022-08-23T12:17:39.001256Z",
     "start_time": "2022-08-23T12:17:38.994626Z"
    }
   },
   "outputs": [
    {
     "name": "stdout",
     "output_type": "stream",
     "text": [
      "130861 11624\n",
      "130642 11624\n",
      "104547 11576\n"
     ]
    }
   ],
   "source": [
    "print(df_ac.shape[0], len(df_ac.stay_id.unique()))\n",
    "print(df_ac_cor.shape[0], len(df_ac_cor.stay_id.unique()))\n",
    "print(df_ac_c2.shape[0], len(df_ac_c2.stay_id.unique()))"
   ]
  },
  {
   "cell_type": "code",
   "execution_count": 39,
   "id": "6f1bb513",
   "metadata": {
    "ExecuteTime": {
     "end_time": "2022-08-23T12:20:05.662058Z",
     "start_time": "2022-08-23T12:20:04.779848Z"
    }
   },
   "outputs": [
    {
     "data": {
      "text/html": [
       "<div>\n",
       "<style scoped>\n",
       "    .dataframe tbody tr th:only-of-type {\n",
       "        vertical-align: middle;\n",
       "    }\n",
       "\n",
       "    .dataframe tbody tr th {\n",
       "        vertical-align: top;\n",
       "    }\n",
       "\n",
       "    .dataframe thead th {\n",
       "        text-align: right;\n",
       "    }\n",
       "</style>\n",
       "<table border=\"1\" class=\"dataframe\">\n",
       "  <thead>\n",
       "    <tr style=\"text-align: right;\">\n",
       "      <th></th>\n",
       "      <th>stay_id</th>\n",
       "      <th>starttime</th>\n",
       "      <th>endtime</th>\n",
       "      <th>amount</th>\n",
       "      <th>rate</th>\n",
       "    </tr>\n",
       "  </thead>\n",
       "  <tbody>\n",
       "    <tr>\n",
       "      <th>0</th>\n",
       "      <td>30000213</td>\n",
       "      <td>2162-06-21 05:40:00</td>\n",
       "      <td>2162-06-21 06:06:00</td>\n",
       "      <td>3.466667</td>\n",
       "      <td>8.0</td>\n",
       "    </tr>\n",
       "    <tr>\n",
       "      <th>1</th>\n",
       "      <td>30000213</td>\n",
       "      <td>2162-06-21 06:06:00</td>\n",
       "      <td>2162-06-21 07:18:00</td>\n",
       "      <td>2.400000</td>\n",
       "      <td>2.0</td>\n",
       "    </tr>\n",
       "  </tbody>\n",
       "</table>\n",
       "</div>"
      ],
      "text/plain": [
       "    stay_id           starttime             endtime    amount  rate\n",
       "0  30000213 2162-06-21 05:40:00 2162-06-21 06:06:00  3.466667   8.0\n",
       "1  30000213 2162-06-21 06:06:00 2162-06-21 07:18:00  2.400000   2.0"
      ]
     },
     "execution_count": 39,
     "metadata": {},
     "output_type": "execute_result"
    }
   ],
   "source": [
    "df_ac_c2 = df_ac_c2.drop([\"idx\",\"interval\"],axis=1)\n",
    "df_acf = df_ac_c2\n",
    "df_acf.to_csv(\"A_insulin_regular.csv\", index= False)\n",
    "df_acf.head(2)"
   ]
  },
  {
   "cell_type": "markdown",
   "id": "0c58f28c",
   "metadata": {},
   "source": [
    "像我们之前考虑的RR中没有glucose就进行了调节等这样的问题暂不考虑"
   ]
  },
  {
   "cell_type": "code",
   "execution_count": 41,
   "id": "7f5424fa",
   "metadata": {
    "ExecuteTime": {
     "end_time": "2022-08-23T12:20:43.409393Z",
     "start_time": "2022-08-23T12:20:43.078396Z"
    },
    "run_control": {
     "marked": false
    }
   },
   "outputs": [],
   "source": []
  },
  {
   "cell_type": "markdown",
   "id": "05b5def5",
   "metadata": {},
   "source": [
    "# 形成60min 窗口(结合action)\n",
    "- 若区间大于60min，每次输入一个区间，按30min的窗口划动，最后一个窗口从结束时间向前倒推60min\n",
    "- 若区间小于60min，以该区间为一个窗口\n"
   ]
  },
  {
   "cell_type": "code",
   "execution_count": null,
   "id": "d2cb83b5",
   "metadata": {},
   "outputs": [],
   "source": [
    "df_ac = pd.read_csv(\"A_insulin_regular.csv\")\n",
    "df_ac[\"starttime\"] = pd.to_datetime(df_ac[\"starttime\"])\n",
    "df_ac[\"endtime\"] = pd.to_datetime(df_ac[\"endtime\"])\n",
    "df_ac = df_ac.sort_values(by=[\"stay_id\", \"starttime\"])"
   ]
  },
  {
   "cell_type": "code",
   "execution_count": 58,
   "id": "26564532",
   "metadata": {
    "collapsed": true
   },
   "outputs": [
    {
     "data": {
      "text/html": [
       "<div>\n",
       "<style scoped>\n",
       "    .dataframe tbody tr th:only-of-type {\n",
       "        vertical-align: middle;\n",
       "    }\n",
       "\n",
       "    .dataframe tbody tr th {\n",
       "        vertical-align: top;\n",
       "    }\n",
       "\n",
       "    .dataframe thead th {\n",
       "        text-align: right;\n",
       "    }\n",
       "</style>\n",
       "<table border=\"1\" class=\"dataframe\">\n",
       "  <thead>\n",
       "    <tr style=\"text-align: right;\">\n",
       "      <th></th>\n",
       "      <th>stay_id</th>\n",
       "      <th>starttime</th>\n",
       "      <th>endtime</th>\n",
       "      <th>amount</th>\n",
       "      <th>rate</th>\n",
       "    </tr>\n",
       "  </thead>\n",
       "  <tbody>\n",
       "    <tr>\n",
       "      <th>0</th>\n",
       "      <td>30000213</td>\n",
       "      <td>2162-06-21 05:40:00</td>\n",
       "      <td>2162-06-21 06:06:00</td>\n",
       "      <td>3.466667</td>\n",
       "      <td>8.00000</td>\n",
       "    </tr>\n",
       "    <tr>\n",
       "      <th>1</th>\n",
       "      <td>30000213</td>\n",
       "      <td>2162-06-21 06:06:00</td>\n",
       "      <td>2162-06-21 07:18:00</td>\n",
       "      <td>2.400000</td>\n",
       "      <td>2.00000</td>\n",
       "    </tr>\n",
       "    <tr>\n",
       "      <th>2</th>\n",
       "      <td>30001148</td>\n",
       "      <td>2156-08-30 19:15:00</td>\n",
       "      <td>2156-08-30 22:00:00</td>\n",
       "      <td>5.500000</td>\n",
       "      <td>2.00000</td>\n",
       "    </tr>\n",
       "    <tr>\n",
       "      <th>3</th>\n",
       "      <td>30002415</td>\n",
       "      <td>2126-12-17 11:59:00</td>\n",
       "      <td>2126-12-17 15:16:00</td>\n",
       "      <td>9.850000</td>\n",
       "      <td>3.00000</td>\n",
       "    </tr>\n",
       "    <tr>\n",
       "      <th>4</th>\n",
       "      <td>30002415</td>\n",
       "      <td>2126-12-17 15:16:00</td>\n",
       "      <td>2126-12-17 16:19:00</td>\n",
       "      <td>4.200777</td>\n",
       "      <td>4.00074</td>\n",
       "    </tr>\n",
       "    <tr>\n",
       "      <th>...</th>\n",
       "      <td>...</td>\n",
       "      <td>...</td>\n",
       "      <td>...</td>\n",
       "      <td>...</td>\n",
       "      <td>...</td>\n",
       "    </tr>\n",
       "    <tr>\n",
       "      <th>104542</th>\n",
       "      <td>39999552</td>\n",
       "      <td>2186-07-17 18:49:00</td>\n",
       "      <td>2186-07-17 20:18:00</td>\n",
       "      <td>5.933334</td>\n",
       "      <td>4.00000</td>\n",
       "    </tr>\n",
       "    <tr>\n",
       "      <th>104543</th>\n",
       "      <td>39999552</td>\n",
       "      <td>2186-07-17 20:18:00</td>\n",
       "      <td>2186-07-17 20:25:00</td>\n",
       "      <td>0.349937</td>\n",
       "      <td>2.99946</td>\n",
       "    </tr>\n",
       "    <tr>\n",
       "      <th>104544</th>\n",
       "      <td>39999552</td>\n",
       "      <td>2186-07-17 20:25:00</td>\n",
       "      <td>2186-07-17 23:19:00</td>\n",
       "      <td>2.899478</td>\n",
       "      <td>0.99982</td>\n",
       "    </tr>\n",
       "    <tr>\n",
       "      <th>104545</th>\n",
       "      <td>39999552</td>\n",
       "      <td>2186-07-17 23:19:00</td>\n",
       "      <td>2186-07-18 04:18:00</td>\n",
       "      <td>9.964872</td>\n",
       "      <td>1.99964</td>\n",
       "    </tr>\n",
       "    <tr>\n",
       "      <th>104546</th>\n",
       "      <td>39999552</td>\n",
       "      <td>2186-07-18 04:18:00</td>\n",
       "      <td>2186-07-18 08:00:00</td>\n",
       "      <td>3.699334</td>\n",
       "      <td>0.99982</td>\n",
       "    </tr>\n",
       "  </tbody>\n",
       "</table>\n",
       "<p>104547 rows × 5 columns</p>\n",
       "</div>"
      ],
      "text/plain": [
       "         stay_id           starttime             endtime    amount     rate\n",
       "0       30000213 2162-06-21 05:40:00 2162-06-21 06:06:00  3.466667  8.00000\n",
       "1       30000213 2162-06-21 06:06:00 2162-06-21 07:18:00  2.400000  2.00000\n",
       "2       30001148 2156-08-30 19:15:00 2156-08-30 22:00:00  5.500000  2.00000\n",
       "3       30002415 2126-12-17 11:59:00 2126-12-17 15:16:00  9.850000  3.00000\n",
       "4       30002415 2126-12-17 15:16:00 2126-12-17 16:19:00  4.200777  4.00074\n",
       "...          ...                 ...                 ...       ...      ...\n",
       "104542  39999552 2186-07-17 18:49:00 2186-07-17 20:18:00  5.933334  4.00000\n",
       "104543  39999552 2186-07-17 20:18:00 2186-07-17 20:25:00  0.349937  2.99946\n",
       "104544  39999552 2186-07-17 20:25:00 2186-07-17 23:19:00  2.899478  0.99982\n",
       "104545  39999552 2186-07-17 23:19:00 2186-07-18 04:18:00  9.964872  1.99964\n",
       "104546  39999552 2186-07-18 04:18:00 2186-07-18 08:00:00  3.699334  0.99982\n",
       "\n",
       "[104547 rows x 5 columns]"
      ]
     },
     "execution_count": 58,
     "metadata": {},
     "output_type": "execute_result"
    }
   ],
   "source": [
    "df_ac"
   ]
  },
  {
   "cell_type": "code",
   "execution_count": 54,
   "id": "93001d59",
   "metadata": {
    "ExecuteTime": {
     "end_time": "2022-08-23T12:37:16.846375Z",
     "start_time": "2022-08-23T12:37:16.841652Z"
    }
   },
   "outputs": [],
   "source": [
    "def split_time_ranges(from_time, to_time, frequency,a,b,c):\n",
    "    \n",
    "    from_time, to_time = pd.to_datetime(from_time), pd.to_datetime(to_time)\n",
    "    time_range = list(pd.date_range(from_time, to_time, freq='%sS' % frequency))\n",
    "    if to_time not in time_range:\n",
    "        time_range.append(to_time)\n",
    "    time_range = [item.strftime(\"%Y-%m-%d %H:%M:%S\") for item in time_range]\n",
    "    #time_ranges = []\n",
    "    tmp_df = pd.DataFrame(columns=['stay_id', 'starttime', 'endtime', 'amount', 'rate'])\n",
    "    for item in time_range:\n",
    "        f_time = item\n",
    "        t_time = (datetime.datetime.strptime(item, \"%Y-%m-%d %H:%M:%S\") + datetime.timedelta(seconds=frequency))\n",
    "        if t_time >= to_time:\n",
    "            t_time = to_time.strftime(\"%Y-%m-%d %H:%M:%S\")\n",
    "            #time_ranges.append([f_time, t_time])\n",
    "            tmp_df.loc[len(tmp_df)] = [a, f_time, t_time, b, c]\n",
    "            break\n",
    "        tmp_df.loc[len(tmp_df)] = [a, f_time, t_time.strftime(\"%Y-%m-%d %H:%M:%S\"), b, c]\n",
    "       # time_ranges.append([f_time, t_time.strftime(\"%Y-%m-%d %H:%M:%S\")])\n",
    "    return tmp_df #time_ranges"
   ]
  },
  {
   "cell_type": "code",
   "execution_count": 55,
   "id": "5a057dd5",
   "metadata": {
    "ExecuteTime": {
     "end_time": "2022-08-23T13:20:26.765515Z",
     "start_time": "2022-08-23T12:38:19.342747Z"
    }
   },
   "outputs": [],
   "source": [
    "# 每次运行前注意\n",
    "winsize = 60\n",
    "df_ac_winf = df_ac \n",
    "out_df = pd.DataFrame()\n",
    "for row in df_ac_winf.itertuples():\n",
    "    from_time = row.starttime\n",
    "    to_time = row.endtime\n",
    "    frequency = 60 * 60 * 1  # 1h = 60s * 60min\n",
    "    a = row.stay_id\n",
    "    b = row.amount\n",
    "    c = row.rate\n",
    "    time_ranges = split_time_ranges(from_time, to_time, frequency, a, b,c )\n",
    "    time_ranges[\"endtime\"]= pd.to_datetime(time_ranges[\"endtime\"])\n",
    "    time_ranges[\"starttime\"]= pd.to_datetime(time_ranges[\"starttime\"])\n",
    "    time_ranges[\"interval\"] = (time_ranges[\"endtime\"] - time_ranges[\"starttime\"]).map(lambda x:x/np.timedelta64(1, 'm')).tolist() \n",
    "    \n",
    "    if time_ranges[time_ranges[\"interval\"] < winsize].shape[0] > 0:\n",
    "        altertime = time_ranges[time_ranges[\"interval\"] < winsize][\"starttime\"].iloc[0]\n",
    "        if altertime > from_time:\n",
    "            altertime = to_time + datetime.timedelta(minutes=-winsize)\n",
    "            tmp_df = time_ranges[time_ranges[\"interval\"] < winsize]\n",
    "            tmp_df[\"starttime\"] = altertime\n",
    "            tmp_df[\"interval\"] = (tmp_df[\"endtime\"] - tmp_df[\"starttime\"]).map(lambda x:x/np.timedelta64(1, 'm')).tolist()\n",
    "            time_ranges = pd.concat([time_ranges,tmp_df])\n",
    "            time_ranges = time_ranges[time_ranges[\"interval\"]==winsize]\n",
    "    out_df = pd.concat([out_df, time_ranges])\n",
    "\n",
    "out_df[\"interval\"] = (out_df[\"endtime\"] - out_df[\"starttime\"]).map(lambda x:x/np.timedelta64(1, 'm')).tolist()\n",
    "out_df[\"amount\"] = (out_df[\"interval\"]/60) * out_df[\"rate\"]\n",
    "#out_df.to_csv(\"A_IR_win60_notrajid.csv\", index=False)\n",
    "# 40min"
   ]
  },
  {
   "cell_type": "code",
   "execution_count": 61,
   "id": "2f2f15ee",
   "metadata": {},
   "outputs": [],
   "source": [
    "df_acf = out_df \n",
    "df_acf = df_acf.sort_values(by=[\"stay_id\",\"starttime\"])\n",
    "df_acf.index = pd.RangeIndex(len(df_acf.index))"
   ]
  },
  {
   "cell_type": "code",
   "execution_count": 66,
   "id": "20647700",
   "metadata": {
    "collapsed": true
   },
   "outputs": [
    {
     "ename": "KeyError",
     "evalue": "\"['index'] not found in axis\"",
     "output_type": "error",
     "traceback": [
      "\u001b[0;31m---------------------------------------------------------------------------\u001b[0m",
      "\u001b[0;31mKeyError\u001b[0m                                  Traceback (most recent call last)",
      "Input \u001b[0;32mIn [66]\u001b[0m, in \u001b[0;36m<cell line: 30>\u001b[0;34m()\u001b[0m\n\u001b[1;32m     28\u001b[0m     out_df \u001b[38;5;241m=\u001b[39m pd\u001b[38;5;241m.\u001b[39mconcat([out_df, tmp_df])\n\u001b[1;32m     29\u001b[0m     traj_id_num  \u001b[38;5;241m+\u001b[39m\u001b[38;5;241m=\u001b[39m \u001b[38;5;241m1\u001b[39m\n\u001b[0;32m---> 30\u001b[0m out_df \u001b[38;5;241m=\u001b[39m \u001b[43mout_df\u001b[49m\u001b[38;5;241;43m.\u001b[39;49m\u001b[43mdrop\u001b[49m\u001b[43m(\u001b[49m\u001b[43m[\u001b[49m\u001b[38;5;124;43m\"\u001b[39;49m\u001b[38;5;124;43mindex\u001b[39;49m\u001b[38;5;124;43m\"\u001b[39;49m\u001b[43m]\u001b[49m\u001b[43m,\u001b[49m\u001b[43m \u001b[49m\u001b[43maxis\u001b[49m\u001b[38;5;241;43m=\u001b[39;49m\u001b[43m \u001b[49m\u001b[38;5;241;43m1\u001b[39;49m\u001b[43m)\u001b[49m\n",
      "File \u001b[0;32m/home/hanl/miniconda3/envs/AUMCdb/lib/python3.8/site-packages/pandas/util/_decorators.py:311\u001b[0m, in \u001b[0;36mdeprecate_nonkeyword_arguments.<locals>.decorate.<locals>.wrapper\u001b[0;34m(*args, **kwargs)\u001b[0m\n\u001b[1;32m    305\u001b[0m \u001b[38;5;28;01mif\u001b[39;00m \u001b[38;5;28mlen\u001b[39m(args) \u001b[38;5;241m>\u001b[39m num_allow_args:\n\u001b[1;32m    306\u001b[0m     warnings\u001b[38;5;241m.\u001b[39mwarn(\n\u001b[1;32m    307\u001b[0m         msg\u001b[38;5;241m.\u001b[39mformat(arguments\u001b[38;5;241m=\u001b[39marguments),\n\u001b[1;32m    308\u001b[0m         \u001b[38;5;167;01mFutureWarning\u001b[39;00m,\n\u001b[1;32m    309\u001b[0m         stacklevel\u001b[38;5;241m=\u001b[39mstacklevel,\n\u001b[1;32m    310\u001b[0m     )\n\u001b[0;32m--> 311\u001b[0m \u001b[38;5;28;01mreturn\u001b[39;00m \u001b[43mfunc\u001b[49m\u001b[43m(\u001b[49m\u001b[38;5;241;43m*\u001b[39;49m\u001b[43margs\u001b[49m\u001b[43m,\u001b[49m\u001b[43m \u001b[49m\u001b[38;5;241;43m*\u001b[39;49m\u001b[38;5;241;43m*\u001b[39;49m\u001b[43mkwargs\u001b[49m\u001b[43m)\u001b[49m\n",
      "File \u001b[0;32m/home/hanl/miniconda3/envs/AUMCdb/lib/python3.8/site-packages/pandas/core/frame.py:4954\u001b[0m, in \u001b[0;36mDataFrame.drop\u001b[0;34m(self, labels, axis, index, columns, level, inplace, errors)\u001b[0m\n\u001b[1;32m   4806\u001b[0m \u001b[38;5;129m@deprecate_nonkeyword_arguments\u001b[39m(version\u001b[38;5;241m=\u001b[39m\u001b[38;5;28;01mNone\u001b[39;00m, allowed_args\u001b[38;5;241m=\u001b[39m[\u001b[38;5;124m\"\u001b[39m\u001b[38;5;124mself\u001b[39m\u001b[38;5;124m\"\u001b[39m, \u001b[38;5;124m\"\u001b[39m\u001b[38;5;124mlabels\u001b[39m\u001b[38;5;124m\"\u001b[39m])\n\u001b[1;32m   4807\u001b[0m \u001b[38;5;28;01mdef\u001b[39;00m \u001b[38;5;21mdrop\u001b[39m(\n\u001b[1;32m   4808\u001b[0m     \u001b[38;5;28mself\u001b[39m,\n\u001b[0;32m   (...)\u001b[0m\n\u001b[1;32m   4815\u001b[0m     errors: \u001b[38;5;28mstr\u001b[39m \u001b[38;5;241m=\u001b[39m \u001b[38;5;124m\"\u001b[39m\u001b[38;5;124mraise\u001b[39m\u001b[38;5;124m\"\u001b[39m,\n\u001b[1;32m   4816\u001b[0m ):\n\u001b[1;32m   4817\u001b[0m     \u001b[38;5;124;03m\"\"\"\u001b[39;00m\n\u001b[1;32m   4818\u001b[0m \u001b[38;5;124;03m    Drop specified labels from rows or columns.\u001b[39;00m\n\u001b[1;32m   4819\u001b[0m \n\u001b[0;32m   (...)\u001b[0m\n\u001b[1;32m   4952\u001b[0m \u001b[38;5;124;03m            weight  1.0     0.8\u001b[39;00m\n\u001b[1;32m   4953\u001b[0m \u001b[38;5;124;03m    \"\"\"\u001b[39;00m\n\u001b[0;32m-> 4954\u001b[0m     \u001b[38;5;28;01mreturn\u001b[39;00m \u001b[38;5;28;43msuper\u001b[39;49m\u001b[43m(\u001b[49m\u001b[43m)\u001b[49m\u001b[38;5;241;43m.\u001b[39;49m\u001b[43mdrop\u001b[49m\u001b[43m(\u001b[49m\n\u001b[1;32m   4955\u001b[0m \u001b[43m        \u001b[49m\u001b[43mlabels\u001b[49m\u001b[38;5;241;43m=\u001b[39;49m\u001b[43mlabels\u001b[49m\u001b[43m,\u001b[49m\n\u001b[1;32m   4956\u001b[0m \u001b[43m        \u001b[49m\u001b[43maxis\u001b[49m\u001b[38;5;241;43m=\u001b[39;49m\u001b[43maxis\u001b[49m\u001b[43m,\u001b[49m\n\u001b[1;32m   4957\u001b[0m \u001b[43m        \u001b[49m\u001b[43mindex\u001b[49m\u001b[38;5;241;43m=\u001b[39;49m\u001b[43mindex\u001b[49m\u001b[43m,\u001b[49m\n\u001b[1;32m   4958\u001b[0m \u001b[43m        \u001b[49m\u001b[43mcolumns\u001b[49m\u001b[38;5;241;43m=\u001b[39;49m\u001b[43mcolumns\u001b[49m\u001b[43m,\u001b[49m\n\u001b[1;32m   4959\u001b[0m \u001b[43m        \u001b[49m\u001b[43mlevel\u001b[49m\u001b[38;5;241;43m=\u001b[39;49m\u001b[43mlevel\u001b[49m\u001b[43m,\u001b[49m\n\u001b[1;32m   4960\u001b[0m \u001b[43m        \u001b[49m\u001b[43minplace\u001b[49m\u001b[38;5;241;43m=\u001b[39;49m\u001b[43minplace\u001b[49m\u001b[43m,\u001b[49m\n\u001b[1;32m   4961\u001b[0m \u001b[43m        \u001b[49m\u001b[43merrors\u001b[49m\u001b[38;5;241;43m=\u001b[39;49m\u001b[43merrors\u001b[49m\u001b[43m,\u001b[49m\n\u001b[1;32m   4962\u001b[0m \u001b[43m    \u001b[49m\u001b[43m)\u001b[49m\n",
      "File \u001b[0;32m/home/hanl/miniconda3/envs/AUMCdb/lib/python3.8/site-packages/pandas/core/generic.py:4267\u001b[0m, in \u001b[0;36mNDFrame.drop\u001b[0;34m(self, labels, axis, index, columns, level, inplace, errors)\u001b[0m\n\u001b[1;32m   4265\u001b[0m \u001b[38;5;28;01mfor\u001b[39;00m axis, labels \u001b[38;5;129;01min\u001b[39;00m axes\u001b[38;5;241m.\u001b[39mitems():\n\u001b[1;32m   4266\u001b[0m     \u001b[38;5;28;01mif\u001b[39;00m labels \u001b[38;5;129;01mis\u001b[39;00m \u001b[38;5;129;01mnot\u001b[39;00m \u001b[38;5;28;01mNone\u001b[39;00m:\n\u001b[0;32m-> 4267\u001b[0m         obj \u001b[38;5;241m=\u001b[39m \u001b[43mobj\u001b[49m\u001b[38;5;241;43m.\u001b[39;49m\u001b[43m_drop_axis\u001b[49m\u001b[43m(\u001b[49m\u001b[43mlabels\u001b[49m\u001b[43m,\u001b[49m\u001b[43m \u001b[49m\u001b[43maxis\u001b[49m\u001b[43m,\u001b[49m\u001b[43m \u001b[49m\u001b[43mlevel\u001b[49m\u001b[38;5;241;43m=\u001b[39;49m\u001b[43mlevel\u001b[49m\u001b[43m,\u001b[49m\u001b[43m \u001b[49m\u001b[43merrors\u001b[49m\u001b[38;5;241;43m=\u001b[39;49m\u001b[43merrors\u001b[49m\u001b[43m)\u001b[49m\n\u001b[1;32m   4269\u001b[0m \u001b[38;5;28;01mif\u001b[39;00m inplace:\n\u001b[1;32m   4270\u001b[0m     \u001b[38;5;28mself\u001b[39m\u001b[38;5;241m.\u001b[39m_update_inplace(obj)\n",
      "File \u001b[0;32m/home/hanl/miniconda3/envs/AUMCdb/lib/python3.8/site-packages/pandas/core/generic.py:4311\u001b[0m, in \u001b[0;36mNDFrame._drop_axis\u001b[0;34m(self, labels, axis, level, errors, consolidate, only_slice)\u001b[0m\n\u001b[1;32m   4309\u001b[0m         new_axis \u001b[38;5;241m=\u001b[39m axis\u001b[38;5;241m.\u001b[39mdrop(labels, level\u001b[38;5;241m=\u001b[39mlevel, errors\u001b[38;5;241m=\u001b[39merrors)\n\u001b[1;32m   4310\u001b[0m     \u001b[38;5;28;01melse\u001b[39;00m:\n\u001b[0;32m-> 4311\u001b[0m         new_axis \u001b[38;5;241m=\u001b[39m \u001b[43maxis\u001b[49m\u001b[38;5;241;43m.\u001b[39;49m\u001b[43mdrop\u001b[49m\u001b[43m(\u001b[49m\u001b[43mlabels\u001b[49m\u001b[43m,\u001b[49m\u001b[43m \u001b[49m\u001b[43merrors\u001b[49m\u001b[38;5;241;43m=\u001b[39;49m\u001b[43merrors\u001b[49m\u001b[43m)\u001b[49m\n\u001b[1;32m   4312\u001b[0m     indexer \u001b[38;5;241m=\u001b[39m axis\u001b[38;5;241m.\u001b[39mget_indexer(new_axis)\n\u001b[1;32m   4314\u001b[0m \u001b[38;5;66;03m# Case for non-unique axis\u001b[39;00m\n\u001b[1;32m   4315\u001b[0m \u001b[38;5;28;01melse\u001b[39;00m:\n",
      "File \u001b[0;32m/home/hanl/miniconda3/envs/AUMCdb/lib/python3.8/site-packages/pandas/core/indexes/base.py:6644\u001b[0m, in \u001b[0;36mIndex.drop\u001b[0;34m(self, labels, errors)\u001b[0m\n\u001b[1;32m   6642\u001b[0m \u001b[38;5;28;01mif\u001b[39;00m mask\u001b[38;5;241m.\u001b[39many():\n\u001b[1;32m   6643\u001b[0m     \u001b[38;5;28;01mif\u001b[39;00m errors \u001b[38;5;241m!=\u001b[39m \u001b[38;5;124m\"\u001b[39m\u001b[38;5;124mignore\u001b[39m\u001b[38;5;124m\"\u001b[39m:\n\u001b[0;32m-> 6644\u001b[0m         \u001b[38;5;28;01mraise\u001b[39;00m \u001b[38;5;167;01mKeyError\u001b[39;00m(\u001b[38;5;124mf\u001b[39m\u001b[38;5;124m\"\u001b[39m\u001b[38;5;132;01m{\u001b[39;00m\u001b[38;5;28mlist\u001b[39m(labels[mask])\u001b[38;5;132;01m}\u001b[39;00m\u001b[38;5;124m not found in axis\u001b[39m\u001b[38;5;124m\"\u001b[39m)\n\u001b[1;32m   6645\u001b[0m     indexer \u001b[38;5;241m=\u001b[39m indexer[\u001b[38;5;241m~\u001b[39mmask]\n\u001b[1;32m   6646\u001b[0m \u001b[38;5;28;01mreturn\u001b[39;00m \u001b[38;5;28mself\u001b[39m\u001b[38;5;241m.\u001b[39mdelete(indexer)\n",
      "\u001b[0;31mKeyError\u001b[0m: \"['index'] not found in axis\""
     ]
    }
   ],
   "source": [
    "# 增加traj_id\n",
    "out_df = pd.DataFrame()\n",
    "traj_id_num = 0\n",
    "\n",
    "for i,j in df_acf.groupby(\"stay_id\"):\n",
    "    last_endtime = j[0:1][\"endtime\"].iloc[0]\n",
    "    bg_idx = j[0:1].index[0]\n",
    "\n",
    "    for row in j[1:].itertuples():\n",
    "        if row.starttime > last_endtime:\n",
    "            ed_idx = row.Index - 1\n",
    "            tmp_df = j.loc[bg_idx:ed_idx]\n",
    "            tmp_df[\"traj_id\"] = traj_id_num\n",
    "            out_df = pd.concat([out_df, tmp_df])\n",
    "            traj_id_num  += 1\n",
    "            bg_idx = row.Index\n",
    "        last_endtime = row.endtime\n",
    "        \n",
    "    ed_idx = row.Index - 1\n",
    "    tmp_df = j.loc[bg_idx:ed_idx+1]\n",
    "    tmp_df[\"traj_id\"] = traj_id_num\n",
    "    out_df = pd.concat([out_df, tmp_df])\n",
    "    traj_id_num  += 1   \n",
    "\n",
    "for oth in list(set(df_acf.stay_id.unique().tolist()).difference(set(out_df.stay_id.unique().tolist()))):\n",
    "    tmp_df = df_acf[df_acf[\"stay_id\"] == oth]\n",
    "    tmp_df[\"traj_id\"] = traj_id_num\n",
    "    out_df = pd.concat([out_df, tmp_df])\n",
    "    traj_id_num  += 1\n",
    "\n",
    "# 大概 1 min"
   ]
  },
  {
   "cell_type": "code",
   "execution_count": null,
   "id": "2f8e7c37",
   "metadata": {},
   "outputs": [],
   "source": [
    "out_df"
   ]
  },
  {
   "cell_type": "code",
   "execution_count": 84,
   "id": "0c08ebc8",
   "metadata": {},
   "outputs": [
    {
     "data": {
      "text/html": [
       "<div>\n",
       "<style scoped>\n",
       "    .dataframe tbody tr th:only-of-type {\n",
       "        vertical-align: middle;\n",
       "    }\n",
       "\n",
       "    .dataframe tbody tr th {\n",
       "        vertical-align: top;\n",
       "    }\n",
       "\n",
       "    .dataframe thead th {\n",
       "        text-align: right;\n",
       "    }\n",
       "</style>\n",
       "<table border=\"1\" class=\"dataframe\">\n",
       "  <thead>\n",
       "    <tr style=\"text-align: right;\">\n",
       "      <th></th>\n",
       "      <th>stay_id</th>\n",
       "      <th>starttime</th>\n",
       "      <th>endtime</th>\n",
       "      <th>amount</th>\n",
       "      <th>rate</th>\n",
       "      <th>interval</th>\n",
       "      <th>traj_id</th>\n",
       "    </tr>\n",
       "  </thead>\n",
       "  <tbody>\n",
       "    <tr>\n",
       "      <th>106369</th>\n",
       "      <td>33936373</td>\n",
       "      <td>2182-05-23 16:23:00</td>\n",
       "      <td>2182-05-23 17:10:00</td>\n",
       "      <td>7.833333</td>\n",
       "      <td>10.0</td>\n",
       "      <td>47.0</td>\n",
       "      <td>18865</td>\n",
       "    </tr>\n",
       "  </tbody>\n",
       "</table>\n",
       "</div>"
      ],
      "text/plain": [
       "         stay_id           starttime             endtime    amount  rate  \\\n",
       "106369  33936373 2182-05-23 16:23:00 2182-05-23 17:10:00  7.833333  10.0   \n",
       "\n",
       "        interval  traj_id  \n",
       "106369      47.0    18865  "
      ]
     },
     "execution_count": 84,
     "metadata": {},
     "output_type": "execute_result"
    }
   ],
   "source": []
  },
  {
   "cell_type": "code",
   "execution_count": 97,
   "id": "d3b1f3ed",
   "metadata": {},
   "outputs": [],
   "source": [
    "# 得到用药轨迹后，轨迹长度必须大于3h\n",
    "tmp_df = pd.DataFrame(columns=[\"traj_id\", \"bg\", \"ed\", \"traj_length\"])\n",
    "for i,j in out_df.groupby(\"traj_id\"):\n",
    "    j = j.sort_values(\"starttime\")\n",
    "    bg = j.iloc[:1][\"starttime\"].tolist()[0]\n",
    "    ed = j.iloc[-1:][\"endtime\"].tolist()[0]\n",
    "    traj_length = (ed-bg)/np.timedelta64(1, 'h')\n",
    "    tmp_df.loc[len(tmp_df)] = [i, bg,ed, traj_length]\n",
    "tmp_df.to_csv(\"traj_length.csv\",index=False)"
   ]
  },
  {
   "cell_type": "code",
   "execution_count": 111,
   "id": "1987b2b3",
   "metadata": {
    "collapsed": true
   },
   "outputs": [
    {
     "name": "stderr",
     "output_type": "stream",
     "text": [
      "/home/hanl/miniconda3/envs/AUMCdb/lib/python3.8/site-packages/seaborn/distributions.py:2619: FutureWarning: `distplot` is a deprecated function and will be removed in a future version. Please adapt your code to use either `displot` (a figure-level function with similar flexibility) or `histplot` (an axes-level function for histograms).\n",
      "  warnings.warn(msg, FutureWarning)\n"
     ]
    },
    {
     "data": {
      "image/png": "[encoded data removed]",
      "text/plain": [
       "<Figure size 432x288 with 1 Axes>"
      ]
     },
     "metadata": {
      "needs_background": "light"
     },
     "output_type": "display_data"
    }
   ],
   "source": [
    "# 过滤轨迹长度小于2h的数据 \n",
    "# 轨迹峰值为5个小时\n",
    "sns.distplot(tmp_df[tmp_df[\"traj_length\"]<10][\"traj_length\"])\n",
    "traj_lengthM2_lst = tmp_df[tmp_df[\"traj_length\"]>2][\"traj_id\"].tolist()\n"
   ]
  },
  {
   "cell_type": "code",
   "execution_count": 113,
   "id": "24215b7a",
   "metadata": {},
   "outputs": [],
   "source": [
    "out_df = out_df[out_df[\"traj_id\"].isin(traj_lengthM2_lst)]\n",
    "out_df.to_csv(\"A_IR_win60.csv\",index=False)\n"
   ]
  },
  {
   "cell_type": "code",
   "execution_count": 121,
   "id": "f7c2bc18",
   "metadata": {},
   "outputs": [
    {
     "data": {
      "text/plain": [
       "(11215, 17617)"
      ]
     },
     "execution_count": 121,
     "metadata": {},
     "output_type": "execute_result"
    }
   ],
   "source": [
    "len(out_df.stay_id.unique()),len(out_df.traj_id.unique())"
   ]
  },
  {
   "cell_type": "code",
   "execution_count": null,
   "id": "a6117d23",
   "metadata": {},
   "outputs": [],
   "source": []
  },
  {
   "cell_type": "markdown",
   "id": "4181eed6",
   "metadata": {},
   "source": [
    "# bak bak bak ~~~\n",
    "\n"
   ]
  },
  {
   "cell_type": "markdown",
   "id": "c8eb4b07",
   "metadata": {},
   "source": [
    "# 添加轨迹结束后的2个小时（rate=0）"
   ]
  },
  {
   "cell_type": "code",
   "execution_count": null,
   "id": "85444134",
   "metadata": {},
   "outputs": [],
   "source": [
    "# 这步先不用\n",
    "# 从起始到结束位点，转为窗口格式\n",
    "# 这一步增加了用药结束后2h\n",
    "tmp_df = pd.DataFrame(columns=['stay_id', 'starttime', 'endtime', 'amount', 'rate', 'interval'])\n",
    "\n",
    "for i,j in df_ac.head(100).groupby(\"stay_id\"):\n",
    "   # bg = j[\"starttime\"].iloc[0] + datetime.timedelta(hours=-6)\n",
    "    ed = j[\"endtime\"].iloc[-1] + datetime.timedelta(hours=2)\n",
    "   # tmp_df.loc[len(tmp_df)] = [i, bg, j[\"starttime\"].iloc[0], 0, 0, 0]\n",
    "    tmp_df.loc[len(tmp_df)] = [i, j[\"endtime\"].iloc[-1], ed, 0, 0, 0]\n",
    "df_ac_win = pd.concat([tmp_df,df_ac], axis=0)\n",
    "df_ac_win = df_ac_win.sort_values(by=[\"stay_id\", \"starttime\"])\n",
    "print(df_ac.shape, df_ac_win.shape)"
   ]
  },
  {
   "cell_type": "code",
   "execution_count": null,
   "id": "9886131e",
   "metadata": {},
   "outputs": [],
   "source": [
    "# 从起始到结束位点，转为窗口格式\n",
    "# 这步增加了中间的\n",
    "tmp_df = pd.DataFrame(columns=['stay_id', 'starttime', 'endtime', 'amount', 'rate', 'interval'])\n",
    "\n",
    "for i,j in df_ac_win.groupby(\"stay_id\"):\n",
    "    switch = 0\n",
    "    for row in j.itertuples():\n",
    "        if switch == 0:\n",
    "            last_starttime = row.starttime\n",
    "            last_endtime = row.endtime\n",
    "            switch = 1\n",
    "            continue\n",
    "        if last_endtime != row.starttime:\n",
    "            tmp_df.loc[len(tmp_df)] = [i, last_endtime, row.starttime, 0, 0, 0]\n",
    "        last_starttime = row.starttime\n",
    "        last_endtime = row.endtime\n",
    "df_ac_winf = pd.concat([tmp_df, df_ac_win], axis=0)\n",
    "df_ac_winf = df_ac_winf.sort_values(by=[\"stay_id\", \"starttime\"]) \n",
    "print(df_ac.shape, df_ac_win.shape, df_ac_winf.shape)"
   ]
  },
  {
   "cell_type": "code",
   "execution_count": null,
   "id": "29363f52",
   "metadata": {},
   "outputs": [],
   "source": [
    "#用同样的方法check，期望每个区间能无缝衔接，不输出任何\n",
    "lst =[]\n",
    "for i,j in df_ac_winf.groupby(\"stay_id\"):\n",
    "    switch = 0\n",
    "    for row in j.itertuples():\n",
    "        if switch == 0:\n",
    "            last_starttime = row.starttime\n",
    "            last_endtime = row.endtime\n",
    "            switch = 1\n",
    "            continue\n",
    "        if last_endtime != row.starttime:\n",
    "            #print(i, last_endtime, row.starttime)\n",
    "            \n",
    "            lst.append(i)\n",
    "        last_starttime = row.starttime\n",
    "        last_endtime = row.endtime\n",
    "print(len(lst))"
   ]
  }
 ],
 "metadata": {
  "kernelspec": {
   "display_name": "Python [conda env:AUMCdb]",
   "language": "python",
   "name": "conda-env-AUMCdb-py"
  },
  "language_info": {
   "codemirror_mode": {
    "name": "ipython",
    "version": 3
   },
   "file_extension": ".py",
   "mimetype": "text/x-python",
   "name": "python",
   "nbconvert_exporter": "python",
   "pygments_lexer": "ipython3",
   "version": "3.8.13"
  },
  "toc": {
   "base_numbering": 1,
   "nav_menu": {},
   "number_sections": true,
   "sideBar": true,
   "skip_h1_title": false,
   "title_cell": "Table of Contents",
   "title_sidebar": "Contents",
   "toc_cell": false,
   "toc_position": {
    "height": "calc(100% - 180px)",
    "left": "10px",
    "top": "150px",
    "width": "252.442px"
   },
   "toc_section_display": true,
   "toc_window_display": false
  },
  "varInspector": {
   "cols": {
    "lenName": 16,
    "lenType": 16,
    "lenVar": 40
   },
   "kernels_config": {
    "python": {
     "delete_cmd_postfix": "",
     "delete_cmd_prefix": "del ",
     "library": "var_list.py",
     "varRefreshCmd": "print(var_dic_list())"
    },
    "r": {
     "delete_cmd_postfix": ") ",
     "delete_cmd_prefix": "rm(",
     "library": "var_list.r",
     "varRefreshCmd": "cat(var_dic_list()) "
    }
   },
   "types_to_exclude": [
    "module",
    "function",
    "builtin_function_or_method",
    "instance",
    "_Feature"
   ],
   "window_display": false
  }
 },
 "nbformat": 4,
 "nbformat_minor": 5
}
