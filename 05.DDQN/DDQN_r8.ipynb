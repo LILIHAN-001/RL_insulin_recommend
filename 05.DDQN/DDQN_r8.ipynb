{
 "cells": [
  {
   "cell_type": "markdown",
   "metadata": {},
   "source": [
    "# package, def load"
   ]
  },
  {
   "cell_type": "code",
   "execution_count": 1,
   "metadata": {
    "ExecuteTime": {
     "end_time": "2022-11-23T06:57:36.208657Z",
     "start_time": "2022-11-23T06:57:33.812376Z"
    }
   },
   "outputs": [
    {
     "name": "stderr",
     "output_type": "stream",
     "text": [
      "\n"
     ]
    },
    {
     "name": "stdout",
     "output_type": "stream",
     "text": [
      "WARNING:tensorflow:From /home/hanl/miniconda3/envs/mytensor/lib/python3.9/site-packages/tensorflow/python/compat/v2_compat.py:96: disable_resource_variables (from tensorflow.python.ops.variable_scope) is deprecated and will be removed in a future version.\n",
      "Instructions for updating:\n",
      "non-resource variables are not supported in the long term\n"
     ]
    },
    {
     "data": {
      "text/plain": [
       "[]"
      ]
     },
     "execution_count": 1,
     "metadata": {},
     "output_type": "execute_result"
    }
   ],
   "source": [
    "%matplotlib inline\n",
    "import matplotlib.pyplot as plt\n",
    "import seaborn as sns\n",
    "\n",
    "import time\n",
    "import gym\n",
    "import pandas as pd\n",
    "import numpy as np\n",
    "\n",
    "\n",
    "import joblib\n",
    "import os\n",
    "import warnings\n",
    "from pandas.core.common import SettingWithCopyWarning\n",
    "warnings.simplefilter(action=\"ignore\", category=SettingWithCopyWarning)\n",
    "import random \n",
    "import math\n",
    "from pandas import DataFrame\n",
    "try:\n",
    "    import cPickle as pickle\n",
    "except ImportError:\n",
    "    import _pickle as pickle\n",
    "import copy\n",
    "import random\n",
    "\n",
    "import tensorflow as tf\n",
    "tf.compat.v1.disable_eager_execution()\n",
    "import tensorflow.compat.v1 as tf \n",
    "tf.disable_v2_behavior()\n",
    "\n",
    "os.environ['CUDA_VISIBLE_DEVICES'] = '0'\n",
    "config = tf.compat.v1.ConfigProto()\n",
    "config.gpu_options.allow_growth = True  # Don't use all GPUs \n",
    "config.allow_soft_placement = True  # Enable manual control\n",
    "tf.config.list_physical_devices('GPU')"
   ]
  },
  {
   "cell_type": "code",
   "execution_count": 2,
   "metadata": {
    "ExecuteTime": {
     "end_time": "2022-11-23T06:57:36.213048Z",
     "start_time": "2022-11-23T06:57:36.209867Z"
    }
   },
   "outputs": [],
   "source": [
    "import pickle\n",
    "import pandas as pd\n",
    "\n",
    "def my_save(List,filename,Global):\n",
    "    # filename : name.pkl\n",
    "    my_pickle = {}\n",
    "    for key in List:\n",
    "        try:\n",
    "            my_pickle[key] = Global[key] #globals()[key]\n",
    "        except TypeError:\n",
    "            print('ERROR pickleing: {0}'.format(key))\n",
    "    with open(filename, 'wb') as f:   # Python 3: open(..., 'wb')\n",
    "        pickle.dump(my_pickle, f)\n",
    "\n",
    "\n",
    "def my_load(filename,Global):\n",
    "    with open(filename, 'rb') as f:  # Python 3: open(..., 'rb')\n",
    "        my_shelf = pickle.load(f)\n",
    "\n",
    "    for key in my_shelf:\n",
    "        Global[key] = my_shelf[key]"
   ]
  },
  {
   "cell_type": "markdown",
   "metadata": {
    "ExecuteTime": {
     "end_time": "2022-07-11T02:55:21.082720Z",
     "start_time": "2022-07-11T02:55:21.080521Z"
    },
    "collapsed": true
   },
   "source": [
    "# data load"
   ]
  },
  {
   "cell_type": "code",
   "execution_count": 3,
   "metadata": {
    "ExecuteTime": {
     "end_time": "2022-11-23T06:57:45.112706Z",
     "start_time": "2022-11-23T06:57:36.214228Z"
    }
   },
   "outputs": [
    {
     "name": "stdout",
     "output_type": "stream",
     "text": [
      "['all_data.csv', 'train_data.csv', 'val_data.csv', 'test_data.csv']\n",
      "(12, 273)\n"
     ]
    }
   ],
   "source": [
    "dirname = \"S_R8/\"\n",
    "mimic_dir = \"/public/hanl/jupyter_dir/ir_recommend_v2/04.merge/\" + dirname\n",
    "print(os.listdir(mimic_dir))\n",
    "\n",
    "df_train = pd.read_csv(mimic_dir + '/train_data.csv')\n",
    "#df_train.loc[(df_train[\"reward\"]==-40),\"reward\"] = -100 # 163条\n",
    "df_val = pd.read_csv(mimic_dir + '/val_data.csv')\n",
    "df_test = pd.read_csv(mimic_dir + '/test_data.csv')\n",
    "\n",
    "df_all = pd.read_csv(mimic_dir + '/all_data.csv')\n",
    "df_all = df_all.sort_values([\"traj_id\",\"starttime\"])\n",
    "df_all[\"last_rate\"].fillna(0,inplace=True)\n",
    "\n",
    "df_train = df_train[df_train[\"idx\"] != max(df_all[\"idx\"])]\n",
    "\n",
    "df_train.index = pd.RangeIndex(len(df_train.index))\n",
    "df_val.index = pd.RangeIndex(len(df_val.index))\n",
    "df_test.index = pd.RangeIndex(len(df_test.index))\n",
    "print(df_test.shape)"
   ]
  },
  {
   "cell_type": "markdown",
   "metadata": {},
   "source": [
    "# parameter setting "
   ]
  },
  {
   "cell_type": "markdown",
   "metadata": {},
   "source": [
    "## data parapmeter"
   ]
  },
  {
   "cell_type": "code",
   "execution_count": 4,
   "metadata": {
    "ExecuteTime": {
     "end_time": "2022-11-23T06:57:45.116834Z",
     "start_time": "2022-11-23T06:57:45.113994Z"
    }
   },
   "outputs": [],
   "source": [
    "no_state_features = [ 'stay_id',\n",
    "                     'traj_id','heart_rate_mean.1', 'resp_rate_mean.1',\n",
    " 'reward',\"idx\",\n",
    " 'rate', 'rate_bin',\n",
    " 'next_glucose_max', 'next_glucose_min','next_glucose_mean'\n",
    "]\n",
    "state_features = list(set(df_train.columns.tolist()) - set(no_state_features))\n",
    "reward_features = ['reward']\n",
    "action_features = [\"rate_bin\"]\n",
    "\n",
    "REWARD_THRESHOLD_max = 21\n",
    "REWARD_THRESHOLD_min = -41\n",
    "REWARD_THRESHOLD = max(abs(REWARD_THRESHOLD_max), abs(REWARD_THRESHOLD_min))"
   ]
  },
  {
   "cell_type": "markdown",
   "metadata": {},
   "source": [
    "- buffer reply\n",
    "- https://github.com/jcborges/dqn-per/blob/master/DQN.py"
   ]
  },
  {
   "cell_type": "markdown",
   "metadata": {},
   "source": [
    "# get SAR"
   ]
  },
  {
   "cell_type": "markdown",
   "metadata": {},
   "source": [
    "## action to bin"
   ]
  },
  {
   "cell_type": "code",
   "execution_count": 5,
   "metadata": {
    "ExecuteTime": {
     "end_time": "2022-11-23T06:57:47.064298Z",
     "start_time": "2022-11-23T06:57:45.117694Z"
    }
   },
   "outputs": [
    {
     "name": "stderr",
     "output_type": "stream",
     "text": [
      "/home/hanl/miniconda3/envs/mytensor/lib/python3.9/site-packages/seaborn/distributions.py:2619: FutureWarning: `distplot` is a deprecated function and will be removed in a future version. Please adapt your code to use either `displot` (a figure-level function with similar flexibility) or `histplot` (an axes-level function for histograms).\n",
      "  warnings.warn(msg, FutureWarning)\n",
      "/home/hanl/miniconda3/envs/mytensor/lib/python3.9/site-packages/seaborn/distributions.py:2619: FutureWarning: `distplot` is a deprecated function and will be removed in a future version. Please adapt your code to use either `displot` (a figure-level function with similar flexibility) or `histplot` (an axes-level function for histograms).\n",
      "  warnings.warn(msg, FutureWarning)\n"
     ]
    },
    {
     "data": {
      "text/plain": [
       "<matplotlib.legend.Legend at 0x2b5a27fdc400>"
      ]
     },
     "execution_count": 5,
     "metadata": {},
     "output_type": "execute_result"
    },
    {
     "data": {
      "image/png": "[encoded data removed]",
      "text/plain": [
       "<Figure size 432x288 with 1 Axes>"
      ]
     },
     "metadata": {
      "needs_background": "light"
     },
     "output_type": "display_data"
    }
   ],
   "source": [
    "import seaborn as sns\n",
    "sns.distplot(df_train[\"rate\"])\n",
    "sns.distplot(df_train[\"rate_bin\"])\n",
    "plt.legend([\"rate\", \"rate_bin\"])"
   ]
  },
  {
   "cell_type": "markdown",
   "metadata": {},
   "source": [
    "## batch SAR"
   ]
  },
  {
   "cell_type": "code",
   "execution_count": 6,
   "metadata": {
    "ExecuteTime": {
     "end_time": "2022-11-23T06:57:47.070970Z",
     "start_time": "2022-11-23T06:57:47.065269Z"
    },
    "scrolled": true
   },
   "outputs": [],
   "source": [
    "# 这块要求dataframe 按时间从小到大排序\n",
    "def process_train_batch(size, df):\n",
    "    df_all_ = df_all.copy()\n",
    "    df = df[df[\"idx\"] != max(df_all_[\"idx\"])]\n",
    "    if geometric_sampling == True:\n",
    "        a = df.sample(n=size, weights = df.groupby('rate_bin')['rate_bin'].transform('count'))\n",
    "    else:\n",
    "        a = df.sample(n=size)\n",
    "    states = None\n",
    "    actions = None\n",
    "    rewards = None\n",
    "    next_states = None\n",
    "\n",
    "    for i in a.index:\n",
    "        cur_state = a.loc[i,state_features]\n",
    "        action = a.loc[i,'rate_bin']\n",
    "        reward = a.loc[i,'reward']\n",
    "        traj = a.loc[i,\"traj_id\"]\n",
    "        \n",
    "        idx_num = a.loc[i,\"idx\"]\n",
    "        \n",
    "        if df_all_.loc[idx_num, 'traj_id'] == df_all_.loc[idx_num+1, 'traj_id']:\n",
    "            next_state = df_all_.loc[idx_num+1, state_features]\n",
    "        else:\n",
    "            next_state = np.zeros(len(cur_state))\n",
    "                \n",
    "        if clip_reward:\n",
    "            if reward > REWARD_THRESHOLD_max: reward = REWARD_THRESHOLD_max\n",
    "            if reward < REWARD_THRESHOLD_min: reward = REWARD_THRESHOLD_min\n",
    "\n",
    "        if states is None:\n",
    "            states = copy.deepcopy(cur_state)\n",
    "        else:\n",
    "            states = np.vstack((states,cur_state))\n",
    "\n",
    "        if actions is None:\n",
    "            actions = [action]\n",
    "        else:\n",
    "            actions = np.vstack((actions,action))\n",
    "\n",
    "        if rewards is None:\n",
    "            rewards = [reward]\n",
    "        else:\n",
    "            rewards = np.vstack((rewards,reward))\n",
    "\n",
    "        if next_states is None:\n",
    "            next_states = copy.deepcopy(next_state)\n",
    "        else:\n",
    "            next_states = np.vstack((next_states,next_state))\n",
    "    \n",
    "    return (states, np.squeeze(actions), np.squeeze(rewards), next_states, a)\n"
   ]
  },
  {
   "cell_type": "code",
   "execution_count": 7,
   "metadata": {
    "ExecuteTime": {
     "end_time": "2022-11-23T06:57:47.077828Z",
     "start_time": "2022-11-23T06:57:47.071880Z"
    }
   },
   "outputs": [],
   "source": [
    "# extract chunks of length size from the relevant dataframe, and yield these to the caller\n",
    "def process_eval_batch(batch_size, eval_type = None):\n",
    "    df_all_ = df_all.copy()\n",
    "    if eval_type is None:\n",
    "        raise Exception('Provide eval_type to process_eval_batch')\n",
    "    elif eval_type == 'train':\n",
    "       # \n",
    "        a = df_train.copy()\n",
    "    elif eval_type == 'val':\n",
    "        a = df_val.copy()\n",
    "    elif eval_type == 'test':\n",
    "        a = df_test.copy()\n",
    "    else:\n",
    "        raise Exception('Unknown eval_type')\n",
    "    count = 0\n",
    "    while count < len(a.index):\n",
    "        states = None\n",
    "        actions = None\n",
    "        rewards = None\n",
    "        next_states = None\n",
    "\n",
    "        start_idx = count\n",
    "        end_idx = min(len(a.index), count+batch_size)\n",
    "        segment = a.index[start_idx:end_idx]\n",
    "        \n",
    "        for i in segment:\n",
    "            cur_state = a.loc[i,state_features]\n",
    "            action = a.loc[i, 'rate_bin']\n",
    "            reward = a.loc[i,'reward']\n",
    "            \n",
    "            idx_num = a.loc[i,\"idx\"]\n",
    "            if df_all_.loc[idx_num, 'traj_id'] == df_all_.loc[idx_num+1, 'traj_id']:\n",
    "                next_state = df_all_.loc[idx_num+1, state_features]\n",
    "            else:\n",
    "                next_state = np.zeros(len(cur_state))\n",
    "            \n",
    "            if clip_reward:\n",
    "                if reward > REWARD_THRESHOLD_max: reward = REWARD_THRESHOLD_max\n",
    "                if reward < REWARD_THRESHOLD_min: reward = REWARD_THRESHOLD_min\n",
    "\n",
    "            if states is None:\n",
    "                states = copy.deepcopy(cur_state)\n",
    "            else:\n",
    "                states = np.vstack((states,cur_state))\n",
    "\n",
    "            if actions is None:\n",
    "                actions = [action]\n",
    "            else:\n",
    "                actions = np.vstack((actions,action))\n",
    "\n",
    "            if rewards is None:\n",
    "                rewards = [reward]\n",
    "            else:\n",
    "                rewards = np.vstack((rewards,reward))\n",
    "\n",
    "            if next_states is None:\n",
    "                next_states = copy.deepcopy(next_state)\n",
    "            else:\n",
    "                next_states = np.vstack((next_states,next_state))\n",
    "\n",
    "        yield (states, np.squeeze(actions), np.squeeze(rewards), next_states,  a)\n",
    "        \n",
    "        count += batch_size"
   ]
  },
  {
   "cell_type": "markdown",
   "metadata": {},
   "source": [
    "# main"
   ]
  },
  {
   "cell_type": "markdown",
   "metadata": {},
   "source": [
    "## def for main"
   ]
  },
  {
   "cell_type": "code",
   "execution_count": 8,
   "metadata": {
    "ExecuteTime": {
     "end_time": "2022-11-23T06:57:47.091851Z",
     "start_time": "2022-11-23T06:57:47.079293Z"
    }
   },
   "outputs": [
    {
     "name": "stdout",
     "output_type": "stream",
     "text": [
      "15 262 14\n"
     ]
    }
   ],
   "source": [
    "num_actions = len(df_train[\"rate_bin\"].unique())\n",
    "state_dim = len(state_features)\n",
    "max_rate_bin = max(df_train[\"rate_bin\"])\n",
    "\n",
    "print(num_actions, state_dim, max_rate_bin)"
   ]
  },
  {
   "cell_type": "code",
   "execution_count": 9,
   "metadata": {
    "ExecuteTime": {
     "end_time": "2022-11-23T06:57:47.102545Z",
     "start_time": "2022-11-23T06:57:47.092986Z"
    },
    "run_control": {
     "marked": true
    }
   },
   "outputs": [],
   "source": [
    "hidden_1_size = 200\n",
    "hidden_2_size = 100\n",
    "#  Q-network uses Leaky ReLU activation\n",
    "class Qnetwork():\n",
    "    def __init__(self):\n",
    "        self.phase = tf.placeholder(tf.bool)\n",
    "        self.num_actions = num_actions\n",
    "        self.input_size = state_dim\n",
    "        self.batch_size = batch_size\n",
    "        self.state = tf.placeholder(tf.float32, shape=[None, self.input_size],name=\"input_state\")\n",
    "        self.actions_max = tf.placeholder(shape=[None],dtype=tf.float32)\n",
    "        self.actions_min = tf.placeholder(shape=[None],dtype=tf.float32)\n",
    "        \n",
    "        self.fc_1 = tf.compat.v1.layers.dense(self.state, hidden_1_size, activation=None)\n",
    "        self.fc_2 = tf.compat.v1.layers.dense(self.fc_1, hidden_2_size, activation=None)\n",
    "        # advantage and value streams\n",
    "        self.streamA, self.streamV = tf.split(self.fc_2, 2, axis=1)\n",
    "        self.AW = tf.Variable(tf.random_normal([hidden_2_size//2, self.num_actions]))\n",
    "        self.VW = tf.Variable(tf.random_normal([hidden_2_size//2, 1]))\n",
    "        self.Advantage = tf.matmul(self.streamA,self.AW)\n",
    "        self.Value = tf.matmul(self.streamV,self.VW)\n",
    "        \n",
    "        #Then combine them together to get our final Q-values.\n",
    "        self.q_output = self.Value + tf.subtract(self.Advantage, tf.reduce_mean(self.Advantage,axis=1,keep_dims=True))\n",
    "        #if probs > epsilon:\n",
    "        self.predict_fix = tf.argmax(self.q_output, 1, name='predict')\n",
    "       # else:\n",
    "        self.dims2 = tf.shape(tf.multinomial(tf.log(self.q_output),1))[0]\n",
    "       # self.predict_ran = tf.squeeze(tf.random_uniform((self.dims2, 1), minval=0, maxval= num_actions, dtype=tf.int32), axis=1)\n",
    "        self.predict_ran = tf.compat.v1.to_int32(tf.diag_part(tf.random_uniform((self.dims2, 1), minval=self.actions_min, maxval=self.actions_max,dtype=tf.float32)))\n",
    "        \n",
    "        #Below we obtain the loss by taking the sum of squares difference between the target and predicted Q values.\n",
    "        self.targetQ = tf.placeholder(shape=[None],dtype=tf.float32)\n",
    "        \n",
    "        self.actions = tf.placeholder(shape=[None],dtype=tf.int32)\n",
    "        self.actions_onehot = tf.one_hot(self.actions,self.num_actions,dtype=tf.float32) # actions维度为batch_size*1 hotencoding后为32*29\n",
    "\n",
    "        # select the Q values for the actions that would be selected         \n",
    "        self.Q = tf.reduce_sum(tf.multiply(self.q_output, self.actions_onehot), reduction_indices=1) # 每个横轴上输出一个值\n",
    "        self.abs_error = tf.abs(self.targetQ - self.Q)\n",
    "        self.td_error = tf.square(self.targetQ - self.Q)\n",
    "        self.old_loss = tf.reduce_mean(self.td_error)\n",
    "\n",
    "    #    if per_flag:\n",
    "     #       self.loss = tf.reduce_mean(self.per_error) + reg_lambda*self.reg_term\n",
    "     #   else:\n",
    "        self.reg_vector = tf.maximum(tf.abs(self.Q)-REWARD_THRESHOLD,0) # regularisation penalises the network when it produces rewards that are above the reward threshold, to ensure reasonable Q-value predictions \n",
    "        self.reg_term = tf.reduce_sum(self.reg_vector)\n",
    "        self.loss = self.old_loss + reg_lambda*self.reg_term\n",
    "\n",
    "        self.trainer = tf.train.AdamOptimizer(learning_rate=0.0001)\n",
    "        self.update_ops = tf.get_collection(tf.GraphKeys.UPDATE_OPS)\n",
    "        with tf.control_dependencies(self.update_ops):\n",
    "            self.update_model = self.trainer.minimize(self.loss) # 最小化loss\n",
    "\n",
    "# function is needed to update parameters between main and target network\n",
    "# tf_vars are the trainable variables to update, and tau is the rate at which to update\n",
    "# returns tf ops corresponding to the updates\n",
    "def update_target_graph(tf_vars,tau):\n",
    "    total_vars = len(tf_vars)\n",
    "    op_holder = []\n",
    "    for idx,var in enumerate(tf_vars[0:int(total_vars/2)]):\n",
    "        op_holder.append(tf_vars[idx+int(total_vars/2)].assign((var.value()*tau) + ((1-tau)*tf_vars[idx+int(total_vars/2)].value())))\n",
    "    return op_holder\n",
    "\n",
    "def update_target(op_holder,sess):\n",
    "    for op in op_holder:\n",
    "        sess.run(op)"
   ]
  },
  {
   "cell_type": "markdown",
   "metadata": {
    "run_control": {
     "marked": true
    }
   },
   "source": [
    "## do_eval"
   ]
  },
  {
   "cell_type": "code",
   "execution_count": 10,
   "metadata": {
    "ExecuteTime": {
     "end_time": "2022-11-23T06:57:47.110102Z",
     "start_time": "2022-11-23T06:57:47.103485Z"
    }
   },
   "outputs": [],
   "source": [
    "def do_eval(eval_type, batch_size):\n",
    "    gen = process_eval_batch(batch_size = batch_size, eval_type=eval_type)\n",
    "    iternum = 40\n",
    "    random_q_ret = []\n",
    "    phys_q_ret = []\n",
    "    actions_ret = []\n",
    "    agent_q_ret = []\n",
    "    actions_taken_ret = []\n",
    "    error_ret = 0\n",
    "\n",
    "    for b in gen:\n",
    "        probs = np.array(random.random()) \n",
    "        states,actions,rewards,next_states, _ = b\n",
    "        actions_min = actions - max_rate_bin\n",
    "        actions_min[actions_min<=0] = 0\n",
    "        actions_max = actions + max_rate_bin\n",
    "        actions_max[actions_max>=max_rate_bin] = max_rate_bin\n",
    "       # if probs > epsilon:\n",
    "        actions_from_q1 = sess.run(mainQN.predict_fix,feed_dict={mainQN.state:next_states, mainQN.phase : 0})\n",
    "        cur_act = sess.run(mainQN.predict_fix, feed_dict={mainQN.state:states, mainQN.phase : 0})\n",
    "       # else:\n",
    "       #     actions_from_q1 = sess.run(mainQN.predict_ran,feed_dict={mainQN.state:next_states, mainQN.phase : 0})\n",
    "            \n",
    "        Q1 = sess.run(targetQN.q_output,feed_dict={targetQN.state:next_states, targetQN.phase : 0})\n",
    "        for j in range(1,iternum,1): \n",
    "            Q2 = sess.run(targetQN.q_output,feed_dict={targetQN.state:next_states, targetQN.phase : 0})\n",
    "            Q1 = np.dstack((Q1, Q2))\n",
    "        Q2 = np.mean(Q1, axis=2)\n",
    "        \n",
    "        # target Q value using Q values from target, and actions from main\n",
    "        double_q_value = Q2[range(len(Q2)), actions_from_q1]\n",
    "      #  print(double_q_value.shape)\n",
    "        # empirical hack to make the Q values never exceed the threshold - helps learning\n",
    "      #  double_q_value[double_q_value > REWARD_THRESHOLD_max] = REWARD_THRESHOLD_max\n",
    "      #  double_q_value[double_q_value < REWARD_THRESHOLD_min] = REWARD_THRESHOLD_min\n",
    "        \n",
    "        \n",
    "        # definition of target Q\n",
    "        targetQ = rewards + (gamma*double_q_value)\n",
    "\n",
    "        # get the output q's, actions, and loss\n",
    "        q_output,actions_taken, abs_error = sess.run([mainQN.q_output, mainQN.predict_fix, mainQN.abs_error], \\\n",
    "                feed_dict={mainQN.state:states,\n",
    "                           mainQN.targetQ:targetQ, \n",
    "                           mainQN.actions:cur_act,\n",
    "                           mainQN.phase:False\n",
    "                          })\n",
    "        random_act = sess.run(mainQN.predict_ran, feed_dict={mainQN.state:states,  mainQN.actions_min:actions_min, mainQN.actions_max:actions_max, mainQN.phase : 0})\n",
    "        \n",
    "        random_q = q_output[range(len(q_output)), random_act]\n",
    "        phys_q = q_output[range(len(q_output)), actions.astype('int64')]\n",
    "        agent_q = q_output[range(len(q_output)), actions_taken] # actions_taken为mainQN.predict的结果\n",
    "        error = np.mean(abs_error)\n",
    "        \n",
    "        # update the return vals\n",
    "        phys_q_ret.extend(phys_q)\n",
    "        random_q_ret.extend(random_q)\n",
    "        actions_ret.extend(actions)        \n",
    "        agent_q_ret.extend(agent_q)\n",
    "        actions_taken_ret.extend(actions_taken)\n",
    "        error_ret += error\n",
    "  \n",
    "    return random_q_ret, phys_q_ret, actions_ret, agent_q_ret, actions_taken_ret, error_ret"
   ]
  },
  {
   "cell_type": "markdown",
   "metadata": {},
   "source": [
    "## do_save"
   ]
  },
  {
   "cell_type": "code",
   "execution_count": 11,
   "metadata": {
    "ExecuteTime": {
     "end_time": "2022-11-23T06:57:47.115942Z",
     "start_time": "2022-11-23T06:57:47.110993Z"
    }
   },
   "outputs": [],
   "source": [
    "def do_save_results():\n",
    "    # get the chosen actions for the train, val, and test set when training is complete.\n",
    "    ran_q, phys_q_train, phys_actions_train, agent_q_train, agent_actions_train, _ = do_eval(batch_size=100, eval_type = 'train')\n",
    "#    print (\"length of training epoch \", len(agent_actions_train))\n",
    "  #  with open(save_dir + 'dqn_normal_actions_train.p', 'wb') as f:\n",
    "  #      pickle.dump(agent_actions_train, f)\n",
    "    ran_q, phys_q_val, phys_actions_val, agent_q_val, agent_actions_val, _ = do_eval(batch_size=100, eval_type = 'val')        \n",
    "    ran_q, phys_q_test, phys_actions_test, agent_q_test, agent_actions_test, _ = do_eval(batch_size=100, eval_type = 'test')   \n",
    "    \n",
    "    # save everything for later - they're used in policy evaluation and when generating plots\n",
    "    with open(save_dir + 'dqn_normal_actions_train.p', 'wb') as f:\n",
    "        pickle.dump(agent_actions_train, f)\n",
    "    with open(save_dir + 'dqn_normal_actions_val.p', 'wb') as f:\n",
    "        pickle.dump(agent_actions_val, f)\n",
    "    with open(save_dir + 'dqn_normal_actions_test.p', 'wb') as f:\n",
    "        pickle.dump(agent_actions_test, f)\n",
    "\n",
    "    with open(save_dir + 'dqn_normal_phy_actions_train.p', 'wb') as f:\n",
    "        pickle.dump(phys_actions_train, f)\n",
    "    with open(save_dir + 'dqn_normal_phy_actions_val.p', 'wb') as f:\n",
    "        pickle.dump(phys_actions_val, f)\n",
    "    with open(save_dir + 'dqn_normal_phy_actions_test.p', 'wb') as f:\n",
    "        pickle.dump(phys_actions_test, f)\n",
    "        \n",
    "    with open(save_dir + 'dqn_normal_q_train.p', 'wb') as f:\n",
    "        pickle.dump(agent_q_train, f)\n",
    "    with open(save_dir + 'dqn_normal_q_val.p', 'wb') as f:\n",
    "        pickle.dump(agent_q_val, f)\n",
    "    with open(save_dir + 'dqn_normal_q_test.p', 'wb') as f:\n",
    "        pickle.dump(agent_q_test, f)\n",
    "    \n",
    "    with open(save_dir + 'dqn_normal_phy_q_train.p', 'wb') as f:\n",
    "        pickle.dump(phys_q_train, f)\n",
    "    with open(save_dir + 'dqn_normal_phy_q_val.p', 'wb') as f:\n",
    "        pickle.dump(phys_q_val, f)\n",
    "    with open(save_dir + 'dqn_normal_phy_q_test.p', 'wb') as f:\n",
    "        pickle.dump(phys_q_test, f)\n",
    "        \n",
    "    return"
   ]
  },
  {
   "cell_type": "markdown",
   "metadata": {
    "ExecuteTime": {
     "end_time": "2022-08-22T06:11:15.270530Z",
     "start_time": "2022-08-22T06:11:15.267164Z"
    }
   },
   "source": [
    "## training"
   ]
  },
  {
   "cell_type": "code",
   "execution_count": 12,
   "metadata": {
    "ExecuteTime": {
     "end_time": "2022-11-23T06:57:47.119167Z",
     "start_time": "2022-11-23T06:57:47.116821Z"
    }
   },
   "outputs": [
    {
     "data": {
      "text/plain": [
       "'av_loss_step = []\\nav_loss_lst = []\\n\\nav_q_step = []\\nav_agent_q_lst = []\\nav_phys_q_lst = []\\nav_phys_q_std_lst = []\\nav_agent_q_std_lst = []\\nav_ran_q_lst = []\\nav_ran_q_std_lst = []\\n    \\nM_phy_ac = []\\nE_phy_ac = []\\nEA_phy_ac = []\\nL_phy_ac = []\\n\\nerr_lst = [] '"
      ]
     },
     "execution_count": 12,
     "metadata": {},
     "output_type": "execute_result"
    }
   ],
   "source": [
    "\"\"\"av_loss_step = []\n",
    "av_loss_lst = []\n",
    "\n",
    "av_q_step = []\n",
    "av_agent_q_lst = []\n",
    "av_phys_q_lst = []\n",
    "av_phys_q_std_lst = []\n",
    "av_agent_q_std_lst = []\n",
    "av_ran_q_lst = []\n",
    "av_ran_q_std_lst = []\n",
    "    \n",
    "M_phy_ac = []\n",
    "E_phy_ac = []\n",
    "EA_phy_ac = []\n",
    "L_phy_ac = []\n",
    "\n",
    "err_lst = [] \"\"\""
   ]
  },
  {
   "cell_type": "code",
   "execution_count": 13,
   "metadata": {
    "ExecuteTime": {
     "end_time": "2022-11-24T11:03:28.341506Z",
     "start_time": "2022-11-23T06:57:47.120066Z"
    },
    "run_control": {
     "marked": true
    },
    "scrolled": true
   },
   "outputs": [
    {
     "name": "stdout",
     "output_type": "stream",
     "text": [
      "WARNING:tensorflow:From /home/hanl/miniconda3/envs/mytensor/lib/python3.9/site-packages/tensorflow/python/util/dispatch.py:201: multinomial (from tensorflow.python.ops.random_ops) is deprecated and will be removed in a future version.\n",
      "Instructions for updating:\n",
      "Use `tf.random.categorical` instead.\n",
      "WARNING:tensorflow:From <ipython-input-9-15ec97ea7262>:30: to_int32 (from tensorflow.python.ops.math_ops) is deprecated and will be removed in a future version.\n",
      "Instructions for updating:\n",
      "Use `tf.cast` instead.\n"
     ]
    },
    {
     "name": "stderr",
     "output_type": "stream",
     "text": [
      "/home/hanl/miniconda3/envs/mytensor/lib/python3.9/site-packages/tensorflow/python/keras/legacy_tf_layers/core.py:171: UserWarning: `tf.layers.dense` is deprecated and will be removed in a future version. Please use `tf.keras.layers.Dense` instead.\n",
      "  warnings.warn('`tf.layers.dense` is deprecated and '\n",
      "/home/hanl/miniconda3/envs/mytensor/lib/python3.9/site-packages/tensorflow/python/keras/engine/base_layer_v1.py:1719: UserWarning: `layer.apply` is deprecated and will be removed in a future version. Please use `layer.__call__` method instead.\n",
      "  warnings.warn('`layer.apply` is deprecated and '\n"
     ]
    },
    {
     "name": "stdout",
     "output_type": "stream",
     "text": [
      "2022-11-23 14:57:47\n",
      "Running default init\n",
      "Init done\n",
      "0.9 [ 0  1  3  6  7  9 10 13 14]\n",
      "0.9 [ 0  1  2  3  4  5  6  7  8  9 10 11 12 13 14]\n",
      "0.9 [ 0  1  2  3  4  5  6  7  8  9 10 11 12 13 14]\n",
      "0.9 [ 0  1  2  3  4  5  6  7  8  9 10 11 12 13 14]\n",
      "0.9 [ 0  1  2  3  4  5  6  7  8  9 10 11 12 13 14]\n",
      "0.9 [ 0  1  4  6  8 10 11 14]\n",
      "0.9 [ 0  2  3  4  6  8  9 12 13 14]\n",
      "0.9 [ 0  2  3  4  5  6  8  9 10 11 12 13 14]\n",
      "0.9 [ 1  2  4  5  6  7  8  9 11 12 13 14]\n",
      "0.9 [ 0  1  3  4  6  7  9 10 13 14]\n",
      "0.9 [ 0  1  2  3  5  6  7  8 10 11 12 13 14]\n",
      "2022-11-23 18:12:14\n",
      "10000 Saving results\n",
      "0.7 [ 0  1  2  3  4  5  6  7  8  9 10 11 12 13 14]\n",
      "0.7 [ 0  1  2  4  5  6  7  8  9 10 11 12 13 14]\n",
      "0.7 [ 0  1  2  3  4  7  8  9 10 11 12 13 14]\n",
      "0.7 [ 0  1  2  3  4  5  6  8  9 10 11 12 13 14]\n",
      "0.7 [ 0  1  2  3  4  5  6  7  8  9 10 11 12 13 14]\n",
      "0.7 [ 0  1  2  3  6  7  8  9 10 11 12 13 14]\n",
      "0.7 [ 0  1  2  3  4  5  6  7  8  9 10 11 12 13 14]\n",
      "0.7 [ 0  1  2  3  4  5  6  7  8  9 10 11 12 13 14]\n",
      "0.7 [ 0  1  2  3  5  6  7  8  9 10 11 12 13 14]\n",
      "0.7 [ 0  1  2  3  4  5  6  7  8  9 10 11 12 13 14]\n",
      "2022-11-23 21:22:43\n",
      "20000 Saving results\n",
      "0.49999999999999994 [ 0  1  2  3  4  5  6  7  8  9 10 11 12 13 14]\n",
      "0.49999999999999994 [ 0  1  2  3  4  5  6  7  9 10 11 12 13 14]\n",
      "0.49999999999999994 [ 0  1  2  3  4  5  7  8  9 10 11 12 13 14]\n",
      "0.49999999999999994 [ 0  2  4  6  7  8  9 10 11 12 13]\n",
      "0.49999999999999994 [ 0  1  2  3  5  6  7  8  9 10 11 12 13]\n",
      "0.49999999999999994 [ 0  1  2  3  4  5  6  7  8  9 10 11 12 13]\n",
      "0.49999999999999994 [ 0  1  2  3  4  5  6  7  8  9 10 11 12 13]\n",
      "0.49999999999999994 [ 0  1  2  3  4  5  6  7  8  9 10 11 12 13]\n",
      "0.49999999999999994 [ 0  1  2  3  4  5  6  7  8  9 10 11 12 13]\n",
      "0.49999999999999994 [ 0  2  3  4  5  6  7  8  9 11 12 13]\n",
      "2022-11-24 00:29:09\n",
      "30000 Saving results\n",
      "0.29999999999999993 [ 0  1  2  3  4  5  6  7  8  9 10 11 12 13]\n",
      "0.29999999999999993 [ 0  1  2  3  4  5  6  7  8  9 10 11 12 13]\n",
      "0.29999999999999993 [ 0  1  2  3  4  5  6  7  8  9 10 11 12 13]\n",
      "0.29999999999999993 [ 0  1  2  3  4  5  7  8 11]\n",
      "0.29999999999999993 [ 0  1  2  3  4  5  6  7  8 10 11 12 13]\n",
      "0.29999999999999993 [ 0  1  2  3  5  6  7  8  9 10 11 12 13]\n",
      "0.29999999999999993 [ 0  1  2  3  4  5  6  7  8  9 10 11 12 13]\n",
      "0.29999999999999993 [ 0  1  2  3  4  5  6  7  8  9 10 11 12 13]\n",
      "0.29999999999999993 [ 0  1  2  3  4  5  6  7  8  9 10 11 12 13]\n",
      "0.29999999999999993 [ 0  1  2  3  4  5  6  7  8  9 10 11 12 13]\n",
      "2022-11-24 03:36:13\n",
      "40000 Saving results\n",
      "0.09999999999999992 [ 0  1  2  3  5  6  7  8  9 10 11 12 13]\n",
      "0.09999999999999992 [ 0  1  2  3  5  6  7  8  9 10 11 12 13]\n",
      "0.09999999999999992 [ 0  1  3  4  5  6  7  8  9 10 11]\n",
      "0.09999999999999992 [ 0  1  2  3  4  5  6  7  8  9 10 11 12 13]\n",
      "0.09999999999999992 [ 0  1  2  3  4  5  6  7  8  9 10 11 12 13]\n",
      "0.09999999999999992 [ 0  1  2  3  4  6  7  8  9 10 11 12 13]\n",
      "0.09999999999999992 [ 0  1  2  4  5  6  7  8  9 10 11 12 13]\n",
      "0.09999999999999992 [ 0  1  2  3  4  5  6  7  9 11 13]\n",
      "0.09999999999999992 [ 0  1  2  3  4  5  6  7  8  9 10 11 12]\n",
      "0.09999999999999992 [ 0  1  2  3  4  5  6  7  8  9 10 11 12 13]\n",
      "2022-11-24 06:41:51\n",
      "50000 Saving results\n",
      "0.09999999999999992 [ 0  1  2  3  4  5  6  7  8  9 10 11 12 13]\n",
      "0.09999999999999992 [ 0  1  3  4  6  7  8  9 10 11 12 13]\n",
      "0.09999999999999992 [ 0  1  2  3  5  6  7  8  9 10 11 12 13]\n",
      "0.09999999999999992 [ 0  1  2  3  4  5  6  7  8  9 10 11 12 13]\n",
      "0.09999999999999992 [ 0  1  2  3  4  5  6  7  8  9 10 11 12 13]\n",
      "0.09999999999999992 [ 0  1  2  3  4  6  7  8  9 10 11 12 13]\n",
      "0.09999999999999992 [ 0  1  2  3  4  5  6  7  8  9 10 11 12]\n",
      "0.09999999999999992 [ 0  1  2  3  4  5  6  7  8  9 10 11 12 13]\n",
      "0.09999999999999992 [ 0  2  3  4  5  6  7  8  9 10 11 12 14]\n",
      "0.09999999999999992 [ 0  1  2  3  4  5  6  7  8  9 10 11 12 14]\n",
      "2022-11-24 09:48:49\n",
      "60000 Saving results\n",
      "0.09999999999999992 [0 1 2 3 4 5 6 7 8 9]\n",
      "0.09999999999999992 [ 1  2  3  4  5  6  7  8  9 10 12]\n",
      "0.09999999999999992 [ 0  1  2  3  4  5  6  7  8  9 10 11 12]\n",
      "0.09999999999999992 [ 0  1  2  4  5  6  7  8  9 10 11 12 13]\n",
      "0.09999999999999992 [ 0  2  3  6  7  9 11 12]\n",
      "0.09999999999999992 [ 0  1  2  3  4  5  6  7  8  9 10 11 12 13 14]\n",
      "0.09999999999999992 [ 0  1  2  3  4  5  6  7  8  9 10 11 12 13 14]\n",
      "0.09999999999999992 [ 1  2  3  4  5  6  7  8  9 10 11 12 13 14]\n",
      "0.09999999999999992 [ 0  1  2  3  4  5  6  7  8  9 10 11 12]\n",
      "0.09999999999999992 [ 0  1  2  3  4  5  6  7  8  9 10 11 12 13]\n",
      "2022-11-24 12:56:16\n",
      "70000 Saving results\n",
      "0.09999999999999992 [ 0  1  2  3  4  5  6  7  8  9 10 11 12 13]\n",
      "0.09999999999999992 [ 0  1  2  3  4  5  6  7  8  9 10 11 12 13 14]\n",
      "0.09999999999999992 [ 0  1  2  3  4  5  6  7  8  9 10 11 12 13 14]\n",
      "0.09999999999999992 [ 0  2  3  4  5  6  7  8  9 10 11 12 13 14]\n",
      "0.09999999999999992 [ 0  1  2  3  4  5  6  7  8  9 10 11 12 13 14]\n",
      "0.09999999999999992 [ 0  1  2  3  4  5  6  7  8  9 10 11 12 13 14]\n",
      "0.09999999999999992 [ 0  1  2  3  4  5  6  7  8  9 10 11 12 13 14]\n",
      "0.09999999999999992 [ 0  1  2  3  4  5  6  7  8  9 10 11 12 13 14]\n",
      "0.09999999999999992 [ 0  1  2  3  4  5  6  7  8  9 10 11 12 13 14]\n",
      "0.09999999999999992 [ 0  1  2  3  4  5  6  7  8  9 10 11 12 13 14]\n",
      "2022-11-24 15:57:08\n",
      "80000 Saving results\n",
      "0.09999999999999992 [ 2  4 10 12]\n",
      "0.09999999999999992 [ 0  1  2  3  4  5  6  7  8  9 10 11 12 14]\n",
      "0.09999999999999992 [ 0  1  3  5  6  7  9 11 12 13 14]\n",
      "0.09999999999999992 [ 0  1  2  3  4  5  6  7  8  9 10 11 12 13 14]\n",
      "0.09999999999999992 [ 0  1  2  3  4  5  6  7  8  9 10 11 12 13 14]\n",
      "0.09999999999999992 [ 0  1  2  3  4  5  6  7  8  9 10 11 12 13 14]\n",
      "0.09999999999999992 [ 0  1  2  3  4  5  6  7  8  9 10 11 13 14]\n",
      "0.09999999999999992 [ 0  1  2  3  4  5  6  7  8  9 10 11 12 13 14]\n",
      "0.09999999999999992 [ 0  1  2  3  4  5  6  7  9 10 11 12 13 14]\n",
      "2022-11-24 19:03:28\n",
      "training done!\n",
      "training done !!\n"
     ]
    }
   ],
   "source": [
    "df = df_train\n",
    "spea_action = df[\"rate_bin\"].unique().tolist()\n",
    "\n",
    "geometric_sampling = True\n",
    "\n",
    "tf.compat.v1.reset_default_graph()\n",
    "reg_lambda = 5\n",
    "#per_flag = True # per_flag 是决定是否根据优先度权重构建样本\n",
    "clip_reward = True\n",
    "\n",
    "# The main training loop is here\n",
    "batch_size = 256\n",
    "tau = 0.05 #Rate to update target network toward primary network\n",
    "gamma = 0.99 # discount factor  # 只考虑后面的两步，更注重当下利益\n",
    "\n",
    "load_model = False # Whether to load a saved model.\n",
    "save_dir = \"./dqn_normal_noterm_R8_v1_t1/\"\n",
    "save_path = \"./dqn_normal_noterm_R8_v1_t1/ckpt\" #The path to save our model to.\n",
    "epsilon = 0.9 # epsilon_greedy\n",
    "bak_epsilon = epsilon\n",
    "num_steps = 90000 # How many steps to train for\n",
    "iternum = 10 \n",
    "\n",
    "mainQN = Qnetwork()\n",
    "targetQN = Qnetwork()\n",
    "\n",
    "saver = tf.train.Saver(tf.global_variables()) \n",
    "init = tf.global_variables_initializer() \n",
    "trainables = tf.trainable_variables() # 查看模型训练过程中的一些参数\n",
    "target_ops = update_target_graph(trainables,tau)\n",
    "\n",
    "#Make a path for our model to be saved in.\n",
    "if not os.path.exists(save_dir):\n",
    "    os.makedirs(save_dir)\n",
    "    \n",
    "print(time.strftime('%Y-%m-%d %H:%M:%S',time.localtime(time.time())))\n",
    "with tf.Session(config=config) as sess:\n",
    "    if load_model == True:\n",
    "        print('Trying to load model...')\n",
    "        try:\n",
    "            restorer = tf.train.import_meta_graph(save_path + '.meta')\n",
    "            restorer.restore(sess, tf.train.latest_checkpoint(save_dir))\n",
    "            print (\"Model restored\")\n",
    "        except IOError:\n",
    "            print (\"No previous model found, running default init\")\n",
    "            sess.run(init)\n",
    "    else:\n",
    "        print(\"Running default init\")\n",
    "        sess.run(init)\n",
    "    print(\"Init done\")\n",
    "    \n",
    "    net_loss = 0.0\n",
    "    for i in range(num_steps):\n",
    "        probs = np.array(random.random())        \n",
    "        states,actions,rewards,next_states, sampled_df = process_train_batch(batch_size, df)\n",
    "        actions_min = actions - 4\n",
    "        actions_min[actions_min<=0] = 0\n",
    "        actions_max = actions + 4\n",
    "        actions_max[actions_max>=max_rate_bin] = max_rate_bin\n",
    "        # firstly get the chosen actions at the next timestep\n",
    "        if probs > epsilon:\n",
    "            actions_from_q1 = sess.run(mainQN.predict_fix, feed_dict={mainQN.state:next_states,  mainQN.phase : 1})\n",
    "            cur_act = sess.run(mainQN.predict_fix, feed_dict={mainQN.state:states, mainQN.phase : 1})\n",
    "        else:\n",
    "            actions_from_q1 = sess.run(mainQN.predict_ran, feed_dict={mainQN.state:next_states, mainQN.actions_min:actions_min, mainQN.actions_max:actions_max,mainQN.phase : 1})\n",
    "            cur_act = sess.run(mainQN.predict_ran, feed_dict={mainQN.state:states, mainQN.actions_min:actions_min, mainQN.actions_max:actions_max, mainQN.phase : 1})\n",
    "#        print(\"predict:\",actions_from_q1)\n",
    "        # Q values for the next timestep from target network, as part of the Double DQN update\n",
    "        Q1 = sess.run(targetQN.q_output,feed_dict={targetQN.state:next_states, targetQN.phase : 1})\n",
    "        for j in range(1,iternum,1): \n",
    "            Q2 = sess.run(targetQN.q_output,feed_dict={targetQN.state:next_states, targetQN.phase : 1})\n",
    "            Q1 = np.dstack((Q1, Q2))\n",
    "        Q2 = np.mean(Q1, axis=2)\n",
    "\n",
    "        # target Q value using Q values from target, and actions from main\n",
    "        double_q_value = Q2[range(len(Q2)), actions_from_q1]\n",
    "\n",
    "        # empirical hack to make the Q values never exceed the threshold - helps learning\n",
    "      #  double_q_value[double_q_value > REWARD_THRESHOLD_max] = REWARD_THRESHOLD_max\n",
    "      #  double_q_value[double_q_value < REWARD_THRESHOLD_min] = REWARD_THRESHOLD_min\n",
    "        \n",
    "        # definition of target Q\n",
    "        targetQ = rewards + (gamma*double_q_value) \n",
    "      \n",
    "        # Train with the batch\n",
    "        _,loss, error = sess.run([mainQN.update_model, mainQN.loss, mainQN.abs_error], \\\n",
    "            feed_dict={mainQN.state:states,\n",
    "                       mainQN.targetQ:targetQ, \n",
    "                       mainQN.actions:cur_act,\n",
    "                       mainQN.phase:True})\n",
    "\n",
    "        # Update target towards main network\n",
    "        update_target(target_ops,sess) \n",
    "        net_loss += sum(error)\n",
    "        \n",
    "        if epsilon > 0.1 and (i % 1000 == 900):\n",
    "            epsilon = 0.1\n",
    "        if i % 1000 ==0:\n",
    "            ran_q, phys_q, phys_actions, agent_q, agent_actions, mean_abs_error = do_eval(batch_size = 100, eval_type = 'val')\n",
    "            epsilon = bak_epsilon\n",
    "            print(epsilon, np.unique(agent_actions))\n",
    "            \n",
    "            \n",
    "            if (i % 10000==0) and (i >= 10000):\n",
    "                if epsilon > 0.1:\n",
    "                    epsilon = epsilon - 0.2\n",
    "                    bak_epsilon = epsilon\n",
    "                if epsilon <= 0.1:\n",
    "                     epsilon = 0.1\n",
    "                epsilon = np.array(epsilon)\n",
    "                print(time.strftime('%Y-%m-%d %H:%M:%S',time.localtime(time.time())))\n",
    "                print (i, \"Saving results\")\n",
    "                saver.save(sess,save_path)\n",
    "                do_save_results()\n",
    "    saver.save(sess,save_path)\n",
    "    do_save_results()\n",
    "print(time.strftime('%Y-%m-%d %H:%M:%S',time.localtime(time.time())))\n",
    "print(\"training done!\") \n",
    "\n",
    "filename = r'model_para.pkl'\n",
    "save_dir2  =  save_dir + filename\n",
    "save_lst = [\"save_dir\", \"spea_action\",\"geometric_sampling\", \"reg_lambda\", \"batch_size\", \"tau\", \"gamma\", \"epsilon\", \"num_steps\" ]\n",
    "my_save(save_lst, save_dir2, globals())\n",
    "print(\"training done !!\") \n"
   ]
  },
  {
   "cell_type": "markdown",
   "metadata": {},
   "source": [
    "## 针对性的训练"
   ]
  },
  {
   "cell_type": "code",
   "execution_count": 27,
   "metadata": {
    "ExecuteTime": {
     "end_time": "2022-11-30T03:42:27.441311Z",
     "start_time": "2022-11-30T01:54:39.309920Z"
    }
   },
   "outputs": [
    {
     "name": "stderr",
     "output_type": "stream",
     "text": [
      "/home/hanl/miniconda3/envs/mytensor/lib/python3.9/site-packages/tensorflow/python/keras/legacy_tf_layers/core.py:171: UserWarning: `tf.layers.dense` is deprecated and will be removed in a future version. Please use `tf.keras.layers.Dense` instead.\n",
      "  warnings.warn('`tf.layers.dense` is deprecated and '\n",
      "/home/hanl/miniconda3/envs/mytensor/lib/python3.9/site-packages/tensorflow/python/keras/engine/base_layer_v1.py:1719: UserWarning: `layer.apply` is deprecated and will be removed in a future version. Please use `layer.__call__` method instead.\n",
      "  warnings.warn('`layer.apply` is deprecated and '\n"
     ]
    },
    {
     "name": "stdout",
     "output_type": "stream",
     "text": [
      "2022-11-30 09:54:39\n",
      "Trying to load model...\n",
      "INFO:tensorflow:Restoring parameters from ./dqn_normal_noterm_R8_v1_t2/ckpt\n",
      "Model restored\n",
      "Init done\n",
      "0.3 [ 0  1  2  3  4  5  6  7  8  9 10 11 12 14]\n",
      "0.3 [ 0  1  2  3  4  5  6  7  8  9 10 11 12 14]\n",
      "0.3 [ 0  1  2  3  4  5  6  7  8  9 11 12 13 14]\n",
      "2022-11-30 10:32:19\n",
      "2000 Saving results\n",
      "0.09999999999999998 [ 0  1  2  3  4  5  6  7  8  9 10 11 12 14]\n",
      "0.09999999999999998 [ 0  1  2  3  4  5  6  7  8  9 10 11 12 13 14]\n",
      "2022-11-30 11:14:13\n",
      "4000 Saving results\n",
      "2022-11-30 11:42:27\n",
      "training done!\n",
      "training done !!\n"
     ]
    }
   ],
   "source": [
    "spea_action = [0,1,2,3,4,5,6,7,8,9,10,11] \n",
    "df = df_train[df_train[\"rate_bin\"].isin(spea_action)]\n",
    "\n",
    "geometric_sampling = True\n",
    "\n",
    "tf.compat.v1.reset_default_graph()\n",
    "reg_lambda = 5\n",
    "#per_flag = True # per_flag 是决定是否根据优先度权重构建样本\n",
    "clip_reward = True\n",
    "\n",
    "# The main training loop is here\n",
    "batch_size = 256\n",
    "tau = 0.05 #Rate to update target network toward primary network\n",
    "gamma = 0.5 # discount factor  # 只考虑后面的两步，更注重当下利益\n",
    "\n",
    "load_model = True # ther to load a saved model.\n",
    "save_dir = \"./dqn_normal_noterm_R8_v1_t2/\"\n",
    "save_path = \"./dqn_normal_noterm_R8_v1_t2/ckpt\" #The path to save our model to.\n",
    "epsilon = 0.3 # epsilon_greedy\n",
    "bak_epsilon = epsilon\n",
    "num_steps = 10000 # How many steps to train for\n",
    "iternum = 10 \n",
    "\n",
    "mainQN = Qnetwork()\n",
    "targetQN = Qnetwork()\n",
    "\n",
    "saver = tf.train.Saver(tf.global_variables()) \n",
    "init = tf.global_variables_initializer() \n",
    "trainables = tf.trainable_variables() # 查看模型训练过程中的一些参数\n",
    "target_ops = update_target_graph(trainables,tau)\n",
    "\n",
    "#Make a path for our model to be saved in.\n",
    "if not os.path.exists(save_dir):\n",
    "    os.makedirs(save_dir)\n",
    "    \n",
    "print(time.strftime('%Y-%m-%d %H:%M:%S',time.localtime(time.time())))\n",
    "with tf.Session(config=config) as sess:\n",
    "    if load_model == True:\n",
    "        print('Trying to load model...')\n",
    "        try:\n",
    "            restorer = tf.train.import_meta_graph(save_path + '.meta')\n",
    "            restorer.restore(sess, tf.train.latest_checkpoint(save_dir))\n",
    "            print (\"Model restored\")\n",
    "        except IOError:\n",
    "            print (\"No previous model found, running default init\")\n",
    "            sess.run(init)\n",
    "    else:\n",
    "        print(\"Running default init\")\n",
    "        sess.run(init)\n",
    "    print(\"Init done\")\n",
    "    \n",
    "    net_loss = 0.0\n",
    "    for i in range(num_steps):\n",
    "        probs = np.array(random.random())        \n",
    "        states,actions,rewards,next_states, sampled_df = process_train_batch(batch_size, df)\n",
    "        actions_min = actions - 3\n",
    "        actions_min[actions_min<=0] = 0\n",
    "        actions_max = actions + 3\n",
    "        actions_max[actions_max>=max_rate_bin] = max_rate_bin\n",
    "        # firstly get the chosen actions at the next timestep\n",
    "        if probs > epsilon:\n",
    "            actions_from_q1 = sess.run(mainQN.predict_fix, feed_dict={mainQN.state:next_states,  mainQN.phase : 1})\n",
    "            cur_act = sess.run(mainQN.predict_fix, feed_dict={mainQN.state:states, mainQN.phase : 1})\n",
    "        else:\n",
    "            actions_from_q1 = sess.run(mainQN.predict_ran, feed_dict={mainQN.state:next_states, mainQN.actions_min:actions_min, mainQN.actions_max:actions_max,mainQN.phase : 1})\n",
    "            cur_act = sess.run(mainQN.predict_ran, feed_dict={mainQN.state:states, mainQN.actions_min:actions_min, mainQN.actions_max:actions_max, mainQN.phase : 1})\n",
    "\n",
    "        # Q values for the next timestep from target network, as part of the Double DQN update\n",
    "        Q1 = sess.run(targetQN.q_output,feed_dict={targetQN.state:next_states, targetQN.phase : 1})\n",
    "        for j in range(1,iternum,1): \n",
    "            Q2 = sess.run(targetQN.q_output,feed_dict={targetQN.state:next_states, targetQN.phase : 1})\n",
    "            Q1 = np.dstack((Q1, Q2))\n",
    "        Q2 = np.mean(Q1, axis=2)\n",
    "\n",
    "        # target Q value using Q values from target, and actions from main\n",
    "        double_q_value = Q2[range(len(Q2)), actions_from_q1]\n",
    "\n",
    "        # empirical hack to make the Q values never exceed the threshold - helps learning\n",
    "      #  double_q_value[double_q_value > REWARD_THRESHOLD_max] = REWARD_THRESHOLD_max\n",
    "      #  double_q_value[double_q_value < REWARD_THRESHOLD_min] = REWARD_THRESHOLD_min\n",
    "        \n",
    "        # definition of target Q\n",
    "        targetQ = rewards + (gamma*double_q_value) \n",
    "      \n",
    "        # Train with the batch\n",
    "        _,loss, error = sess.run([mainQN.update_model, mainQN.loss, mainQN.abs_error], \\\n",
    "            feed_dict={mainQN.state:states,\n",
    "                       mainQN.targetQ:targetQ, \n",
    "                       mainQN.actions:cur_act,\n",
    "                       mainQN.phase:True})\n",
    "\n",
    "        # Update target towards main network\n",
    "        update_target(target_ops,sess) \n",
    "        net_loss += sum(error)\n",
    "        \n",
    "        if epsilon > 0.1 and (i % 1000 == 900):\n",
    "            epsilon = 0.1\n",
    "        if i % 1000 ==0:\n",
    "            ran_q, phys_q, phys_actions, agent_q, agent_actions, mean_abs_error = do_eval(batch_size = 100, eval_type = 'val')\n",
    "            epsilon = bak_epsilon\n",
    "            print(epsilon, np.unique(agent_actions))\n",
    "            \n",
    "            if (i % 2000==0) and (i >= 2000):\n",
    "                if epsilon > 0.1:\n",
    "                    epsilon = epsilon - 0.2\n",
    "                    bak_epsilon = epsilon\n",
    "                if epsilon <= 0.1:\n",
    "                     epsilon = 0.1\n",
    "                epsilon = np.array(epsilon)\n",
    "                print(time.strftime('%Y-%m-%d %H:%M:%S',time.localtime(time.time())))\n",
    "                print (i, \"Saving results\")\n",
    "                saver.save(sess,save_path)\n",
    "                do_save_results()\n",
    "    saver.save(sess,save_path)\n",
    "    do_save_results()\n",
    "print(time.strftime('%Y-%m-%d %H:%M:%S',time.localtime(time.time())))\n",
    "print(\"training done!\") \n",
    "\n",
    "filename = r'model_para.pkl'\n",
    "save_dir2  =  save_dir + filename\n",
    "save_lst = [\"save_dir\", \"spea_action\",\"geometric_sampling\", \"reg_lambda\", \"batch_size\", \"tau\", \"gamma\", \"epsilon\", \"num_steps\" ]\n",
    "my_save(save_lst, save_dir2, globals())\n",
    "print(\"training done !!\") \n"
   ]
  },
  {
   "cell_type": "code",
   "execution_count": null,
   "metadata": {},
   "outputs": [],
   "source": []
  },
  {
   "cell_type": "markdown",
   "metadata": {},
   "source": [
    "## test for stability"
   ]
  },
  {
   "cell_type": "code",
   "execution_count": 15,
   "metadata": {
    "ExecuteTime": {
     "end_time": "2022-11-24T11:03:28.400968Z",
     "start_time": "2022-11-24T11:03:28.349671Z"
    },
    "run_control": {
     "marked": true
    }
   },
   "outputs": [
    {
     "data": {
      "text/plain": [
       "'\\nload_model = True\\nwith tf.Session(config=config) as sess:\\n    if load_model == True:\\n        print(\\'Trying to load model...\\')\\n        try:\\n            restorer = tf.train.import_meta_graph(save_path + \\'.meta\\')\\n            restorer.restore(sess, tf.train.latest_checkpoint(save_dir))\\n            print (\"Model restored\")\\n        except IOError:\\n            print (\"No previous model found, running default init\")\\n            sess.run(init)\\n    else:\\n        print(\"Running default init\")\\n        sess.run(init)\\n    print(\"Init done\")\\n    do_save_results()\\nprint(\"training done!\")\\n'"
      ]
     },
     "execution_count": 15,
     "metadata": {},
     "output_type": "execute_result"
    }
   ],
   "source": [
    "#save_path = \"./dqn_normal_noterm_stability_test/\"\n",
    "'''\n",
    "load_model = True\n",
    "with tf.Session(config=config) as sess:\n",
    "    if load_model == True:\n",
    "        print('Trying to load model...')\n",
    "        try:\n",
    "            restorer = tf.train.import_meta_graph(save_path + '.meta')\n",
    "            restorer.restore(sess, tf.train.latest_checkpoint(save_dir))\n",
    "            print (\"Model restored\")\n",
    "        except IOError:\n",
    "            print (\"No previous model found, running default init\")\n",
    "            sess.run(init)\n",
    "    else:\n",
    "        print(\"Running default init\")\n",
    "        sess.run(init)\n",
    "    print(\"Init done\")\n",
    "    do_save_results()\n",
    "print(\"training done!\")\n",
    "'''"
   ]
  },
  {
   "cell_type": "markdown",
   "metadata": {},
   "source": [
    "# evalution for model's convergence\n"
   ]
  },
  {
   "cell_type": "markdown",
   "metadata": {},
   "source": [
    "## 随着epoch的增加loss 的变化"
   ]
  },
  {
   "cell_type": "code",
   "execution_count": 16,
   "metadata": {
    "ExecuteTime": {
     "end_time": "2022-11-24T11:03:28.404148Z",
     "start_time": "2022-11-24T11:03:28.401975Z"
    }
   },
   "outputs": [
    {
     "data": {
      "text/plain": [
       "'plt.plot(av_loss_step, av_loss_lst)\\nplt.xlabel(\"sample size\")\\nplt.ylabel(\"loss\")'"
      ]
     },
     "execution_count": 16,
     "metadata": {},
     "output_type": "execute_result"
    }
   ],
   "source": [
    "'''plt.plot(av_loss_step, av_loss_lst)\n",
    "plt.xlabel(\"sample size\")\n",
    "plt.ylabel(\"loss\")'''"
   ]
  },
  {
   "cell_type": "markdown",
   "metadata": {},
   "source": [
    "## 随着epoch的增加平均Q打分\n",
    "- 这里认为当模型对推荐的action的平均Q打分 比较稳定且高时，认为模型基本收敛"
   ]
  },
  {
   "cell_type": "code",
   "execution_count": 17,
   "metadata": {
    "ExecuteTime": {
     "end_time": "2022-11-24T11:03:28.407518Z",
     "start_time": "2022-11-24T11:03:28.405094Z"
    },
    "run_control": {
     "marked": false
    }
   },
   "outputs": [
    {
     "data": {
      "text/plain": [
       "'av_q_step = np.array(av_q_step)\\nav_agent_q_lst = np.array(av_agent_q_lst)\\nav_agent_q_std_lst = np.array(av_agent_q_std_lst)\\nav_phys_q_lst = np.array(av_phys_q_lst)\\nav_phys_q_std_lst = np.array(av_phys_q_std_lst)\\nav_ran_q_lst = np.array(av_ran_q_lst)\\nav_ran_q_std_lst = np.array(av_ran_q_std_lst)\\n\\nplt.figure(figsize=(6, 4.5))\\n\\nplt.plot(av_q_step, av_agent_q_lst, color=\\'#74c476\\') # \\nplt.plot(av_q_step, av_phys_q_lst, color=\\'#c51b8a\\')\\nplt.plot(av_q_step, av_ran_q_lst, color=\\'#3182bd\\')\\n\\nplt.fill_between(av_q_step, av_agent_q_lst - 1*av_agent_q_std_lst, av_agent_q_lst + 1*av_agent_q_std_lst, color=\\'#a1d76a\\',alpha = 0.7)\\nplt.fill_between(av_q_step, av_phys_q_lst - 1*av_phys_q_std_lst, av_phys_q_lst + 1*av_phys_q_std_lst, color=\\'#e9a3c9\\', alpha = 0.5) #phy\\nplt.fill_between(av_q_step, av_ran_q_lst - 1*av_ran_q_std_lst, av_ran_q_lst + 1*av_ran_q_std_lst, color=\\'#9ecae1\\', alpha = 0.2)\\nplt.legend([\"agent\", \"phy\",\"random_action\"])\\n\\nplt.xlabel(\"sample size\")\\nplt.ylabel(\"Q\")\\n'"
      ]
     },
     "execution_count": 17,
     "metadata": {},
     "output_type": "execute_result"
    }
   ],
   "source": [
    "'''av_q_step = np.array(av_q_step)\n",
    "av_agent_q_lst = np.array(av_agent_q_lst)\n",
    "av_agent_q_std_lst = np.array(av_agent_q_std_lst)\n",
    "av_phys_q_lst = np.array(av_phys_q_lst)\n",
    "av_phys_q_std_lst = np.array(av_phys_q_std_lst)\n",
    "av_ran_q_lst = np.array(av_ran_q_lst)\n",
    "av_ran_q_std_lst = np.array(av_ran_q_std_lst)\n",
    "\n",
    "plt.figure(figsize=(6, 4.5))\n",
    "\n",
    "plt.plot(av_q_step, av_agent_q_lst, color='#74c476') # \n",
    "plt.plot(av_q_step, av_phys_q_lst, color='#c51b8a')\n",
    "plt.plot(av_q_step, av_ran_q_lst, color='#3182bd')\n",
    "\n",
    "plt.fill_between(av_q_step, av_agent_q_lst - 1*av_agent_q_std_lst, av_agent_q_lst + 1*av_agent_q_std_lst, color='#a1d76a',alpha = 0.7)\n",
    "plt.fill_between(av_q_step, av_phys_q_lst - 1*av_phys_q_std_lst, av_phys_q_lst + 1*av_phys_q_std_lst, color='#e9a3c9', alpha = 0.5) #phy\n",
    "plt.fill_between(av_q_step, av_ran_q_lst - 1*av_ran_q_std_lst, av_ran_q_lst + 1*av_ran_q_std_lst, color='#9ecae1', alpha = 0.2)\n",
    "plt.legend([\"agent\", \"phy\",\"random_action\"])\n",
    "\n",
    "plt.xlabel(\"sample size\")\n",
    "plt.ylabel(\"Q\")\n",
    "'''"
   ]
  },
  {
   "cell_type": "markdown",
   "metadata": {},
   "source": [
    "## 随着epoch的增加两者行为差异"
   ]
  },
  {
   "cell_type": "code",
   "execution_count": 18,
   "metadata": {
    "ExecuteTime": {
     "end_time": "2022-11-24T11:03:28.410671Z",
     "start_time": "2022-11-24T11:03:28.408466Z"
    },
    "run_control": {
     "marked": true
    }
   },
   "outputs": [
    {
     "data": {
      "text/plain": [
       "'plt.figure(figsize=(6, 4.5))\\nplt.plot(av_q_step, M_phy_ac, color=\\'#7fc97f\\')\\nplt.plot(av_q_step, E_phy_ac, color=\\'#beaed4\\')\\nplt.plot(av_q_step, L_phy_ac, color=\\'#fdc086\\')\\nplt.plot(av_q_step, EA_phy_ac, color=\\'#3182bd\\')\\n\\nplt.legend([\"ac_prec_M_phy\",\"ac_prec_E_phy\",\"ac_prec_L_phy\", \"ac_prec_EA_phy\"])'"
      ]
     },
     "execution_count": 18,
     "metadata": {},
     "output_type": "execute_result"
    }
   ],
   "source": [
    "'''plt.figure(figsize=(6, 4.5))\n",
    "plt.plot(av_q_step, M_phy_ac, color='#7fc97f')\n",
    "plt.plot(av_q_step, E_phy_ac, color='#beaed4')\n",
    "plt.plot(av_q_step, L_phy_ac, color='#fdc086')\n",
    "plt.plot(av_q_step, EA_phy_ac, color='#3182bd')\n",
    "\n",
    "plt.legend([\"ac_prec_M_phy\",\"ac_prec_E_phy\",\"ac_prec_L_phy\", \"ac_prec_EA_phy\"])'''"
   ]
  }
 ],
 "metadata": {
  "anaconda-cloud": {},
  "kernelspec": {
   "display_name": "Python [conda env:mytensor]",
   "language": "python",
   "name": "conda-env-mytensor-py"
  },
  "language_info": {
   "codemirror_mode": {
    "name": "ipython",
    "version": 3
   },
   "file_extension": ".py",
   "mimetype": "text/x-python",
   "name": "python",
   "nbconvert_exporter": "python",
   "pygments_lexer": "ipython3",
   "version": "3.9.12"
  },
  "toc": {
   "base_numbering": 1,
   "nav_menu": {},
   "number_sections": true,
   "sideBar": true,
   "skip_h1_title": false,
   "title_cell": "Table of Contents",
   "title_sidebar": "Contents",
   "toc_cell": false,
   "toc_position": {
    "height": "calc(100% - 180px)",
    "left": "10px",
    "top": "150px",
    "width": "164.988px"
   },
   "toc_section_display": true,
   "toc_window_display": false
  },
  "varInspector": {
   "cols": {
    "lenName": 16,
    "lenType": 16,
    "lenVar": 40
   },
   "kernels_config": {
    "python": {
     "delete_cmd_postfix": "",
     "delete_cmd_prefix": "del ",
     "library": "var_list.py",
     "varRefreshCmd": "print(var_dic_list())"
    },
    "r": {
     "delete_cmd_postfix": ") ",
     "delete_cmd_prefix": "rm(",
     "library": "var_list.r",
     "varRefreshCmd": "cat(var_dic_list()) "
    }
   },
   "types_to_exclude": [
    "module",
    "function",
    "builtin_function_or_method",
    "instance",
    "_Feature"
   ],
   "window_display": false
  }
 },
 "nbformat": 4,
 "nbformat_minor": 2
}
